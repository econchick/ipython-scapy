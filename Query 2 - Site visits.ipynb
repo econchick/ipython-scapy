{
 "cells": [
  {
   "cell_type": "markdown",
   "metadata": {},
   "source": [
    "# Show me everyone from \\$X country that has visited \\$Y extremist forum"
   ]
  },
  {
   "cell_type": "markdown",
   "metadata": {},
   "source": [
    "_Inspired by The Guardian's release of the [XKeyscore presentation](http://www.theguardian.com/world/interactive/2013/jul/31/nsa-xkeyscore-program-full-presentation)._"
   ]
  },
  {
   "cell_type": "markdown",
   "metadata": {},
   "source": [
    "## Tutorial Code"
   ]
  },
  {
   "cell_type": "markdown",
   "metadata": {},
   "source": [
    "Let's re-import scapy"
   ]
  },
  {
   "cell_type": "code",
   "execution_count": 2,
   "metadata": {
    "collapsed": false
   },
   "outputs": [
    {
     "name": "stderr",
     "output_type": "stream",
     "text": [
      "WARNING: No route found for IPv6 destination :: (no default route?)\n",
      "WARNING:scapy.runtime:No route found for IPv6 destination :: (no default route?)\n"
     ]
    }
   ],
   "source": [
    "from scapy.all import *"
   ]
  },
  {
   "cell_type": "markdown",
   "metadata": {},
   "source": [
    "And load the pre-sniffed HTTP traffic that I grabbed from [Wireshark's Samples](http://wiki.wireshark.org/SampleCaptures):"
   ]
  },
  {
   "cell_type": "code",
   "execution_count": 3,
   "metadata": {
    "collapsed": true
   },
   "outputs": [],
   "source": [
    "sniffed = \"data/http.cap\"\n",
    "pkts = sniff(offline=sniffed)"
   ]
  },
  {
   "cell_type": "markdown",
   "metadata": {},
   "source": [
    "We can see that we have 41 TCP datagrams (aka packets) and 2 UDP datagrams:"
   ]
  },
  {
   "cell_type": "code",
   "execution_count": 4,
   "metadata": {
    "collapsed": false
   },
   "outputs": [
    {
     "data": {
      "text/plain": [
       "<Sniffed: TCP:41 UDP:2 ICMP:0 Other:0>"
      ]
     },
     "execution_count": 4,
     "metadata": {},
     "output_type": "execute_result"
    }
   ],
   "source": [
    "pkts"
   ]
  },
  {
   "cell_type": "markdown",
   "metadata": {},
   "source": [
    "Let's see that nice summary like last time using `nsummary`:"
   ]
  },
  {
   "cell_type": "code",
   "execution_count": 5,
   "metadata": {
    "collapsed": false,
    "scrolled": true
   },
   "outputs": [
    {
     "name": "stdout",
     "output_type": "stream",
     "text": [
      "0000 Ether / IP / TCP 145.254.160.237:tip2 > 65.208.228.223:http S\n",
      "0001 Ether / IP / TCP 65.208.228.223:http > 145.254.160.237:tip2 SA\n",
      "0002 Ether / IP / TCP 145.254.160.237:tip2 > 65.208.228.223:http A\n",
      "0003 Ether / IP / TCP 145.254.160.237:tip2 > 65.208.228.223:http PA / Raw\n",
      "0004 Ether / IP / TCP 65.208.228.223:http > 145.254.160.237:tip2 A\n",
      "0005 Ether / IP / TCP 65.208.228.223:http > 145.254.160.237:tip2 A / Raw\n",
      "0006 Ether / IP / TCP 145.254.160.237:tip2 > 65.208.228.223:http A\n",
      "0007 Ether / IP / TCP 65.208.228.223:http > 145.254.160.237:tip2 A / Raw\n",
      "0008 Ether / IP / TCP 145.254.160.237:tip2 > 65.208.228.223:http A\n",
      "0009 Ether / IP / TCP 65.208.228.223:http > 145.254.160.237:tip2 A / Raw\n",
      "0010 Ether / IP / TCP 65.208.228.223:http > 145.254.160.237:tip2 PA / Raw\n",
      "0011 Ether / IP / TCP 145.254.160.237:tip2 > 65.208.228.223:http A\n",
      "0012 Ether / IP / UDP / DNS Qry \"pagead2.googlesyndication.com.\" \n",
      "0013 Ether / IP / TCP 65.208.228.223:http > 145.254.160.237:tip2 A / Raw\n",
      "0014 Ether / IP / TCP 145.254.160.237:tip2 > 65.208.228.223:http A\n",
      "0015 Ether / IP / TCP 65.208.228.223:http > 145.254.160.237:tip2 A / Raw\n",
      "0016 Ether / IP / UDP / DNS Ans \"pagead2.google.com.\" \n",
      "0017 Ether / IP / TCP 145.254.160.237:3371 > 216.239.59.99:http PA / Raw\n",
      "0018 Ether / IP / TCP 145.254.160.237:tip2 > 65.208.228.223:http A\n",
      "0019 Ether / IP / TCP 65.208.228.223:http > 145.254.160.237:tip2 A / Raw\n",
      "0020 Ether / IP / TCP 65.208.228.223:http > 145.254.160.237:tip2 PA / Raw\n",
      "0021 Ether / IP / TCP 145.254.160.237:tip2 > 65.208.228.223:http A\n",
      "0022 Ether / IP / TCP 65.208.228.223:http > 145.254.160.237:tip2 A / Raw\n",
      "0023 Ether / IP / TCP 216.239.59.99:http > 145.254.160.237:3371 A\n",
      "0024 Ether / IP / TCP 145.254.160.237:tip2 > 65.208.228.223:http A\n",
      "0025 Ether / IP / TCP 216.239.59.99:http > 145.254.160.237:3371 PA / Raw\n",
      "0026 Ether / IP / TCP 216.239.59.99:http > 145.254.160.237:3371 PA / Raw\n",
      "0027 Ether / IP / TCP 145.254.160.237:3371 > 216.239.59.99:http A\n",
      "0028 Ether / IP / TCP 65.208.228.223:http > 145.254.160.237:tip2 PA / Raw\n",
      "0029 Ether / IP / TCP 145.254.160.237:tip2 > 65.208.228.223:http A\n",
      "0030 Ether / IP / TCP 65.208.228.223:http > 145.254.160.237:tip2 A / Raw\n",
      "0031 Ether / IP / TCP 65.208.228.223:http > 145.254.160.237:tip2 A / Raw\n",
      "0032 Ether / IP / TCP 145.254.160.237:tip2 > 65.208.228.223:http A\n",
      "0033 Ether / IP / TCP 65.208.228.223:http > 145.254.160.237:tip2 A / Raw\n",
      "0034 Ether / IP / TCP 145.254.160.237:tip2 > 65.208.228.223:http A\n",
      "0035 Ether / IP / TCP 216.239.59.99:http > 145.254.160.237:3371 PA / Raw\n",
      "0036 Ether / IP / TCP 145.254.160.237:3371 > 216.239.59.99:http A\n",
      "0037 Ether / IP / TCP 65.208.228.223:http > 145.254.160.237:tip2 PA / Raw\n",
      "0038 Ether / IP / TCP 145.254.160.237:tip2 > 65.208.228.223:http A\n",
      "0039 Ether / IP / TCP 65.208.228.223:http > 145.254.160.237:tip2 FA\n",
      "0040 Ether / IP / TCP 145.254.160.237:tip2 > 65.208.228.223:http A\n",
      "0041 Ether / IP / TCP 145.254.160.237:tip2 > 65.208.228.223:http FA\n",
      "0042 Ether / IP / TCP 65.208.228.223:http > 145.254.160.237:tip2 A\n"
     ]
    }
   ],
   "source": [
    "pkts.nsummary()"
   ]
  },
  {
   "cell_type": "markdown",
   "metadata": {},
   "source": [
    "And let's pick off the third packet:"
   ]
  },
  {
   "cell_type": "code",
   "execution_count": 4,
   "metadata": {
    "collapsed": false,
    "scrolled": true
   },
   "outputs": [
    {
     "name": "stdout",
     "output_type": "stream",
     "text": [
      "###[ Ethernet ]###\n",
      "  dst       = fe:ff:20:00:01:00\n",
      "  src       = 00:00:01:00:00:00\n",
      "  type      = 0x800\n",
      "###[ IP ]###\n",
      "     version   = 4L\n",
      "     ihl       = 5L\n",
      "     tos       = 0x0\n",
      "     len       = 519\n",
      "     id        = 3909\n",
      "     flags     = DF\n",
      "     frag      = 0L\n",
      "     ttl       = 128\n",
      "     proto     = tcp\n",
      "     chksum    = 0x9010\n",
      "     src       = 145.254.160.237\n",
      "     dst       = 65.208.228.223\n",
      "     \\options   \\\n",
      "###[ TCP ]###\n",
      "        sport     = tip2\n",
      "        dport     = http\n",
      "        seq       = 951057940\n",
      "        ack       = 290218380\n",
      "        dataofs   = 5L\n",
      "        reserved  = 0L\n",
      "        flags     = PA\n",
      "        window    = 9660\n",
      "        chksum    = 0xa958\n",
      "        urgptr    = 0\n",
      "        options   = []\n",
      "###[ Raw ]###\n",
      "           load      = 'GET /download.html HTTP/1.1\\r\\nHost: www.ethereal.com\\r\\nUser-Agent: Mozilla/5.0 (Windows; U; Windows NT 5.1; en-US; rv:1.6) Gecko/20040113\\r\\nAccept: text/xml,application/xml,application/xhtml+xml,text/html;q=0.9,text/plain;q=0.8,image/png,image/jpeg,image/gif;q=0.2,*/*;q=0.1\\r\\nAccept-Language: en-us,en;q=0.5\\r\\nAccept-Encoding: gzip,deflate\\r\\nAccept-Charset: ISO-8859-1,utf-8;q=0.7,*;q=0.7\\r\\nKeep-Alive: 300\\r\\nConnection: keep-alive\\r\\nReferer: http://www.ethereal.com/development.html\\r\\n\\r\\n'\n"
     ]
    }
   ],
   "source": [
    "pkts[3].show()"
   ]
  },
  {
   "cell_type": "markdown",
   "metadata": {},
   "source": [
    "and parse out the actual payload of it:"
   ]
  },
  {
   "cell_type": "code",
   "execution_count": 5,
   "metadata": {
    "collapsed": false
   },
   "outputs": [
    {
     "name": "stdout",
     "output_type": "stream",
     "text": [
      "GET /download.html HTTP/1.1\r\n",
      "Host: www.ethereal.com\r\n",
      "User-Agent: Mozilla/5.0 (Windows; U; Windows NT 5.1; en-US; rv:1.6) Gecko/20040113\r\n",
      "Accept: text/xml,application/xml,application/xhtml+xml,text/html;q=0.9,text/plain;q=0.8,image/png,image/jpeg,image/gif;q=0.2,*/*;q=0.1\r\n",
      "Accept-Language: en-us,en;q=0.5\r\n",
      "Accept-Encoding: gzip,deflate\r\n",
      "Accept-Charset: ISO-8859-1,utf-8;q=0.7,*;q=0.7\r\n",
      "Keep-Alive: 300\r\n",
      "Connection: keep-alive\r\n",
      "Referer: http://www.ethereal.com/development.html\r\n",
      "\r\n",
      "\n"
     ]
    }
   ],
   "source": [
    "load = pkts[3].getlayer(Raw).fields.get(\"load\")\n",
    "print load"
   ]
  },
  {
   "cell_type": "markdown",
   "metadata": {},
   "source": [
    "Woah - Windows NT! this packet must be ancient ;)\n",
    "\n",
    "\n",
    "It's super simple to parse out HTTP header information, and then from there, all we need to do is a simple check of if the \"extremist\" forum that we're interested in is inside these packets:"
   ]
  },
  {
   "cell_type": "code",
   "execution_count": 6,
   "metadata": {
    "collapsed": false
   },
   "outputs": [
    {
     "data": {
      "text/plain": [
       "True"
      ]
     },
     "execution_count": 6,
     "metadata": {},
     "output_type": "execute_result"
    }
   ],
   "source": [
    "'GET /download' in load"
   ]
  },
  {
   "cell_type": "code",
   "execution_count": 8,
   "metadata": {
    "collapsed": false
   },
   "outputs": [
    {
     "data": {
      "text/plain": [
       "True"
      ]
     },
     "execution_count": 8,
     "metadata": {},
     "output_type": "execute_result"
    }
   ],
   "source": [
    "'www.ethereal.com' in load"
   ]
  },
  {
   "cell_type": "markdown",
   "metadata": {},
   "source": [
    "Now we can play around and traceroute between the user's IP address and the "
   ]
  },
  {
   "cell_type": "code",
   "execution_count": 9,
   "metadata": {
    "collapsed": true
   },
   "outputs": [],
   "source": [
    "import select as s"
   ]
  },
  {
   "cell_type": "code",
   "execution_count": 10,
   "metadata": {
    "collapsed": true
   },
   "outputs": [],
   "source": [
    "def trace_route(pkts):\n",
    "    for pkt in pkts:\n",
    "        try:\n",
    "            IP_layer = pkt.getlayer(IP)\n",
    "            proto_layer = pkt.getlayer(TCP)\n",
    "        except Exception:\n",
    "            continue\n",
    "        destination = IP_layer.dst\n",
    "        src = IP_layer.src\n",
    "        dport = proto_layer.dport\n",
    "        sport = proto_layer.sport\n",
    "        \n",
    "        while True:\n",
    "            try:\n",
    "                res, unans = traceroute(target=destination, dport=dport, sport=sport, maxttl=20)\n",
    "                traces = res.res\n",
    "                hops = [src]\n",
    "                for trace in traces:\n",
    "                    hops.append(trace[1].src)\n",
    "                return hops, sport\n",
    "            except s.error:\n",
    "                continue\n"
   ]
  },
  {
   "cell_type": "code",
   "execution_count": 11,
   "metadata": {
    "collapsed": false
   },
   "outputs": [
    {
     "name": "stdout",
     "output_type": "stream",
     "text": [
      "\n",
      "Received 29 packets, got 8 answers, remaining 12 packets\n",
      "  65.208.228.223:tcp80 \n",
      "1 192.168.1.1     11   \n",
      "2 10.1.10.1       11   \n",
      "3 68.87.57.161    11   \n",
      "4 68.85.57.241    11   \n",
      "5 216.218.213.101 11   \n",
      "6 68.86.82.66     11   \n",
      "7 184.105.250.34  11   \n",
      "8 184.105.222.22  11   \n",
      "Begin emission:\n",
      "Finished to send 20 packets.\n"
     ]
    }
   ],
   "source": [
    "tr, sport = trace_route(pkts)"
   ]
  },
  {
   "cell_type": "code",
   "execution_count": 12,
   "metadata": {
    "collapsed": false
   },
   "outputs": [
    {
     "data": {
      "text/plain": [
       "['145.254.160.237',\n",
       " '192.168.1.1',\n",
       " '10.1.10.1',\n",
       " '68.87.57.161',\n",
       " '68.85.57.241',\n",
       " '216.218.213.101',\n",
       " '68.86.82.66',\n",
       " '184.105.250.34',\n",
       " '184.105.222.22']"
      ]
     },
     "execution_count": 12,
     "metadata": {},
     "output_type": "execute_result"
    }
   ],
   "source": [
    "tr"
   ]
  },
  {
   "cell_type": "code",
   "execution_count": 13,
   "metadata": {
    "collapsed": false
   },
   "outputs": [
    {
     "name": "stdout",
     "output_type": "stream",
     "text": [
      "Downloading/unpacking pygeoip\n",
      "  Downloading pygeoip-0.3.2-py2.py3-none-any.whl\n",
      "Installing collected packages: pygeoip\n",
      "Successfully installed pygeoip\n",
      "Cleaning up...\n"
     ]
    }
   ],
   "source": [
    "!pip install pygeoip"
   ]
  },
  {
   "cell_type": "code",
   "execution_count": 14,
   "metadata": {
    "collapsed": true
   },
   "outputs": [],
   "source": [
    "import pygeoip"
   ]
  },
  {
   "cell_type": "code",
   "execution_count": 15,
   "metadata": {
    "collapsed": true
   },
   "outputs": [],
   "source": [
    "def map_ip(hops):\n",
    "    gip = pygeoip.GeoIP('data/GeoLiteCity.dat')\n",
    "    coordinates = []\n",
    "    for hop in hops:\n",
    "        geo_data = gip.record_by_addr(hop)\n",
    "        if geo_data:\n",
    "            lat = geo_data['latitude']\n",
    "            lon = geo_data['longitude']\n",
    "            coordinates.append((lon, lat))\n",
    "    return coordinates"
   ]
  },
  {
   "cell_type": "code",
   "execution_count": 17,
   "metadata": {
    "collapsed": false
   },
   "outputs": [],
   "source": [
    "coordinates = map_ip(tr)"
   ]
  },
  {
   "cell_type": "code",
   "execution_count": 18,
   "metadata": {
    "collapsed": false
   },
   "outputs": [
    {
     "data": {
      "text/plain": [
       "[(9.0, 51.0),\n",
       " (-97.0, 38.0),\n",
       " (-81.0998, 32.08349999999999),\n",
       " (-121.8962, 37.5155),\n",
       " (-97.0, 38.0),\n",
       " (-121.8962, 37.5155),\n",
       " (-121.8962, 37.5155)]"
      ]
     },
     "execution_count": 18,
     "metadata": {},
     "output_type": "execute_result"
    }
   ],
   "source": [
    "coordinates"
   ]
  },
  {
   "cell_type": "code",
   "execution_count": 19,
   "metadata": {
    "collapsed": false
   },
   "outputs": [
    {
     "name": "stdout",
     "output_type": "stream",
     "text": [
      "Downloading/unpacking geojson\n",
      "  Downloading geojson-1.1.0-py2-none-any.whl\n",
      "Requirement already satisfied (use --upgrade to upgrade): setuptools in /Users/lynnroot/.virtualenvs/local-spy-tutorial/lib/python2.7/site-packages (from geojson)\n",
      "Installing collected packages: geojson\n",
      "Successfully installed geojson\n",
      "Cleaning up...\n"
     ]
    }
   ],
   "source": [
    "!pip install geojson"
   ]
  },
  {
   "cell_type": "code",
   "execution_count": 20,
   "metadata": {
    "collapsed": true
   },
   "outputs": [],
   "source": [
    "import geojson"
   ]
  },
  {
   "cell_type": "code",
   "execution_count": 38,
   "metadata": {
    "collapsed": true
   },
   "outputs": [],
   "source": [
    "def create_geojson(coordinates):\n",
    "    geo_list = []\n",
    "    j = 1\n",
    "    for index in xrange(0, len(coordinates)):\n",
    "        try:\n",
    "            data = {}\n",
    "            data[\"type\"] = \"Feature\"\n",
    "            data[\"id\"] = j\n",
    "            data[\"properties\"] = {\"title\": \"hop %i\" % j}\n",
    "            data[\"geometry\"] = {\"type\": \"LineString\", \"coordinates\": [coordinates[index], coordinates[index+1] ]}\n",
    "            j += 1\n",
    "            geo_list.append(data)\n",
    "        except IndexError:\n",
    "            continue\n",
    "\n",
    "    d = {\"type\": \"FeatureCollection\"}\n",
    "    for item in geo_list:\n",
    "        d.setdefault(\"features\", []).append(item)\n",
    "\n",
    "    return geojson.dumps(d)"
   ]
  },
  {
   "cell_type": "code",
   "execution_count": 39,
   "metadata": {
    "collapsed": false
   },
   "outputs": [],
   "source": [
    "data = create_geojson(coordinates)\n",
    "data"
   ]
  },
  {
   "cell_type": "markdown",
   "metadata": {},
   "source": [
    "Navigate to [geojson.io](http://geojson.io/) in your browser.  Then copy & paste the `data` output into the JSON input area.\n",
    "\n",
    "Here's mine (copied from the \"share\" button on geojson.io):"
   ]
  },
  {
   "cell_type": "code",
   "execution_count": 44,
   "metadata": {
    "collapsed": false
   },
   "outputs": [
    {
     "data": {
      "text/html": [
       "<iframe frameborder=\"0\" width=\"100%\" height=\"300\" src=\"http://bl.ocks.org/d/97a969852376545ed452\"></iframe>"
      ],
      "text/plain": [
       "<IPython.core.display.HTML object>"
      ]
     },
     "execution_count": 44,
     "metadata": {},
     "output_type": "execute_result"
    }
   ],
   "source": [
    "from IPython.display import HTML\n",
    "HTML('<iframe frameborder=\"0\" width=\"100%\" height=\"300\" src=\"http://bl.ocks.org/d/97a969852376545ed452\"></iframe>')"
   ]
  },
  {
   "cell_type": "code",
   "execution_count": 6,
   "metadata": {
    "collapsed": false
   },
   "outputs": [
    {
     "name": "stdout",
     "output_type": "stream",
     "text": [
      "Help on function traceroute in module scapy.layers.inet:\n",
      "\n",
      "traceroute(target, dport=80, minttl=1, maxttl=30, sport=<RandShort>, l4=None, filter=None, timeout=2, verbose=None, **kargs)\n",
      "    Instant TCP traceroute\n",
      "    traceroute(target, [maxttl=30,] [dport=80,] [sport=80,] [verbose=conf.verb]) -> None\n",
      "\n"
     ]
    }
   ],
   "source": [
    "help(traceroute)"
   ]
  },
  {
   "cell_type": "code",
   "execution_count": null,
   "metadata": {
    "collapsed": true
   },
   "outputs": [],
   "source": []
  }
 ],
 "metadata": {
  "kernelspec": {
   "display_name": "Python 2",
   "language": "python",
   "name": "python2"
  },
  "language_info": {
   "codemirror_mode": {
    "name": "ipython",
    "version": 2
   },
   "file_extension": ".py",
   "mimetype": "text/x-python",
   "name": "python",
   "nbconvert_exporter": "python",
   "pygments_lexer": "ipython2",
   "version": "2.7.8"
  }
 },
 "nbformat": 4,
 "nbformat_minor": 0
}
