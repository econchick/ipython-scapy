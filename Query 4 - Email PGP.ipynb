{
 "cells": [
  {
   "cell_type": "code",
   "execution_count": 258,
   "metadata": {
    "collapsed": false
   },
   "outputs": [],
   "source": [
    "from scapy.all import *"
   ]
  },
  {
   "cell_type": "code",
   "execution_count": 259,
   "metadata": {
    "collapsed": true
   },
   "outputs": [],
   "source": [
    "pgp_email_file = \"data/pgpemail.txt\""
   ]
  },
  {
   "cell_type": "code",
   "execution_count": 260,
   "metadata": {
    "collapsed": true
   },
   "outputs": [],
   "source": [
    "with open(pgp_email_file, \"r\") as f:\n",
    "    pgp_email_data = f.read()"
   ]
  },
  {
   "cell_type": "code",
   "execution_count": 261,
   "metadata": {
    "collapsed": false,
    "scrolled": true
   },
   "outputs": [
    {
     "name": "stdout",
     "output_type": "stream",
     "text": [
      "Return-Path: <erin.lynn.root+caf_=lynn=fastmail.es@gmail.com>\r\n",
      "Received: from compute2.internal (compute2.nyi.mail.srv.osa [10.202.2.42])\r\n",
      "\t by sloti14d3p1 (Cyrus git2.5+0-git-fastmail-9328) with LMTPA;\r\n",
      "\t Thu, 08 Aug 2013 15:09:55 -0400\r\n",
      "X-Sieve: CMU Sieve 2.4\r\n",
      "X-Spam-known-sender: yes\r\n",
      "X-Spam-score: 0.0\r\n",
      "X-Spam-hits: BAYES_00 -1.9, RCVD_IN_DNSWL_LOW -0.7, LANGUAGES unknown,\r\n",
      "  BAYES_USED global, SA_VERSION 3.3.2\r\n",
      "X-Spam-source: IP='74.125.82.177', Host='mail-we0-f177.google.com', Country='US',\r\n",
      "  FromHeader='cx', MailFrom='com'\r\n",
      "X-Spam-charsets: \r\n",
      "X-Resolved-to: lynn@fastmail.es\r\n",
      "X-Delivered-to: lynn@fastmail.es\r\n",
      "X-Mail-from: erin.lynn.root+caf_=lynn=fastmail.es@gmail.com\r\n",
      "Received: from mx4 ([10.202.2.203])\r\n",
      "  by compute2.internal (LMTPProxy); Thu, 08 Aug 2013 15:09:55 -0400\r\n",
      "Received: from mail-we0-f177.google.com (mail-we0-f177.google.com [74.125.82.177])\r\n",
      "\t(using TLSv1 with cipher ECDHE-RSA-RC4-SHA (128/128 bits))\r\n",
      "\t(No client certificate requested)\r\n",
      "\tby mx4.messagingengine.com (Postfix) with ESMTPS id 2EB943C00BC\r\n",
      "\tfor <lynn@fastmail.es>; Thu,  8 Aug 2013 15:09:54 -0400 (EDT)\r\n",
      "Received: by mail-we0-f177.google.com with SMTP id m46so2845167wev.22\r\n",
      "        for <lynn@fastmail.es>; Thu, 08 Aug 2013 12:09:53 -0700 (PDT)\r\n",
      "X-Received: by 10.194.170.227 with SMTP id ap3mr4308361wjc.40.1375988993124;\r\n",
      "        Thu, 08 Aug 2013 12:09:53 -0700 (PDT)\r\n",
      "X-Forwarded-To: lynn@fastmail.es\r\n",
      "X-Forwarded-For: erin.lynn.root@gmail.com lynn@fastmail.es\r\n",
      "X-Remote-Delivered-To: erin.lynn.root@gmail.com\r\n",
      "Received: by 10.194.82.198 with SMTP id k6csp34152wjy;\r\n",
      "        Thu, 8 Aug 2013 12:09:51 -0700 (PDT)\r\n",
      "X-Received: by 10.52.30.129 with SMTP id s1mr2018358vdh.52.1375988990632;\r\n",
      "        Thu, 08 Aug 2013 12:09:50 -0700 (PDT)\r\n",
      "Received: from out2-smtp.messagingengine.com (out2-smtp.messagingengine.com. [66.111.4.26])\r\n",
      "        by mx.google.com with ESMTPS id jf10si3517353vdb.50.2013.08.08.12.09.49\r\n",
      "        for <erin.lynn.root@gmail.com>\r\n",
      "        (version=TLSv1.2 cipher=ECDHE-RSA-RC4-SHA bits=128/128);\r\n",
      "        Thu, 08 Aug 2013 12:09:50 -0700 (PDT)\r\n",
      "Received-SPF: pass (google.com: domain of hs@ox.cx designates 66.111.4.26 as permitted sender) client-ip=66.111.4.26;\r\n",
      "Authentication-Results: mx.google.com;\r\n",
      "       spf=pass (google.com: domain of hs@ox.cx designates 66.111.4.26 as permitted sender) smtp.mail=hs@ox.cx;\r\n",
      "       dkim=pass header.i=@messagingengine.com\r\n",
      "Received: from compute6.internal (compute6.nyi.mail.srv.osa [10.202.2.46])\r\n",
      "\tby gateway1.nyi.mail.srv.osa (Postfix) with ESMTP id 6DE1F20E6D\r\n",
      "\tfor <erin.lynn.root@gmail.com>; Thu,  8 Aug 2013 15:09:40 -0400 (EDT)\r\n",
      "Received: from frontend1 ([10.202.2.160])\r\n",
      "  by compute6.internal (MEProxy); Thu, 08 Aug 2013 15:09:42 -0400\r\n",
      "DKIM-Signature: v=1; a=rsa-sha1; c=relaxed/relaxed; d=\r\n",
      "\tmessagingengine.com; h=content-type:subject:mime-version:from\r\n",
      "\t:date:content-transfer-encoding:message-id:content-description\r\n",
      "\t:to; s=smtpout; bh=ugA8qqmrOXWxgBdB7v0H+0BOcXE=; b=BbM30ezgg/ZCT\r\n",
      "\t2g7qKCZPzT7BwCYcxKrW6AK8q6a/88ullbu0fihzOkWx3mkPrTsiPp0m51UAozU4\r\n",
      "\tTa/vDwZ8mTrpZQ9C6OCfyUZ+nPw7T1PnKSiGBfVDmLth4+c7cwxOjvjKrv6lvMcF\r\n",
      "\tEZpgpOcMNMWbyak/oaO7UR3OPYJoJI=\r\n",
      "X-Sasl-enc: vw11Io4FZTVtV4ZAON5Tu4opTtdA/ixWjBahwhRhUsfF 1375988978\r\n",
      "Received: from omega.fritz.box (unknown [5.28.99.177])\r\n",
      "\tby mail.messagingengine.com (Postfix) with ESMTPA id ECD81C00E8A\r\n",
      "\tfor <erin.lynn.root@gmail.com>; Thu,  8 Aug 2013 15:09:37 -0400 (EDT)\r\n",
      "Content-Type: multipart/encrypted; boundary=\"Apple-Mail=_514AD934-51DC-469A-BDE1-05A7C8FE2EF6\"; protocol=\"application/pgp-encrypted\";\r\n",
      "Subject: gpg test\r\n",
      "Mime-Version: 1.0 (Mac OS X Mail 6.5 \\(1508\\))\r\n",
      "X-Pgp-Agent: GPGMail 505\r\n",
      "From: Hynek Schlawack <hs@ox.cx>\r\n",
      "Date: Thu, 8 Aug 2013 21:09:36 +0200\r\n",
      "Content-Transfer-Encoding: 7bit\r\n",
      "Message-Id: <6663DBC6-3EEB-4360-B893-681E57F042E1@ox.cx>\r\n",
      "Content-Description: OpenPGP encrypted message\r\n",
      "To: Lynn Root <erin.lynn.root@gmail.com>\r\n",
      "X-Mailer: Apple Mail (2.1508)\r\n",
      "\r\n",
      "This is an OpenPGP/MIME encrypted message (RFC 2440 and 3156)\r\n",
      "--Apple-Mail=_514AD934-51DC-469A-BDE1-05A7C8FE2EF6\r\n",
      "Content-Transfer-Encoding: 7bit\r\n",
      "Content-Type: application/pgp-encrypted\r\n",
      "Content-Description: PGP/MIME Versions Identification\r\n",
      "\r\n",
      "Version: 1\r\n",
      "\r\n",
      "--Apple-Mail=_514AD934-51DC-469A-BDE1-05A7C8FE2EF6\r\n",
      "Content-Transfer-Encoding: 7bit\r\n",
      "Content-Disposition: inline;\r\n",
      "\tfilename=encrypted.asc\r\n",
      "Content-Type: application/octet-stream;\r\n",
      "\tname=encrypted.asc\r\n",
      "Content-Description: OpenPGP encrypted message\r\n",
      "\r\n",
      "-----BEGIN PGP MESSAGE-----\r\n",
      "Comment: GPGTools - http://gpgtools.org\r\n",
      "\r\n",
      "hQIMA/kxqcOmEa16AQ//atOQE0Ye8NSsmyuIbDAtFkdagmNeJO7U7O3HelcJEG7W\r\n",
      "knFE0ovxRm0WkugF5aeMgW6F97mlzA7I+hztEefa7Cjz4FMjw3xUjijrqxwGEUve\r\n",
      "jnjI/IuaLjn7xpzutG7LHUhv1SQBmMJ6db2onOV/CXK8dREhZ5L5dUPGY/Jm9GVG\r\n",
      "TuKS3Pi3A/TMeV/D+jDHOUO2rDtpPAV859zmVrtf0LyQQ/BGVIE4U/LMGHydmykH\r\n",
      "zbCmXthk8uQQy1uOdDI+oTLnThIZVo4sAnsBf7uaZ8ztKVOzgyIR1GZ/RHBBQyMJ\r\n",
      "NjBEsRNWlY8R43u1q25mfXT041F+0UTtNN/NZBpIlA+ptfFHvzRmhkH9Ezle1F+e\r\n",
      "jyMeynUyot5rZp86fqruaOnpImW7bPxxcJYAdhEm1a6LKXmL4CWd+CrNgMxZJ+Bk\r\n",
      "usfnMr6IEo+fCaUi7KOTnq1THJDFM1wDTa+ew8MzKuD8svV5UyAMOjX1ctMvt63/\r\n",
      "1BDrVhERzSN87WgUj5F2EIar/CeZRT5bmQNVVdr7LIF2MkMjjqrnwSetNGhZO1/L\r\n",
      "uHDtNHEszne5YX9G2DAHqbBJbXvQ6myQPwwvX3F4UOvpxWS+4/nidJoaJ6zHf+On\r\n",
      "JuEVN8QbgeLYdxpPaWJNe8BxTQbfS3D2tqj9pP1qW3pimFXoGI/k6mzIRpW9ZTuF\r\n",
      "Aw4DY0q7mwGCsWMQDACoKkXH3D/CGhmOuKPXlDlJTZQAI5UYLtl1SX/R6BIDvYS4\r\n",
      "BTdLXZlkY2gmyTyr1RVFOBKsYMwKebJzevZ2JVlYgqvRmJodIv5ihLMW20bWjzVo\r\n",
      "CdPk9Y5lz2BUivSiTfRwU433yGTW9LSZFwAkiOr8elpT1MC0s7QYNf0Lm7BpTD7E\r\n",
      "cVyujRfMzia3z4Tz4FFdvxU4FMGr+r3ub6hFGxABrLY5BMbKmTy54zOqP2klihie\r\n",
      "F9oD95C6qLQ63VsXBu3FvZe296IyALbT8U2RzBs6olQH9aKCWuXD+GDFLSTY9BQu\r\n",
      "ExIkpbm0JNJcXlgqyeUEC294WEb9mxJybssjyy/OKp+xrL9ceHC+iOl/fA97pBmd\r\n",
      "fwXpf+5LBIb5KAAvbNZo7AT6AvwE3QRAV113XExPpmAp+dLzjcU19hEK66Nw4lqR\r\n",
      "CPKGyureRGJ71iood7A+/fZEqzufbcj4HdY/QQzCNHPMUgfcgdCjl1m3/WdHlpHB\r\n",
      "6wKfjOBiaSn5GrWoYeAMAL3xVsvagEOai/rxI42ffLIeb7JJQ9bUJy3G7CLcjlIN\r\n",
      "4TRWLHU0htov6cqgxlG6qDzHfzOu9CzxwD9p4FBdb3skbnQhjx5PakEMruUgwITe\r\n",
      "EgzUymmzNnTV0pXyusWoCbzXbbBHF/Dxy+N+kvYVCBMRuaeEUQYFbfdwhhlzqfWA\r\n",
      "DD9IYn6/TH/crmUjvWC8Cw2rh5dUynzQl9tlIIS30+Vry0JGvZfh7ZGVxwhjKvIZ\r\n",
      "iw46+bTeB/TRTl6Pc/PKQoEdi2kHp9iH/RfglRsrFuK6jBF3Z4/dudiY30u+mBux\r\n",
      "PjojfDBbpwE+7Q45zKIrRHpG2ATsNDKrXeLdd5w98WbubqD5ldjI8KubUaqbz6pJ\r\n",
      "SUVBJ2xSgddYRYljedtS/alElK49kenFfn9QNit+cgZwsyyV1e9NLWq992D5PifZ\r\n",
      "PTmKyDDMMfz6G4KKNwp/dw/q1O5LfbHoF1JtFjf++BItEU+IkrUtiwtPJUWHQOz7\r\n",
      "cjDUj5j/KCzK06sMpa47jdLpAWRvZvGkUJ/Sh6LR1zvxZMgEEpbh39A/zap07EdD\r\n",
      "PTjwZOQeodNPTWuHK/y2N28aC9mAtDQtrILFlxopOBmXUe3oFR1KSzHaXHrTsrCL\r\n",
      "cgorISaYiBlimlNjNB/cPUdaJNCgRVlRbnuGkucwdUAOKtCNkJ59heQLcdPGbpMG\r\n",
      "96USac3lmisMY9wzomFPT0NpVqzuwd9hdjP9s0NSPQ0VyriTwzlwpKdw1JMHtyKR\r\n",
      "0YBM6LJu6o298mO7g3ERPGx3tvZ5FI35N2ygjEN8SbXBoB1nArJtSSfYjVMu7CTq\r\n",
      "4sSheKEMTJcJe8PRb/vl1gmSHMKxbE4kTz6z0dofmvXZb93A2sDmhZ2qLB6RCIgB\r\n",
      "iJZBCo6gSovPcxk45KwExntm+bkFbn4FLbx2ICtiRM3gSe0yhjQyol92xKi4Tt9S\r\n",
      "ZqrueNbFN63F2xFqhtN2vnBubOBVhf9lvAR1JpIcSkiVws8xoxB9IdtDohMfe/z5\r\n",
      "S4RoME/R1j2/Zh0EMrR864OYHxr73URB565zokPvdkkPyDOKxG8o6bGnYQhwMV/Y\r\n",
      "ZE6qcbGRC6o3T1+48S4lcyOmugTErLMxYeaG1Z9k8LiS5e4hGb8I9IWxxlX8xc4E\r\n",
      "30qwjQqAOOK5q9YejZjwMD+NxP6E/NvBdxJStqZxMtGRo79IYd0qZuf54LedgG/r\r\n",
      "E3UVbSVQ/dbj2tVJpg/qYyGedSpr5Go6\r\n",
      "=0DXU\r\n",
      "-----END PGP MESSAGE-----\r\n",
      "\r\n",
      "--Apple-Mail=_514AD934-51DC-469A-BDE1-05A7C8FE2EF6--\r\n",
      "\n"
     ]
    }
   ],
   "source": [
    "print pgp_email_data"
   ]
  },
  {
   "cell_type": "code",
   "execution_count": 262,
   "metadata": {
    "collapsed": true
   },
   "outputs": [],
   "source": [
    "pgp_query = 'protocol=\"application/pgp-encrypted\"'"
   ]
  },
  {
   "cell_type": "code",
   "execution_count": 263,
   "metadata": {
    "collapsed": false
   },
   "outputs": [
    {
     "data": {
      "text/plain": [
       "True"
      ]
     },
     "execution_count": 263,
     "metadata": {},
     "output_type": "execute_result"
    }
   ],
   "source": [
    "pgp_query in pgp_email_data"
   ]
  },
  {
   "cell_type": "code",
   "execution_count": 264,
   "metadata": {
    "collapsed": true
   },
   "outputs": [],
   "source": [
    "from email.parser import Parser\n",
    "import re\n",
    "import socket as sock"
   ]
  },
  {
   "cell_type": "code",
   "execution_count": 265,
   "metadata": {
    "collapsed": false
   },
   "outputs": [],
   "source": [
    "def valid_id(address):\n",
    "    try:\n",
    "        sock.inet_aton(address)\n",
    "        return True\n",
    "    except:\n",
    "        return False\n",
    "    \n",
    "def filter_ip(address):\n",
    "    if address.startswith(\"192.168\"):\n",
    "        return False\n",
    "    if address.startswith(\"10\"):\n",
    "        return False\n",
    "    return True\n",
    "\n",
    "def parse_email_IP_addrs(email):\n",
    "    with open(email) as e:\n",
    "        headers = Parser().parse(e)\n",
    "    received_trail = (v for k, v in headers.items() if 'Received' in k)\n",
    "    parsed_headers = [re.findall(r'[0-9]+(?:\\.[0-9]+){3}', s) for s in received_trail]\n",
    "\n",
    "    valid_ips = []\n",
    "    for ip_addrs in parsed_headers:\n",
    "        for ip in ip_addrs:\n",
    "            if valid_id(ip) and filter_ip(ip):\n",
    "                valid_ips.append(ip)\n",
    "    return list(set(valid_ips))"
   ]
  },
  {
   "cell_type": "code",
   "execution_count": 266,
   "metadata": {
    "collapsed": false
   },
   "outputs": [],
   "source": [
    "ip_addrs = parse_email_IP_addrs(pgp_email_file)"
   ]
  },
  {
   "cell_type": "code",
   "execution_count": 267,
   "metadata": {
    "collapsed": false
   },
   "outputs": [
    {
     "data": {
      "text/plain": [
       "['74.125.82.177', '66.111.4.26', '5.28.99.177']"
      ]
     },
     "execution_count": 267,
     "metadata": {},
     "output_type": "execute_result"
    }
   ],
   "source": [
    "ip_addrs"
   ]
  },
  {
   "cell_type": "code",
   "execution_count": 268,
   "metadata": {
    "collapsed": true
   },
   "outputs": [],
   "source": [
    "import pygeoip"
   ]
  },
  {
   "cell_type": "code",
   "execution_count": 269,
   "metadata": {
    "collapsed": true
   },
   "outputs": [],
   "source": [
    "def map_ip(ip_addrs):\n",
    "    gip = pygeoip.GeoIP('data/GeoLiteCity.dat')\n",
    "    coordinates = []\n",
    "    for ip in ip_addrs:\n",
    "        geo_data = gip.record_by_addr(ip)\n",
    "        if geo_data:\n",
    "            lat = geo_data['latitude']\n",
    "            lon = geo_data['longitude']\n",
    "            coordinates.append((lon, lat))\n",
    "\n",
    "    return coordinates"
   ]
  },
  {
   "cell_type": "code",
   "execution_count": 270,
   "metadata": {
    "collapsed": false
   },
   "outputs": [],
   "source": [
    "mapped_ips = map_ip(ip_addrs)"
   ]
  },
  {
   "cell_type": "code",
   "execution_count": 271,
   "metadata": {
    "collapsed": false
   },
   "outputs": [
    {
     "data": {
      "text/plain": [
       "[(-122.0574, 37.41919999999999),\n",
       " (-74.0012, 40.7089),\n",
       " (13.400000000000006, 52.516699999999986)]"
      ]
     },
     "execution_count": 271,
     "metadata": {},
     "output_type": "execute_result"
    }
   ],
   "source": [
    "mapped_ips"
   ]
  },
  {
   "cell_type": "code",
   "execution_count": 272,
   "metadata": {
    "collapsed": true
   },
   "outputs": [],
   "source": [
    "import geojson"
   ]
  },
  {
   "cell_type": "code",
   "execution_count": 313,
   "metadata": {
    "collapsed": true
   },
   "outputs": [],
   "source": [
    "def create_points(coordinates):\n",
    "    points = []\n",
    "    j = 1\n",
    "    for coord in coordinates:\n",
    "        point = {}\n",
    "        point[\"type\"] = \"Point\"\n",
    "        point[\"coordinates\"] = coord\n",
    "        point[\"id\"] = j\n",
    "        point[\"properties\"] = {\"title\": \"server %i\" % j}\n",
    "        points.append(point)\n",
    "\n",
    "    return points\n",
    "\n",
    "\n",
    "def create_lines(coordinates):\n",
    "    lines = []\n",
    "    for index in xrange(0, len(coordinates)-1):\n",
    "        line = {}\n",
    "        line[\"type\"] = \"LineString\"\n",
    "        line[\"coordinates\"] = [coordinates[index], coordinates[index+1]]\n",
    "        lines.append(line)\n",
    "    \n",
    "    return lines\n",
    "\n",
    "def create_geojson(coordinates):\n",
    "    points = create_points(coordinates)\n",
    "    lines = create_lines(coordinates)\n",
    "    d = {\"type\": \"GeometryCollection\"}\n",
    "    data = lines + points\n",
    "    for item in data:\n",
    "        d.setdefault(\"geometries\", []).append(item)\n",
    "\n",
    "    return geojson.dumps(d)\n"
   ]
  },
  {
   "cell_type": "code",
   "execution_count": 314,
   "metadata": {
    "collapsed": false
   },
   "outputs": [],
   "source": [
    "data = create_geojson(mapped_ips)"
   ]
  },
  {
   "cell_type": "code",
   "execution_count": 315,
   "metadata": {
    "collapsed": false
   },
   "outputs": [
    {
     "name": "stdout",
     "output_type": "stream",
     "text": [
      "{\"type\": \"GeometryCollection\", \"geometries\": [{\"type\": \"LineString\", \"coordinates\": [[-122.0574, 37.41919999999999], [-74.0012, 40.7089]]}, {\"type\": \"LineString\", \"coordinates\": [[-74.0012, 40.7089], [13.400000000000006, 52.516699999999986]]}, {\"type\": \"Point\", \"id\": 1, \"coordinates\": [-122.0574, 37.41919999999999], \"properties\": {\"title\": \"server 1\"}}, {\"type\": \"Point\", \"id\": 1, \"coordinates\": [-74.0012, 40.7089], \"properties\": {\"title\": \"server 1\"}}, {\"type\": \"Point\", \"id\": 1, \"coordinates\": [13.400000000000006, 52.516699999999986], \"properties\": {\"title\": \"server 1\"}}]}\n"
     ]
    }
   ],
   "source": [
    "print data"
   ]
  },
  {
   "cell_type": "code",
   "execution_count": 278,
   "metadata": {
    "collapsed": false
   },
   "outputs": [
    {
     "data": {
      "text/html": [
       "<script src=\"http://cdnjs.cloudflare.com/ajax/libs/leaflet/0.7.3/leaflet.js\"></script>\n",
       "<link rel=\"stylesheet\" href=\"http://cdnjs.cloudflare.com/ajax/libs/leaflet/0.7.3/leaflet.css\" />"
      ],
      "text/plain": [
       "<IPython.core.display.HTML object>"
      ]
     },
     "metadata": {},
     "output_type": "display_data"
    }
   ],
   "source": [
    "%%HTML\n",
    "<script src=\"http://cdnjs.cloudflare.com/ajax/libs/leaflet/0.7.3/leaflet.js\"></script>\n",
    "<link rel=\"stylesheet\" href=\"http://cdnjs.cloudflare.com/ajax/libs/leaflet/0.7.3/leaflet.css\" />"
   ]
  },
  {
   "cell_type": "code",
   "execution_count": 316,
   "metadata": {
    "collapsed": false
   },
   "outputs": [
    {
     "data": {
      "text/html": [
       "<script>\n",
       "var point_data = {\"type\": \"GeometryCollection\", \"geometries\": [{\"type\": \"LineString\", \"coordinates\": [[-122.0574, 37.41919999999999], [-74.0012, 40.7089]]}, {\"type\": \"LineString\", \"coordinates\": [[-74.0012, 40.7089], [13.400000000000006, 52.516699999999986]]}, {\"type\": \"Point\", \"id\": 1, \"coordinates\": [-122.0574, 37.41919999999999], \"properties\": {\"title\": \"server 1\"}}, {\"type\": \"Point\", \"id\": 1, \"coordinates\": [-74.0012, 40.7089], \"properties\": {\"title\": \"server 1\"}}, {\"type\": \"Point\", \"id\": 1, \"coordinates\": [13.400000000000006, 52.516699999999986], \"properties\": {\"title\": \"server 1\"}}]};\n",
       "</script>"
      ],
      "text/plain": [
       "<IPython.core.display.HTML object>"
      ]
     },
     "metadata": {},
     "output_type": "display_data"
    }
   ],
   "source": [
    "%%HTML\n",
    "<script>\n",
    "var point_data = {\"type\": \"GeometryCollection\", \"geometries\": [{\"type\": \"LineString\", \"coordinates\": [[-122.0574, 37.41919999999999], [-74.0012, 40.7089]]}, {\"type\": \"LineString\", \"coordinates\": [[-74.0012, 40.7089], [13.400000000000006, 52.516699999999986]]}, {\"type\": \"Point\", \"id\": 1, \"coordinates\": [-122.0574, 37.41919999999999], \"properties\": {\"title\": \"server 1\"}}, {\"type\": \"Point\", \"id\": 1, \"coordinates\": [-74.0012, 40.7089], \"properties\": {\"title\": \"server 1\"}}, {\"type\": \"Point\", \"id\": 1, \"coordinates\": [13.400000000000006, 52.516699999999986], \"properties\": {\"title\": \"server 1\"}}]};\n",
    "</script>"
   ]
  },
  {
   "cell_type": "code",
   "execution_count": 319,
   "metadata": {
    "collapsed": false,
    "scrolled": true
   },
   "outputs": [
    {
     "data": {
      "text/html": [
       "\n",
       "<style>#map { height: 300px; }</style>\n",
       "<div id=\"map\"></div>\n",
       "<script>\n",
       "var map = L.map('map').setView([44.96795, -54.3287], 3);\n",
       "\n",
       "L.tileLayer('https://{s}.tiles.mapbox.com/v3/{id}/{z}/{x}/{y}.png', {\n",
       "    maxZoom: 18,\n",
       "    attribution: 'Map data &copy; <a href=\"http://openstreetmap.org\">OpenStreetMap</a> contributors, ' +\n",
       "        '<a href=\"http://creativecommons.org/licenses/by-sa/2.0/\">CC-BY-SA</a>, ' +\n",
       "        'Imagery © <a href=\"http://mapbox.com\">Mapbox</a>',\n",
       "        id: 'examples.map-20v6611k'\n",
       "}).addTo(map);\n",
       "\n",
       "L.geoJson(point_data).addTo(map);\n",
       "\n",
       "\n",
       "</script>"
      ],
      "text/plain": [
       "<IPython.core.display.HTML object>"
      ]
     },
     "metadata": {},
     "output_type": "display_data"
    }
   ],
   "source": [
    "%%HTML\n",
    "\n",
    "<style>#map { height: 300px; }</style>\n",
    "<div id=\"map\"></div>\n",
    "<script>\n",
    "var map = L.map('map').setView([44.96795, -54.3287], 3);\n",
    "\n",
    "L.tileLayer('https://{s}.tiles.mapbox.com/v3/{id}/{z}/{x}/{y}.png', {\n",
    "    maxZoom: 18,\n",
    "    attribution: 'Map data &copy; <a href=\"http://openstreetmap.org\">OpenStreetMap</a> contributors, ' +\n",
    "        '<a href=\"http://creativecommons.org/licenses/by-sa/2.0/\">CC-BY-SA</a>, ' +\n",
    "        'Imagery © <a href=\"http://mapbox.com\">Mapbox</a>',\n",
    "        id: 'examples.map-20v6611k'\n",
    "}).addTo(map);\n",
    "\n",
    "L.geoJson(point_data).addTo(map);\n",
    "\n",
    "\n",
    "</script>"
   ]
  },
  {
   "cell_type": "code",
   "execution_count": null,
   "metadata": {
    "collapsed": true
   },
   "outputs": [],
   "source": []
  }
 ],
 "metadata": {
  "kernelspec": {
   "display_name": "Python 2",
   "language": "python",
   "name": "python2"
  },
  "language_info": {
   "codemirror_mode": {
    "name": "ipython",
    "version": 2
   },
   "file_extension": ".py",
   "mimetype": "text/x-python",
   "name": "python",
   "nbconvert_exporter": "python",
   "pygments_lexer": "ipython2",
   "version": "2.7.8"
  }
 },
 "nbformat": 4,
 "nbformat_minor": 0
}
