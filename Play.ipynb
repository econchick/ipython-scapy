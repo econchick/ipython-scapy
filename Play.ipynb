{
 "cells": [
  {
   "cell_type": "code",
   "execution_count": 1,
   "metadata": {
    "collapsed": false
   },
   "outputs": [
    {
     "name": "stderr",
     "output_type": "stream",
     "text": [
      "WARNING: No route found for IPv6 destination :: (no default route?)\n",
      "WARNING:scapy.runtime:No route found for IPv6 destination :: (no default route?)\n"
     ]
    }
   ],
   "source": [
    "from scapy.all import *"
   ]
  },
  {
   "cell_type": "code",
   "execution_count": 3,
   "metadata": {
    "collapsed": false
   },
   "outputs": [],
   "source": [
    "a = sniff(iface=\"en0\", filter=\"tcp and port 80\", count=10)"
   ]
  },
  {
   "cell_type": "code",
   "execution_count": 4,
   "metadata": {
    "collapsed": false
   },
   "outputs": [
    {
     "data": {
      "text/plain": [
       "<Sniffed: TCP:10 UDP:0 ICMP:0 Other:0>"
      ]
     },
     "execution_count": 4,
     "metadata": {},
     "output_type": "execute_result"
    }
   ],
   "source": [
    "a"
   ]
  },
  {
   "cell_type": "code",
   "execution_count": 5,
   "metadata": {
    "collapsed": false,
    "scrolled": true
   },
   "outputs": [
    {
     "data": {
      "text/plain": [
       "[<Ether  dst=14:10:9f:e1:54:9b src=04:a1:51:90:af:d4 type=0x800 |<IP  version=4L ihl=5L tos=0x20 len=54 id=40868 flags=DF frag=0L ttl=53 proto=tcp chksum=0xe3c7 src=173.192.82.196 dst=192.168.1.9 options=[] |<TCP  sport=http dport=54682 seq=45721508 ack=2493780130 dataofs=8L reserved=0L flags=PA window=133 chksum=0x9fa2 urgptr=0 options=[('NOP', None), ('NOP', None), ('Timestamp', (3701734197, 1012289942))] |<Raw  load='\\x89\\x00' |>>>>,\n",
       " <Ether  dst=04:a1:51:90:af:d4 src=14:10:9f:e1:54:9b type=0x800 |<IP  version=4L ihl=5L tos=0x0 len=52 id=19544 flags=DF frag=0L ttl=64 proto=tcp chksum=0x2c36 src=192.168.1.9 dst=173.192.82.196 options=[] |<TCP  sport=54682 dport=http seq=2493780130 ack=45721510 dataofs=8L reserved=0L flags=A window=4101 chksum=0xf301 urgptr=0 options=[('NOP', None), ('NOP', None), ('Timestamp', (1012299711, 3701734197))] |>>>,\n",
       " <Ether  dst=04:a1:51:90:af:d4 src=14:10:9f:e1:54:9b type=0x800 |<IP  version=4L ihl=5L tos=0x0 len=58 id=63311 flags=DF frag=0L ttl=64 proto=tcp chksum=0x8138 src=192.168.1.9 dst=173.192.82.196 options=[] |<TCP  sport=54682 dport=http seq=2493780130 ack=45721510 dataofs=8L reserved=0L flags=PA window=4101 chksum=0xf0a8 urgptr=0 options=[('NOP', None), ('NOP', None), ('Timestamp', (1012299711, 3701734197))] |<Raw  load='\\x8a\\x80t\\x1a\\x03\\xb0' |>>>>,\n",
       " <Ether  dst=14:10:9f:e1:54:9b src=04:a1:51:90:af:d4 type=0x800 |<IP  version=4L ihl=5L tos=0x20 len=52 id=40869 flags=DF frag=0L ttl=53 proto=tcp chksum=0xe3c8 src=173.192.82.196 dst=192.168.1.9 options=[] |<TCP  sport=http dport=54682 seq=45721510 ack=2493780136 dataofs=8L reserved=0L flags=A window=133 chksum=0x269 urgptr=0 options=[('NOP', None), ('NOP', None), ('Timestamp', (3701734216, 1012299711))] |>>>,\n",
       " <Ether  dst=04:a1:51:90:af:d4 src=14:10:9f:e1:54:9b type=0x800 |<IP  version=4L ihl=5L tos=0x0 len=64 id=42507 flags=DF frag=0L ttl=64 proto=tcp chksum=0x30b5 src=192.168.1.9 dst=23.43.139.27 options=[] |<TCP  sport=55690 dport=http seq=2605952270 ack=0 dataofs=11L reserved=0L flags=S window=65535 chksum=0xf70c urgptr=0 options=[('MSS', 1460), ('NOP', None), ('WScale', 5), ('NOP', None), ('NOP', None), ('Timestamp', (1012301157, 0)), ('SAckOK', ''), ('EOL', None)] |>>>,\n",
       " <Ether  dst=14:10:9f:e1:54:9b src=04:a1:51:90:af:d4 type=0x800 |<IP  version=4L ihl=5L tos=0x20 len=60 id=0 flags=DF frag=0L ttl=45 proto=tcp chksum=0xe9a4 src=23.43.139.27 dst=192.168.1.9 options=[] |<TCP  sport=http dport=55690 seq=1770495476 ack=2605952271 dataofs=10L reserved=0L flags=SA window=14480 chksum=0xd269 urgptr=0 options=[('MSS', 1460), ('SAckOK', ''), ('Timestamp', (1587648233, 1012301157)), ('NOP', None), ('WScale', 5)] |>>>,\n",
       " <Ether  dst=04:a1:51:90:af:d4 src=14:10:9f:e1:54:9b type=0x800 |<IP  version=4L ihl=5L tos=0x0 len=52 id=47763 flags=DF frag=0L ttl=64 proto=tcp chksum=0x1c39 src=192.168.1.9 dst=23.43.139.27 options=[] |<TCP  sport=55690 dport=http seq=2605952271 ack=1770495477 dataofs=8L reserved=0L flags=A window=4117 chksum=0x2903 urgptr=0 options=[('NOP', None), ('NOP', None), ('Timestamp', (1012301329, 1587648233))] |>>>,\n",
       " <Ether  dst=04:a1:51:90:af:d4 src=14:10:9f:e1:54:9b type=0x800 |<IP  version=4L ihl=5L tos=0x0 len=362 id=49213 flags=DF frag=0L ttl=64 proto=tcp chksum=0x1559 src=192.168.1.9 dst=23.43.139.27 options=[] |<TCP  sport=55690 dport=http seq=2605952271 ack=1770495477 dataofs=8L reserved=0L flags=PA window=4117 chksum=0xb191 urgptr=0 options=[('NOP', None), ('NOP', None), ('Timestamp', (1012301329, 1587648233))] |<Raw  load='GET /MFYwVKADAgEAME0wSzBJMAkGBSsOAwIaBQAEFHQkFGcGn%2FXgmD9ePhproGUqVBV1BBQBWavn3ToLWaZkY9bPIAdX1ZHnagIQWVc3ZRLWkzLr8mm3OMjI3g%3D%3D HTTP/1.1\\r\\nHost: sr.symcd.com\\r\\nAccept-Encoding: gzip, deflate\\r\\nAccept: */*\\r\\nUser-Agent: ocspd/1.0.3\\r\\nAccept-Language: en-us\\r\\nCache-Control: max-age=300\\r\\nConnection: keep-alive\\r\\n\\r\\n' |>>>>,\n",
       " <Ether  dst=14:10:9f:e1:54:9b src=04:a1:51:90:af:d4 type=0x800 |<IP  version=4L ihl=5L tos=0x20 len=52 id=2658 flags=DF frag=0L ttl=45 proto=tcp chksum=0xdf4a src=23.43.139.27 dst=192.168.1.9 options=[] |<TCP  sport=http dport=55690 seq=1770495477 ack=2605952581 dataofs=8L reserved=0L flags=A window=486 chksum=0x3549 urgptr=0 options=[('NOP', None), ('NOP', None), ('Timestamp', (1587648412, 1012301329))] |>>>,\n",
       " <Ether  dst=14:10:9f:e1:54:9b src=04:a1:51:90:af:d4 type=0x800 |<IP  version=4L ihl=5L tos=0x20 len=1500 id=2659 flags=DF frag=0L ttl=45 proto=tcp chksum=0xd9a1 src=23.43.139.27 dst=192.168.1.9 options=[] |<TCP  sport=http dport=55690 seq=1770495477 ack=2605952581 dataofs=8L reserved=0L flags=A window=486 chksum=0xa0ec urgptr=0 options=[('NOP', None), ('NOP', None), ('Timestamp', (1587648413, 1012301329))] |<Raw  load='HTTP/1.1 200 OK\\r\\nServer: nginx/1.4.7\\r\\nContent-Type: application/ocsp-response\\r\\nContent-Length: 1595\\r\\ncontent-transfer-encoding: binary\\r\\nCache-Control: max-age=356525, public, no-transform, must-revalidate\\r\\nLast-Modified: Sat, 6 Jun 2015 22:37:34 GMT\\r\\nExpires: Sat, 13 Jun 2015 22:37:34 GMT\\r\\nDate: Tue, 09 Jun 2015 19:38:07 GMT\\r\\nConnection: keep-alive\\r\\n\\r\\n0\\x82\\x067\\n\\x01\\x00\\xa0\\x82\\x0600\\x82\\x06,\\x06\\t+\\x06\\x01\\x05\\x05\\x070\\x01\\x01\\x04\\x82\\x06\\x1d0\\x82\\x06\\x190\\x81\\x9e\\xa2\\x16\\x04\\x14i\\xce\\x07\\xff\\x9b?)P\\x16\\xbcF\\xd1\\x93\\xe52\\x05\\xef|\\xb7\\xc5\\x18\\x0f20150606223734Z0s0q0I0\\t\\x06\\x05+\\x0e\\x03\\x02\\x1a\\x05\\x00\\x04\\x14t$\\x14g\\x06\\x9f\\xf5\\xe0\\x98?^>\\x1ak\\xa0e*T\\x15u\\x04\\x14\\x01Y\\xab\\xe7\\xdd:\\x0bY\\xa6dc\\xd6\\xcf \\x07W\\xd5\\x91\\xe7j\\x02\\x10YW7e\\x12\\xd6\\x932\\xeb\\xf2i\\xb78\\xc8\\xc8\\xde\\x80\\x00\\x18\\x0f20150606223734Z\\xa0\\x11\\x18\\x0f20150613223734Z0\\r\\x06\\t*\\x86H\\x86\\xf7\\r\\x01\\x01\\x05\\x05\\x00\\x03\\x82\\x01\\x01\\x00\\x13Rw\\x1c\\x11G\\xf9\\xc6n\\xbf\\xa8E\\xd8m\\x1e\"\\x96/\\xa1A\\xd9\\xbf\\xbb\\xa3\\x12Y\\xfd\\x95\\x10\\x85\\x1f\\xe1\\x81GY\\xf8e\\x88&\\x99\\xdboG\\xce*\\x12r\\xb5\\xc8\\xaf\\xdf\\xad0\\xac\\xe0\\x1b\\xbc\\xad\\xa3\\xf7W<\\x9a\\x97\\x82\\x8a/\\x8c\\xc9\\xf9\\x97J\\x07\\x7f\\x9c\\xf5\\xee\\x98\\xa7s\\x08\\x83\\x13\\xa3\\t\\x19\\x91\"E?\\xa5\\x04\\x92j|\\xbf6\\x87\\xcf\\xb1\\x0eh\\xe4=\\xd6\\xb2\\x08\\xe0\\x05\\xca \\xc0\\x8a\\xd7\\x03\\xff\\'\\xe46\\xf9\\xe2\\xfb\\xf6\\xb7\\xd1j\\xd0\\x81\\xc1Vu\\xa1\\xbf\\x88G\\xc5\\x96H\\xc7]J\\xbc\\x8dz,\\x93F\\xc4l\\xbc\\x98\\xf7\\xcb\\xb2\\xed\\x16\\xb0\\xd4\\xec\\xff\\xc0\\xa8\\x93\\x14\\xc1\\x18C5\\xae=\\n\\xdb\\xe9{\\xf9\\xc8\\xe9!\\xbb\\x1fP\\x94\\xf3\\xf7\\xd2\\x8e\"W\\xc1.\\xd3%y\\xf3}f\\xde\\xe8!\\xe24Z#\\xb6\\xcc\\xeb8T_\\x15\\r\\xb8\\x87\\x07\\xce\\x05G`\\x0c\\xaa\\x83\\xbf\\xedc\\xb9\\xd4\\xa3:\\xbcv(\\xba\\xda\\xd4\\x11\\x85|\\x11\\x9d\\xf4-_\\xd2(\\xdb\\xed~/\\x8f\\x88\\x1e\\xf7~\\xe8\\xcas\\xa0\\x82\\x04`0\\x82\\x04\\\\0\\x82\\x04X0\\x82\\x03@\\xa0\\x03\\x02\\x01\\x02\\x02\\x10p`\\xc2C\\x89\\xf4K\\xb5\\xff<\\xd9G]\\xe2wi0\\r\\x06\\t*\\x86H\\x86\\xf7\\r\\x01\\x01\\x0b\\x05\\x000w1\\x0b0\\t\\x06\\x03U\\x04\\x06\\x13\\x02US1\\x1d0\\x1b\\x06\\x03U\\x04\\n\\x13\\x14Symantec Corporation1\\x1f0\\x1d\\x06\\x03U\\x04\\x0b\\x13\\x16Symantec Trust Network1(0&\\x06\\x03U\\x04\\x03\\x13\\x1fSymantec Class 3 EV SSL CA - G30\\x1e\\x17\\r150412000000Z\\x17\\r150711235959Z091705\\x06\\x03U\\x04\\x03\\x13.Symantec Class 3 EV SSL CA - G3 OCSP Responder0\\x82\\x01\"0\\r\\x06\\t*\\x86H\\x86\\xf7\\r\\x01\\x01\\x01\\x05\\x00\\x03\\x82\\x01\\x0f\\x000\\x82\\x01\\n\\x02\\x82\\x01\\x01\\x00\\xd6L\\xeb\\x92-\\x19\\xbf\\xa9OG)\\xa579\\x8b0\\xeb\\xf5\\xc6c\\x1cb\\xbb\\xcbv\\x9f0n\\x16\\xca@W\\xb4\\xb5\"J\\x15\\x0f\\xcc\\xb7>\\x82\\xba\\xa6\\t\\xd6\\x87s4\\xb1\\xdfq\\x03\\xa2\\xda\\x90\\x9f\\xc7\\xe0\\xbb=\\xb2\\xb3\\xa9\\xeb&s8\\x0f\\x8e\\xe9\\xe3qm<\\xb2)<\\x0c\\xed\\xc8^\\xe3\\xcc\\xb5\\xa3\\xd3\\xa0\\xf5\\xcf`\\x00\\x0b\\xef\\x03\\x8eV\\x81\\xa5,\\x8c~{s\\x9e8\\xda\\xd5\\x94\\x02[<\\xe6\\'\\x085\\xa9\\xcc*g\\xaf\\x88Bb\\xdbF\\xc2\\xa5\\xd1\\xc3\\xc0\\xe3\\xf9\\xdf\\x9e~\\x13\\xbc\\x15\\xf9/M\\n(\\x1d\\xbf\\xa8\\x1c8q\\xb7|a\\xa1\\xd9\\xafb\\xbd).\\xe9\\xdb\\xdf\\xdf\\xd0\\n8\\x07\\x8e\\x149\\xdd2\\x8e\\xdd\\x04\\xac\\x12\\xfd\\\\{\\xafq\\xa6vS\\xa0\\x07>L+\\x05\\x92\\xb5\\xed\\xf0\\xb5W\\xcd\\xbb\\xa3;\\xacJ\\xc1\\xb3\\xd7c\\xb4\\xee{\\xbaz\\x8f\\xa1\\xf0\\xb1\\x13\\xf8\\x97+ng\\x05\\x8f\\x90\\x0f\\xce/\\xfb\\xc7./]\\xbb\\xef\\xf6\\x1c\\xb1\\xcdf\\'\\xff\\xe1]/\\x8fb\\xeb\\x87\\t\\xa74\\xc95\\x9f\\x02\\x03\\x01\\x00\\x01\\xa3\\x82\\x01\\x1c0\\x82\\x01\\x180\\x0f\\x06\\t+\\x06\\x01\\x05\\x05\\x070\\x01\\x05\\x04\\x02\\x05\\x000\"\\x06\\x03U\\x1d\\x11\\x04\\x1b0\\x19\\xa4\\x170\\x151\\x130\\x11\\x06\\x03U\\x04\\x03\\x13\\nTGV-B-35990\\x1f' |>>>>]"
      ]
     },
     "execution_count": 5,
     "metadata": {},
     "output_type": "execute_result"
    }
   ],
   "source": [
    "a.res"
   ]
  },
  {
   "cell_type": "code",
   "execution_count": 6,
   "metadata": {
    "collapsed": false
   },
   "outputs": [
    {
     "data": {
      "text/plain": [
       "<Ether  dst=14:10:9f:e1:54:9b src=04:a1:51:90:af:d4 type=0x800 |<IP  version=4L ihl=5L tos=0x20 len=54 id=40868 flags=DF frag=0L ttl=53 proto=tcp chksum=0xe3c7 src=173.192.82.196 dst=192.168.1.9 options=[] |<TCP  sport=http dport=54682 seq=45721508 ack=2493780130 dataofs=8L reserved=0L flags=PA window=133 chksum=0x9fa2 urgptr=0 options=[('NOP', None), ('NOP', None), ('Timestamp', (3701734197, 1012289942))] |<Raw  load='\\x89\\x00' |>>>>"
      ]
     },
     "execution_count": 6,
     "metadata": {},
     "output_type": "execute_result"
    }
   ],
   "source": [
    "a.res[0]"
   ]
  },
  {
   "cell_type": "code",
   "execution_count": 14,
   "metadata": {
    "collapsed": false
   },
   "outputs": [
    {
     "name": "stdout",
     "output_type": "stream",
     "text": [
      "###[ Ethernet ]###\n",
      "  dst       = 04:a1:51:90:af:d4\n",
      "  src       = 14:10:9f:e1:54:9b\n",
      "  type      = 0x800\n",
      "###[ IP ]###\n",
      "     version   = 4L\n",
      "     ihl       = 5L\n",
      "     tos       = 0x0\n",
      "     len       = 362\n",
      "     id        = 49213\n",
      "     flags     = DF\n",
      "     frag      = 0L\n",
      "     ttl       = 64\n",
      "     proto     = tcp\n",
      "     chksum    = 0x1559\n",
      "     src       = 192.168.1.9\n",
      "     dst       = 23.43.139.27\n",
      "     \\options   \\\n",
      "###[ TCP ]###\n",
      "        sport     = 55690\n",
      "        dport     = http\n",
      "        seq       = 2605952271\n",
      "        ack       = 1770495477\n",
      "        dataofs   = 8L\n",
      "        reserved  = 0L\n",
      "        flags     = PA\n",
      "        window    = 4117\n",
      "        chksum    = 0xb191\n",
      "        urgptr    = 0\n",
      "        options   = [('NOP', None), ('NOP', None), ('Timestamp', (1012301329, 1587648233))]\n",
      "###[ Raw ]###\n",
      "           load      = 'GET /MFYwVKADAgEAME0wSzBJMAkGBSsOAwIaBQAEFHQkFGcGn%2FXgmD9ePhproGUqVBV1BBQBWavn3ToLWaZkY9bPIAdX1ZHnagIQWVc3ZRLWkzLr8mm3OMjI3g%3D%3D HTTP/1.1\\r\\nHost: sr.symcd.com\\r\\nAccept-Encoding: gzip, deflate\\r\\nAccept: */*\\r\\nUser-Agent: ocspd/1.0.3\\r\\nAccept-Language: en-us\\r\\nCache-Control: max-age=300\\r\\nConnection: keep-alive\\r\\n\\r\\n'\n"
     ]
    }
   ],
   "source": [
    "a.res[7].show()"
   ]
  },
  {
   "cell_type": "code",
   "execution_count": 43,
   "metadata": {
    "collapsed": false
   },
   "outputs": [
    {
     "data": {
      "text/plain": [
       "<Raw  load='GET /MFYwVKADAgEAME0wSzBJMAkGBSsOAwIaBQAEFHQkFGcGn%2FXgmD9ePhproGUqVBV1BBQBWavn3ToLWaZkY9bPIAdX1ZHnagIQWVc3ZRLWkzLr8mm3OMjI3g%3D%3D HTTP/1.1\\r\\nHost: sr.symcd.com\\r\\nAccept-Encoding: gzip, deflate\\r\\nAccept: */*\\r\\nUser-Agent: ocspd/1.0.3\\r\\nAccept-Language: en-us\\r\\nCache-Control: max-age=300\\r\\nConnection: keep-alive\\r\\n\\r\\n' |>"
      ]
     },
     "execution_count": 43,
     "metadata": {},
     "output_type": "execute_result"
    }
   ],
   "source": [
    "a.res[7].getlayer(Raw)"
   ]
  },
  {
   "cell_type": "code",
   "execution_count": 46,
   "metadata": {
    "collapsed": false
   },
   "outputs": [
    {
     "name": "stdout",
     "output_type": "stream",
     "text": [
      "Requirement already satisfied (use --upgrade to upgrade): requests[security] in /Users/lynnroot/.virtualenvs/local-spy-tutorial/lib/python2.7/site-packages\r\n",
      "  Installing extra requirements: 'security'\r\n",
      "Cleaning up...\r\n"
     ]
    }
   ],
   "source": [
    "!pip install requests[security]"
   ]
  },
  {
   "cell_type": "code",
   "execution_count": 47,
   "metadata": {
    "collapsed": true
   },
   "outputs": [],
   "source": [
    "import requests"
   ]
  },
  {
   "cell_type": "code",
   "execution_count": 48,
   "metadata": {
    "collapsed": false
   },
   "outputs": [
    {
     "name": "stderr",
     "output_type": "stream",
     "text": [
      "/Users/lynnroot/.virtualenvs/local-spy-tutorial/lib/python2.7/site-packages/requests/packages/urllib3/util/ssl_.py:90: InsecurePlatformWarning: A true SSLContext object is not available. This prevents urllib3 from configuring SSL appropriately and may cause certain SSL connections to fail. For more information, see https://urllib3.readthedocs.org/en/latest/security.html#insecureplatformwarning.\n",
      "  InsecurePlatformWarning\n"
     ]
    }
   ],
   "source": [
    "resp = requests.get(\"http://wiki.wireshark.org/SampleCaptures?action=AttachFile&do=get&target=http.cap\")"
   ]
  },
  {
   "cell_type": "code",
   "execution_count": 49,
   "metadata": {
    "collapsed": false
   },
   "outputs": [
    {
     "data": {
      "text/plain": [
       "<Response [200]>"
      ]
     },
     "execution_count": 49,
     "metadata": {},
     "output_type": "execute_result"
    }
   ],
   "source": [
    "resp"
   ]
  },
  {
   "cell_type": "code",
   "execution_count": 51,
   "metadata": {
    "collapsed": false
   },
   "outputs": [],
   "source": [
    "data = resp.text"
   ]
  },
  {
   "cell_type": "code",
   "execution_count": 56,
   "metadata": {
    "collapsed": false
   },
   "outputs": [],
   "source": [
    "content = resp.content"
   ]
  },
  {
   "cell_type": "code",
   "execution_count": 60,
   "metadata": {
    "collapsed": false
   },
   "outputs": [],
   "source": [
    "sample_sniff = \"http.cap\"\n",
    "with open(sample_sniff, \"w\") as f:\n",
    "    f.write(content)"
   ]
  },
  {
   "cell_type": "code",
   "execution_count": 61,
   "metadata": {
    "collapsed": false
   },
   "outputs": [],
   "source": [
    "pkts = sniff(offline=sample_sniff)"
   ]
  },
  {
   "cell_type": "code",
   "execution_count": 62,
   "metadata": {
    "collapsed": false
   },
   "outputs": [
    {
     "data": {
      "text/plain": [
       "<Sniffed: TCP:41 UDP:2 ICMP:0 Other:0>"
      ]
     },
     "execution_count": 62,
     "metadata": {},
     "output_type": "execute_result"
    }
   ],
   "source": [
    "pkts"
   ]
  },
  {
   "cell_type": "code",
   "execution_count": 64,
   "metadata": {
    "collapsed": false
   },
   "outputs": [
    {
     "data": {
      "text/plain": [
       "<Sniffed: TCP:41 UDP:2 ICMP:0 Other:0>"
      ]
     },
     "execution_count": 64,
     "metadata": {},
     "output_type": "execute_result"
    }
   ],
   "source": [
    "pkts"
   ]
  },
  {
   "cell_type": "code",
   "execution_count": 65,
   "metadata": {
    "collapsed": false
   },
   "outputs": [
    {
     "data": {
      "text/plain": [
       "[<Ether  dst=fe:ff:20:00:01:00 src=00:00:01:00:00:00 type=0x800 |<IP  version=4L ihl=5L tos=0x0 len=48 id=3905 flags=DF frag=0L ttl=128 proto=tcp chksum=0x91eb src=145.254.160.237 dst=65.208.228.223 options=[] |<TCP  sport=tip2 dport=http seq=951057939 ack=0 dataofs=7L reserved=0L flags=S window=8760 chksum=0xc30c urgptr=0 options=[('MSS', 1460), ('NOP', None), ('NOP', None), ('SAckOK', '')] |>>>,\n",
       " <Ether  dst=00:00:01:00:00:00 src=fe:ff:20:00:01:00 type=0x800 |<IP  version=4L ihl=5L tos=0x0 len=48 id=0 flags=DF frag=0L ttl=47 proto=tcp chksum=0xf22c src=65.208.228.223 dst=145.254.160.237 options=[] |<TCP  sport=http dport=tip2 seq=290218379 ack=951057940 dataofs=7L reserved=0L flags=SA window=5840 chksum=0x5bdc urgptr=0 options=[('MSS', 1380), ('NOP', None), ('NOP', None), ('SAckOK', '')] |>>>,\n",
       " <Ether  dst=fe:ff:20:00:01:00 src=00:00:01:00:00:00 type=0x800 |<IP  version=4L ihl=5L tos=0x0 len=40 id=3908 flags=DF frag=0L ttl=128 proto=tcp chksum=0x91f0 src=145.254.160.237 dst=65.208.228.223 options=[] |<TCP  sport=tip2 dport=http seq=951057940 ack=290218380 dataofs=5L reserved=0L flags=A window=9660 chksum=0x7964 urgptr=0 |>>>,\n",
       " <Ether  dst=fe:ff:20:00:01:00 src=00:00:01:00:00:00 type=0x800 |<IP  version=4L ihl=5L tos=0x0 len=519 id=3909 flags=DF frag=0L ttl=128 proto=tcp chksum=0x9010 src=145.254.160.237 dst=65.208.228.223 options=[] |<TCP  sport=tip2 dport=http seq=951057940 ack=290218380 dataofs=5L reserved=0L flags=PA window=9660 chksum=0xa958 urgptr=0 options=[] |<Raw  load='GET /download.html HTTP/1.1\\r\\nHost: www.ethereal.com\\r\\nUser-Agent: Mozilla/5.0 (Windows; U; Windows NT 5.1; en-US; rv:1.6) Gecko/20040113\\r\\nAccept: text/xml,application/xml,application/xhtml+xml,text/html;q=0.9,text/plain;q=0.8,image/png,image/jpeg,image/gif;q=0.2,*/*;q=0.1\\r\\nAccept-Language: en-us,en;q=0.5\\r\\nAccept-Encoding: gzip,deflate\\r\\nAccept-Charset: ISO-8859-1,utf-8;q=0.7,*;q=0.7\\r\\nKeep-Alive: 300\\r\\nConnection: keep-alive\\r\\nReferer: http://www.ethereal.com/development.html\\r\\n\\r\\n' |>>>>,\n",
       " <Ether  dst=00:00:01:00:00:00 src=fe:ff:20:00:01:00 type=0x800 |<IP  version=4L ihl=5L tos=0x0 len=40 id=49310 flags=DF frag=0L ttl=47 proto=tcp chksum=0x3196 src=65.208.228.223 dst=145.254.160.237 options=[] |<TCP  sport=http dport=tip2 seq=290218380 ack=951058419 dataofs=5L reserved=0L flags=A window=6432 chksum=0x8421 urgptr=0 |>>>,\n",
       " <Ether  dst=00:00:01:00:00:00 src=fe:ff:20:00:01:00 type=0x800 |<IP  version=4L ihl=5L tos=0x0 len=1420 id=49311 flags=DF frag=0L ttl=47 proto=tcp chksum=0x2c31 src=65.208.228.223 dst=145.254.160.237 options=[] |<TCP  sport=http dport=tip2 seq=290218380 ack=951058419 dataofs=5L reserved=0L flags=A window=6432 chksum=0x2b0a urgptr=0 options=[] |<Raw  load='HTTP/1.1 200 OK\\r\\nDate: Thu, 13 May 2004 10:17:12 GMT\\r\\nServer: Apache\\r\\nLast-Modified: Tue, 20 Apr 2004 13:17:00 GMT\\r\\nETag: \"9a01a-4696-7e354b00\"\\r\\nAccept-Ranges: bytes\\r\\nContent-Length: 18070\\r\\nKeep-Alive: timeout=15, max=100\\r\\nConnection: Keep-Alive\\r\\nContent-Type: text/html; charset=ISO-8859-1\\r\\n\\r\\n<?xml version=\"1.0\" encoding=\"UTF-8\"?>\\n<!DOCTYPE html\\n  PUBLIC \"-//W3C//DTD XHTML 1.0 Strict//EN\"\\n  \"DTD/xhtml1-strict.dtd\">\\n<html xmlns=\"http://www.w3.org/1999/xhtml\" xml:lang=\"en\" lang=\"en\">\\n  <head>\\n    <title>Ethereal: Download</title>\\n    <style type=\"text/css\" media=\"all\">\\n\\t@import url(\"mm/css/ethereal-3-0.css\");\\n    </style>\\n</head>\\n  <body>\\n    <div class=\"top\">\\n    <table width=\"100%\" cellspacing=\"0\" cellpadding=\"0\" border=\"0\" summary=\"\">\\n      <tr>\\n        <td valign=\"middle\" width=\"1\">\\n\\t  <a href=\"/\"><img class=\"logo\" title=\"Ethereal home\" src=\"mm/image/elogo-64-trans.gif\" alt=\"\" width=\"64\" height=\"64\"></img></a>\\n        </td>\\n        <td align=\"left\" valign=\"middle\">\\n          <h2>Ethereal</h2>\\n          <h5 style=\"white-space: nowrap;\">Download</h5>\\n        </td>\\n        <td align=\"right\">\\n\\t    <table style=\"margin-right: 10px;\" cellspacing=\"0\" cellpadding=\"0\" border=\"0\" summary=\"\">\\n              <form name=\"search\" method=\"post\" action=\"http://www.ethereal.com/cgi-bin/htsearch\">\\n              <tr>\\n\\t        <td>\\n\\t          <div class=\"topformtext\">\\n        ' |>>>>,\n",
       " <Ether  dst=fe:ff:20:00:01:00 src=00:00:01:00:00:00 type=0x800 |<IP  version=4L ihl=5L tos=0x0 len=40 id=3910 flags=DF frag=0L ttl=128 proto=tcp chksum=0x91ee src=145.254.160.237 dst=65.208.228.223 options=[] |<TCP  sport=tip2 dport=http seq=951058419 ack=290219760 dataofs=5L reserved=0L flags=A window=9660 chksum=0x7221 urgptr=0 |>>>,\n",
       " <Ether  dst=00:00:01:00:00:00 src=fe:ff:20:00:01:00 type=0x800 |<IP  version=4L ihl=5L tos=0x0 len=1420 id=49312 flags=DF frag=0L ttl=47 proto=tcp chksum=0x2c30 src=65.208.228.223 dst=145.254.160.237 options=[] |<TCP  sport=http dport=tip2 seq=290219760 ack=951058419 dataofs=5L reserved=0L flags=A window=6432 chksum=0xc351 urgptr=0 options=[] |<Raw  load='          <a href=\"search.html\">Search:</a>\\n\\t\\t  </div>\\n\\t        </td>\\n\\t        <td>\\n\\t          <div class=\"topformtext\">\\n                  <input type=\"text\" size=\"12\" name=\"words\">\\n\\t\\t  <input type=\"hidden\" name=\"config\" value=\"ethereal\">\\n\\t\\t  </div>\\n\\t        </td>\\n\\t\\t<td valign=\"bottom\">\\n\\t\\t  <input type=\"image\" class=\"gobutton\" src=\"mm/image/go-button.gif\">\\n\\t\\t</td>\\n              </tr>\\n              </form>\\n</table>\\n\\t  </div>\\n        </td>\\n      </tr>\\n    </table>\\n    </div>\\n<div class=\"sitebar\">\\n<p>\\n  <a href=\"/\">Home</a>\\n  <span class=\"sitebarsep\">|</span>\\n  <a href=\"introduction.html\">Introduction</a>\\n  <span class=\"sitebarsep\">|</span>\\n  Download\\n  <span class=\"sitebarsep\">|</span>\\n  <a href=\"docs/\">Documentation</a>\\n  <span class=\"sitebarsep\">|</span>\\n  <a href=\"lists/\">Lists</a>\\n  <span class=\"sitebarsep\">|</span>\\n  <a href=\"faq.html\">FAQ</a>\\n  <span class=\"sitebarsep\">|</span>\\n  <a href=\"development.html\">Development</a>\\n</p>\\n</div>\\n<div class=\"navbar\">\\n<p>\\n  <a href=\"#releases\">Official Releases</a>\\n  <span class=\"navbarsep\">|</span>\\n  <a href=\"#otherplat\">Other Platforms</a>\\n  <span class=\"navbarsep\">|</span>\\n  <a href=\"#otherdown\">Other Downloads</a>\\n  <span class=\"navbarsep\">|</span>\\n  <a href=\"#legal\">Legal Notices</a>\\n</p>\\n</div>\\n<!-- Begin Ad 468x60 -->\\n<div class=\"adblock\">\\n<script type=\"text/javascript\"><!--\\ngoogle_ad_client = \"pub-230919194867' |>>>>,\n",
       " <Ether  dst=fe:ff:20:00:01:00 src=00:00:01:00:00:00 type=0x800 |<IP  version=4L ihl=5L tos=0x0 len=40 id=3911 flags=DF frag=0L ttl=128 proto=tcp chksum=0x91ed src=145.254.160.237 dst=65.208.228.223 options=[] |<TCP  sport=tip2 dport=http seq=951058419 ack=290221140 dataofs=5L reserved=0L flags=A window=9660 chksum=0x6cbd urgptr=0 |>>>,\n",
       " <Ether  dst=00:00:01:00:00:00 src=fe:ff:20:00:01:00 type=0x800 |<IP  version=4L ihl=5L tos=0x0 len=1420 id=49313 flags=DF frag=0L ttl=47 proto=tcp chksum=0x2c2f src=65.208.228.223 dst=145.254.160.237 options=[] |<TCP  sport=http dport=tip2 seq=290221140 ack=951058419 dataofs=5L reserved=0L flags=A window=6432 chksum=0xe4b urgptr=0 options=[] |<Raw  load='3629\";\\ngoogle_ad_width = 468;\\ngoogle_ad_height = 60;\\ngoogle_ad_format = \"468x60_as\";\\ngoogle_color_border = \"666633\";\\ngoogle_color_bg = \"FFFFFF\";\\ngoogle_color_link = \"000000\";\\ngoogle_color_url = \"666633\";\\ngoogle_color_text = \"333333\";\\n//--></script>\\n<script type=\"text/javascript\"\\n  src=\"http://pagead2.googlesyndication.com/pagead/show_ads.js\">\\n</script>\\n</div>\\n<!-- End Ad -->\\n<div class=\"block\">\\n  <h2 class=\"headerline\" id=\"releases\">Official Releases</h2>\\n<p>\\n  The Official source code release and installers for Windows, Red Hat\\n  Linux/Fedora, and Solaris can be found on the main Ethereal web site and\\n  its mirrors.\\n</p>\\n<h4>Source Code</h4>\\n<p>\\nHTTP:\\n<a href=\"http://www.ethereal.com/distribution/\">Main site</a>\\n<a href=\"http://ethereal.planetmirror.com/distribution/\">Australia</a>\\n<a href=\"http://www.mirrors.wiretapped.net/security/packet-capture/ethereal/\">Australia</a>\\n<a href=\"http://netmirror.org/mirror/ftp.ethereal.com/\">Germany</a>\\n<a href=\"http://ethereal.netarc.jp/distribution/\">Japan</a>\\n<a href=\"http://ethereal.secuwiz.com/distribution/\">Korea</a>\\n<a href=\"http://ethereal.0ni0n.org/distribution/\">Malaysia</a>\\n<a href=\"http://ftp.sunet.se/pub/network/monitoring/ethereal/\">Sweden</a>\\n<a href=\"http://sourceforge.net/project/showfiles.php?group_id=255\">SourceForge</a>\\n</p>\\n<p>\\nFTP:\\n<a href=\"ftp://ftp.ethereal.com/pub/ethereal/\">Main site</a>\\n<a href=' |>>>>,\n",
       " <Ether  dst=00:00:01:00:00:00 src=fe:ff:20:00:01:00 type=0x800 |<IP  version=4L ihl=5L tos=0x0 len=1420 id=49314 flags=DF frag=0L ttl=47 proto=tcp chksum=0x2c2e src=65.208.228.223 dst=145.254.160.237 options=[] |<TCP  sport=http dport=tip2 seq=290222520 ack=951058419 dataofs=5L reserved=0L flags=PA window=6432 chksum=0xe135 urgptr=0 options=[] |<Raw  load='\"ftp://ftp.planetmirror.com/pub/ethereal/\">Australia</a>\\n<a href=\"ftp://ftp.mirrors.wiretapped.net/pub/security/packet-capture/ethereal/\">Australia</a>\\n<a href=\"ftp://gd.tuwien.ac.at/infosys/security/ethereal/\">Austria</a>\\n<a href=\"ftp://netmirror.org/ftp.ethereal.com/\">Germany</a>\\n<a href=\"ftp://ftp.ayamura.org/pub/ethereal/\">Japan</a>\\n<a href=\"ftp://ftp.azc.uam.mx/mirrors/ethereal/\">Mexico</a>\\n<a href=\"ftp://ftp.sunet.se/pub/network/monitoring/ethereal/\">Sweden</a>\\n</p>\\n<p>\\nThe latest development sources are available via\\n<a href=\"development.html#anoncvs\">anonymous CVS</a>.\\n</p>\\n<h4>Windows 98/ME/2000/XP/2003 Installers</h4>\\n<p>\\nHTTP:\\n<a href=\"http://www.ethereal.com/distribution/win32/\">Main site</a>\\n<a href=\"http://ethereal.planetmirror.com/distribution/win32/\">Australia</a>\\n<a href=\"http://www.mirrors.wiretapped.net/security/packet-capture/ethereal/win32/\">Australia</a>\\n<a href=\"http://netmirror.org/mirror/ftp.ethereal.com/win32/\">Germany</a>\\n<a href=\"http://ethereal.netarc.jp/distribution/win32/\">Japan</a>\\n<a href=\"http://ethereal.secuwiz.com/distribution/win32/\">Korea</a>\\n<a href=\"http://ethereal.0ni0n.org/distribution/win32/\">Malaysia</a>\\n<a href=\"http://ftp.sunet.se/pub/network/monitoring/ethereal/win32/\">Sweden</a>\\n<a href=\"http://sourceforge.net/project/showfiles.php?group_id=255\">SourceForge</a>\\n</p>\\n<p>\\nFTP:\\n<a href=\"ftp://ftp.ethereal.com/pub/' |>>>>,\n",
       " <Ether  dst=fe:ff:20:00:01:00 src=00:00:01:00:00:00 type=0x800 |<IP  version=4L ihl=5L tos=0x0 len=40 id=3912 flags=DF frag=0L ttl=128 proto=tcp chksum=0x91ec src=145.254.160.237 dst=65.208.228.223 options=[] |<TCP  sport=tip2 dport=http seq=951058419 ack=290223900 dataofs=5L reserved=0L flags=A window=9660 chksum=0x61f5 urgptr=0 |>>>,\n",
       " <Ether  dst=fe:ff:20:00:01:00 src=00:00:01:00:00:00 type=0x800 |<IP  version=4L ihl=5L tos=0x0 len=75 id=3913 flags= frag=0L ttl=128 proto=udp chksum=0x63a5 src=145.254.160.237 dst=145.253.2.203 options=[] |<UDP  sport=pxc_ntfy dport=domain len=55 chksum=0x10af |<DNS  id=35 qr=0L opcode=QUERY aa=0L tc=0L rd=1L ra=0L z=0L ad=0L cd=0L rcode=ok qdcount=1 ancount=0 nscount=0 arcount=0 qd=<DNSQR  qname='pagead2.googlesyndication.com.' qtype=A qclass=IN |> an=None ns=None ar=None |>>>>,\n",
       " <Ether  dst=00:00:01:00:00:00 src=fe:ff:20:00:01:00 type=0x800 |<IP  version=4L ihl=5L tos=0x0 len=1420 id=49315 flags=DF frag=0L ttl=47 proto=tcp chksum=0x2c2d src=65.208.228.223 dst=145.254.160.237 options=[] |<TCP  sport=http dport=tip2 seq=290223900 ack=951058419 dataofs=5L reserved=0L flags=A window=6432 chksum=0xa378 urgptr=0 options=[] |<Raw  load='ethereal/win32/\">Main site</a>\\n<a href=\"ftp://ftp.planetmirror.com/pub/ethereal/win32/\">Australia</a>\\n<a href=\"ftp://ftp.mirrors.wiretapped.net/pub/security/packet-capture/ethereal/win32/\">Australia</a>\\n<a href=\"ftp://gd.tuwien.ac.at/infosys/security/ethereal/win32/\">Austria</a>\\n<a href=\"ftp://netmirror.org/ftp.ethereal.com/win32/\">Germany</a>\\n<a href=\"ftp://ftp.ayamura.org/pub/ethereal/win32/\">Japan</a>\\n<a href=\"ftp://ftp.azc.uam.mx/mirrors/ethereal/win32/\">Mexico</a>\\n<a href=\"ftp://ftp.sunet.se/pub/network/monitoring/ethereal/win32/\">Sweden</a>\\n</p>\\n<h4>Red Hat Linux / Fedora Packages</h4>\\n<p>\\nHTTP:\\n<a href=\"http://www.ethereal.com/distribution/rpms/\">Main site</a>\\n<a href=\"http://ethereal.planetmirror.com/distribution/rpms/\">Australia</a>\\n<a href=\"http://www.mirrors.wiretapped.net/security/packet-capture/ethereal/rpms/\">Australia</a>\\n<a href=\"http://netmirror.org/mirror/ftp.ethereal.com/rpms/\">Germany</a>\\n<a href=\"http://ethereal.netarc.jp/distribution/rpms/\">Japan</a>\\n<a href=\"http://ethereal.secuwiz.com/distribution/rpms/\">Korea</a>\\n<a href=\"http://ethereal.0ni0n.org/distribution/rpms/\">Malaysia</a>\\n<a href=\"http://ftp.sunet.se/pub/network/monitoring/ethereal/rpms/\">Sweden</a>\\n</p>\\n<p>\\nFTP:\\n<a href=\"ftp://ftp.ethereal.com/pub/ethereal/rpms/\">Main site</a>\\n<a href=\"ftp://ftp.planetmirror.com/pub/ethereal/rpms/\">Australia</a>\\n<a href=\"ftp://ftp.mirrors.wi' |>>>>,\n",
       " <Ether  dst=fe:ff:20:00:01:00 src=00:00:01:00:00:00 type=0x800 |<IP  version=4L ihl=5L tos=0x0 len=40 id=3914 flags=DF frag=0L ttl=128 proto=tcp chksum=0x91ea src=145.254.160.237 dst=65.208.228.223 options=[] |<TCP  sport=tip2 dport=http seq=951058419 ack=290225280 dataofs=5L reserved=0L flags=A window=9660 chksum=0x5c91 urgptr=0 |>>>,\n",
       " <Ether  dst=00:00:01:00:00:00 src=fe:ff:20:00:01:00 type=0x800 |<IP  version=4L ihl=5L tos=0x0 len=1420 id=49316 flags=DF frag=0L ttl=47 proto=tcp chksum=0x2c2c src=65.208.228.223 dst=145.254.160.237 options=[] |<TCP  sport=http dport=tip2 seq=290225280 ack=951058419 dataofs=5L reserved=0L flags=A window=6432 chksum=0x9903 urgptr=0 options=[] |<Raw  load='retapped.net/pub/security/packet-capture/ethereal/rpms/\">Australia</a>\\n<a href=\"ftp://gd.tuwien.ac.at/infosys/security/ethereal/rpms/\">Austria</a>\\n<a href=\"ftp://netmirror.org/ftp.ethereal.com/rpms/\">Germany</a>\\n<a href=\"ftp://ftp.ayamura.org/pub/ethereal/rpms/\">Japan</a>\\n<a href=\"ftp://ftp.azc.uam.mx/mirrors/ethereal/rpms/\">Mexico</a>\\n<a href=\"ftp://ftp.sunet.se/pub/network/monitoring/ethereal/rpms/\">Sweden</a>\\n</p>\\n<h4>Solaris Packages</h4>\\n<p>\\nHTTP:\\n<a href=\"http://www.ethereal.com/distribution/solaris/\">Main site</a>\\n<a href=\"http://ethereal.planetmirror.com/distribution/solaris/\">Australia</a>\\n<a href=\"http://www.mirrors.wiretapped.net/security/packet-capture/ethereal/solaris/\">Australia</a>\\n<a href=\"http://netmirror.org/mirror/ftp.ethereal.com/solaris/\">Germany</a>\\n<a href=\"http://ethereal.netarc.jp/distribution/solaris/\">Japan</a>\\n<a href=\"http://ethereal.secuwiz.com/distribution/solaris/\">Korea</a>\\n<a href=\"http://ethereal.0ni0n.org/distribution/solaris/\">Malaysia</a>\\n<a href=\"http://ftp.sunet.se/pub/network/monitoring/ethereal/solaris/\">Sweden</a>\\n<a href=\"http://sourceforge.net/project/showfiles.php?group_id=255\">SourceForge</a>\\n</p>\\n<p>\\nFTP:\\n<a href=\"ftp://ftp.ethereal.com/pub/ethereal/solaris/\">Main site</a>\\n<a href=\"ftp://ftp.planetmirror.com/pub/ethereal/solaris/\">Australia</a>\\n<a href=\"ftp://ftp.mirrors.wiretapped.net/pub/security/packet-captu' |>>>>,\n",
       " <Ether  dst=00:00:01:00:00:00 src=fe:ff:20:00:01:00 type=0x800 |<IP  version=4L ihl=5L tos=0x0 len=174 id=5525 flags=DF frag=0L ttl=249 proto=udp chksum=0xa3f5 src=145.253.2.203 dst=145.254.160.237 options=[] |<UDP  sport=domain dport=pxc_ntfy len=154 chksum=0x3002 |<DNS  id=35 qr=1L opcode=QUERY aa=0L tc=0L rd=1L ra=1L z=0L ad=0L cd=0L rcode=ok qdcount=1 ancount=4 nscount=0 arcount=0 qd=<DNSQR  qname='pagead2.googlesyndication.com.' qtype=A qclass=IN |> an=<DNSRR  rrname='pagead2.googlesyndication.com.' type=CNAME rclass=IN ttl=48321 rdata='pagead2.google.com.' |<DNSRR  rrname='pagead2.google.com.' type=CNAME rclass=IN ttl=122 rdata='pagead.google.akadns.net.' |<DNSRR  rrname='pagead.google.akadns.net.' type=A rclass=IN ttl=123 rdata='216.239.59.104' |<DNSRR  rrname='pagead.google.akadns.net.' type=A rclass=IN ttl=123 rdata='216.239.59.99' |>>>> ns=None ar=None |>>>>,\n",
       " <Ether  dst=fe:ff:20:00:01:00 src=00:00:01:00:00:00 type=0x800 |<IP  version=4L ihl=5L tos=0x0 len=761 id=3917 flags=DF frag=0L ttl=128 proto=tcp chksum=0xa173 src=145.254.160.237 dst=216.239.59.99 options=[] |<TCP  sport=3371 dport=http seq=918691368 ack=778785668 dataofs=5L reserved=0L flags=PA window=8760 chksum=0xb64 urgptr=0 options=[] |<Raw  load='GET /pagead/ads?client=ca-pub-2309191948673629&random=1084443430285&lmt=1082467020&format=468x60_as&output=html&url=http%3A%2F%2Fwww.ethereal.com%2Fdownload.html&color_bg=FFFFFF&color_text=333333&color_link=000000&color_url=666633&color_border=666633 HTTP/1.1\\r\\nHost: pagead2.googlesyndication.com\\r\\nUser-Agent: Mozilla/5.0 (Windows; U; Windows NT 5.1; en-US; rv:1.6) Gecko/20040113\\r\\nAccept: text/xml,application/xml,application/xhtml+xml,text/html;q=0.9,text/plain;q=0.8,image/png,image/jpeg,image/gif;q=0.2,*/*;q=0.1\\r\\nAccept-Language: en-us,en;q=0.5\\r\\nAccept-Encoding: gzip,deflate\\r\\nAccept-Charset: ISO-8859-1,utf-8;q=0.7,*;q=0.7\\r\\nKeep-Alive: 300\\r\\nConnection: keep-alive\\r\\nReferer: http://www.ethereal.com/download.html\\r\\n\\r\\n' |>>>>,\n",
       " <Ether  dst=fe:ff:20:00:01:00 src=00:00:01:00:00:00 type=0x800 |<IP  version=4L ihl=5L tos=0x0 len=40 id=3918 flags=DF frag=0L ttl=128 proto=tcp chksum=0x91e6 src=145.254.160.237 dst=65.208.228.223 options=[] |<TCP  sport=tip2 dport=http seq=951058419 ack=290226660 dataofs=5L reserved=0L flags=A window=9660 chksum=0x572d urgptr=0 |>>>,\n",
       " <Ether  dst=00:00:01:00:00:00 src=fe:ff:20:00:01:00 type=0x800 |<IP  version=4L ihl=5L tos=0x0 len=1420 id=49317 flags=DF frag=0L ttl=47 proto=tcp chksum=0x2c2b src=65.208.228.223 dst=145.254.160.237 options=[] |<TCP  sport=http dport=tip2 seq=290226660 ack=951058419 dataofs=5L reserved=0L flags=A window=6432 chksum=0x1f7d urgptr=0 options=[] |<Raw  load='re/ethereal/solaris/\">Australia</a>\\n<a href=\"ftp://gd.tuwien.ac.at/infosys/security/ethereal/solaris/\">Austria</a>\\n<a href=\"ftp://netmirror.org/ftp.ethereal.com/solaris/\">Germany</a>\\n<a href=\"ftp://ftp.ayamura.org/pub/ethereal/solaris/\">Japan</a>\\n<a href=\"ftp://ftp.azc.uam.mx/mirrors/ethereal/solaris/\">Mexico</a>\\n<a href=\"ftp://ftp.sunet.se/pub/network/monitoring/ethereal/solaris/\">Sweden</a>\\n</p>\\n</div>\\n<div class=\"block\">\\n  <h2 class=\"headerline\" id=\"otherplat\">Other Platforms</h2>\\n<p>\\n  Binary distributions and ready-to-compile packages are available for\\n  most platforms. Please note these packages may depend on external\\n  libraries including GLib/GTK+, libpcap, Net-SNMP, PCRE, and GNU ADNS.\\n  You may have to download and install them before installing Ethereal.\\n</p>\\n<table cellspacing=\"1\" cellpadding=\"2\" border=\"0\" summary=\"\">\\n<tr bgcolor=\"#cccc99\">\\n  <th>Platform</th>\\n  <th>Location(s)</th>\\n</tr>\\n<tr>\\n  <td valign=\"top\">Apple Computer:<br>Mac OS X</td>\\n  <td valign=\"top\">\\n    <a href=\"http://fink.sourceforge.net/pdb/package.php/ethereal\">Fink Project</a>\\n    <a href=\"http://darwinports.opendarwin.org\">DarwinPorts</a>\\n</td>\\n</tr>\\n<tr class=\"even\">\\n  <td valign=\"top\">Be (Palm?):<br>BeOS</td>\\n  <td valign=\"top\">\\n    <a href=\"http://www.bebits.com/app/2979\">BeBits</a>\\n</td>\\n</tr>\\n<tr>\\n  <td valign=\"top\">Debian:<br>Debian GNU/Linux</td>\\n  <td valign=\"top\">\\n ' |>>>>,\n",
       " <Ether  dst=00:00:01:00:00:00 src=fe:ff:20:00:01:00 type=0x800 |<IP  version=4L ihl=5L tos=0x0 len=1420 id=49318 flags=DF frag=0L ttl=47 proto=tcp chksum=0x2c2a src=65.208.228.223 dst=145.254.160.237 options=[] |<TCP  sport=http dport=tip2 seq=290228040 ack=951058419 dataofs=5L reserved=0L flags=PA window=6432 chksum=0xbd0f urgptr=0 options=[] |<Raw  load='   <a href=\"http://packages.debian.org/stable/net/ethereal\">stable</a>,\\n    <a href=\"http://packages.debian.org/testing/net/ethereal\">testing</a>,\\n    <a href=\"http://packages.debian.org/unstable/net/ethereal\">unstable</a>\\n</td>\\n</tr>\\n<tr class=\"even\">\\n  <td valign=\"top\">The FreeBSD Project:<br>FreeBSD</td>\\n  <td valign=\"top\">\\n    <a href=\"http://www.freebsd.org/cgi/ports.cgi?query=ethereal&stype=all\">ports</a>\\n</td>\\n</tr>\\n<tr>\\n  <td valign=\"top\">Gentoo Technologies:<br>Gentoo Linux</td>\\n  <td valign=\"top\">\\n    <a href=\"http://www.gentoo.org/packages/net-analyzer/ethereal.html\">portage</a>\\n</td>\\n</tr>\\n<tr class=\"even\">\\n  <td valign=\"top\">HP:<br>Tru64 Unix</td>\\n  <td valign=\"top\">\\n    <a href=\"ftp://ftp.thewrittenword.com/packages/by-name/ethereal-0.9.16/\">The Written Word (4.0d, 5.1)</a><super><small>1</small></super>\\n</td>\\n</tr>\\n<tr>\\n  <td valign=\"top\">HP:<br>HP-UX</td>\\n  <td valign=\"top\">\\n    <a href=\"http://hpux.connect.org.uk/hppd/hpux/Gtk/Applications/\">UK</a>,\\n    <a href=\"http://hpux.asknet.de/hppd/hpux/Gtk/Applications/\">Germany</a>,\\n    <a href=\"http://hpux.tn.tudelft.nl/hppd/hpux/Gtk/Applications/\">Netherlands</a>,\\n    <a href=\"http://hpux.cs.utah.edu/hppd/hpux/Gtk/Applications/\">US</a>,\\n    <a href=\"http://hpux.ee.ualberta.ca/hppd/hpux/Gtk/Applications/\">Canada</a>,\\n    <a href=\"http://hpux.petech.ac.za//hppd/hpux/Gtk/Applications/\">South&nbsp;Afr' |>>>>,\n",
       " <Ether  dst=fe:ff:20:00:01:00 src=00:00:01:00:00:00 type=0x800 |<IP  version=4L ihl=5L tos=0x0 len=40 id=3919 flags=DF frag=0L ttl=128 proto=tcp chksum=0x91e5 src=145.254.160.237 dst=65.208.228.223 options=[] |<TCP  sport=tip2 dport=http seq=951058419 ack=290229420 dataofs=5L reserved=0L flags=A window=9660 chksum=0x4c65 urgptr=0 |>>>,\n",
       " <Ether  dst=00:00:01:00:00:00 src=fe:ff:20:00:01:00 type=0x800 |<IP  version=4L ihl=5L tos=0x0 len=1420 id=49319 flags=DF frag=0L ttl=47 proto=tcp chksum=0x2c29 src=65.208.228.223 dst=145.254.160.237 options=[] |<TCP  sport=http dport=tip2 seq=290229420 ack=951058419 dataofs=5L reserved=0L flags=A window=6432 chksum=0xbf85 urgptr=0 options=[] |<Raw  load='ica</a>\\n    <br>(more mirrors are listed on each site\\'s home page),<br>\\n    <a href=\"ftp://ftp.thewrittenword.com/packages/by-name/ethereal-0.9.16/\">The Written Word (10.20, 11.00, 11.11)</a><super><small>1</small></super>\\n</td>\\n</tr>\\n<tr class=\"even\">\\n  <td valign=\"top\">IBM:<br>AIX</td>\\n  <td valign=\"top\">\\n    <a href=\"http://www.bullfreeware.com/\">Bull archive</a><br>\\n    <a href=\"http://ftp.univie.ac.at/aix/\">Vienna University mirror</a><br>\\n    <a href=\"http://aixpdslib.seas.ucla.edu/bull.html\">UCLA mirror</a>\\n</td>\\n</tr>\\n  <!-- Ashley G Chaloner <csuwf [at] dcs.warwick.ac.uk> -->\\n<tr>\\n  <td valign=\"top\">IBM:<br>S/390 Linux (Red Hat 7.2)</td>\\n  <td valign=\"top\">\\n    <a href=\"http://www.dcs.warwick.ac.uk/~csuwf/RPMs/\">Ashley Chaloner</a><br>\\n</td>\\n</tr>\\n<tr class=\"even\">\\n  <td valign=\"top\">MandrakeSoft:<br>Mandrake Linux</td>\\n  <td valign=\"top\">\\n    <a href=\"http://www.linux-mandrake.com/en/cookerdevel.php3\">Cooker</a>\\n    (in the contrib section)\\n</td>\\n</tr>\\n<tr>\\n  <td valign=\"top\">Microsoft:<br>Windows (Intel, 32-bit)</td>\\n  <td valign=\"top\">\\n    <a href=\"http://www.ethereal.com/distribution/win32\">local archive</a><br>\\n    <a href=\"http://www.openxtra.com/products/ethereal_xtra.htm\">OPENEXTRA</a>\\n</td>\\n</tr>\\n<tr class=\"even\">\\n  <td valign=\"top\">NetBSD Foundation:<br>NetBSD</td>\\n  <td valign=\"top\">\\n    <a href=\"ftp://ftp.netbsd.org/pub/NetBSD/packages/p' |>>>>,\n",
       " <Ether  dst=00:00:01:00:00:00 src=fe:ff:20:00:01:00 type=0x800 |<IP  version=4L ihl=5L tos=0x10 len=40 id=34104 flags= frag=0L ttl=55 proto=tcp chksum=0xb749 src=216.239.59.99 dst=145.254.160.237 options=[] |<TCP  sport=http dport=3371 seq=778785668 ack=918692089 dataofs=5L reserved=0L flags=A window=31460 chksum=0x68c urgptr=0 |>>>,\n",
       " <Ether  dst=fe:ff:20:00:01:00 src=00:00:01:00:00:00 type=0x800 |<IP  version=4L ihl=5L tos=0x0 len=40 id=3920 flags=DF frag=0L ttl=128 proto=tcp chksum=0x91e4 src=145.254.160.237 dst=65.208.228.223 options=[] |<TCP  sport=tip2 dport=http seq=951058419 ack=290230800 dataofs=5L reserved=0L flags=A window=9660 chksum=0x4701 urgptr=0 |>>>,\n",
       " <Ether  dst=00:00:01:00:00:00 src=fe:ff:20:00:01:00 type=0x800 |<IP  version=4L ihl=5L tos=0x10 len=1470 id=34254 flags= frag=0L ttl=55 proto=tcp chksum=0xb11d src=216.239.59.99 dst=145.254.160.237 options=[] |<TCP  sport=http dport=3371 seq=778785668 ack=918692089 dataofs=5L reserved=0L flags=PA window=31460 chksum=0xacd9 urgptr=0 options=[] |<Raw  load='HTTP/1.1 200 OK\\r\\nP3P: policyref=\"http://www.googleadservices.com/pagead/p3p.xml\", CP=\"NOI DEV PSA PSD IVA PVD OTP OUR OTR IND OTC\"\\r\\nContent-Type: text/html; charset=ISO-8859-1\\r\\nContent-Encoding: gzip\\r\\nServer: CAFE/1.0\\r\\nCache-control: private, x-gzip-ok=\"\"\\r\\nContent-length: 1272\\r\\nDate: Thu, 13 May 2004 10:17:14 GMT\\r\\n\\r\\n\\x1f\\x8b\\x08\\x00\\x00\\x00\\x00\\x00\\x02\\xff\\xcdW\\xebs\\xda8\\x10\\xff~\\x7f\\x85\\xcemI\\x98\\x06\\x1b\\x03y\\x82\\xb91y\\xd0\\xb4Mz\\xed\\xa57\\xbdO7\\xb2%\\xdb\\xba\\x08\\xcb\\x95d\\x08M\\xf3\\xbf\\xdf\\xca\\x18p d\\x92\\xde\\xcd\\xcd\\x99a\\xf4\\xd8\\xa7v\\xf7\\xb7\\xb2{\\x89\\x1e\\xf1~/\\xa1\\x98\\xf4{JO9\\xed\\xf7~n4~\\xb2\\xc3\\xe46\\xcc\\xa5\\x12\\xf2(\\x13,\\xd5Tv\\xcbe\\x82Sr\\x87mL\\x8e8K\\xaf\\xd1-\\n\\x05\\x87m\\xf4\\xa2Y<hF\\x1b3\\xc54%\\x9b\\xc8\\x89\\x18S\\xb9\\x89\\x88C\\xcd\\xc6\\xf4A\\xaa\\xa2X\\x86\\xc9\\xaa\\xe5\\xa8x*\\xf4u\\xebk,\\xab\\x1e\\xac1\\xacy\\xb1\\xe4\\xc0ZK\\x16\\xe4\\x9a\\x89t\\xb3+U\\xa6\\xc7\\xfc\\xa9\\xf2mv\\xaa\\xca\\xb5\\xd13\\x84\\x1c\\xa7\\xd1\\xe8\\xf7\\x9c2\\x91*\\x94,\\xd3\\xb3\\x84Fy\\x1a\\x1ai\\xa4\\xd4\\xf6d\\x87\\x91:\\xba\\x9d\\xb0\\x94\\x88\\x89\\xad4\\xd6\\xb9B\\x1e\\x9at%\\xd5\\xb9L\\x91\\x969\\xed\\xde-$B\\xb5]\\xbf\\xcf\\xecmmU\\xe9x\\x1b\\xd7o\\x91\\x16\\x99\\xcdE\\x88\\xcd\\x9e\\x9dH\\x1ayD\\x84\\xf9\\x88\\xa6\\xda\\x8e\\xa9>\\xe5\\xd4L\\x07\\xd3s\\x02\\xdc\\x05\\xbd\\xa2\"\\xc6\\xdbb\\x87\\x82O,B\\xdb\\x1b\\xc4\\x80\\x8a=a3b\\xab<P\\x10\\x8e4\\xdev\\xeb\\xdd\\x0c<\\xb7\\xac\\xae\\x9c\\r1\\x0c\\xd4\\xd6X\\x82l\\xd7(\\x8bAL\\xc3f\\x0c\\x82\\xdd\\xa8\\x98dX\\x82\\xcaKAh\\xc1\\x11\\x01\\x87Q\\x12\\x19\\x8e\\xa4\\x98\\xacp$u\\xa3=1\\xf4\\xbb;D\\xb9\\x82\\xe0\\'\\x85!%\\xc3\\xd2\\xc3Bw\\xb2\\xae{\\xa1Y/T\\x18\\x82\\xf6<\\x8c\\xbe\\x7fGY9J\\x18\\xeb\\xd5\\xf0?;\\x9aww\\xf3\\xe4\\x97Ywf\\xa0\\x0e\\x04\\x99\\xa2 >6\\xb5\\xe2Ye\\xadX\\x88\\xd3H_@\\x98X\\xeaYM\\xcb$\\xaf\\xb2\\x1a\\x15\\xd3\\t#:\\xa9\\xac\\x13\\xca\\xe2D\\x9b\\x8d~O\\xe3\\x80STrt\\xf6\\x0e,4\\xa7\\xee\\x01\\x7fH9W\\x19\\x0e!E\\x9e\\xe5\\xce\\xd6\\x19&\\xa4X\\x03=\\x10\\x92P9\\x9b\\xc6a\\xe9\\xd9\\x1e<\\xed\\xb6\\xd1-\\xe1O\\xd6l\\xec-m\\xec\\x1e\\xac\\xd8h\\xae\\xd8p7\\xd8(O?\\xb7a\\x10\\x04:\\xe0\\xd0-knhie\\xfd\\x98\\x9d\\n\\xf1q\\x07ZU\\x07\\x16\\xe6\\x10#\\x9e\\xa5\\xf1\\xc4ps\\xac\\x94g\\x85\\xc9\\xc2p\\xabu\\xb8T\\xdf\\x81\\x13`\\xcebp\\xcdd\\xcaB\\xe3r\\x05\\x89\\xb2\\x90H\\xcf\\xa0\\x18@\\x1c\\xc0\\xbc\\x15\\x0b\\xc8\\x1e\\x9aL\\x00\\x9cT\\x8e#!Cj\\x87b\\xe4l\\xedl\\x81\\xa5\\xad\\xbaa\\xbf\\x10\\xb9\\xa2\\x1f\\xc6\\xc6\\x9d\\xa7\\x89,drp\\xc64\\x00\\xa3\\xe5\\x98\\xb3\\xf0\\xda\\xb3\\x00\\xac:aj\\x87\\x8e\\xa1\\x04\\xebp\\xbaH\\xa4\\x1a\\x15=\\xc7\\xb3\\xcc\\xbc\\xa1\\xd87z\\xe4\\xba\\xd9M\\x17\\x15\\xeb\\x08\\x8f\\x18\\x9f\\x1e\\x81}\\x82S\\xbc\\x83%\\xc3|G\\xe1T5\\xc0>\\x8b\\xba\\xa0\\x03\\xcf#\\x82\\x89U\\x84\\xa9\\x88\\xd2\\x0c\\xc8\\x9e\\xf5gq\\xec\\x02\\x06\\x96\\x93\\xe1\\x18*\\xdb\\xc1$4\\xfe\\xfc\\xa2\\xb0\\xc7k\\x98y\\xfe[r\\x1d}UM\\xe1\\x9f\\x85\\xd70\\xc4\\xfe[\\xda\\xfa8<8\\xf9\\xf8\\xae\\xb1?8\\xd8\\x1fu\\xbe\\xfd\\xe1\\xfb\\xed\\x8e\\x1et\\xae\\xfc\\xe1Ut8\\xf0\\xfd\\xe6\\xf0\\xc3G\\xff\\xf8\\xd4\\xdf\\xfd\\xe4\\x03\\x89\\xb4I\\xfeyH\\xc4\\xef\\xa3\\x90\\x9f\\r\\x83\\xfc\\xa2\\x15\\xe8\\x81\\x7f\\xd9\\x8aOh\\xcb\\xff\\xf6%\\xb9|\\x03\\\\\\xb54\\x1fyn\\r\\x93\\\\r/\\xd1:;r\\x9c\\xf5H\\xbej\\x9f\\x81\\xb3T\\xbej\\x9f\\xc4B\\xc4\\x9c\\xba5\\xf0\\x16\\xe2\\xe5\\x85\\xb8\\x91\\xe5A\\xa3\\xd5n\\x1e\\xba\\xf0\\xeb\\x1c\\xec\\xed\\xb7\\xf7L\\xea\\xffIR\\xcb\\xce\\xf1\\xa3\\xb9\\x85.\\xd1\\xff\\r\\xb8\\xcf\\x0cw\\xcf\\t\\xa0y`\\xf8\\x9b\\xdc\\x01In\\xccp\\xf3\\xc9\\x19.\\xef\\xaa\\x17\\xed\\xe2\\xb1\\xfa\\'\\x940hnp\\'\\x1a\\xbbT*\\xd4@/\\xf7w\\x9d\\x91@5<\\xca\\xba(\\xcf\\x90{5@_ \\x86\\xe0/\\x9f\\xa2\\x97.\\xbc\\x02\\xcc}r\\x8a\\xfe\\xb0\\x04\\x94\\xfb\\xef\\x03\\xea=K\\xf3\\x1b\\xfb\\xfcJ\\x0b\\xc1\\x03qcbX\\x84\\xd0}\\x04Q\\x8f\\xca\\xfc\\x1f \\xe5>\\x13R\\x1f\\xde\\xfd\\x1a<\\x04\\xa9\\xdd\\xaf\\xf9\\xf4\\xecb\\x1c\\x8f\\xdasH\\xfdu\\x1fR\\xe7\\xcf\\x86T\\xeb>\\xa4x\\x11J\\xa6+\\xa1tb)\\xf2L\\x95\\x83\\x8dU\\x06(\\x1b\\x03\\xc2>\\x9d\\x9e\\xbc\\xf1\\xaf\\x1a\\xef\\x7f\\x04bOO\\xf3\\x1a\\xc6\\x9e\\x99m\\x03\\xb2OP\\xf0o\\xb0F\\'L\\x81\\x1f\\n\\xee\\xf6\\xff\\x04m\\xd0\\x8b(:m\\x8c0\\xe3h\\x80\\x95A]\\x9eeBj\\xb4\\xee\\x10\\x1a\\x9a\\xf0\\xde' |>>>>,\n",
       " <Ether  dst=00:00:01:00:00:00 src=fe:ff:20:00:01:00 type=0x800 |<IP  version=4L ihl=5L tos=0x10 len=200 id=34255 flags= frag=0L ttl=55 proto=tcp chksum=0xb612 src=216.239.59.99 dst=145.254.160.237 options=[] |<TCP  sport=http dport=3371 seq=778787098 ack=918692089 dataofs=5L reserved=0L flags=PA window=31460 chksum=0xde29 urgptr=0 options=[] |<Raw  load='G\\x9ac\\xee/\\xa7\\xb8\\x0c\\xab;\\xe5\\xad\\x96\\x8a\\x89\\xc4\\xd9\\x1cu\\xee\\xab%\\xe8\\\\\\xf7\\xc1\\x0b~\\x8e\\xde\\xfb\\x82\\x87\\x87+\\x92%@\\xa5\\xd9yP\\xcf\\xb2\\xc0\\x97o\\xc7\\xab%\\r)\\x90\\x11\\xa5$\\xc0P\\xd7+-\\x9b\\xea\\x84J\\x8ayQ\\\\\\xf0v\\x9br\\x81\\x89m\\xbe\\x88j\\t\\xf7h\\n\\x15\\xf9\\xd9[\\xef\\xa4\\xb0}\\xe5-\\xdae\\xc1\\xf4@)\\x14\\\\\\x10\\xde\\xd7\\x10\\xde\\xd7\\xcb\\xf0\\xd6\\x88H\\xa9W\\xc5a\\xc0qz\\xbd\\x19\\xf2O\\xcf\\xba\\xd5\\xf7\\x89B\\xc1\\x14\\r\\x8b\\x1bg\\x91A\\xfcx\\x16\\x17;\\xe6M\\xd1\\xbc6\\x9a/\\xc2\\xbf\\x01{\\xdc\\x039\\x18\\x0e\\x00\\x00' |>>>>,\n",
       " <Ether  dst=fe:ff:20:00:01:00 src=00:00:01:00:00:00 type=0x800 |<IP  version=4L ihl=5L tos=0x0 len=40 id=3923 flags=DF frag=0L ttl=128 proto=tcp chksum=0xa43e src=145.254.160.237 dst=216.239.59.99 options=[] |<TCP  sport=3371 dport=http seq=918692089 ack=778787258 dataofs=5L reserved=0L flags=A window=8760 chksum=0x5902 urgptr=0 |>>>,\n",
       " <Ether  dst=00:00:01:00:00:00 src=fe:ff:20:00:01:00 type=0x800 |<IP  version=4L ihl=5L tos=0x0 len=1420 id=49320 flags=DF frag=0L ttl=47 proto=tcp chksum=0x2c28 src=65.208.228.223 dst=145.254.160.237 options=[] |<TCP  sport=http dport=tip2 seq=290230800 ack=951058419 dataofs=5L reserved=0L flags=PA window=6432 chksum=0x83f9 urgptr=0 options=[] |<Raw  load='kgsrc/net/ethereal/README.html\">packages</a>\\n</td>\\n</tr>\\n<tr>\\n  <td valign=\"top\">OpenBSD:<br>OpenBSD</td>\\n  <td valign=\"top\">\\n    <a href=\"http://www.openbsd.org/cgi-bin/cvsweb/ports/net/ethereal/\">ports</a>\\n</td>\\n</tr>\\n<tr class=\"even\">\\n  <td valign=\"top\">PLD Team:<br>PLD Linux</td>\\n  <td valign=\"top\">\\n    <a href=\"ftp://ftp.pld-linux.org/dists/ra\">FTP site</a>\\n</td>\\n</tr>\\n<tr>\\n  <td valign=\"top\">Red Hat:<br>Red Hat Linux</td>\\n  <td valign=\"top\">\\n    <a href=\"http://rpmfind.net/linux/RPM/EByName.html\">RPMFind</a> (requires glibc)<br>\\n    <a href=\"ftp://ftp.falsehope.com/home/gomez/ethereal/\">Henri Gomez</a><br>\\n    <a href=\"ftp://ftp.thewrittenword.com/packages/by-name/ethereal-0.9.16/\">The Written Word (7.1)</a><super><small>1</small></super><br>\\n    <a href=\"ftp://ftp.ethereal.com/pub/ethereal/rpms/\">local archive</a><br>\\n</td>\\n</tr>\\n<tr class=\"even\">\\n  <td valign=\"top\">ROCK Linux:<br>ROCK Linux</td>\\n  <td valign=\"top\">\\n    <a href=\"http://www.rocklinux.org/sources/package/tsa/ethereal/\">package</a><br>\\n</td>\\n</tr>\\n<tr>\\n  <td valign=\"top\">SCO (formerly Caldera):<br>UnixWare/OpenUnix</td>\\n  <td valign=\"top\">\\n    <a href=\"http://www.sco.com/skunkware/\">Skunkware</a>:\\n    <a href=\"ftp://ftp2.caldera.com/pub/skunkware/uw7/net/ethereal/\">UnixWare 7</a>\\n    <a href=\"ftp://ftp2.caldera.com/pub/skunkware/ou8/net/ethereal/\">Open UNIX 8</a>\\n</td>\\n</tr>\\n<tr class=\"e' |>>>>,\n",
       " <Ether  dst=fe:ff:20:00:01:00 src=00:00:01:00:00:00 type=0x800 |<IP  version=4L ihl=5L tos=0x0 len=40 id=3926 flags=DF frag=0L ttl=128 proto=tcp chksum=0x91de src=145.254.160.237 dst=65.208.228.223 options=[] |<TCP  sport=tip2 dport=http seq=951058419 ack=290232180 dataofs=5L reserved=0L flags=A window=9660 chksum=0x419d urgptr=0 |>>>,\n",
       " <Ether  dst=00:00:01:00:00:00 src=fe:ff:20:00:01:00 type=0x800 |<IP  version=4L ihl=5L tos=0x0 len=1420 id=49321 flags=DF frag=0L ttl=47 proto=tcp chksum=0x2c27 src=65.208.228.223 dst=145.254.160.237 options=[] |<TCP  sport=http dport=tip2 seq=290232180 ack=951058419 dataofs=5L reserved=0L flags=A window=6432 chksum=0x5f85 urgptr=0 options=[] |<Raw  load='ven\">\\n  <td valign=\"top\">SGI:<br>Irix</td>\\n  <td valign=\"top\">\\n    <a href=\"ftp://ftp.thewrittenword.com/packages/by-name/ethereal-0.9.16/\">The Written Word (6.5)</a><super><small>1</small></super><br>\\n    <a href=\"http://freeware.sgi.com/index-by-alpha.html\">SGI Freeware</a>\\n</td>\\n</tr>\\n<tr>\\n  <td valign=\"top\">Slackware Linux:<br>Slackware Linux</td>\\n  <td valign=\"top\">\\n    <a href=\"http://www.linuxpackages.net/search_view.php?by=name&name=ethereal&ver=\">Linux Packages</a>\\n</td>\\n</tr>\\n<tr class=\"even\">\\n  <td valign=\"top\">Sun Microsystems:<br>Solaris/Intel</td>\\n  <td valign=\"top\">\\n    <a href=\"http://www.sun.com/solaris/freeware.html\">Solaris 01/01 update</a> (unsupported)\\n</td>\\n</tr>\\n<tr>\\n  <td valign=\"top\">Sun Microsystems:<br>Solaris/SPARC</td>\\n  <td valign=\"top\">\\n    <a href=\"http://www.ethereal.com/distribution/solaris/\">local archive (8, 9)</a><br>\\n    <a href=\"ftp://ftp.thewrittenword.com/packages/by-name/ethereal-0.9.16/\">The Written Word (2.5.1 - 9)</a><super><small>1</small></super><br>\\n    <a href=\"http://www.sunfreeware.com/\">Sunfreeware.com (7, 8)</a><br>\\n    <a href=\"http://www.sun.com/solaris/freeware/index.html\">Solaris 8 and 9 Companion Software CDs</a> (unsupported)\\n</td>\\n</tr>\\n<tr class=\"even\">\\n  <td valign=\"top\">SuSE:<br>SuSE Linux</td>\\n  <td valign=\"top\">\\n    <a href=\"ftp://ftp.suse.com/pub/suse/\">SuSE FTP site</a>.\\n    <a href=\"http://w' |>>>>,\n",
       " <Ether  dst=00:00:01:00:00:00 src=fe:ff:20:00:01:00 type=0x800 |<IP  version=4L ihl=5L tos=0x0 len=1420 id=49322 flags=DF frag=0L ttl=47 proto=tcp chksum=0x2c26 src=65.208.228.223 dst=145.254.160.237 options=[] |<TCP  sport=http dport=tip2 seq=290233560 ack=951058419 dataofs=5L reserved=0L flags=A window=6432 chksum=0x61a urgptr=0 options=[] |<Raw  load='ww.suse.com/us/private/download/ftp/int_mirrors.html\">Mirrors</a> are also available.\\n</td>\\n</tr>\\n</table>\\n<p>\\n  If you know of any binary distribution not listed here, please send mail\\n  to\\n  <a href=\"mailto:ethereal-web[AT]ethereal.com\">ethereal-web[AT]ethereal.com</a>\\n.\\n</p>\\n<p class=\"footnote\">\\n  [1] Each Ethereal package produced by\\n  <a href=\"http://www.thewrittenword.com\">The Written Word</a> depends on the\\n  <a href=\"ftp://ftp.thewrittenword.com/packages/by-name/zlib-1.1.4/\">zlib</a>,\\n  <a href=\"ftp://ftp.thewrittenword.com/packages/by-name/glib-1.2.10/\">Glib</a>,\\n  <a href=\"ftp://ftp.thewrittenword.com/packages/by-name/gtk+-1.2.10/\">GTK+</a>,\\n  <a href=\"ftp://ftp.thewrittenword.com/packages/by-name/perl-5.6.1/\">Perl</a>, and\\n  <a href=\"ftp://ftp.thewrittenword.com/packages/by-name/net-snmp-5.0.9/\">Net-SNMP</a>\\n  packages.\\n  Please refer to The Written Word\\'s\\n  <a href=\"ftp://ftp.thewrittenword.com/packages/INSTALL.pdf\">documentation</a>\\n  for installation instructions.\\n  Please do not call The Written Word for support. Email\\n  <a href=\"mailto:free-support[AT]thewrittenword.com\">free-support[AT]thewrittenword.com</a>\\n  with questions.\\n</p>\\n</div>\\n<div class=\"block\">\\n  <h2 class=\"headerline\" id=\"otherdown\">Other Downloads</h2>\\n<h4>Sample Captures</h4>\\n<p>\\n  A menagerie of capture files is available on our\\n  <a href=\"../sample/\">sample captures</a> pag' |>>>>,\n",
       " <Ether  dst=fe:ff:20:00:01:00 src=00:00:01:00:00:00 type=0x800 |<IP  version=4L ihl=5L tos=0x0 len=40 id=3927 flags=DF frag=0L ttl=128 proto=tcp chksum=0x91dd src=145.254.160.237 dst=65.208.228.223 options=[] |<TCP  sport=tip2 dport=http seq=951058419 ack=290234940 dataofs=5L reserved=0L flags=A window=9660 chksum=0x36d5 urgptr=0 |>>>,\n",
       " <Ether  dst=00:00:01:00:00:00 src=fe:ff:20:00:01:00 type=0x800 |<IP  version=4L ihl=5L tos=0x0 len=1420 id=49323 flags=DF frag=0L ttl=47 proto=tcp chksum=0x2c25 src=65.208.228.223 dst=145.254.160.237 options=[] |<TCP  sport=http dport=tip2 seq=290234940 ack=951058419 dataofs=5L reserved=0L flags=A window=6432 chksum=0x396c urgptr=0 options=[] |<Raw  load='e.\\n</p>\\n<h4>Documentation</h4>\\n<p>\\n  A PDF version of the Ethereal User\\'s Guide is available in the\\n  <a href=\"../docs/#resources\">documentation</a> page.\\n</div>\\n<div class=\"block\">\\n  <h2 class=\"headerline\" id=\"legal\">Legal Notices</h2>\\n<p>\\nAIX is a registered trademark of International Business Machines, Inc.\\nTru64 is a registered trademark of Compaq Computer Corporation.\\nDebian is a registered trademark of Software In The Public Interest, Inc.\\nFreeBSD is a registered trademark of Walnut Creek CDROM, Inc.\\nHP-UX is a registered trademark of Hewlett-Packard Company.\\nIrix is a registered trademark of Silicon Graphics, Inc.\\nLinuxPPC is a trademark of Jeff Carr.\\nMac OS is a registered trademark of Apple Computer, Inc.\\nNetBSD is a registered trademark of the NetBSD Foundation.\\nRed Hat is a registered trademark of Red Hat, Inc.\\nLinux is a registered trademark of Linus Torvalds.\\nSCO and Unixware are registered trademarks of Santa Cruz Operation, Inc.\\nSlackware is a registered trademark of Patrick Volkerding.\\nSolaris is a registered trademark of Sun Microsystems, Inc.\\nSuSE is a registered trademark of SuSE AG.\\nMicrosoft, Windows, Windows 95, Windows 98, Windows ME, Windows NT,\\nWindows 2000, and Windows XP are registered trademarks of Microsoft,\\nInc.\\nAll other trademarks on this site are property of their respective owners.\\n</p>\\n</div>\\n<div class=\"footer\">\\n  Please s' |>>>>,\n",
       " <Ether  dst=fe:ff:20:00:01:00 src=00:00:01:00:00:00 type=0x800 |<IP  version=4L ihl=5L tos=0x0 len=40 id=3928 flags=DF frag=0L ttl=128 proto=tcp chksum=0x91dc src=145.254.160.237 dst=65.208.228.223 options=[] |<TCP  sport=tip2 dport=http seq=951058419 ack=290236320 dataofs=5L reserved=0L flags=A window=9660 chksum=0x3171 urgptr=0 |>>>,\n",
       " <Ether  dst=00:00:01:00:00:00 src=fe:ff:20:00:01:00 type=0x800 |<IP  version=4L ihl=5L tos=0x10 len=1470 id=36076 flags= frag=0L ttl=55 proto=tcp chksum=0xa9ff src=216.239.59.99 dst=145.254.160.237 options=[] |<TCP  sport=http dport=3371 seq=778785668 ack=918692089 dataofs=5L reserved=0L flags=PA window=31460 chksum=0xacd9 urgptr=0 options=[] |<Raw  load='HTTP/1.1 200 OK\\r\\nP3P: policyref=\"http://www.googleadservices.com/pagead/p3p.xml\", CP=\"NOI DEV PSA PSD IVA PVD OTP OUR OTR IND OTC\"\\r\\nContent-Type: text/html; charset=ISO-8859-1\\r\\nContent-Encoding: gzip\\r\\nServer: CAFE/1.0\\r\\nCache-control: private, x-gzip-ok=\"\"\\r\\nContent-length: 1272\\r\\nDate: Thu, 13 May 2004 10:17:14 GMT\\r\\n\\r\\n\\x1f\\x8b\\x08\\x00\\x00\\x00\\x00\\x00\\x02\\xff\\xcdW\\xebs\\xda8\\x10\\xff~\\x7f\\x85\\xcemI\\x98\\x06\\x1b\\x03y\\x82\\xb91y\\xd0\\xb4Mz\\xed\\xa57\\xbdO7\\xb2%\\xdb\\xba\\x08\\xcb\\x95d\\x08M\\xf3\\xbf\\xdf\\xca\\x18p d\\x92\\xde\\xcd\\xcd\\x99a\\xf4\\xd8\\xa7v\\xf7\\xb7\\xb2{\\x89\\x1e\\xf1~/\\xa1\\x98\\xf4{JO9\\xed\\xf7~n4~\\xb2\\xc3\\xe46\\xcc\\xa5\\x12\\xf2(\\x13,\\xd5Tv\\xcbe\\x82Sr\\x87mL\\x8e8K\\xaf\\xd1-\\n\\x05\\x87m\\xf4\\xa2Y<hF\\x1b3\\xc54%\\x9b\\xc8\\x89\\x18S\\xb9\\x89\\x88C\\xcd\\xc6\\xf4A\\xaa\\xa2X\\x86\\xc9\\xaa\\xe5\\xa8x*\\xf4u\\xebk,\\xab\\x1e\\xac1\\xacy\\xb1\\xe4\\xc0ZK\\x16\\xe4\\x9a\\x89t\\xb3+U\\xa6\\xc7\\xfc\\xa9\\xf2mv\\xaa\\xca\\xb5\\xd13\\x84\\x1c\\xa7\\xd1\\xe8\\xf7\\x9c2\\x91*\\x94,\\xd3\\xb3\\x84Fy\\x1a\\x1ai\\xa4\\xd4\\xf6d\\x87\\x91:\\xba\\x9d\\xb0\\x94\\x88\\x89\\xad4\\xd6\\xb9B\\x1e\\x9at%\\xd5\\xb9L\\x91\\x969\\xed\\xde-$B\\xb5]\\xbf\\xcf\\xecmmU\\xe9x\\x1b\\xd7o\\x91\\x16\\x99\\xcdE\\x88\\xcd\\x9e\\x9dH\\x1ayD\\x84\\xf9\\x88\\xa6\\xda\\x8e\\xa9>\\xe5\\xd4L\\x07\\xd3s\\x02\\xdc\\x05\\xbd\\xa2\"\\xc6\\xdbb\\x87\\x82O,B\\xdb\\x1b\\xc4\\x80\\x8a=a3b\\xab<P\\x10\\x8e4\\xdev\\xeb\\xdd\\x0c<\\xb7\\xac\\xae\\x9c\\r1\\x0c\\xd4\\xd6X\\x82l\\xd7(\\x8bAL\\xc3f\\x0c\\x82\\xdd\\xa8\\x98dX\\x82\\xcaKAh\\xc1\\x11\\x01\\x87Q\\x12\\x19\\x8e\\xa4\\x98\\xacp$u\\xa3=1\\xf4\\xbb;D\\xb9\\x82\\xe0\\'\\x85!%\\xc3\\xd2\\xc3Bw\\xb2\\xae{\\xa1Y/T\\x18\\x82\\xf6<\\x8c\\xbe\\x7fGY9J\\x18\\xeb\\xd5\\xf0?;\\x9aww\\xf3\\xe4\\x97Ywf\\xa0\\x0e\\x04\\x99\\xa2 >6\\xb5\\xe2Ye\\xadX\\x88\\xd3H_@\\x98X\\xeaYM\\xcb$\\xaf\\xb2\\x1a\\x15\\xd3\\t#:\\xa9\\xac\\x13\\xca\\xe2D\\x9b\\x8d~O\\xe3\\x80STrt\\xf6\\x0e,4\\xa7\\xee\\x01\\x7fH9W\\x19\\x0e!E\\x9e\\xe5\\xce\\xd6\\x19&\\xa4X\\x03=\\x10\\x92P9\\x9b\\xc6a\\xe9\\xd9\\x1e<\\xed\\xb6\\xd1-\\xe1O\\xd6l\\xec-m\\xec\\x1e\\xac\\xd8h\\xae\\xd8p7\\xd8(O?\\xb7a\\x10\\x04:\\xe0\\xd0-knhie\\xfd\\x98\\x9d\\n\\xf1q\\x07ZU\\x07\\x16\\xe6\\x10#\\x9e\\xa5\\xf1\\xc4ps\\xac\\x94g\\x85\\xc9\\xc2p\\xabu\\xb8T\\xdf\\x81\\x13`\\xcebp\\xcdd\\xcaB\\xe3r\\x05\\x89\\xb2\\x90H\\xcf\\xa0\\x18@\\x1c\\xc0\\xbc\\x15\\x0b\\xc8\\x1e\\x9aL\\x00\\x9cT\\x8e#!Cj\\x87b\\xe4l\\xedl\\x81\\xa5\\xad\\xbaa\\xbf\\x10\\xb9\\xa2\\x1f\\xc6\\xc6\\x9d\\xa7\\x89,drp\\xc64\\x00\\xa3\\xe5\\x98\\xb3\\xf0\\xda\\xb3\\x00\\xac:aj\\x87\\x8e\\xa1\\x04\\xebp\\xbaH\\xa4\\x1a\\x15=\\xc7\\xb3\\xcc\\xbc\\xa1\\xd87z\\xe4\\xba\\xd9M\\x17\\x15\\xeb\\x08\\x8f\\x18\\x9f\\x1e\\x81}\\x82S\\xbc\\x83%\\xc3|G\\xe1T5\\xc0>\\x8b\\xba\\xa0\\x03\\xcf#\\x82\\x89U\\x84\\xa9\\x88\\xd2\\x0c\\xc8\\x9e\\xf5gq\\xec\\x02\\x06\\x96\\x93\\xe1\\x18*\\xdb\\xc1$4\\xfe\\xfc\\xa2\\xb0\\xc7k\\x98y\\xfe[r\\x1d}UM\\xe1\\x9f\\x85\\xd70\\xc4\\xfe[\\xda\\xfa8<8\\xf9\\xf8\\xae\\xb1?8\\xd8\\x1fu\\xbe\\xfd\\xe1\\xfb\\xed\\x8e\\x1et\\xae\\xfc\\xe1Ut8\\xf0\\xfd\\xe6\\xf0\\xc3G\\xff\\xf8\\xd4\\xdf\\xfd\\xe4\\x03\\x89\\xb4I\\xfeyH\\xc4\\xef\\xa3\\x90\\x9f\\r\\x83\\xfc\\xa2\\x15\\xe8\\x81\\x7f\\xd9\\x8aOh\\xcb\\xff\\xf6%\\xb9|\\x03\\\\\\xb54\\x1fyn\\r\\x93\\\\r/\\xd1:;r\\x9c\\xf5H\\xbej\\x9f\\x81\\xb3T\\xbej\\x9f\\xc4B\\xc4\\x9c\\xba5\\xf0\\x16\\xe2\\xe5\\x85\\xb8\\x91\\xe5A\\xa3\\xd5n\\x1e\\xba\\xf0\\xeb\\x1c\\xec\\xed\\xb7\\xf7L\\xea\\xffIR\\xcb\\xce\\xf1\\xa3\\xb9\\x85.\\xd1\\xff\\r\\xb8\\xcf\\x0cw\\xcf\\t\\xa0y`\\xf8\\x9b\\xdc\\x01In\\xccp\\xf3\\xc9\\x19.\\xef\\xaa\\x17\\xed\\xe2\\xb1\\xfa\\'\\x940hnp\\'\\x1a\\xbbT*\\xd4@/\\xf7w\\x9d\\x91@5<\\xca\\xba(\\xcf\\x90{5@_ \\x86\\xe0/\\x9f\\xa2\\x97.\\xbc\\x02\\xcc}r\\x8a\\xfe\\xb0\\x04\\x94\\xfb\\xef\\x03\\xea=K\\xf3\\x1b\\xfb\\xfcJ\\x0b\\xc1\\x03qcbX\\x84\\xd0}\\x04Q\\x8f\\xca\\xfc\\x1f \\xe5>\\x13R\\x1f\\xde\\xfd\\x1a<\\x04\\xa9\\xdd\\xaf\\xf9\\xf4\\xecb\\x1c\\x8f\\xdasH\\xfdu\\x1fR\\xe7\\xcf\\x86T\\xeb>\\xa4x\\x11J\\xa6+\\xa1tb)\\xf2L\\x95\\x83\\x8dU\\x06(\\x1b\\x03\\xc2>\\x9d\\x9e\\xbc\\xf1\\xaf\\x1a\\xef\\x7f\\x04bOO\\xf3\\x1a\\xc6\\x9e\\x99m\\x03\\xb2OP\\xf0o\\xb0F\\'L\\x81\\x1f\\n\\xee\\xf6\\xff\\x04m\\xd0\\x8b(:m\\x8c0\\xe3h\\x80\\x95A]\\x9eeBj\\xb4\\xee\\x10\\x1a\\x9a\\xf0\\xde' |>>>>,\n",
       " <Ether  dst=fe:ff:20:00:01:00 src=00:00:01:00:00:00 type=0x800 |<IP  version=4L ihl=5L tos=0x0 len=40 id=3929 flags=DF frag=0L ttl=128 proto=tcp chksum=0xa438 src=145.254.160.237 dst=216.239.59.99 options=[] |<TCP  sport=3371 dport=http seq=918692089 ack=778787258 dataofs=5L reserved=0L flags=A window=8760 chksum=0x5902 urgptr=0 |>>>,\n",
       " <Ether  dst=00:00:01:00:00:00 src=fe:ff:20:00:01:00 type=0x800 |<IP  version=4L ihl=5L tos=0x0 len=464 id=49324 flags=DF frag=0L ttl=47 proto=tcp chksum=0x2fe0 src=65.208.228.223 dst=145.254.160.237 options=[] |<TCP  sport=http dport=tip2 seq=290236320 ack=951058419 dataofs=5L reserved=0L flags=PA window=6432 chksum=0x3d97 urgptr=0 options=[] |<Raw  load='end support questions about Ethereal to the\\n  <a href=\"mailto:ethereal-users[AT]ethereal.com\">ethereal-users[AT]ethereal.com</a>\\n    mailing list.<br>\\n  For corrections/additions/suggestions for this web page (and <b>not</b> Ethereal\\n  support questions), please send email to\\n  <a href=\"mailto:ethereal-web[AT]ethereal.com\">ethereal-web[AT]ethereal.com</a>\\n.<br>\\n  Last modified: Tue, April 20 2004.\\n</div>\\n</body>\\n</html>\\n' |>>>>,\n",
       " <Ether  dst=fe:ff:20:00:01:00 src=00:00:01:00:00:00 type=0x800 |<IP  version=4L ihl=5L tos=0x0 len=40 id=3932 flags=DF frag=0L ttl=128 proto=tcp chksum=0x91d8 src=145.254.160.237 dst=65.208.228.223 options=[] |<TCP  sport=tip2 dport=http seq=951058419 ack=290236744 dataofs=5L reserved=0L flags=A window=9236 chksum=0x3171 urgptr=0 |>>>,\n",
       " <Ether  dst=00:00:01:00:00:00 src=fe:ff:20:00:01:00 type=0x800 |<IP  version=4L ihl=5L tos=0x0 len=40 id=49325 flags=DF frag=0L ttl=47 proto=tcp chksum=0x3187 src=65.208.228.223 dst=145.254.160.237 options=[] |<TCP  sport=http dport=tip2 seq=290236744 ack=951058419 dataofs=5L reserved=0L flags=FA window=6432 chksum=0x3c64 urgptr=0 |>>>,\n",
       " <Ether  dst=fe:ff:20:00:01:00 src=00:00:01:00:00:00 type=0x800 |<IP  version=4L ihl=5L tos=0x0 len=40 id=3935 flags=DF frag=0L ttl=128 proto=tcp chksum=0x91d5 src=145.254.160.237 dst=65.208.228.223 options=[] |<TCP  sport=tip2 dport=http seq=951058419 ack=290236745 dataofs=5L reserved=0L flags=A window=9236 chksum=0x3170 urgptr=0 |>>>,\n",
       " <Ether  dst=fe:ff:20:00:01:00 src=00:00:01:00:00:00 type=0x800 |<IP  version=4L ihl=5L tos=0x0 len=40 id=3938 flags=DF frag=0L ttl=128 proto=tcp chksum=0x91d2 src=145.254.160.237 dst=65.208.228.223 options=[] |<TCP  sport=tip2 dport=http seq=951058419 ack=290236745 dataofs=5L reserved=0L flags=FA window=9236 chksum=0x316f urgptr=0 |>>>,\n",
       " <Ether  dst=00:00:01:00:00:00 src=fe:ff:20:00:01:00 type=0x800 |<IP  version=4L ihl=5L tos=0x0 len=40 id=0 flags=DF frag=0L ttl=47 proto=tcp chksum=0xf234 src=65.208.228.223 dst=145.254.160.237 options=[] |<TCP  sport=http dport=tip2 seq=290236745 ack=951058420 dataofs=5L reserved=0L flags=A window=6432 chksum=0x3c63 urgptr=0 |>>>]"
      ]
     },
     "execution_count": 65,
     "metadata": {},
     "output_type": "execute_result"
    }
   ],
   "source": [
    "pkts.res"
   ]
  },
  {
   "cell_type": "code",
   "execution_count": 66,
   "metadata": {
    "collapsed": false
   },
   "outputs": [
    {
     "data": {
      "text/plain": [
       "<Ether  dst=fe:ff:20:00:01:00 src=00:00:01:00:00:00 type=0x800 |<IP  version=4L ihl=5L tos=0x0 len=519 id=3909 flags=DF frag=0L ttl=128 proto=tcp chksum=0x9010 src=145.254.160.237 dst=65.208.228.223 options=[] |<TCP  sport=tip2 dport=http seq=951057940 ack=290218380 dataofs=5L reserved=0L flags=PA window=9660 chksum=0xa958 urgptr=0 options=[] |<Raw  load='GET /download.html HTTP/1.1\\r\\nHost: www.ethereal.com\\r\\nUser-Agent: Mozilla/5.0 (Windows; U; Windows NT 5.1; en-US; rv:1.6) Gecko/20040113\\r\\nAccept: text/xml,application/xml,application/xhtml+xml,text/html;q=0.9,text/plain;q=0.8,image/png,image/jpeg,image/gif;q=0.2,*/*;q=0.1\\r\\nAccept-Language: en-us,en;q=0.5\\r\\nAccept-Encoding: gzip,deflate\\r\\nAccept-Charset: ISO-8859-1,utf-8;q=0.7,*;q=0.7\\r\\nKeep-Alive: 300\\r\\nConnection: keep-alive\\r\\nReferer: http://www.ethereal.com/development.html\\r\\n\\r\\n' |>>>>"
      ]
     },
     "execution_count": 66,
     "metadata": {},
     "output_type": "execute_result"
    }
   ],
   "source": [
    "pkts.res[3]"
   ]
  },
  {
   "cell_type": "code",
   "execution_count": 67,
   "metadata": {
    "collapsed": false
   },
   "outputs": [
    {
     "name": "stdout",
     "output_type": "stream",
     "text": [
      "###[ Ethernet ]###\n",
      "  dst       = fe:ff:20:00:01:00\n",
      "  src       = 00:00:01:00:00:00\n",
      "  type      = 0x800\n",
      "###[ IP ]###\n",
      "     version   = 4L\n",
      "     ihl       = 5L\n",
      "     tos       = 0x0\n",
      "     len       = 519\n",
      "     id        = 3909\n",
      "     flags     = DF\n",
      "     frag      = 0L\n",
      "     ttl       = 128\n",
      "     proto     = tcp\n",
      "     chksum    = 0x9010\n",
      "     src       = 145.254.160.237\n",
      "     dst       = 65.208.228.223\n",
      "     \\options   \\\n",
      "###[ TCP ]###\n",
      "        sport     = tip2\n",
      "        dport     = http\n",
      "        seq       = 951057940\n",
      "        ack       = 290218380\n",
      "        dataofs   = 5L\n",
      "        reserved  = 0L\n",
      "        flags     = PA\n",
      "        window    = 9660\n",
      "        chksum    = 0xa958\n",
      "        urgptr    = 0\n",
      "        options   = []\n",
      "###[ Raw ]###\n",
      "           load      = 'GET /download.html HTTP/1.1\\r\\nHost: www.ethereal.com\\r\\nUser-Agent: Mozilla/5.0 (Windows; U; Windows NT 5.1; en-US; rv:1.6) Gecko/20040113\\r\\nAccept: text/xml,application/xml,application/xhtml+xml,text/html;q=0.9,text/plain;q=0.8,image/png,image/jpeg,image/gif;q=0.2,*/*;q=0.1\\r\\nAccept-Language: en-us,en;q=0.5\\r\\nAccept-Encoding: gzip,deflate\\r\\nAccept-Charset: ISO-8859-1,utf-8;q=0.7,*;q=0.7\\r\\nKeep-Alive: 300\\r\\nConnection: keep-alive\\r\\nReferer: http://www.ethereal.com/development.html\\r\\n\\r\\n'\n"
     ]
    }
   ],
   "source": [
    "pkts.res[3].show()"
   ]
  },
  {
   "cell_type": "code",
   "execution_count": 68,
   "metadata": {
    "collapsed": false
   },
   "outputs": [
    {
     "data": {
      "text/plain": [
       "<Raw  load='GET /download.html HTTP/1.1\\r\\nHost: www.ethereal.com\\r\\nUser-Agent: Mozilla/5.0 (Windows; U; Windows NT 5.1; en-US; rv:1.6) Gecko/20040113\\r\\nAccept: text/xml,application/xml,application/xhtml+xml,text/html;q=0.9,text/plain;q=0.8,image/png,image/jpeg,image/gif;q=0.2,*/*;q=0.1\\r\\nAccept-Language: en-us,en;q=0.5\\r\\nAccept-Encoding: gzip,deflate\\r\\nAccept-Charset: ISO-8859-1,utf-8;q=0.7,*;q=0.7\\r\\nKeep-Alive: 300\\r\\nConnection: keep-alive\\r\\nReferer: http://www.ethereal.com/development.html\\r\\n\\r\\n' |>"
      ]
     },
     "execution_count": 68,
     "metadata": {},
     "output_type": "execute_result"
    }
   ],
   "source": [
    "pkts.res[3].getlayer(Raw)"
   ]
  },
  {
   "cell_type": "code",
   "execution_count": 69,
   "metadata": {
    "collapsed": true
   },
   "outputs": [],
   "source": [
    "raw = pkts[3].getlayer(Raw)\n",
    "load = raw.fields.get('load')"
   ]
  },
  {
   "cell_type": "code",
   "execution_count": 70,
   "metadata": {
    "collapsed": false
   },
   "outputs": [
    {
     "name": "stdout",
     "output_type": "stream",
     "text": [
      "GET /download.html HTTP/1.1\r\n",
      "Host: www.ethereal.com\r\n",
      "User-Agent: Mozilla/5.0 (Windows; U; Windows NT 5.1; en-US; rv:1.6) Gecko/20040113\r\n",
      "Accept: text/xml,application/xml,application/xhtml+xml,text/html;q=0.9,text/plain;q=0.8,image/png,image/jpeg,image/gif;q=0.2,*/*;q=0.1\r\n",
      "Accept-Language: en-us,en;q=0.5\r\n",
      "Accept-Encoding: gzip,deflate\r\n",
      "Accept-Charset: ISO-8859-1,utf-8;q=0.7,*;q=0.7\r\n",
      "Keep-Alive: 300\r\n",
      "Connection: keep-alive\r\n",
      "Referer: http://www.ethereal.com/development.html\r\n",
      "\r\n",
      "\n"
     ]
    }
   ],
   "source": [
    "print load"
   ]
  },
  {
   "cell_type": "code",
   "execution_count": null,
   "metadata": {
    "collapsed": true
   },
   "outputs": [],
   "source": []
  }
 ],
 "metadata": {
  "kernelspec": {
   "display_name": "Python 2",
   "language": "python",
   "name": "python2"
  },
  "language_info": {
   "codemirror_mode": {
    "name": "ipython",
    "version": 2
   },
   "file_extension": ".py",
   "mimetype": "text/x-python",
   "name": "python",
   "nbconvert_exporter": "python",
   "pygments_lexer": "ipython2",
   "version": "2.7.8"
  }
 },
 "nbformat": 4,
 "nbformat_minor": 0
}
