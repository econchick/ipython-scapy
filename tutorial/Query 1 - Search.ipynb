{
 "cells": [
  {
   "cell_type": "markdown",
   "metadata": {},
   "source": [
    "# Show me \"everyone\" that has searched for $X term"
   ]
  },
  {
   "cell_type": "markdown",
   "metadata": {},
   "source": [
    "_Inspired by [page 13](http://www.theguardian.com/world/interactive/2013/jul/31/nsa-xkeyscore-program-full-presentation) of the XKeyscore presentation._"
   ]
  },
  {
   "cell_type": "markdown",
   "metadata": {},
   "source": [
    "Notes:\n",
    "\n",
    "* This uses a pre-generated pcap file of Yahoo! search traffic that I generated, **TODO** where will the `cap` file be? already on the system or do they have to request it?\n",
    "* Sniffing search traffic with Yahoo! or Google no longer works (as easily) now that every search is over HTTPS - but I wouldn't put it passed the NSA _at all_ to still be able to sniff HTTPS traffic <sup>[1](http://www.spiegel.de/international/germany/inside-the-nsa-s-war-on-internet-security-a-1010361.html)</sup>\n",
    "* While generating this traffic, I made a number of search queries that `scapy` captured."
   ]
  },
  {
   "cell_type": "markdown",
   "metadata": {},
   "source": [
    "## Tutorial Code"
   ]
  },
  {
   "cell_type": "markdown",
   "metadata": {},
   "source": [
    "First thing's first: import scapy"
   ]
  },
  {
   "cell_type": "code",
   "execution_count": null,
   "metadata": {
    "collapsed": false
   },
   "outputs": [],
   "source": [
    "from scapy.all import *"
   ]
  },
  {
   "cell_type": "markdown",
   "metadata": {},
   "source": [
    "Load the already sniffed `cap` file"
   ]
  },
  {
   "cell_type": "code",
   "execution_count": null,
   "metadata": {
    "collapsed": true
   },
   "outputs": [],
   "source": [
    "sniffed = \"data/yahoo_search.cap\"\n",
    "pkts = sniff(offline=sniffed)"
   ]
  },
  {
   "cell_type": "markdown",
   "metadata": {},
   "source": [
    "From printing `pkts` we can see there are 300 TCP packets sniffed:"
   ]
  },
  {
   "cell_type": "code",
   "execution_count": 106,
   "metadata": {
    "collapsed": false
   },
   "outputs": [
    {
     "data": {
      "text/plain": [
       "<Sniffed: TCP:300 UDP:0 ICMP:0 Other:0>"
      ]
     },
     "execution_count": 106,
     "metadata": {},
     "output_type": "execute_result"
    }
   ],
   "source": [
    "pkts"
   ]
  },
  {
   "cell_type": "markdown",
   "metadata": {},
   "source": [
    "We can visualize all the 300 packets nicely with the `nsummary` method.  Here, we see the packet number, the layers each packet touched (`Ether`, `IP`, `TCP`), the from & to IP address & port (`10.25.3.61:53261 > 74.6.239.58:http`, and the associated TCP flag(s) (e.g. `S` for SYN, `SA` for SYN-ACK, `A` for ACK, etc)."
   ]
  },
  {
   "cell_type": "code",
   "execution_count": 107,
   "metadata": {
    "collapsed": false
   },
   "outputs": [
    {
     "name": "stdout",
     "output_type": "stream",
     "text": [
      "0000 Ether / IP / TCP 10.25.3.61:53261 > 74.6.239.58:http S\n",
      "0001 Ether / IP / TCP 10.25.3.61:53262 > 74.6.239.58:http S\n",
      "0002 Ether / IP / TCP 10.25.3.61:53263 > 74.6.239.58:http S\n",
      "0003 Ether / IP / TCP 74.6.239.58:http > 10.25.3.61:53261 SA\n",
      "0004 Ether / IP / TCP 10.25.3.61:53261 > 74.6.239.58:http A\n",
      "0005 Ether / IP / TCP 74.6.239.58:http > 10.25.3.61:53263 SA\n",
      "0006 Ether / IP / TCP 10.25.3.61:53263 > 74.6.239.58:http A\n",
      "0007 Ether / IP / TCP 74.6.239.58:http > 10.25.3.61:53262 SA\n",
      "0008 Ether / IP / TCP 10.25.3.61:53262 > 74.6.239.58:http A\n",
      "0009 Ether / IP / TCP 10.25.3.61:53261 > 74.6.239.58:http PA / Raw\n",
      "0010 Ether / IP / TCP 74.6.239.58:http > 10.25.3.61:53261 A\n",
      "0011 Ether / IP / TCP 74.6.239.58:http > 10.25.3.61:53261 PA / Raw\n",
      "0012 Ether / IP / TCP 10.25.3.61:53261 > 74.6.239.58:http A\n",
      "0013 Ether / IP / TCP 10.25.3.61:53261 > 74.6.239.58:http PA / Raw\n",
      "0014 Ether / IP / TCP 74.6.239.58:http > 10.25.3.61:53261 A\n",
      "0015 Ether / IP / TCP 74.6.239.58:http > 10.25.3.61:53261 A / Raw / Padding\n",
      "0016 Ether / IP / TCP 74.6.239.58:http > 10.25.3.61:53261 A / Raw / Padding\n",
      "0017 Ether / IP / TCP 10.25.3.61:53261 > 74.6.239.58:http A\n",
      "0018 Ether / IP / TCP 74.6.239.58:http > 10.25.3.61:53261 A / Raw / Padding\n",
      "0019 Ether / IP / TCP 10.25.3.61:53261 > 74.6.239.58:http A\n",
      "0020 Ether / IP / TCP 74.6.239.58:http > 10.25.3.61:53261 A / Raw / Padding\n",
      "0021 Ether / IP / TCP 74.6.239.58:http > 10.25.3.61:53261 PA / Raw\n",
      "0022 Ether / IP / TCP 10.25.3.61:53261 > 74.6.239.58:http A\n",
      "0023 Ether / IP / TCP 74.6.239.58:http > 10.25.3.61:53261 A / Raw / Padding\n",
      "0024 Ether / IP / TCP 74.6.239.58:http > 10.25.3.61:53261 A / Raw / Padding\n",
      "0025 Ether / IP / TCP 10.25.3.61:53261 > 74.6.239.58:http A\n",
      "0026 Ether / IP / TCP 74.6.239.58:http > 10.25.3.61:53261 A / Raw / Padding\n",
      "0027 Ether / IP / TCP 10.25.3.61:53261 > 74.6.239.58:http A\n",
      "0028 Ether / IP / TCP 74.6.239.58:http > 10.25.3.61:53261 A / Raw / Padding\n",
      "0029 Ether / IP / TCP 74.6.239.58:http > 10.25.3.61:53261 A / Raw / Padding\n",
      "0030 Ether / IP / TCP 10.25.3.61:53261 > 74.6.239.58:http A\n",
      "0031 Ether / IP / TCP 74.6.239.58:http > 10.25.3.61:53261 A / Raw / Padding\n",
      "0032 Ether / IP / TCP 10.25.3.61:53261 > 74.6.239.58:http A\n",
      "0033 Ether / IP / TCP 74.6.239.58:http > 10.25.3.61:53261 A / Raw / Padding\n",
      "0034 Ether / IP / TCP 74.6.239.58:http > 10.25.3.61:53261 A / Raw / Padding\n",
      "0035 Ether / IP / TCP 10.25.3.61:53261 > 74.6.239.58:http A\n",
      "0036 Ether / IP / TCP 74.6.239.58:http > 10.25.3.61:53261 A / Raw / Padding\n",
      "0037 Ether / IP / TCP 10.25.3.61:53261 > 74.6.239.58:http A\n",
      "0038 Ether / IP / TCP 74.6.239.58:http > 10.25.3.61:53261 A / Raw / Padding\n",
      "0039 Ether / IP / TCP 74.6.239.58:http > 10.25.3.61:53261 A / Raw / Padding\n",
      "0040 Ether / IP / TCP 10.25.3.61:53261 > 74.6.239.58:http A\n",
      "0041 Ether / IP / TCP 74.6.239.58:http > 10.25.3.61:53261 A / Raw / Padding\n",
      "0042 Ether / IP / TCP 10.25.3.61:53261 > 74.6.239.58:http A\n",
      "0043 Ether / IP / TCP 74.6.239.58:http > 10.25.3.61:53261 A / Raw / Padding\n",
      "0044 Ether / IP / TCP 74.6.239.58:http > 10.25.3.61:53261 A / Raw / Padding\n",
      "0045 Ether / IP / TCP 74.6.239.58:http > 10.25.3.61:53261 A / Raw / Padding\n",
      "0046 Ether / IP / TCP 74.6.239.58:http > 10.25.3.61:53261 A / Raw / Padding\n",
      "0047 Ether / IP / TCP 74.6.239.58:http > 10.25.3.61:53261 A / Raw / Padding\n",
      "0048 Ether / IP / TCP 10.25.3.61:53261 > 74.6.239.58:http A\n",
      "0049 Ether / IP / TCP 10.25.3.61:53261 > 74.6.239.58:http A\n",
      "0050 Ether / IP / TCP 10.25.3.61:53261 > 74.6.239.58:http A\n",
      "0051 Ether / IP / TCP 74.6.239.58:http > 10.25.3.61:53261 A / Raw / Padding\n",
      "0052 Ether / IP / TCP 74.6.239.58:http > 10.25.3.61:53261 A / Raw / Padding\n",
      "0053 Ether / IP / TCP 10.25.3.61:53261 > 74.6.239.58:http A\n",
      "0054 Ether / IP / TCP 74.6.239.58:http > 10.25.3.61:53261 A / Raw / Padding\n",
      "0055 Ether / IP / TCP 10.25.3.61:53261 > 74.6.239.58:http A\n",
      "0056 Ether / IP / TCP 74.6.239.58:http > 10.25.3.61:53261 A / Raw / Padding\n",
      "0057 Ether / IP / TCP 74.6.239.58:http > 10.25.3.61:53261 A / Raw / Padding\n",
      "0058 Ether / IP / TCP 10.25.3.61:53261 > 74.6.239.58:http A\n",
      "0059 Ether / IP / TCP 74.6.239.58:http > 10.25.3.61:53261 A / Raw / Padding\n",
      "0060 Ether / IP / TCP 10.25.3.61:53261 > 74.6.239.58:http A\n",
      "0061 Ether / IP / TCP 74.6.239.58:http > 10.25.3.61:53261 A / Raw / Padding\n",
      "0062 Ether / IP / TCP 74.6.239.58:http > 10.25.3.61:53261 A / Raw / Padding\n",
      "0063 Ether / IP / TCP 10.25.3.61:53261 > 74.6.239.58:http A\n",
      "0064 Ether / IP / TCP 74.6.239.58:http > 10.25.3.61:53261 A / Raw / Padding\n",
      "0065 Ether / IP / TCP 10.25.3.61:53261 > 74.6.239.58:http A\n",
      "0066 Ether / IP / TCP 74.6.239.58:http > 10.25.3.61:53261 A / Raw / Padding\n",
      "0067 Ether / IP / TCP 74.6.239.58:http > 10.25.3.61:53261 PA / Raw\n",
      "0068 Ether / IP / TCP 10.25.3.61:53261 > 74.6.239.58:http A\n",
      "0069 Ether / IP / TCP 10.25.3.61:53263 > 74.6.239.58:http FA\n",
      "0070 Ether / IP / TCP 10.25.3.61:53262 > 74.6.239.58:http FA\n",
      "0071 Ether / IP / TCP 74.6.239.58:http > 10.25.3.61:53262 A\n",
      "0072 Ether / IP / TCP 74.6.239.58:http > 10.25.3.61:53262 FA\n",
      "0073 Ether / IP / TCP 74.6.239.58:http > 10.25.3.61:53263 A\n",
      "0074 Ether / IP / TCP 10.25.3.61:53262 > 74.6.239.58:http A\n",
      "0075 Ether / IP / TCP 10.25.3.61:53262 > 74.6.239.58:http A\n",
      "0076 Ether / IP / TCP 10.25.3.61:53263 > 74.6.239.58:http A\n",
      "0077 Ether / IP / TCP 74.6.239.58:http > 10.25.3.61:53263 FA\n",
      "0078 Ether / IP / TCP 10.25.3.61:53263 > 74.6.239.58:http A\n",
      "0079 Ether / IP / TCP 10.25.3.61:53261 > 74.6.239.58:http A / Raw\n",
      "0080 Ether / IP / TCP 10.25.3.61:53261 > 74.6.239.58:http PA / Raw\n",
      "0081 Ether / IP / TCP 74.6.239.58:http > 10.25.3.61:53261 A\n",
      "0082 Ether / IP / TCP 74.6.239.58:http > 10.25.3.61:53261 A\n",
      "0083 Ether / IP / TCP 74.6.239.58:http > 10.25.3.61:53261 A / Raw / Padding\n",
      "0084 Ether / IP / TCP 74.6.239.58:http > 10.25.3.61:53261 A / Raw / Padding\n",
      "0085 Ether / IP / TCP 10.25.3.61:53261 > 74.6.239.58:http A\n",
      "0086 Ether / IP / TCP 74.6.239.58:http > 10.25.3.61:53261 A / Raw / Padding\n",
      "0087 Ether / IP / TCP 10.25.3.61:53261 > 74.6.239.58:http A\n",
      "0088 Ether / IP / TCP 74.6.239.58:http > 10.25.3.61:53261 PA / Raw\n",
      "0089 Ether / IP / TCP 10.25.3.61:53261 > 74.6.239.58:http A\n",
      "0090 Ether / IP / TCP 74.6.239.58:http > 10.25.3.61:53261 A / Raw / Padding\n",
      "0091 Ether / IP / TCP 74.6.239.58:http > 10.25.3.61:53261 PA / Raw\n",
      "0092 Ether / IP / TCP 10.25.3.61:53261 > 74.6.239.58:http A\n",
      "0093 Ether / IP / TCP 74.6.239.58:http > 10.25.3.61:53261 A / Raw / Padding\n",
      "0094 Ether / IP / TCP 74.6.239.58:http > 10.25.3.61:53261 A / Raw / Padding\n",
      "0095 Ether / IP / TCP 10.25.3.61:53261 > 74.6.239.58:http A\n",
      "0096 Ether / IP / TCP 74.6.239.58:http > 10.25.3.61:53261 PA / Raw\n",
      "0097 Ether / IP / TCP 10.25.3.61:53261 > 74.6.239.58:http A\n",
      "0098 Ether / IP / TCP 74.6.239.58:http > 10.25.3.61:53261 A / Raw / Padding\n",
      "0099 Ether / IP / TCP 74.6.239.58:http > 10.25.3.61:53261 A / Raw / Padding\n",
      "0100 Ether / IP / TCP 10.25.3.61:53261 > 74.6.239.58:http A\n",
      "0101 Ether / IP / TCP 74.6.239.58:http > 10.25.3.61:53261 PA / Raw\n",
      "0102 Ether / IP / TCP 10.25.3.61:53261 > 74.6.239.58:http A\n",
      "0103 Ether / IP / TCP 74.6.239.58:http > 10.25.3.61:53261 A / Raw / Padding\n",
      "0104 Ether / IP / TCP 74.6.239.58:http > 10.25.3.61:53261 A / Raw / Padding\n",
      "0105 Ether / IP / TCP 10.25.3.61:53261 > 74.6.239.58:http A\n",
      "0106 Ether / IP / TCP 74.6.239.58:http > 10.25.3.61:53261 PA / Raw\n",
      "0107 Ether / IP / TCP 10.25.3.61:53261 > 74.6.239.58:http A\n",
      "0108 Ether / IP / TCP 74.6.239.58:http > 10.25.3.61:53261 A / Raw / Padding\n",
      "0109 Ether / IP / TCP 74.6.239.58:http > 10.25.3.61:53261 A / Raw / Padding\n",
      "0110 Ether / IP / TCP 10.25.3.61:53261 > 74.6.239.58:http A\n",
      "0111 Ether / IP / TCP 74.6.239.58:http > 10.25.3.61:53261 A / Raw / Padding\n",
      "0112 Ether / IP / TCP 10.25.3.61:53261 > 74.6.239.58:http A\n",
      "0113 Ether / IP / TCP 74.6.239.58:http > 10.25.3.61:53261 A / Raw / Padding\n",
      "0114 Ether / IP / TCP 74.6.239.58:http > 10.25.3.61:53261 PA / Raw\n",
      "0115 Ether / IP / TCP 10.25.3.61:53261 > 74.6.239.58:http A\n",
      "0116 Ether / IP / TCP 74.6.239.58:http > 10.25.3.61:53261 A / Raw / Padding\n",
      "0117 Ether / IP / TCP 74.6.239.58:http > 10.25.3.61:53261 A / Raw / Padding\n",
      "0118 Ether / IP / TCP 10.25.3.61:53261 > 74.6.239.58:http A\n",
      "0119 Ether / IP / TCP 74.6.239.58:http > 10.25.3.61:53261 A / Raw / Padding\n",
      "0120 Ether / IP / TCP 10.25.3.61:53261 > 74.6.239.58:http A\n",
      "0121 Ether / IP / TCP 74.6.239.58:http > 10.25.3.61:53261 A / Raw / Padding\n",
      "0122 Ether / IP / TCP 74.6.239.58:http > 10.25.3.61:53261 A / Raw / Padding\n",
      "0123 Ether / IP / TCP 10.25.3.61:53261 > 74.6.239.58:http A\n",
      "0124 Ether / IP / TCP 74.6.239.58:http > 10.25.3.61:53261 A / Raw / Padding\n",
      "0125 Ether / IP / TCP 10.25.3.61:53261 > 74.6.239.58:http A\n",
      "0126 Ether / IP / TCP 74.6.239.58:http > 10.25.3.61:53261 A / Raw / Padding\n",
      "0127 Ether / IP / TCP 74.6.239.58:http > 10.25.3.61:53261 A / Raw / Padding\n",
      "0128 Ether / IP / TCP 10.25.3.61:53261 > 74.6.239.58:http A\n",
      "0129 Ether / IP / TCP 74.6.239.58:http > 10.25.3.61:53261 A / Raw / Padding\n",
      "0130 Ether / IP / TCP 10.25.3.61:53261 > 74.6.239.58:http A\n",
      "0131 Ether / IP / TCP 74.6.239.58:http > 10.25.3.61:53261 A / Raw / Padding\n",
      "0132 Ether / IP / TCP 74.6.239.58:http > 10.25.3.61:53261 A / Raw / Padding\n",
      "0133 Ether / IP / TCP 10.25.3.61:53261 > 74.6.239.58:http A\n",
      "0134 Ether / IP / TCP 74.6.239.58:http > 10.25.3.61:53261 A / Raw / Padding\n",
      "0135 Ether / IP / TCP 10.25.3.61:53261 > 74.6.239.58:http A\n",
      "0136 Ether / IP / TCP 74.6.239.58:http > 10.25.3.61:53261 A / Raw / Padding\n",
      "0137 Ether / IP / TCP 74.6.239.58:http > 10.25.3.61:53261 A / Raw / Padding\n",
      "0138 Ether / IP / TCP 10.25.3.61:53261 > 74.6.239.58:http A\n",
      "0139 Ether / IP / TCP 74.6.239.58:http > 10.25.3.61:53261 A / Raw / Padding\n",
      "0140 Ether / IP / TCP 10.25.3.61:53261 > 74.6.239.58:http A\n",
      "0141 Ether / IP / TCP 74.6.239.58:http > 10.25.3.61:53261 A / Raw / Padding\n",
      "0142 Ether / IP / TCP 74.6.239.58:http > 10.25.3.61:53261 A / Raw / Padding\n",
      "0143 Ether / IP / TCP 10.25.3.61:53261 > 74.6.239.58:http A\n",
      "0144 Ether / IP / TCP 74.6.239.58:http > 10.25.3.61:53261 A / Raw / Padding\n",
      "0145 Ether / IP / TCP 10.25.3.61:53261 > 74.6.239.58:http A\n",
      "0146 Ether / IP / TCP 74.6.239.58:http > 10.25.3.61:53261 PA / Raw\n",
      "0147 Ether / IP / TCP 10.25.3.61:53261 > 74.6.239.58:http A\n",
      "0148 Ether / IP / TCP 10.25.3.61:53261 > 74.6.239.58:http A / Raw\n",
      "0149 Ether / IP / TCP 10.25.3.61:53261 > 74.6.239.58:http PA / Raw\n",
      "0150 Ether / IP / TCP 74.6.239.58:http > 10.25.3.61:53261 A\n",
      "0151 Ether / IP / TCP 74.6.239.58:http > 10.25.3.61:53261 A\n",
      "0152 Ether / IP / TCP 74.6.239.58:http > 10.25.3.61:53261 A / Raw / Padding\n",
      "0153 Ether / IP / TCP 74.6.239.58:http > 10.25.3.61:53261 A / Raw / Padding\n",
      "0154 Ether / IP / TCP 10.25.3.61:53261 > 74.6.239.58:http A\n",
      "0155 Ether / IP / TCP 74.6.239.58:http > 10.25.3.61:53261 A / Raw / Padding\n",
      "0156 Ether / IP / TCP 10.25.3.61:53261 > 74.6.239.58:http A\n",
      "0157 Ether / IP / TCP 74.6.239.58:http > 10.25.3.61:53261 PA / Raw\n",
      "0158 Ether / IP / TCP 10.25.3.61:53261 > 74.6.239.58:http A\n",
      "0159 Ether / IP / TCP 74.6.239.58:http > 10.25.3.61:53261 PA / Raw\n",
      "0160 Ether / IP / TCP 10.25.3.61:53261 > 74.6.239.58:http A\n",
      "0161 Ether / IP / TCP 74.6.239.58:http > 10.25.3.61:53261 A / Raw / Padding\n",
      "0162 Ether / IP / TCP 74.6.239.58:http > 10.25.3.61:53261 PA / Raw\n",
      "0163 Ether / IP / TCP 10.25.3.61:53261 > 74.6.239.58:http A\n",
      "0164 Ether / IP / TCP 74.6.239.58:http > 10.25.3.61:53261 A / Raw / Padding\n",
      "0165 Ether / IP / TCP 74.6.239.58:http > 10.25.3.61:53261 A / Raw / Padding\n",
      "0166 Ether / IP / TCP 10.25.3.61:53261 > 74.6.239.58:http A\n",
      "0167 Ether / IP / TCP 74.6.239.58:http > 10.25.3.61:53261 A / Raw / Padding\n",
      "0168 Ether / IP / TCP 74.6.239.58:http > 10.25.3.61:53261 PA / Raw\n",
      "0169 Ether / IP / TCP 10.25.3.61:53261 > 74.6.239.58:http A\n",
      "0170 Ether / IP / TCP 10.25.3.61:53261 > 74.6.239.58:http A\n",
      "0171 Ether / IP / TCP 74.6.239.58:http > 10.25.3.61:53261 A / Raw / Padding\n",
      "0172 Ether / IP / TCP 74.6.239.58:http > 10.25.3.61:53261 PA / Raw\n",
      "0173 Ether / IP / TCP 10.25.3.61:53261 > 74.6.239.58:http A\n",
      "0174 Ether / IP / TCP 74.6.239.58:http > 10.25.3.61:53261 A / Raw / Padding\n",
      "0175 Ether / IP / TCP 10.25.3.61:53261 > 74.6.239.58:http A\n",
      "0176 Ether / IP / TCP 74.6.239.58:http > 10.25.3.61:53261 A / Raw / Padding\n",
      "0177 Ether / IP / TCP 74.6.239.58:http > 10.25.3.61:53261 A / Raw / Padding\n",
      "0178 Ether / IP / TCP 10.25.3.61:53261 > 74.6.239.58:http A\n",
      "0179 Ether / IP / TCP 74.6.239.58:http > 10.25.3.61:53261 A / Raw / Padding\n",
      "0180 Ether / IP / TCP 74.6.239.58:http > 10.25.3.61:53261 PA / Raw\n",
      "0181 Ether / IP / TCP 10.25.3.61:53261 > 74.6.239.58:http A\n",
      "0182 Ether / IP / TCP 10.25.3.61:53261 > 74.6.239.58:http A\n",
      "0183 Ether / IP / TCP 74.6.239.58:http > 10.25.3.61:53261 A / Raw / Padding\n",
      "0184 Ether / IP / TCP 74.6.239.58:http > 10.25.3.61:53261 PA / Raw\n",
      "0185 Ether / IP / TCP 10.25.3.61:53261 > 74.6.239.58:http A\n",
      "0186 Ether / IP / TCP 74.6.239.58:http > 10.25.3.61:53261 A / Raw / Padding\n",
      "0187 Ether / IP / TCP 74.6.239.58:http > 10.25.3.61:53261 A / Raw / Padding\n",
      "0188 Ether / IP / TCP 74.6.239.58:http > 10.25.3.61:53261 A / Raw / Padding\n",
      "0189 Ether / IP / TCP 74.6.239.58:http > 10.25.3.61:53261 A / Raw / Padding\n",
      "0190 Ether / IP / TCP 74.6.239.58:http > 10.25.3.61:53261 A / Raw / Padding\n",
      "0191 Ether / IP / TCP 10.25.3.61:53261 > 74.6.239.58:http A\n",
      "0192 Ether / IP / TCP 10.25.3.61:53261 > 74.6.239.58:http A\n",
      "0193 Ether / IP / TCP 10.25.3.61:53261 > 74.6.239.58:http A\n",
      "0194 Ether / IP / TCP 10.25.3.61:53261 > 74.6.239.58:http A\n",
      "0195 Ether / IP / TCP 74.6.239.58:http > 10.25.3.61:53261 A / Raw / Padding\n",
      "0196 Ether / IP / TCP 74.6.239.58:http > 10.25.3.61:53261 A / Raw / Padding\n",
      "0197 Ether / IP / TCP 10.25.3.61:53261 > 74.6.239.58:http A\n",
      "0198 Ether / IP / TCP 74.6.239.58:http > 10.25.3.61:53261 A / Raw / Padding\n",
      "0199 Ether / IP / TCP 10.25.3.61:53261 > 74.6.239.58:http A\n",
      "0200 Ether / IP / TCP 74.6.239.58:http > 10.25.3.61:53261 A / Raw / Padding\n",
      "0201 Ether / IP / TCP 74.6.239.58:http > 10.25.3.61:53261 A / Raw / Padding\n",
      "0202 Ether / IP / TCP 10.25.3.61:53261 > 74.6.239.58:http A\n",
      "0203 Ether / IP / TCP 74.6.239.58:http > 10.25.3.61:53261 A / Raw / Padding\n",
      "0204 Ether / IP / TCP 10.25.3.61:53261 > 74.6.239.58:http A\n",
      "0205 Ether / IP / TCP 74.6.239.58:http > 10.25.3.61:53261 A / Raw / Padding\n",
      "0206 Ether / IP / TCP 74.6.239.58:http > 10.25.3.61:53261 A / Raw / Padding\n",
      "0207 Ether / IP / TCP 10.25.3.61:53261 > 74.6.239.58:http A\n",
      "0208 Ether / IP / TCP 74.6.239.58:http > 10.25.3.61:53261 A / Raw / Padding\n",
      "0209 Ether / IP / TCP 10.25.3.61:53261 > 74.6.239.58:http A\n",
      "0210 Ether / IP / TCP 74.6.239.58:http > 10.25.3.61:53261 A / Raw / Padding\n",
      "0211 Ether / IP / TCP 74.6.239.58:http > 10.25.3.61:53261 A / Raw / Padding\n",
      "0212 Ether / IP / TCP 10.25.3.61:53261 > 74.6.239.58:http A\n",
      "0213 Ether / IP / TCP 74.6.239.58:http > 10.25.3.61:53261 A / Raw / Padding\n",
      "0214 Ether / IP / TCP 10.25.3.61:53261 > 74.6.239.58:http A\n",
      "0215 Ether / IP / TCP 74.6.239.58:http > 10.25.3.61:53261 A / Raw / Padding\n",
      "0216 Ether / IP / TCP 74.6.239.58:http > 10.25.3.61:53261 A / Raw / Padding\n",
      "0217 Ether / IP / TCP 10.25.3.61:53261 > 74.6.239.58:http A\n",
      "0218 Ether / IP / TCP 74.6.239.58:http > 10.25.3.61:53261 A / Raw / Padding\n",
      "0219 Ether / IP / TCP 10.25.3.61:53261 > 74.6.239.58:http A\n",
      "0220 Ether / IP / TCP 74.6.239.58:http > 10.25.3.61:53261 A / Raw / Padding\n",
      "0221 Ether / IP / TCP 74.6.239.58:http > 10.25.3.61:53261 A / Raw / Padding\n",
      "0222 Ether / IP / TCP 74.6.239.58:http > 10.25.3.61:53261 A / Raw / Padding\n",
      "0223 Ether / IP / TCP 74.6.239.58:http > 10.25.3.61:53261 PA / Raw\n",
      "0224 Ether / IP / TCP 10.25.3.61:53261 > 74.6.239.58:http A\n",
      "0225 Ether / IP / TCP 10.25.3.61:53261 > 74.6.239.58:http A\n",
      "0226 Ether / IP / TCP 10.25.3.61:53261 > 74.6.239.58:http A\n",
      "0227 Ether / IP / TCP 10.25.3.61:53261 > 74.6.239.58:http A / Raw\n",
      "0228 Ether / IP / TCP 10.25.3.61:53261 > 74.6.239.58:http PA / Raw\n",
      "0229 Ether / IP / TCP 74.6.239.58:http > 10.25.3.61:53261 A\n",
      "0230 Ether / IP / TCP 74.6.239.58:http > 10.25.3.61:53261 A\n",
      "0231 Ether / IP / TCP 74.6.239.58:http > 10.25.3.61:53261 A / Raw / Padding\n",
      "0232 Ether / IP / TCP 74.6.239.58:http > 10.25.3.61:53261 A / Raw / Padding\n",
      "0233 Ether / IP / TCP 10.25.3.61:53261 > 74.6.239.58:http A\n",
      "0234 Ether / IP / TCP 74.6.239.58:http > 10.25.3.61:53261 A / Raw / Padding\n",
      "0235 Ether / IP / TCP 10.25.3.61:53261 > 74.6.239.58:http A\n",
      "0236 Ether / IP / TCP 74.6.239.58:http > 10.25.3.61:53261 PA / Raw\n",
      "0237 Ether / IP / TCP 10.25.3.61:53261 > 74.6.239.58:http A\n",
      "0238 Ether / IP / TCP 74.6.239.58:http > 10.25.3.61:53261 PA / Raw\n",
      "0239 Ether / IP / TCP 10.25.3.61:53261 > 74.6.239.58:http A\n",
      "0240 Ether / IP / TCP 74.6.239.58:http > 10.25.3.61:53261 A / Raw / Padding\n",
      "0241 Ether / IP / TCP 74.6.239.58:http > 10.25.3.61:53261 A / Raw / Padding\n",
      "0242 Ether / IP / TCP 10.25.3.61:53261 > 74.6.239.58:http A\n",
      "0243 Ether / IP / TCP 74.6.239.58:http > 10.25.3.61:53261 A / Raw / Padding\n",
      "0244 Ether / IP / TCP 10.25.3.61:53261 > 74.6.239.58:http A\n",
      "0245 Ether / IP / TCP 74.6.239.58:http > 10.25.3.61:53261 A / Raw / Padding\n",
      "0246 Ether / IP / TCP 74.6.239.58:http > 10.25.3.61:53261 A / Raw / Padding\n",
      "0247 Ether / IP / TCP 10.25.3.61:53261 > 74.6.239.58:http A\n",
      "0248 Ether / IP / TCP 74.6.239.58:http > 10.25.3.61:53261 PA / Raw\n",
      "0249 Ether / IP / TCP 10.25.3.61:53261 > 74.6.239.58:http A\n",
      "0250 Ether / IP / TCP 74.6.239.58:http > 10.25.3.61:53261 A / Raw / Padding\n",
      "0251 Ether / IP / TCP 74.6.239.58:http > 10.25.3.61:53261 PA / Raw\n",
      "0252 Ether / IP / TCP 10.25.3.61:53261 > 74.6.239.58:http A\n",
      "0253 Ether / IP / TCP 74.6.239.58:http > 10.25.3.61:53261 A / Raw / Padding\n",
      "0254 Ether / IP / TCP 74.6.239.58:http > 10.25.3.61:53261 A / Raw / Padding\n",
      "0255 Ether / IP / TCP 10.25.3.61:53261 > 74.6.239.58:http A\n",
      "0256 Ether / IP / TCP 74.6.239.58:http > 10.25.3.61:53261 A / Raw / Padding\n",
      "0257 Ether / IP / TCP 10.25.3.61:53261 > 74.6.239.58:http A\n",
      "0258 Ether / IP / TCP 74.6.239.58:http > 10.25.3.61:53261 A / Raw / Padding\n",
      "0259 Ether / IP / TCP 74.6.239.58:http > 10.25.3.61:53261 PA / Raw\n",
      "0260 Ether / IP / TCP 10.25.3.61:53261 > 74.6.239.58:http A\n",
      "0261 Ether / IP / TCP 74.6.239.58:http > 10.25.3.61:53261 A / Raw / Padding\n",
      "0262 Ether / IP / TCP 74.6.239.58:http > 10.25.3.61:53261 PA / Raw\n",
      "0263 Ether / IP / TCP 10.25.3.61:53261 > 74.6.239.58:http A\n",
      "0264 Ether / IP / TCP 74.6.239.58:http > 10.25.3.61:53261 A / Raw / Padding\n",
      "0265 Ether / IP / TCP 74.6.239.58:http > 10.25.3.61:53261 PA / Raw\n",
      "0266 Ether / IP / TCP 10.25.3.61:53261 > 74.6.239.58:http A\n",
      "0267 Ether / IP / TCP 74.6.239.58:http > 10.25.3.61:53261 A / Raw / Padding\n",
      "0268 Ether / IP / TCP 74.6.239.58:http > 10.25.3.61:53261 A / Raw / Padding\n",
      "0269 Ether / IP / TCP 10.25.3.61:53261 > 74.6.239.58:http A\n",
      "0270 Ether / IP / TCP 74.6.239.58:http > 10.25.3.61:53261 A / Raw / Padding\n",
      "0271 Ether / IP / TCP 10.25.3.61:53261 > 74.6.239.58:http A\n",
      "0272 Ether / IP / TCP 74.6.239.58:http > 10.25.3.61:53261 A / Raw / Padding\n",
      "0273 Ether / IP / TCP 74.6.239.58:http > 10.25.3.61:53261 A / Raw / Padding\n",
      "0274 Ether / IP / TCP 10.25.3.61:53261 > 74.6.239.58:http A\n",
      "0275 Ether / IP / TCP 74.6.239.58:http > 10.25.3.61:53261 A / Raw / Padding\n",
      "0276 Ether / IP / TCP 10.25.3.61:53261 > 74.6.239.58:http A\n",
      "0277 Ether / IP / TCP 74.6.239.58:http > 10.25.3.61:53261 A / Raw / Padding\n",
      "0278 Ether / IP / TCP 74.6.239.58:http > 10.25.3.61:53261 A / Raw / Padding\n",
      "0279 Ether / IP / TCP 10.25.3.61:53261 > 74.6.239.58:http A\n",
      "0280 Ether / IP / TCP 74.6.239.58:http > 10.25.3.61:53261 PA / Raw\n",
      "0281 Ether / IP / TCP 10.25.3.61:53261 > 74.6.239.58:http A\n",
      "0282 Ether / IP / TCP 74.6.239.58:http > 10.25.3.61:53261 A / Raw / Padding\n",
      "0283 Ether / IP / TCP 74.6.239.58:http > 10.25.3.61:53261 A / Raw / Padding\n",
      "0284 Ether / IP / TCP 10.25.3.61:53261 > 74.6.239.58:http A\n",
      "0285 Ether / IP / TCP 74.6.239.58:http > 10.25.3.61:53261 A / Raw / Padding\n",
      "0286 Ether / IP / TCP 10.25.3.61:53261 > 74.6.239.58:http A\n",
      "0287 Ether / IP / TCP 74.6.239.58:http > 10.25.3.61:53261 A / Raw / Padding\n",
      "0288 Ether / IP / TCP 74.6.239.58:http > 10.25.3.61:53261 A / Raw / Padding\n",
      "0289 Ether / IP / TCP 10.25.3.61:53261 > 74.6.239.58:http A\n",
      "0290 Ether / IP / TCP 74.6.239.58:http > 10.25.3.61:53261 A / Raw / Padding\n",
      "0291 Ether / IP / TCP 10.25.3.61:53261 > 74.6.239.58:http A\n",
      "0292 Ether / IP / TCP 74.6.239.58:http > 10.25.3.61:53261 A / Raw / Padding\n",
      "0293 Ether / IP / TCP 74.6.239.58:http > 10.25.3.61:53261 A / Raw / Padding\n",
      "0294 Ether / IP / TCP 10.25.3.61:53261 > 74.6.239.58:http A\n",
      "0295 Ether / IP / TCP 74.6.239.58:http > 10.25.3.61:53261 A / Raw / Padding\n",
      "0296 Ether / IP / TCP 10.25.3.61:53261 > 74.6.239.58:http A\n",
      "0297 Ether / IP / TCP 74.6.239.58:http > 10.25.3.61:53261 PA / Raw\n",
      "0298 Ether / IP / TCP 10.25.3.61:53261 > 74.6.239.58:http A\n",
      "0299 Ether / IP / TCP 10.25.3.61:53261 > 74.6.239.58:http A / Raw\n"
     ]
    }
   ],
   "source": [
    "pkts.nsummary()"
   ]
  },
  {
   "cell_type": "markdown",
   "metadata": {},
   "source": [
    "I went through this myself and picked out my own search queries. I didn't go through each and every one.  \n",
    "\n",
    "Looking at the `nsummary` print out helped a bit:\n",
    "\n",
    "* The first packets (about up to #7 or #8) was the [three-way handshake](http://en.wikipedia.org/wiki/Transmission_Control_Protocol#Connection_establishment) that my browser & Yahoo's servers were doing.\n",
    "* It looks like the browser actually sends out three initial requests (packets 0-2) from different ports (`53261`, `53262` and `53263`).  All of them are answered by Yahoo, but only one (looks like the one that was first answered) is maintained since around packets 69-78 the extra connections are closed.\n",
    "* Looking at the first packet that has a payload (`Raw`) - #9 - it's actually a request for a GIF file (initiated by JavaScript as `search.yahoo.com` was loading).  Packet #10 is TCP acknowledging the request, followed by packet #11  answering that request (and #12 was my computer sending an ACK back):"
   ]
  },
  {
   "cell_type": "code",
   "execution_count": 108,
   "metadata": {
    "collapsed": false
   },
   "outputs": [
    {
     "name": "stdout",
     "output_type": "stream",
     "text": [
      "GET /beacon/tpc.gif?1385107348163 HTTP/1.1\r\n",
      "Host: search.yahoo.com\r\n",
      "Connection: keep-alive\r\n",
      "Accept: image/webp,*/*;q=0.8\r\n",
      "User-Agent: Mozilla/5.0 (Macintosh; Intel Mac OS X 10_9_0) AppleWebKit/537.36 (KHTML, like Gecko) Chrome/31.0.1650.57 Safari/537.36\r\n",
      "Referer: http://www.yahoo.com/\r\n",
      "Accept-Encoding: gzip,deflate,sdch\r\n",
      "Accept-Language: en-US,en;q=0.8\r\n",
      "Cookie: B=fmelok594jgu2&b=4&d=9My3dg1pYEKiuRrxoAZSeDlKr2E-&s=8r&i=SJ7ecf8eDYjFgm.CEdnr; AO=o=0; YLS=v=1&p=1&n=1; F=a=I.qqZFgMvSp1SMQ7oNaJGIBu5DAJGO25SeRxXSKxg6_KZLWHQMHEkeFQrEOxAH9BOvMhwKs-&b=.hBp; Y=v=1&n=fr6nunkr11qks&l=he6k4bodd/o&p=f2m0000012000000&r=s2&lg=en-US&intl=us; PH=fn=y6c0g_45mcwg7KWXkw--&l=en-US&i=us; T=z=ON/aSBOhmfSB1lHkNiODnkPNjE3NAY2Tzc2MzM3NE80TjU1Tz&a=QAE&sk=DAAF.nnTb.zm2Z&ks=EAAYagoFcceuicuyKS3Hedvyw--~E&d=c2wBTVRZd013RXhPREF4TkRRd016Z3pPVEl5T0RFeE9BLS0BYQFRQUUBZwFLQlpRU1ZQUUU2M08ySzZZSFhLNUhJM0lTNAFzY2lkAVhVcFJteThneVhoaHBnQTFtUFNFWFpuNGhRby0BYWMBQUEubXY1WFkBdGlwAXl3RUk2QgFzYwF3bAF6egFPTi9hU0JBN0U-; RMBX=fmelok594jgu2&b=3&s=d3&t=272; ucs=bnas=0; ypcdb=ed5b0797a14f0ea18283ede3ea93b8da; HP=0; U=mt=NLhoXp2MhYjabR2j3EWFBE6cyG.VfVjaXaxIUeuQ&ux=S.wjSB&un=fr6nunkr11qks; DNR=1\r\n",
      "\r\n",
      "\n"
     ]
    }
   ],
   "source": [
    "print pkts[9].getlayer(Raw).fields.get(\"load\")"
   ]
  },
  {
   "cell_type": "code",
   "execution_count": 110,
   "metadata": {
    "collapsed": false
   },
   "outputs": [
    {
     "name": "stdout",
     "output_type": "stream",
     "text": [
      "HTTP/1.1 200 OK\r\n",
      "Date: Fri, 22 Nov 2013 08:01:09 GMT\r\n",
      "P3P: policyref=\"http://info.yahoo.com/w3c/p3p.xml\", CP=\"CAO DSP COR CUR ADM DEV TAI PSA PSD IVAi IVDi CONi TELo OTPi OUR DELi SAMi OTRi UNRi PUBi IND PHY ONL UNI PUR FIN COM NAV INT DEM CNT STA POL HEA PRE LOC GOV\"\r\n",
      "Cache-Control: public, max-age=3600\r\n",
      "Last-Modified: Thu, 21 Nov 2013 04:17:03 GMT\r\n",
      "Accept-Ranges: bytes\r\n",
      "Content-Length: 43\r\n",
      "Content-Type: image/gif\r\n",
      "Age: 78\r\n",
      "Connection: keep-alive\r\n",
      "Server: ATS/4.0.1\r\n",
      "\r\n",
      "GIF89a\u0001\u0000\u0001\u0000�\u0000\u0000���\u0000\u0000\u0000!�\u0004\u0001\u0000\u0000\u0000\u0000,\u0000\u0000\u0000\u0000\u0001\u0000\u0001\u0000\u0000\u0002\u0002D\u0001\u0000;\n"
     ]
    }
   ],
   "source": [
    "print pkts[11].getlayer(Raw).fields.get(\"load\")"
   ]
  },
  {
   "cell_type": "markdown",
   "metadata": {},
   "source": [
    "Cool! \n",
    "\n",
    "After the `ACK` of that packet is my first search query!  Let's take a look at the packet itself:"
   ]
  },
  {
   "cell_type": "code",
   "execution_count": 111,
   "metadata": {
    "collapsed": false
   },
   "outputs": [
    {
     "name": "stdout",
     "output_type": "stream",
     "text": [
      "###[ Ethernet ]###\n",
      "  dst       = 00:1d:70:df:2d:11\n",
      "  src       = 14:10:9f:e1:54:9b\n",
      "  type      = 0x800\n",
      "###[ IP ]###\n",
      "     version   = 4L\n",
      "     ihl       = 5L\n",
      "     tos       = 0x0\n",
      "     len       = 1326\n",
      "     id        = 46863\n",
      "     flags     = DF\n",
      "     frag      = 0L\n",
      "     ttl       = 64\n",
      "     proto     = tcp\n",
      "     chksum    = 0x3824\n",
      "     src       = 10.25.3.61\n",
      "     dst       = 74.6.239.58\n",
      "     \\options   \\\n",
      "###[ TCP ]###\n",
      "        sport     = 53261\n",
      "        dport     = http\n",
      "        seq       = 3423575952\n",
      "        ack       = 4075941136\n",
      "        dataofs   = 8L\n",
      "        reserved  = 0L\n",
      "        flags     = PA\n",
      "        window    = 8192\n",
      "        chksum    = 0xe264\n",
      "        urgptr    = 0\n",
      "        options   = [('NOP', None), ('NOP', None), ('Timestamp', (1222792299, 196988544))]\n",
      "###[ Raw ]###\n",
      "           load      = 'GET /search;_ylt=ApD.LW7jivmrlmZzNKxChqqbvZx4?p=Python&toggle=1&cop=mss&ei=UTF-8&fr=yfp-t-140 HTTP/1.1\\r\\nHost: search.yahoo.com\\r\\nConnection: keep-alive\\r\\nAccept: text/html,application/xhtml+xml,application/xml;q=0.9,image/webp,*/*;q=0.8\\r\\nUser-Agent: Mozilla/5.0 (Macintosh; Intel Mac OS X 10_9_0) AppleWebKit/537.36 (KHTML, like Gecko) Chrome/31.0.1650.57 Safari/537.36\\r\\nReferer: http://www.yahoo.com/\\r\\nAccept-Encoding: gzip,deflate,sdch\\r\\nAccept-Language: en-US,en;q=0.8\\r\\nCookie: B=fmelok594jgu2&b=4&d=9My3dg1pYEKiuRrxoAZSeDlKr2E-&s=8r&i=SJ7ecf8eDYjFgm.CEdnr; AO=o=0; YLS=v=1&p=1&n=1; F=a=I.qqZFgMvSp1SMQ7oNaJGIBu5DAJGO25SeRxXSKxg6_KZLWHQMHEkeFQrEOxAH9BOvMhwKs-&b=.hBp; Y=v=1&n=fr6nunkr11qks&l=he6k4bodd/o&p=f2m0000012000000&r=s2&lg=en-US&intl=us; PH=fn=y6c0g_45mcwg7KWXkw--&l=en-US&i=us; T=z=ON/aSBOhmfSB1lHkNiODnkPNjE3NAY2Tzc2MzM3NE80TjU1Tz&a=QAE&sk=DAAF.nnTb.zm2Z&ks=EAAYagoFcceuicuyKS3Hedvyw--~E&d=c2wBTVRZd013RXhPREF4TkRRd016Z3pPVEl5T0RFeE9BLS0BYQFRQUUBZwFLQlpRU1ZQUUU2M08ySzZZSFhLNUhJM0lTNAFzY2lkAVhVcFJteThneVhoaHBnQTFtUFNFWFpuNGhRby0BYWMBQUEubXY1WFkBdGlwAXl3RUk2QgFzYwF3bAF6egFPTi9hU0JBN0U-; RMBX=fmelok594jgu2&b=3&s=d3&t=272; ucs=bnas=0; ypcdb=ed5b0797a14f0ea18283ede3ea93b8da; HP=0; U=mt=NLhoXp2MhYjabR2j3EWFBE6cyG.VfVjaXaxIUeuQ&ux=S.wjSB&un=fr6nunkr11qks; DNR=1\\r\\n\\r\\n'\n"
     ]
    }
   ],
   "source": [
    "pkts[13].show()"
   ]
  },
  {
   "cell_type": "markdown",
   "metadata": {},
   "source": [
    "Ah that looks like an interesting `Raw` payload!  We can take a look at it again with it printed nicely:"
   ]
  },
  {
   "cell_type": "code",
   "execution_count": 112,
   "metadata": {
    "collapsed": false
   },
   "outputs": [
    {
     "name": "stdout",
     "output_type": "stream",
     "text": [
      "GET /search;_ylt=ApD.LW7jivmrlmZzNKxChqqbvZx4?p=Python&toggle=1&cop=mss&ei=UTF-8&fr=yfp-t-140 HTTP/1.1\r\n",
      "Host: search.yahoo.com\r\n",
      "Connection: keep-alive\r\n",
      "Accept: text/html,application/xhtml+xml,application/xml;q=0.9,image/webp,*/*;q=0.8\r\n",
      "User-Agent: Mozilla/5.0 (Macintosh; Intel Mac OS X 10_9_0) AppleWebKit/537.36 (KHTML, like Gecko) Chrome/31.0.1650.57 Safari/537.36\r\n",
      "Referer: http://www.yahoo.com/\r\n",
      "Accept-Encoding: gzip,deflate,sdch\r\n",
      "Accept-Language: en-US,en;q=0.8\r\n",
      "Cookie: B=fmelok594jgu2&b=4&d=9My3dg1pYEKiuRrxoAZSeDlKr2E-&s=8r&i=SJ7ecf8eDYjFgm.CEdnr; AO=o=0; YLS=v=1&p=1&n=1; F=a=I.qqZFgMvSp1SMQ7oNaJGIBu5DAJGO25SeRxXSKxg6_KZLWHQMHEkeFQrEOxAH9BOvMhwKs-&b=.hBp; Y=v=1&n=fr6nunkr11qks&l=he6k4bodd/o&p=f2m0000012000000&r=s2&lg=en-US&intl=us; PH=fn=y6c0g_45mcwg7KWXkw--&l=en-US&i=us; T=z=ON/aSBOhmfSB1lHkNiODnkPNjE3NAY2Tzc2MzM3NE80TjU1Tz&a=QAE&sk=DAAF.nnTb.zm2Z&ks=EAAYagoFcceuicuyKS3Hedvyw--~E&d=c2wBTVRZd013RXhPREF4TkRRd016Z3pPVEl5T0RFeE9BLS0BYQFRQUUBZwFLQlpRU1ZQUUU2M08ySzZZSFhLNUhJM0lTNAFzY2lkAVhVcFJteThneVhoaHBnQTFtUFNFWFpuNGhRby0BYWMBQUEubXY1WFkBdGlwAXl3RUk2QgFzYwF3bAF6egFPTi9hU0JBN0U-; RMBX=fmelok594jgu2&b=3&s=d3&t=272; ucs=bnas=0; ypcdb=ed5b0797a14f0ea18283ede3ea93b8da; HP=0; U=mt=NLhoXp2MhYjabR2j3EWFBE6cyG.VfVjaXaxIUeuQ&ux=S.wjSB&un=fr6nunkr11qks; DNR=1\r\n",
      "\r\n",
      "\n"
     ]
    }
   ],
   "source": [
    "print pkts[13].getlayer(Raw).fields.get(\"load\")"
   ]
  },
  {
   "cell_type": "markdown",
   "metadata": {},
   "source": [
    "Now - since while I was searching, I took note of how the search query was sent over the URL (query parameters).  We can also see the actual URL that was requested after I pressed \"Enter\" with my search query from the `GET` URL:"
   ]
  },
  {
   "cell_type": "markdown",
   "metadata": {},
   "source": [
    "```\n",
    "GET /search;_ylt=ApD.LW7jivmrlmZzNKxChqqbvZx4?p=Python&toggle=1&cop=mss&ei=UTF-8&fr=yfp-t-140\n",
    "```"
   ]
  },
  {
   "cell_type": "markdown",
   "metadata": {},
   "source": [
    "Taking a look towards the end of the string, we see `?p=`.  So the actual text after the `?p=` and before the first `&` is what we're looking for.  Doing some quick parsing:"
   ]
  },
  {
   "cell_type": "code",
   "execution_count": 113,
   "metadata": {
    "collapsed": false
   },
   "outputs": [
    {
     "name": "stdout",
     "output_type": "stream",
     "text": [
      "Python\n"
     ]
    }
   ],
   "source": [
    "raw_layer_13 = pkts[13].getlayer(Raw)\n",
    "first_query = raw_layer_13.fields.get(\"load\").split(\"?p=\")[1].split(\"&\")[0]\n",
    "print first_query"
   ]
  },
  {
   "cell_type": "markdown",
   "metadata": {},
   "source": [
    "Well, duh :) what else would I dummy-search for?!\n",
    "\n",
    "Let's look at some other packets.  Feel free to inspect packets beyond the listed below.  However, there were only a total of 4 search queries (if I remember correctly...) including the one that we just did."
   ]
  },
  {
   "cell_type": "code",
   "execution_count": 114,
   "metadata": {
    "collapsed": false,
    "scrolled": true
   },
   "outputs": [
    {
     "name": "stdout",
     "output_type": "stream",
     "text": [
      "###[ Ethernet ]###\n",
      "  dst       = 00:1d:70:df:2d:11\n",
      "  src       = 14:10:9f:e1:54:9b\n",
      "  type      = 0x800\n",
      "###[ IP ]###\n",
      "     version   = 4L\n",
      "     ihl       = 5L\n",
      "     tos       = 0x0\n",
      "     len       = 1420\n",
      "     id        = 51853\n",
      "     flags     = DF\n",
      "     frag      = 0L\n",
      "     ttl       = 64\n",
      "     proto     = tcp\n",
      "     chksum    = 0x2448\n",
      "     src       = 10.25.3.61\n",
      "     dst       = 74.6.239.58\n",
      "     \\options   \\\n",
      "###[ TCP ]###\n",
      "        sport     = 53261\n",
      "        dport     = http\n",
      "        seq       = 3423577226\n",
      "        ack       = 4075984347\n",
      "        dataofs   = 8L\n",
      "        reserved  = 0L\n",
      "        flags     = A\n",
      "        window    = 8192\n",
      "        chksum    = 0xe4ca\n",
      "        urgptr    = 0\n",
      "        options   = [('NOP', None), ('NOP', None), ('Timestamp', (1222799014, 196990643))]\n",
      "###[ Raw ]###\n",
      "           load      = 'GET /search;_ylt=A0oG7mGUD49SBxcA3WpXNyoA;_ylc=X1MDMjc2NjY3OQRfcgMyBGJjawNmbWVsb2s1OTRqZ3UyJTI2YiUzRDQlMjZkJTNEOU15M2RnMXBZRUtpdVJyeG9BWlNlRGxLcjJFLSUyNnMlM0Q4ciUyNmklM0RTSjdlY2Y4ZURZakZnbS5DRWRucgRjc3JjcHZpZANHcC5VRjBnZXVyRDdPcmloVWtuRHdnWUFYWjUwR1ZLUEQ1UUFCc3hpBGZyA3lmcC10LTE0MARmcjIDc2ItdG9wBGdwcmlkA2NlVHN4WXhzUWIuOW51aGNlWG9TTUEEbXRlc3RpZANBRDAxJTNEU01FMzQxJTI2QURTUlAlM0RBRFNSUEMxJTI2QVNTVCUzRFZJUDI4OSUyNk1TRlQlM0RNU1kwMTAlMjZVSTAxJTNEVUlDMSUyNlVOSSUzRFJDRjA0NARuX3JzbHQDMTAEbl9zdWdnAzgEb3JpZ2luA3NlYXJjaC55YWhvby5jb20EcG9zAzAEcHFzdHIDBHBxc3RybAMEcXN0cmwDNgRxdWVyeQNNYWRyaWQEdF9zdG1wAzEzODUxMDczNTU4MzEEdnRlc3RpZANVSUMx?p=Madrid&fr2=sb-top&fr=yfp-t-140 HTTP/1.1\\r\\nHost: search.yahoo.com\\r\\nConnection: keep-alive\\r\\nAccept: text/html,application/xhtml+xml,application/xml;q=0.9,image/webp,*/*;q=0.8\\r\\nUser-Agent: Mozilla/5.0 (Macintosh; Intel Mac OS X 10_9_0) AppleWebKit/537.36 (KHTML, like Gecko) Chrome/31.0.1650.57 Safari/537.36\\r\\nReferer: http://search.yahoo.com/search;_ylt=ApD.LW7jivmrlmZzNKxChqqbvZx4?p=Python&toggle=1&cop=mss&ei=UTF-8&fr=yfp-t-140\\r\\nAccept-Encoding: gzip,deflate,sdch\\r\\nAccept-Language: en-US,en;q=0.8\\r\\nCookie: B=fmelok594jgu2&b=4&d=9My3dg1pYEKiuRrxoAZSeDlKr2E-&s=8r&i=SJ7ecf8eDYjFgm.CEdnr; AO=o=0; YLS=v=1&p=1&n=1; F=a=I.qqZFgMvSp1SMQ7oNaJGIBu5DAJGO25SeRxXSKxg6_KZLWHQMHEkeFQrEOxAH9BOvMhwKs-&b=.hBp; Y=v=1&n=fr6nunkr11qks&l=he6k4bodd/o&p=f2m0'\n"
     ]
    }
   ],
   "source": [
    "pkts[79].show()"
   ]
  },
  {
   "cell_type": "code",
   "execution_count": 115,
   "metadata": {
    "collapsed": false
   },
   "outputs": [
    {
     "name": "stdout",
     "output_type": "stream",
     "text": [
      "GET /search;_ylt=A0oG7mGUD49SBxcA3WpXNyoA;_ylc=X1MDMjc2NjY3OQRfcgMyBGJjawNmbWVsb2s1OTRqZ3UyJTI2YiUzRDQlMjZkJTNEOU15M2RnMXBZRUtpdVJyeG9BWlNlRGxLcjJFLSUyNnMlM0Q4ciUyNmklM0RTSjdlY2Y4ZURZakZnbS5DRWRucgRjc3JjcHZpZANHcC5VRjBnZXVyRDdPcmloVWtuRHdnWUFYWjUwR1ZLUEQ1UUFCc3hpBGZyA3lmcC10LTE0MARmcjIDc2ItdG9wBGdwcmlkA2NlVHN4WXhzUWIuOW51aGNlWG9TTUEEbXRlc3RpZANBRDAxJTNEU01FMzQxJTI2QURTUlAlM0RBRFNSUEMxJTI2QVNTVCUzRFZJUDI4OSUyNk1TRlQlM0RNU1kwMTAlMjZVSTAxJTNEVUlDMSUyNlVOSSUzRFJDRjA0NARuX3JzbHQDMTAEbl9zdWdnAzgEb3JpZ2luA3NlYXJjaC55YWhvby5jb20EcG9zAzAEcHFzdHIDBHBxc3RybAMEcXN0cmwDNgRxdWVyeQNNYWRyaWQEdF9zdG1wAzEzODUxMDczNTU4MzEEdnRlc3RpZANVSUMx?p=Madrid&fr2=sb-top&fr=yfp-t-140 HTTP/1.1\r\n",
      "Host: search.yahoo.com\r\n",
      "Connection: keep-alive\r\n",
      "Accept: text/html,application/xhtml+xml,application/xml;q=0.9,image/webp,*/*;q=0.8\r\n",
      "User-Agent: Mozilla/5.0 (Macintosh; Intel Mac OS X 10_9_0) AppleWebKit/537.36 (KHTML, like Gecko) Chrome/31.0.1650.57 Safari/537.36\r\n",
      "Referer: http://search.yahoo.com/search;_ylt=ApD.LW7jivmrlmZzNKxChqqbvZx4?p=Python&toggle=1&cop=mss&ei=UTF-8&fr=yfp-t-140\r\n",
      "Accept-Encoding: gzip,deflate,sdch\r\n",
      "Accept-Language: en-US,en;q=0.8\r\n",
      "Cookie: B=fmelok594jgu2&b=4&d=9My3dg1pYEKiuRrxoAZSeDlKr2E-&s=8r&i=SJ7ecf8eDYjFgm.CEdnr; AO=o=0; YLS=v=1&p=1&n=1; F=a=I.qqZFgMvSp1SMQ7oNaJGIBu5DAJGO25SeRxXSKxg6_KZLWHQMHEkeFQrEOxAH9BOvMhwKs-&b=.hBp; Y=v=1&n=fr6nunkr11qks&l=he6k4bodd/o&p=f2m0\n"
     ]
    }
   ],
   "source": [
    "print pkts[79].getlayer(Raw).fields.get(\"load\")"
   ]
  },
  {
   "cell_type": "code",
   "execution_count": 116,
   "metadata": {
    "collapsed": false
   },
   "outputs": [
    {
     "name": "stdout",
     "output_type": "stream",
     "text": [
      "Madrid\n"
     ]
    }
   ],
   "source": [
    "raw_layer_79 = pkts[79].getlayer(Raw)\n",
    "first_query = raw_layer_79.fields.get(\"load\").split(\"?p=\")[1].split(\"&\")[0]\n",
    "print first_query"
   ]
  },
  {
   "cell_type": "code",
   "execution_count": 117,
   "metadata": {
    "collapsed": false
   },
   "outputs": [
    {
     "name": "stdout",
     "output_type": "stream",
     "text": [
      "###[ Ethernet ]###\n",
      "  dst       = 00:1d:70:df:2d:11\n",
      "  src       = 14:10:9f:e1:54:9b\n",
      "  type      = 0x800\n",
      "###[ IP ]###\n",
      "     version   = 4L\n",
      "     ihl       = 5L\n",
      "     tos       = 0x0\n",
      "     len       = 1420\n",
      "     id        = 53279\n",
      "     flags     = DF\n",
      "     frag      = 0L\n",
      "     ttl       = 64\n",
      "     proto     = tcp\n",
      "     chksum    = 0x1eb6\n",
      "     src       = 10.25.3.61\n",
      "     dst       = 74.6.239.58\n",
      "     \\options   \\\n",
      "###[ TCP ]###\n",
      "        sport     = 53261\n",
      "        dport     = http\n",
      "        seq       = 3423579272\n",
      "        ack       = 4076030170\n",
      "        dataofs   = 8L\n",
      "        reserved  = 0L\n",
      "        flags     = A\n",
      "        window    = 8192\n",
      "        chksum    = 0xc77f\n",
      "        urgptr    = 0\n",
      "        options   = [('NOP', None), ('NOP', None), ('Timestamp', (1222808453, 196997434))]\n",
      "###[ Raw ]###\n",
      "           load      = 'GET /search;_ylt=A0oG7mGbD49Sk08A791XNyoA;_ylc=X1MDMjc2NjY3OQRfcgMyBGJjawNmbWVsb2s1OTRqZ3UyJTI2YiUzRDQlMjZkJTNEOU15M2RnMXBZRUtpdVJyeG9BWlNlRGxLcjJFLSUyNnMlM0Q4ciUyNmklM0RTSjdlY2Y4ZURZakZnbS5DRWRucgRjc3JjcHZpZANSRGg3WmtnZXVyRDdPcmloVWtuRHdnTzlYWjUwR1ZLUEQ1c0FCQXNyBGZyA3lmcC10LTE0MARmcjIDc2ItdG9wBGdwcmlkA0w3SnkybzF6UUFpTFpHdjRzM3ZZbUEEbXRlc3RpZANBRDAxJTNEU01FMzQxJTI2QURTUlAlM0RBRFNSUEMxJTI2QVNTVCUzRFZJUDI4OSUyNk1TRlQlM0RNU1kwMTAlMjZVSTAxJTNEVUlDMSUyNlVOSSUzRFJDRjA0NARuX3JzbHQDMTAEbl9zdWdnAzgEb3JpZ2luA3NlYXJjaC55YWhvby5jb20EcG9zAzAEcHFzdHIDBHBxc3RybAMEcXN0cmwDMTYEcXVlcnkDSSBsb3ZlIGNob2NvbGF0ZQR0X3N0bXADMTM4NTEwNzM2NTQwMwR2dGVzdGlkA1VJQzE-?p=I+love+chocolate&fr2=sb-top&fr=yfp-t-140 HTTP/1.1\\r\\nHost: search.yahoo.com\\r\\nConnection: keep-alive\\r\\nAccept: text/html,application/xhtml+xml,application/xml;q=0.9,image/webp,*/*;q=0.8\\r\\nUser-Agent: Mozilla/5.0 (Macintosh; Intel Mac OS X 10_9_0) AppleWebKit/537.36 (KHTML, like Gecko) Chrome/31.0.1650.57 Safari/537.36\\r\\nReferer: http://search.yahoo.com/search;_ylt=A0oG7mGUD49SBxcA3WpXNyoA;_ylc=X1MDMjc2NjY3OQRfcgMyBGJjawNmbWVsb2s1OTRqZ3UyJTI2YiUzRDQlMjZkJTNEOU15M2RnMXBZRUtpdVJyeG9BWlNlRGxLcjJFLSUyNnMlM0Q4ciUyNmklM0RTSjdlY2Y4ZURZakZnbS5DRWRucgRjc3JjcHZpZANHcC5VRjBnZXVyRDdPcmloVWtuRHdnWUFYWjUwR1ZLUEQ1UUFCc3hpBGZyA3lmcC10LTE0MARmcjIDc2ItdG9wBGdwcmlkA2NlVHN4WXhzUWIuOW51aGNlWG9TTUEEbXRlc3RpZANBRDAxJTNEU01FMzQxJTI2QURTUlAlM0R'\n"
     ]
    }
   ],
   "source": [
    "pkts[148].show()"
   ]
  },
  {
   "cell_type": "code",
   "execution_count": 118,
   "metadata": {
    "collapsed": false
   },
   "outputs": [
    {
     "name": "stdout",
     "output_type": "stream",
     "text": [
      "GET /search;_ylt=A0oG7mGbD49Sk08A791XNyoA;_ylc=X1MDMjc2NjY3OQRfcgMyBGJjawNmbWVsb2s1OTRqZ3UyJTI2YiUzRDQlMjZkJTNEOU15M2RnMXBZRUtpdVJyeG9BWlNlRGxLcjJFLSUyNnMlM0Q4ciUyNmklM0RTSjdlY2Y4ZURZakZnbS5DRWRucgRjc3JjcHZpZANSRGg3WmtnZXVyRDdPcmloVWtuRHdnTzlYWjUwR1ZLUEQ1c0FCQXNyBGZyA3lmcC10LTE0MARmcjIDc2ItdG9wBGdwcmlkA0w3SnkybzF6UUFpTFpHdjRzM3ZZbUEEbXRlc3RpZANBRDAxJTNEU01FMzQxJTI2QURTUlAlM0RBRFNSUEMxJTI2QVNTVCUzRFZJUDI4OSUyNk1TRlQlM0RNU1kwMTAlMjZVSTAxJTNEVUlDMSUyNlVOSSUzRFJDRjA0NARuX3JzbHQDMTAEbl9zdWdnAzgEb3JpZ2luA3NlYXJjaC55YWhvby5jb20EcG9zAzAEcHFzdHIDBHBxc3RybAMEcXN0cmwDMTYEcXVlcnkDSSBsb3ZlIGNob2NvbGF0ZQR0X3N0bXADMTM4NTEwNzM2NTQwMwR2dGVzdGlkA1VJQzE-?p=I+love+chocolate&fr2=sb-top&fr=yfp-t-140 HTTP/1.1\r\n",
      "Host: search.yahoo.com\r\n",
      "Connection: keep-alive\r\n",
      "Accept: text/html,application/xhtml+xml,application/xml;q=0.9,image/webp,*/*;q=0.8\r\n",
      "User-Agent: Mozilla/5.0 (Macintosh; Intel Mac OS X 10_9_0) AppleWebKit/537.36 (KHTML, like Gecko) Chrome/31.0.1650.57 Safari/537.36\r\n",
      "Referer: http://search.yahoo.com/search;_ylt=A0oG7mGUD49SBxcA3WpXNyoA;_ylc=X1MDMjc2NjY3OQRfcgMyBGJjawNmbWVsb2s1OTRqZ3UyJTI2YiUzRDQlMjZkJTNEOU15M2RnMXBZRUtpdVJyeG9BWlNlRGxLcjJFLSUyNnMlM0Q4ciUyNmklM0RTSjdlY2Y4ZURZakZnbS5DRWRucgRjc3JjcHZpZANHcC5VRjBnZXVyRDdPcmloVWtuRHdnWUFYWjUwR1ZLUEQ1UUFCc3hpBGZyA3lmcC10LTE0MARmcjIDc2ItdG9wBGdwcmlkA2NlVHN4WXhzUWIuOW51aGNlWG9TTUEEbXRlc3RpZANBRDAxJTNEU01FMzQxJTI2QURTUlAlM0R\n"
     ]
    }
   ],
   "source": [
    "print pkts[148].getlayer(Raw).fields.get(\"load\")"
   ]
  },
  {
   "cell_type": "code",
   "execution_count": 119,
   "metadata": {
    "collapsed": false
   },
   "outputs": [
    {
     "name": "stdout",
     "output_type": "stream",
     "text": [
      "I+love+chocolate\n"
     ]
    }
   ],
   "source": [
    "raw_layer_148 = pkts[148].getlayer(Raw)\n",
    "second_query = raw_layer_148.fields.get(\"load\").split(\"?p=\")[1].split(\"&\")[0]\n",
    "print second_query"
   ]
  },
  {
   "cell_type": "code",
   "execution_count": 120,
   "metadata": {
    "collapsed": false
   },
   "outputs": [
    {
     "name": "stdout",
     "output_type": "stream",
     "text": [
      "###[ Ethernet ]###\n",
      "  dst       = 00:1d:70:df:2d:11\n",
      "  src       = 14:10:9f:e1:54:9b\n",
      "  type      = 0x800\n",
      "###[ IP ]###\n",
      "     version   = 4L\n",
      "     ihl       = 5L\n",
      "     tos       = 0x0\n",
      "     len       = 1420\n",
      "     id        = 41135\n",
      "     flags     = DF\n",
      "     frag      = 0L\n",
      "     ttl       = 64\n",
      "     proto     = tcp\n",
      "     chksum    = 0x4e26\n",
      "     src       = 10.25.3.61\n",
      "     dst       = 74.6.239.58\n",
      "     \\options   \\\n",
      "###[ TCP ]###\n",
      "        sport     = 53261\n",
      "        dport     = http\n",
      "        seq       = 3423581915\n",
      "        ack       = 4076082191\n",
      "        dataofs   = 8L\n",
      "        reserved  = 0L\n",
      "        flags     = A\n",
      "        window    = 8192\n",
      "        chksum    = 0xbedd\n",
      "        urgptr    = 0\n",
      "        options   = [('NOP', None), ('NOP', None), ('Timestamp', (1222823977, 197006887))]\n",
      "###[ Raw ]###\n",
      "           load      = 'GET /search;_ylt=A0oG7mGkD49SBxcAgG1XNyoA;_ylc=X1MDMjc2NjY3OQRfcgMyBGJjawNmbWVsb2s1OTRqZ3UyJTI2YiUzRDQlMjZkJTNEOU15M2RnMXBZRUtpdVJyeG9BWlNlRGxLcjJFLSUyNnMlM0Q4ciUyNmklM0RTSjdlY2Y4ZURZakZnbS5DRWRucgRjc3JjcHZpZANMNXJWdlVnZXVyRDdPcmloVWtuRHdnWVBYWjUwR1ZLUEQ2UUFET0k3BGZyA3lmcC10LTE0MARmcjIDc2ItdG9wBGdwcmlkA2RwX1hiWmQuUWFhUHJMeEkwX0RtT0EEbXRlc3RpZANBRDAxJTNEU01FMzQxJTI2QURTUlAlM0RBRFNSUEMxJTI2QVNTVCUzRFZJUDI4OSUyNk1TRlQlM0RNU1kwMTAlMjZVSTAxJTNEVUlDMSUyNlVOSSUzRFJDRjA0NARuX3JzbHQDMTAEbl9zdWdnAzgEb3JpZ2luA3NlYXJjaC55YWhvby5jb20EcG9zAzAEcHFzdHIDBHBxc3RybAMEcXN0cmwDMTcEcXVlcnkDQmx1ZSBCb3R0bGUgQ29mZmUEdF9zdG1wAzEzODUxMDczODExMjEEdnRlc3RpZANVSUMx?p=Blue+Bottle+Coffe&fr2=sb-top&fr=yfp-t-140 HTTP/1.1\\r\\nHost: search.yahoo.com\\r\\nConnection: keep-alive\\r\\nAccept: text/html,application/xhtml+xml,application/xml;q=0.9,image/webp,*/*;q=0.8\\r\\nUser-Agent: Mozilla/5.0 (Macintosh; Intel Mac OS X 10_9_0) AppleWebKit/537.36 (KHTML, like Gecko) Chrome/31.0.1650.57 Safari/537.36\\r\\nReferer: http://search.yahoo.com/search;_ylt=A0oG7mGbD49Sk08A791XNyoA;_ylc=X1MDMjc2NjY3OQRfcgMyBGJjawNmbWVsb2s1OTRqZ3UyJTI2YiUzRDQlMjZkJTNEOU15M2RnMXBZRUtpdVJyeG9BWlNlRGxLcjJFLSUyNnMlM0Q4ciUyNmklM0RTSjdlY2Y4ZURZakZnbS5DRWRucgRjc3JjcHZpZANSRGg3WmtnZXVyRDdPcmloVWtuRHdnTzlYWjUwR1ZLUEQ1c0FCQXNyBGZyA3lmcC10LTE0MARmcjIDc2ItdG9wBGdwcmlkA0w3SnkybzF6UUFpTFpHdjRzM3ZZbUEEbXRlc3RpZANBRDAxJTNEU01FMzQxJTI2QURTUlAlM0'\n"
     ]
    }
   ],
   "source": [
    "pkts[227].show()"
   ]
  },
  {
   "cell_type": "code",
   "execution_count": 121,
   "metadata": {
    "collapsed": false
   },
   "outputs": [
    {
     "name": "stdout",
     "output_type": "stream",
     "text": [
      "GET /search;_ylt=A0oG7mGkD49SBxcAgG1XNyoA;_ylc=X1MDMjc2NjY3OQRfcgMyBGJjawNmbWVsb2s1OTRqZ3UyJTI2YiUzRDQlMjZkJTNEOU15M2RnMXBZRUtpdVJyeG9BWlNlRGxLcjJFLSUyNnMlM0Q4ciUyNmklM0RTSjdlY2Y4ZURZakZnbS5DRWRucgRjc3JjcHZpZANMNXJWdlVnZXVyRDdPcmloVWtuRHdnWVBYWjUwR1ZLUEQ2UUFET0k3BGZyA3lmcC10LTE0MARmcjIDc2ItdG9wBGdwcmlkA2RwX1hiWmQuUWFhUHJMeEkwX0RtT0EEbXRlc3RpZANBRDAxJTNEU01FMzQxJTI2QURTUlAlM0RBRFNSUEMxJTI2QVNTVCUzRFZJUDI4OSUyNk1TRlQlM0RNU1kwMTAlMjZVSTAxJTNEVUlDMSUyNlVOSSUzRFJDRjA0NARuX3JzbHQDMTAEbl9zdWdnAzgEb3JpZ2luA3NlYXJjaC55YWhvby5jb20EcG9zAzAEcHFzdHIDBHBxc3RybAMEcXN0cmwDMTcEcXVlcnkDQmx1ZSBCb3R0bGUgQ29mZmUEdF9zdG1wAzEzODUxMDczODExMjEEdnRlc3RpZANVSUMx?p=Blue+Bottle+Coffe&fr2=sb-top&fr=yfp-t-140 HTTP/1.1\r\n",
      "Host: search.yahoo.com\r\n",
      "Connection: keep-alive\r\n",
      "Accept: text/html,application/xhtml+xml,application/xml;q=0.9,image/webp,*/*;q=0.8\r\n",
      "User-Agent: Mozilla/5.0 (Macintosh; Intel Mac OS X 10_9_0) AppleWebKit/537.36 (KHTML, like Gecko) Chrome/31.0.1650.57 Safari/537.36\r\n",
      "Referer: http://search.yahoo.com/search;_ylt=A0oG7mGbD49Sk08A791XNyoA;_ylc=X1MDMjc2NjY3OQRfcgMyBGJjawNmbWVsb2s1OTRqZ3UyJTI2YiUzRDQlMjZkJTNEOU15M2RnMXBZRUtpdVJyeG9BWlNlRGxLcjJFLSUyNnMlM0Q4ciUyNmklM0RTSjdlY2Y4ZURZakZnbS5DRWRucgRjc3JjcHZpZANSRGg3WmtnZXVyRDdPcmloVWtuRHdnTzlYWjUwR1ZLUEQ1c0FCQXNyBGZyA3lmcC10LTE0MARmcjIDc2ItdG9wBGdwcmlkA0w3SnkybzF6UUFpTFpHdjRzM3ZZbUEEbXRlc3RpZANBRDAxJTNEU01FMzQxJTI2QURTUlAlM0\n"
     ]
    }
   ],
   "source": [
    "print pkts[227].getlayer(Raw).fields.get(\"load\")"
   ]
  },
  {
   "cell_type": "code",
   "execution_count": 122,
   "metadata": {
    "collapsed": false
   },
   "outputs": [
    {
     "name": "stdout",
     "output_type": "stream",
     "text": [
      "Blue+Bottle+Coffe\n"
     ]
    }
   ],
   "source": [
    "raw_layer_227 = pkts[227].getlayer(Raw)\n",
    "third_query = raw_layer_227.fields.get(\"load\").split(\"?p=\")[1].split(\"&\")[0]\n",
    "print third_query"
   ]
  },
  {
   "cell_type": "code",
   "execution_count": null,
   "metadata": {
    "collapsed": true
   },
   "outputs": [],
   "source": []
  }
 ],
 "metadata": {
  "kernelspec": {
   "display_name": "Python 2",
   "language": "python",
   "name": "python2"
  },
  "language_info": {
   "codemirror_mode": {
    "name": "ipython",
    "version": 2
   },
   "file_extension": ".py",
   "mimetype": "text/x-python",
   "name": "python",
   "nbconvert_exporter": "python",
   "pygments_lexer": "ipython2",
   "version": "2.7.8"
  }
 },
 "nbformat": 4,
 "nbformat_minor": 0
}
