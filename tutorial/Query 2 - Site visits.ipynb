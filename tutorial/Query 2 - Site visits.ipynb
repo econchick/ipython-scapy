{
 "cells": [
  {
   "cell_type": "markdown",
   "metadata": {},
   "source": [
    "# Show me everyone from \\$X country that has visited \\$Y extremist forum"
   ]
  },
  {
   "cell_type": "markdown",
   "metadata": {},
   "source": [
    "_Inspired by The Guardian's release of the [XKeyscore presentation](http://www.theguardian.com/world/interactive/2013/jul/31/nsa-xkeyscore-program-full-presentation)._"
   ]
  },
  {
   "cell_type": "markdown",
   "metadata": {},
   "source": [
    "## Tutorial Code"
   ]
  },
  {
   "cell_type": "markdown",
   "metadata": {},
   "source": [
    "Let's re-import scapy"
   ]
  },
  {
   "cell_type": "code",
   "execution_count": 1,
   "metadata": {
    "collapsed": false
   },
   "outputs": [],
   "source": [
    "import logging\n",
    "logging.getLogger(\"scapy.runtime\").setLevel(logging.ERROR)\n",
    "from scapy.all import *"
   ]
  },
  {
   "cell_type": "markdown",
   "metadata": {},
   "source": [
    "And load the pre-sniffed HTTP traffic that I grabbed from [Wireshark's Samples](http://wiki.wireshark.org/SampleCaptures):"
   ]
  },
  {
   "cell_type": "code",
   "execution_count": 3,
   "metadata": {
    "collapsed": false
   },
   "outputs": [],
   "source": [
    "sniffed = \"../data/http.cap\"\n",
    "pkts = sniff(offline=sniffed)"
   ]
  },
  {
   "cell_type": "markdown",
   "metadata": {},
   "source": [
    "We can see that we have 41 TCP datagrams (aka packets) and 2 UDP datagrams:"
   ]
  },
  {
   "cell_type": "code",
   "execution_count": 4,
   "metadata": {
    "collapsed": false
   },
   "outputs": [
    {
     "data": {
      "text/plain": [
       "<Sniffed: TCP:41 UDP:2 ICMP:0 Other:0>"
      ]
     },
     "execution_count": 4,
     "metadata": {},
     "output_type": "execute_result"
    }
   ],
   "source": [
    "pkts"
   ]
  },
  {
   "cell_type": "markdown",
   "metadata": {},
   "source": [
    "Let's see that nice summary like last time using `nsummary`:"
   ]
  },
  {
   "cell_type": "code",
   "execution_count": 5,
   "metadata": {
    "collapsed": false,
    "scrolled": true
   },
   "outputs": [
    {
     "name": "stdout",
     "output_type": "stream",
     "text": [
      "0000 Ether / IP / TCP 145.254.160.237:tip2 > 65.208.228.223:http S\n",
      "0001 Ether / IP / TCP 65.208.228.223:http > 145.254.160.237:tip2 SA\n",
      "0002 Ether / IP / TCP 145.254.160.237:tip2 > 65.208.228.223:http A\n",
      "0003 Ether / IP / TCP 145.254.160.237:tip2 > 65.208.228.223:http PA / Raw\n",
      "0004 Ether / IP / TCP 65.208.228.223:http > 145.254.160.237:tip2 A\n",
      "0005 Ether / IP / TCP 65.208.228.223:http > 145.254.160.237:tip2 A / Raw\n",
      "0006 Ether / IP / TCP 145.254.160.237:tip2 > 65.208.228.223:http A\n",
      "0007 Ether / IP / TCP 65.208.228.223:http > 145.254.160.237:tip2 A / Raw\n",
      "0008 Ether / IP / TCP 145.254.160.237:tip2 > 65.208.228.223:http A\n",
      "0009 Ether / IP / TCP 65.208.228.223:http > 145.254.160.237:tip2 A / Raw\n",
      "0010 Ether / IP / TCP 65.208.228.223:http > 145.254.160.237:tip2 PA / Raw\n",
      "0011 Ether / IP / TCP 145.254.160.237:tip2 > 65.208.228.223:http A\n",
      "0012 Ether / IP / UDP / DNS Qry \"pagead2.googlesyndication.com.\" \n",
      "0013 Ether / IP / TCP 65.208.228.223:http > 145.254.160.237:tip2 A / Raw\n",
      "0014 Ether / IP / TCP 145.254.160.237:tip2 > 65.208.228.223:http A\n",
      "0015 Ether / IP / TCP 65.208.228.223:http > 145.254.160.237:tip2 A / Raw\n",
      "0016 Ether / IP / UDP / DNS Ans \"pagead2.google.com.\" \n",
      "0017 Ether / IP / TCP 145.254.160.237:3371 > 216.239.59.99:http PA / Raw\n",
      "0018 Ether / IP / TCP 145.254.160.237:tip2 > 65.208.228.223:http A\n",
      "0019 Ether / IP / TCP 65.208.228.223:http > 145.254.160.237:tip2 A / Raw\n",
      "0020 Ether / IP / TCP 65.208.228.223:http > 145.254.160.237:tip2 PA / Raw\n",
      "0021 Ether / IP / TCP 145.254.160.237:tip2 > 65.208.228.223:http A\n",
      "0022 Ether / IP / TCP 65.208.228.223:http > 145.254.160.237:tip2 A / Raw\n",
      "0023 Ether / IP / TCP 216.239.59.99:http > 145.254.160.237:3371 A\n",
      "0024 Ether / IP / TCP 145.254.160.237:tip2 > 65.208.228.223:http A\n",
      "0025 Ether / IP / TCP 216.239.59.99:http > 145.254.160.237:3371 PA / Raw\n",
      "0026 Ether / IP / TCP 216.239.59.99:http > 145.254.160.237:3371 PA / Raw\n",
      "0027 Ether / IP / TCP 145.254.160.237:3371 > 216.239.59.99:http A\n",
      "0028 Ether / IP / TCP 65.208.228.223:http > 145.254.160.237:tip2 PA / Raw\n",
      "0029 Ether / IP / TCP 145.254.160.237:tip2 > 65.208.228.223:http A\n",
      "0030 Ether / IP / TCP 65.208.228.223:http > 145.254.160.237:tip2 A / Raw\n",
      "0031 Ether / IP / TCP 65.208.228.223:http > 145.254.160.237:tip2 A / Raw\n",
      "0032 Ether / IP / TCP 145.254.160.237:tip2 > 65.208.228.223:http A\n",
      "0033 Ether / IP / TCP 65.208.228.223:http > 145.254.160.237:tip2 A / Raw\n",
      "0034 Ether / IP / TCP 145.254.160.237:tip2 > 65.208.228.223:http A\n",
      "0035 Ether / IP / TCP 216.239.59.99:http > 145.254.160.237:3371 PA / Raw\n",
      "0036 Ether / IP / TCP 145.254.160.237:3371 > 216.239.59.99:http A\n",
      "0037 Ether / IP / TCP 65.208.228.223:http > 145.254.160.237:tip2 PA / Raw\n",
      "0038 Ether / IP / TCP 145.254.160.237:tip2 > 65.208.228.223:http A\n",
      "0039 Ether / IP / TCP 65.208.228.223:http > 145.254.160.237:tip2 FA\n",
      "0040 Ether / IP / TCP 145.254.160.237:tip2 > 65.208.228.223:http A\n",
      "0041 Ether / IP / TCP 145.254.160.237:tip2 > 65.208.228.223:http FA\n",
      "0042 Ether / IP / TCP 65.208.228.223:http > 145.254.160.237:tip2 A\n"
     ]
    }
   ],
   "source": [
    "pkts.nsummary()"
   ]
  },
  {
   "cell_type": "markdown",
   "metadata": {},
   "source": [
    "And let's pick off the third packet:"
   ]
  },
  {
   "cell_type": "code",
   "execution_count": 6,
   "metadata": {
    "collapsed": false,
    "scrolled": true
   },
   "outputs": [
    {
     "name": "stdout",
     "output_type": "stream",
     "text": [
      "###[ Ethernet ]###\n",
      "  dst       = fe:ff:20:00:01:00\n",
      "  src       = 00:00:01:00:00:00\n",
      "  type      = 0x800\n",
      "###[ IP ]###\n",
      "     version   = 4L\n",
      "     ihl       = 5L\n",
      "     tos       = 0x0\n",
      "     len       = 519\n",
      "     id        = 3909\n",
      "     flags     = DF\n",
      "     frag      = 0L\n",
      "     ttl       = 128\n",
      "     proto     = tcp\n",
      "     chksum    = 0x9010\n",
      "     src       = 145.254.160.237\n",
      "     dst       = 65.208.228.223\n",
      "     \\options   \\\n",
      "###[ TCP ]###\n",
      "        sport     = tip2\n",
      "        dport     = http\n",
      "        seq       = 951057940\n",
      "        ack       = 290218380\n",
      "        dataofs   = 5L\n",
      "        reserved  = 0L\n",
      "        flags     = PA\n",
      "        window    = 9660\n",
      "        chksum    = 0xa958\n",
      "        urgptr    = 0\n",
      "        options   = []\n",
      "###[ Raw ]###\n",
      "           load      = 'GET /download.html HTTP/1.1\\r\\nHost: www.ethereal.com\\r\\nUser-Agent: Mozilla/5.0 (Windows; U; Windows NT 5.1; en-US; rv:1.6) Gecko/20040113\\r\\nAccept: text/xml,application/xml,application/xhtml+xml,text/html;q=0.9,text/plain;q=0.8,image/png,image/jpeg,image/gif;q=0.2,*/*;q=0.1\\r\\nAccept-Language: en-us,en;q=0.5\\r\\nAccept-Encoding: gzip,deflate\\r\\nAccept-Charset: ISO-8859-1,utf-8;q=0.7,*;q=0.7\\r\\nKeep-Alive: 300\\r\\nConnection: keep-alive\\r\\nReferer: http://www.ethereal.com/development.html\\r\\n\\r\\n'\n"
     ]
    }
   ],
   "source": [
    "pkts[3].show()"
   ]
  },
  {
   "cell_type": "markdown",
   "metadata": {},
   "source": [
    "and parse out the actual payload of it:"
   ]
  },
  {
   "cell_type": "code",
   "execution_count": 7,
   "metadata": {
    "collapsed": false
   },
   "outputs": [
    {
     "name": "stdout",
     "output_type": "stream",
     "text": [
      "GET /download.html HTTP/1.1\r\n",
      "Host: www.ethereal.com\r\n",
      "User-Agent: Mozilla/5.0 (Windows; U; Windows NT 5.1; en-US; rv:1.6) Gecko/20040113\r\n",
      "Accept: text/xml,application/xml,application/xhtml+xml,text/html;q=0.9,text/plain;q=0.8,image/png,image/jpeg,image/gif;q=0.2,*/*;q=0.1\r\n",
      "Accept-Language: en-us,en;q=0.5\r\n",
      "Accept-Encoding: gzip,deflate\r\n",
      "Accept-Charset: ISO-8859-1,utf-8;q=0.7,*;q=0.7\r\n",
      "Keep-Alive: 300\r\n",
      "Connection: keep-alive\r\n",
      "Referer: http://www.ethereal.com/development.html\r\n",
      "\r\n",
      "\n"
     ]
    }
   ],
   "source": [
    "load = pkts[3].getlayer(Raw).fields.get(\"load\")\n",
    "print load"
   ]
  },
  {
   "cell_type": "markdown",
   "metadata": {},
   "source": [
    "Woah - Windows NT! this packet must be ancient ;)\n",
    "\n",
    "\n",
    "It's super simple to parse out HTTP header information, and then from there, all we need to do is a simple check of if the \"extremist\" forum that we're interested in is inside these packets:"
   ]
  },
  {
   "cell_type": "code",
   "execution_count": 8,
   "metadata": {
    "collapsed": false
   },
   "outputs": [
    {
     "data": {
      "text/plain": [
       "True"
      ]
     },
     "execution_count": 8,
     "metadata": {},
     "output_type": "execute_result"
    }
   ],
   "source": [
    "'GET /download' in load"
   ]
  },
  {
   "cell_type": "code",
   "execution_count": 9,
   "metadata": {
    "collapsed": false
   },
   "outputs": [
    {
     "data": {
      "text/plain": [
       "True"
      ]
     },
     "execution_count": 9,
     "metadata": {},
     "output_type": "execute_result"
    }
   ],
   "source": [
    "'www.ethereal.com' in load"
   ]
  },
  {
   "cell_type": "markdown",
   "metadata": {},
   "source": [
    "Now we can play around and traceroute between the user's IP address and the "
   ]
  },
  {
   "cell_type": "code",
   "execution_count": 10,
   "metadata": {
    "collapsed": true
   },
   "outputs": [],
   "source": [
    "import select as s"
   ]
  },
  {
   "cell_type": "code",
   "execution_count": 25,
   "metadata": {
    "collapsed": true
   },
   "outputs": [],
   "source": [
    "def trace_route(pkts):\n",
    "    for pkt in pkts:\n",
    "        try:\n",
    "            IP_layer = pkt.getlayer(IP)\n",
    "            proto_layer = pkt.getlayer(TCP)\n",
    "        except Exception:\n",
    "            continue\n",
    "        destination = IP_layer.dst\n",
    "        src = IP_layer.src\n",
    "        dport = proto_layer.dport\n",
    "        sport = proto_layer.sport\n",
    "        \n",
    "        while True:\n",
    "            try:\n",
    "                res, unans = traceroute(target=destination, dport=dport, sport=sport, maxttl=20)\n",
    "                traces = res.res\n",
    "                hops = [src]\n",
    "                for trace in traces:\n",
    "                    hops.append(trace[1].src)\n",
    "                return res, hops, sport\n",
    "            except s.error:\n",
    "                continue\n"
   ]
  },
  {
   "cell_type": "code",
   "execution_count": 26,
   "metadata": {
    "collapsed": false
   },
   "outputs": [
    {
     "name": "stdout",
     "output_type": "stream",
     "text": [
      "\n",
      "Received 18 packets, got 18 answers, remaining 2 packets\n",
      "   65.208.228.223:tcp80 \n",
      "1  192.168.1.1     11   \n",
      "2  103.6.148.46    11   \n",
      "3  103.224.165.1   11   \n",
      "4  103.6.148.45    11   \n",
      "5  183.182.80.69   11   \n",
      "6  173.205.57.82   11   \n",
      "7  141.136.109.21  11   \n",
      "8  4.69.153.25     11   \n",
      "9  4.69.132.58     11   \n",
      "10 4.69.151.182    11   \n",
      "11 206.222.122.50  11   \n",
      "12 4.68.71.102     11   \n",
      "13 4.69.152.190    11   \n",
      "14 207.250.67.110  11   \n",
      "15 68.66.15.90     11   \n",
      "16 4.69.132.62     11   \n",
      "17 68.66.15.230    11   \n",
      "18 4.69.203.254    11   \n",
      "Begin emission:\n",
      "Finished to send 20 packets.\n"
     ]
    }
   ],
   "source": [
    "res, tr, sport = trace_route(pkts)"
   ]
  },
  {
   "cell_type": "code",
   "execution_count": 27,
   "metadata": {
    "collapsed": false
   },
   "outputs": [
    {
     "data": {
      "text/plain": [
       "['145.254.160.237',\n",
       " '192.168.1.1',\n",
       " '103.6.148.46',\n",
       " '103.224.165.1',\n",
       " '103.6.148.45',\n",
       " '183.182.80.69',\n",
       " '173.205.57.82',\n",
       " '141.136.109.21',\n",
       " '4.69.153.25',\n",
       " '4.69.132.58',\n",
       " '4.69.151.182',\n",
       " '206.222.122.50',\n",
       " '4.68.71.102',\n",
       " '4.69.152.190',\n",
       " '207.250.67.110',\n",
       " '68.66.15.90',\n",
       " '4.69.132.62',\n",
       " '68.66.15.230',\n",
       " '4.69.203.254']"
      ]
     },
     "execution_count": 27,
     "metadata": {},
     "output_type": "execute_result"
    }
   ],
   "source": [
    "tr"
   ]
  },
  {
   "cell_type": "code",
   "execution_count": 15,
   "metadata": {
    "collapsed": true
   },
   "outputs": [],
   "source": [
    "import pygeoip"
   ]
  },
  {
   "cell_type": "code",
   "execution_count": 17,
   "metadata": {
    "collapsed": true
   },
   "outputs": [],
   "source": [
    "def map_ip(hops):\n",
    "    gip = pygeoip.GeoIP('../data/GeoLiteCity.dat')\n",
    "    coordinates = []\n",
    "    for hop in hops:\n",
    "        geo_data = gip.record_by_addr(hop)\n",
    "        if geo_data:\n",
    "            lat = geo_data['latitude']\n",
    "            lon = geo_data['longitude']\n",
    "            coordinates.append((lon, lat))\n",
    "    return coordinates"
   ]
  },
  {
   "cell_type": "code",
   "execution_count": 18,
   "metadata": {
    "collapsed": false
   },
   "outputs": [],
   "source": [
    "coordinates = map_ip(tr)"
   ]
  },
  {
   "cell_type": "code",
   "execution_count": 19,
   "metadata": {
    "collapsed": false
   },
   "outputs": [
    {
     "data": {
      "text/plain": [
       "[(9.0, 51.0),\n",
       " (103.80000000000001, 1.3667000000000087),\n",
       " (103.80000000000001, 1.3667000000000087),\n",
       " (114.16669999999999, 22.25),\n",
       " (2.3499999999999943, 48.860000000000014),\n",
       " (-0.12999999999999545, 51.5),\n",
       " (-97.0, 38.0),\n",
       " (-97.0, 38.0),\n",
       " (-97.0, 38.0),\n",
       " (-97.0, 38.0),\n",
       " (-94.8902, 38.8853),\n",
       " (-97.0, 38.0),\n",
       " (-97.0, 38.0),\n",
       " (-94.8902, 38.8853),\n",
       " (-90.7289, 38.82509999999999)]"
      ]
     },
     "execution_count": 19,
     "metadata": {},
     "output_type": "execute_result"
    }
   ],
   "source": [
    "coordinates"
   ]
  },
  {
   "cell_type": "code",
   "execution_count": 20,
   "metadata": {
    "collapsed": true
   },
   "outputs": [],
   "source": [
    "import geojson"
   ]
  },
  {
   "cell_type": "code",
   "execution_count": 21,
   "metadata": {
    "collapsed": true
   },
   "outputs": [],
   "source": [
    "def create_geojson(coordinates):\n",
    "    geo_list = []\n",
    "    j = 1\n",
    "    for index in xrange(0, len(coordinates)):\n",
    "        try:\n",
    "            data = {}\n",
    "            data[\"type\"] = \"Feature\"\n",
    "            data[\"id\"] = j\n",
    "            data[\"properties\"] = {\"title\": \"hop %i\" % j}\n",
    "            data[\"geometry\"] = {\"type\": \"LineString\", \"coordinates\": [coordinates[index], coordinates[index+1] ]}\n",
    "            j += 1\n",
    "            geo_list.append(data)\n",
    "        except IndexError:\n",
    "            continue\n",
    "\n",
    "    d = {\"type\": \"FeatureCollection\"}\n",
    "    for item in geo_list:\n",
    "        d.setdefault(\"features\", []).append(item)\n",
    "\n",
    "    return geojson.dumps(d)"
   ]
  },
  {
   "cell_type": "code",
   "execution_count": 23,
   "metadata": {
    "collapsed": false
   },
   "outputs": [
    {
     "name": "stdout",
     "output_type": "stream",
     "text": [
      "{\"type\": \"FeatureCollection\", \"features\": [{\"geometry\": {\"type\": \"LineString\", \"coordinates\": [[9.0, 51.0], [103.80000000000001, 1.3667000000000087]]}, \"type\": \"Feature\", \"id\": 1, \"properties\": {\"title\": \"hop 1\"}}, {\"geometry\": {\"type\": \"LineString\", \"coordinates\": [[103.80000000000001, 1.3667000000000087], [103.80000000000001, 1.3667000000000087]]}, \"type\": \"Feature\", \"id\": 2, \"properties\": {\"title\": \"hop 2\"}}, {\"geometry\": {\"type\": \"LineString\", \"coordinates\": [[103.80000000000001, 1.3667000000000087], [114.16669999999999, 22.25]]}, \"type\": \"Feature\", \"id\": 3, \"properties\": {\"title\": \"hop 3\"}}, {\"geometry\": {\"type\": \"LineString\", \"coordinates\": [[114.16669999999999, 22.25], [2.3499999999999943, 48.860000000000014]]}, \"type\": \"Feature\", \"id\": 4, \"properties\": {\"title\": \"hop 4\"}}, {\"geometry\": {\"type\": \"LineString\", \"coordinates\": [[2.3499999999999943, 48.860000000000014], [-0.12999999999999545, 51.5]]}, \"type\": \"Feature\", \"id\": 5, \"properties\": {\"title\": \"hop 5\"}}, {\"geometry\": {\"type\": \"LineString\", \"coordinates\": [[-0.12999999999999545, 51.5], [-97.0, 38.0]]}, \"type\": \"Feature\", \"id\": 6, \"properties\": {\"title\": \"hop 6\"}}, {\"geometry\": {\"type\": \"LineString\", \"coordinates\": [[-97.0, 38.0], [-97.0, 38.0]]}, \"type\": \"Feature\", \"id\": 7, \"properties\": {\"title\": \"hop 7\"}}, {\"geometry\": {\"type\": \"LineString\", \"coordinates\": [[-97.0, 38.0], [-97.0, 38.0]]}, \"type\": \"Feature\", \"id\": 8, \"properties\": {\"title\": \"hop 8\"}}, {\"geometry\": {\"type\": \"LineString\", \"coordinates\": [[-97.0, 38.0], [-97.0, 38.0]]}, \"type\": \"Feature\", \"id\": 9, \"properties\": {\"title\": \"hop 9\"}}, {\"geometry\": {\"type\": \"LineString\", \"coordinates\": [[-97.0, 38.0], [-94.8902, 38.8853]]}, \"type\": \"Feature\", \"id\": 10, \"properties\": {\"title\": \"hop 10\"}}, {\"geometry\": {\"type\": \"LineString\", \"coordinates\": [[-94.8902, 38.8853], [-97.0, 38.0]]}, \"type\": \"Feature\", \"id\": 11, \"properties\": {\"title\": \"hop 11\"}}, {\"geometry\": {\"type\": \"LineString\", \"coordinates\": [[-97.0, 38.0], [-97.0, 38.0]]}, \"type\": \"Feature\", \"id\": 12, \"properties\": {\"title\": \"hop 12\"}}, {\"geometry\": {\"type\": \"LineString\", \"coordinates\": [[-97.0, 38.0], [-94.8902, 38.8853]]}, \"type\": \"Feature\", \"id\": 13, \"properties\": {\"title\": \"hop 13\"}}, {\"geometry\": {\"type\": \"LineString\", \"coordinates\": [[-94.8902, 38.8853], [-90.7289, 38.82509999999999]]}, \"type\": \"Feature\", \"id\": 14, \"properties\": {\"title\": \"hop 14\"}}]}\n"
     ]
    }
   ],
   "source": [
    "data = create_geojson(coordinates)\n",
    "print data"
   ]
  },
  {
   "cell_type": "markdown",
   "metadata": {},
   "source": [
    "Navigate to [geojson.io](http://geojson.io/) in your browser.  Then copy & paste the `data` output into the JSON input area.\n",
    "\n",
    "Here's mine (copied from the \"share\" button on geojson.io):"
   ]
  },
  {
   "cell_type": "code",
   "execution_count": 24,
   "metadata": {
    "collapsed": false
   },
   "outputs": [
    {
     "data": {
      "text/html": [
       "<iframe frameborder=\"0\" width=\"100%\" height=\"300\" src=\"http://bl.ocks.org/d/7644d2c0dd4662db98ab\"></iframe>"
      ],
      "text/plain": [
       "<IPython.core.display.HTML object>"
      ]
     },
     "execution_count": 24,
     "metadata": {},
     "output_type": "execute_result"
    }
   ],
   "source": [
    "from IPython.display import HTML\n",
    "HTML('<iframe frameborder=\"0\" width=\"100%\" height=\"300\" src=\"http://bl.ocks.org/d/7644d2c0dd4662db98ab\"></iframe>')"
   ]
  },
  {
   "cell_type": "code",
   "execution_count": 28,
   "metadata": {
    "collapsed": true
   },
   "outputs": [],
   "source": [
    "res.graph(target=\"> ../data/Q2-traceroute.svg\")"
   ]
  },
  {
   "cell_type": "code",
   "execution_count": 29,
   "metadata": {
    "collapsed": false
   },
   "outputs": [
    {
     "data": {
      "image/svg+xml": [
       "<svg height=\"672pt\" viewBox=\"0.00 0.00 1237.53 672.00\" width=\"1238pt\" xmlns=\"http://www.w3.org/2000/svg\" xmlns:xlink=\"http://www.w3.org/1999/xlink\">\n",
       "<g class=\"graph\" id=\"graph0\" transform=\"scale(1 1) rotate(0) translate(4 668)\">\n",
       "<title>trace</title>\n",
       "<polygon fill=\"white\" points=\"-4,4 -4,-668 1233.53,-668 1233.53,4 -4,4\" stroke=\"none\"/>\n",
       "<g class=\"cluster\" id=\"clust1\"><title>cluster_4323</title>\n",
       "<polygon fill=\"none\" points=\"83.5285,-168 83.5285,-248 377.529,-248 377.529,-168 83.5285,-168\" stroke=\"#608686\"/>\n",
       "<text font-family=\"Times,serif\" font-size=\"10.00\" text-anchor=\"middle\" x=\"230.529\" y=\"-236\">4323</text>\n",
       "<text font-family=\"Times,serif\" font-size=\"10.00\" text-anchor=\"middle\" x=\"230.529\" y=\"-226\">[TWTC - tw telecom holdings, inc.,US]</text>\n",
       "</g>\n",
       "<g class=\"cluster\" id=\"clust2\"><title>cluster_132132</title>\n",
       "<polygon fill=\"none\" points=\"883.529,-488 883.529,-568 1144.53,-568 1144.53,-488 883.529,-488\" stroke=\"#60baba\"/>\n",
       "<text font-family=\"Times,serif\" font-size=\"10.00\" text-anchor=\"middle\" x=\"1014.03\" y=\"-556\">132132</text>\n",
       "<text font-family=\"Times,serif\" font-size=\"10.00\" text-anchor=\"middle\" x=\"1014.03\" y=\"-546\">[REPUBLICTELECOM-SG MyRepublic Ltd.,SG]</text>\n",
       "</g>\n",
       "<g class=\"cluster\" id=\"clust3\"><title>cluster_56300</title>\n",
       "<polygon fill=\"none\" points=\"1010.53,-400 1010.53,-480 1202.53,-480 1202.53,-400 1010.53,-400\" stroke=\"#60ffff\"/>\n",
       "<text font-family=\"Times,serif\" font-size=\"10.00\" text-anchor=\"middle\" x=\"1106.53\" y=\"-468\">56300</text>\n",
       "<text font-family=\"Times,serif\" font-size=\"10.00\" text-anchor=\"middle\" x=\"1106.53\" y=\"-458\">[MYHOSTING-AS-AP MYHOSTING,SG]</text>\n",
       "</g>\n",
       "<g class=\"cluster\" id=\"clust4\"><title>cluster_4565</title>\n",
       "<polygon fill=\"none\" points=\"1001.53,-576 1001.53,-656 1221.53,-656 1221.53,-576 1001.53,-576\" stroke=\"#868660\"/>\n",
       "<text font-family=\"Times,serif\" font-size=\"10.00\" text-anchor=\"middle\" x=\"1111.53\" y=\"-644\">4565</text>\n",
       "<text font-family=\"Times,serif\" font-size=\"10.00\" text-anchor=\"middle\" x=\"1111.53\" y=\"-634\">[MEGAPATH2-US - MegaPath Networks Inc.,US]</text>\n",
       "</g>\n",
       "<g class=\"cluster\" id=\"clust5\"><title>cluster_3257</title>\n",
       "<polygon fill=\"none\" points=\"834.529,-256 834.529,-480 1002.53,-480 1002.53,-256 834.529,-256\" stroke=\"#86ba86\"/>\n",
       "<text font-family=\"Times,serif\" font-size=\"10.00\" text-anchor=\"middle\" x=\"918.529\" y=\"-468\">3257</text>\n",
       "<text font-family=\"Times,serif\" font-size=\"10.00\" text-anchor=\"middle\" x=\"918.529\" y=\"-458\">[TINET-BACKBONE Tinet SpA,DE]</text>\n",
       "</g>\n",
       "<g class=\"cluster\" id=\"clust6\"><title>cluster_17338</title>\n",
       "<polygon fill=\"none\" points=\"21.5285,-80 21.5285,-160 485.529,-160 485.529,-80 21.5285,-80\" stroke=\"#86ffba\"/>\n",
       "<text font-family=\"Times,serif\" font-size=\"10.00\" text-anchor=\"middle\" x=\"253.529\" y=\"-148\">17338</text>\n",
       "<text font-family=\"Times,serif\" font-size=\"10.00\" text-anchor=\"middle\" x=\"253.529\" y=\"-138\">[AS17338 - AOScloud, LLC.,US]</text>\n",
       "</g>\n",
       "<g class=\"cluster\" id=\"clust7\"><title>cluster_3356</title>\n",
       "<polygon fill=\"none\" points=\"493.529,-8 493.529,-248 989.529,-248 989.529,-8 493.529,-8\" stroke=\"#8660ff\"/>\n",
       "<text font-family=\"Times,serif\" font-size=\"10.00\" text-anchor=\"middle\" x=\"741.529\" y=\"-236\">3356</text>\n",
       "<text font-family=\"Times,serif\" font-size=\"10.00\" text-anchor=\"middle\" x=\"741.529\" y=\"-226\">[LEVEL3 - Level 3 Communications, Inc.,US]</text>\n",
       "</g>\n",
       "<!-- 207.250.67.110 -->\n",
       "<g class=\"node\" id=\"node1\"><title>207.250.67.110</title>\n",
       "<ellipse cx=\"304.529\" cy=\"-194\" fill=\"#608686\" rx=\"65.1093\" ry=\"18\" stroke=\"black\"/>\n",
       "<text font-family=\"Times,serif\" font-size=\"14.00\" text-anchor=\"middle\" x=\"304.529\" y=\"-189.8\">207.250.67.110</text>\n",
       "</g>\n",
       "<!-- 68.66.15.90 -->\n",
       "<g class=\"node\" id=\"node10\"><title>68.66.15.90</title>\n",
       "<ellipse cx=\"81.5285\" cy=\"-106\" fill=\"#86ffba\" rx=\"52.2268\" ry=\"18\" stroke=\"black\"/>\n",
       "<text font-family=\"Times,serif\" font-size=\"14.00\" text-anchor=\"middle\" x=\"81.5285\" y=\"-101.8\">68.66.15.90</text>\n",
       "</g>\n",
       "<!-- 207.250.67.110&#45;&gt;68.66.15.90 -->\n",
       "<g class=\"edge\" id=\"edge14\"><title>207.250.67.110-&gt;68.66.15.90</title>\n",
       "<path d=\"M268.493,-178.933C256.573,-174.793 243.133,-170.663 230.529,-168 192.104,-159.881 178.655,-175.402 142.529,-160 127.22,-153.473 113,-141.615 102.148,-130.768\" fill=\"none\" stroke=\"#a07070\"/>\n",
       "<polygon fill=\"#a07070\" points=\"104.64,-128.309 95.201,-123.498 99.5792,-133.146 104.64,-128.309\" stroke=\"#a07070\"/>\n",
       "</g>\n",
       "<!-- 206.222.122.50 -->\n",
       "<g class=\"node\" id=\"node2\"><title>206.222.122.50</title>\n",
       "<ellipse cx=\"156.529\" cy=\"-194\" fill=\"#608686\" rx=\"65.2572\" ry=\"18\" stroke=\"black\"/>\n",
       "<text font-family=\"Times,serif\" font-size=\"14.00\" text-anchor=\"middle\" x=\"156.529\" y=\"-189.8\">206.222.122.50</text>\n",
       "</g>\n",
       "<!-- 4.68.71.102 -->\n",
       "<g class=\"node\" id=\"node18\"><title>4.68.71.102</title>\n",
       "<ellipse cx=\"807.529\" cy=\"-194\" fill=\"#8660ff\" rx=\"52.2268\" ry=\"18\" stroke=\"black\"/>\n",
       "<text font-family=\"Times,serif\" font-size=\"14.00\" text-anchor=\"middle\" x=\"807.529\" y=\"-189.8\">4.68.71.102</text>\n",
       "</g>\n",
       "<!-- 206.222.122.50&#45;&gt;4.68.71.102 -->\n",
       "<g class=\"edge\" id=\"edge11\"><title>206.222.122.50-&gt;4.68.71.102</title>\n",
       "<path d=\"M172.945,-211.609C188.389,-226.533 213.046,-246.38 239.529,-252 253.06,-254.872 723.997,-254.872 737.529,-252 757.532,-247.755 775.219,-232.949 787.81,-219.36\" fill=\"none\" stroke=\"#a07070\"/>\n",
       "<polygon fill=\"#a07070\" points=\"790.659,-221.419 794.613,-211.589 785.392,-216.808 790.659,-221.419\" stroke=\"#a07070\"/>\n",
       "</g>\n",
       "<!-- 103.6.148.45 -->\n",
       "<g class=\"node\" id=\"node3\"><title>103.6.148.45</title>\n",
       "<ellipse cx=\"948.529\" cy=\"-514\" fill=\"#60baba\" rx=\"56.5701\" ry=\"18\" stroke=\"black\"/>\n",
       "<text font-family=\"Times,serif\" font-size=\"14.00\" text-anchor=\"middle\" x=\"948.529\" y=\"-509.8\">103.6.148.45</text>\n",
       "</g>\n",
       "<!-- 183.182.80.69 -->\n",
       "<g class=\"node\" id=\"node7\"><title>183.182.80.69</title>\n",
       "<ellipse cx=\"932.529\" cy=\"-426\" fill=\"#86ba86\" rx=\"60.9135\" ry=\"18\" stroke=\"black\"/>\n",
       "<text font-family=\"Times,serif\" font-size=\"14.00\" text-anchor=\"middle\" x=\"932.529\" y=\"-421.8\">183.182.80.69</text>\n",
       "</g>\n",
       "<!-- 103.6.148.45&#45;&gt;183.182.80.69 -->\n",
       "<g class=\"edge\" id=\"edge4\"><title>103.6.148.45-&gt;183.182.80.69</title>\n",
       "<path d=\"M945.367,-496.009C943.147,-484.073 940.129,-467.853 937.577,-454.138\" fill=\"none\" stroke=\"#a07070\"/>\n",
       "<polygon fill=\"#a07070\" points=\"941.008,-453.441 935.738,-444.25 934.126,-454.721 941.008,-453.441\" stroke=\"#a07070\"/>\n",
       "</g>\n",
       "<!-- 103.6.148.46 -->\n",
       "<g class=\"node\" id=\"node4\"><title>103.6.148.46</title>\n",
       "<ellipse cx=\"1079.53\" cy=\"-514\" fill=\"#60baba\" rx=\"56.5701\" ry=\"18\" stroke=\"black\"/>\n",
       "<text font-family=\"Times,serif\" font-size=\"14.00\" text-anchor=\"middle\" x=\"1079.53\" y=\"-509.8\">103.6.148.46</text>\n",
       "</g>\n",
       "<!-- 103.224.165.1 -->\n",
       "<g class=\"node\" id=\"node5\"><title>103.224.165.1</title>\n",
       "<ellipse cx=\"1079.53\" cy=\"-426\" fill=\"#60ffff\" rx=\"60.9135\" ry=\"18\" stroke=\"black\"/>\n",
       "<text font-family=\"Times,serif\" font-size=\"14.00\" text-anchor=\"middle\" x=\"1079.53\" y=\"-421.8\">103.224.165.1</text>\n",
       "</g>\n",
       "<!-- 103.6.148.46&#45;&gt;103.224.165.1 -->\n",
       "<g class=\"edge\" id=\"edge2\"><title>103.6.148.46-&gt;103.224.165.1</title>\n",
       "<path d=\"M1079.53,-495.597C1079.53,-483.746 1079.53,-467.817 1079.53,-454.292\" fill=\"none\" stroke=\"#a07070\"/>\n",
       "<polygon fill=\"#a07070\" points=\"1083.03,-454.084 1079.53,-444.084 1076.03,-454.084 1083.03,-454.084\" stroke=\"#a07070\"/>\n",
       "</g>\n",
       "<!-- 103.224.165.1&#45;&gt;103.6.148.45 -->\n",
       "<g class=\"edge\" id=\"edge3\"><title>103.224.165.1-&gt;103.6.148.45</title>\n",
       "<path d=\"M1058.88,-442.936C1044.49,-453.803 1024.69,-468.289 1006.53,-480 999.682,-484.414 992.221,-488.892 985,-493.067\" fill=\"none\" stroke=\"#a07070\"/>\n",
       "<polygon fill=\"#a07070\" points=\"983.004,-490.176 976.045,-498.165 986.467,-496.259 983.004,-490.176\" stroke=\"#a07070\"/>\n",
       "</g>\n",
       "<!-- 192.168.1.1 -->\n",
       "<g class=\"node\" id=\"node6\"><title>192.168.1.1</title>\n",
       "<ellipse cx=\"1079.53\" cy=\"-602\" fill=\"#868660\" rx=\"52.2268\" ry=\"18\" stroke=\"black\"/>\n",
       "<text font-family=\"Times,serif\" font-size=\"14.00\" text-anchor=\"middle\" x=\"1079.53\" y=\"-597.8\">192.168.1.1</text>\n",
       "</g>\n",
       "<!-- 192.168.1.1&#45;&gt;103.6.148.46 -->\n",
       "<g class=\"edge\" id=\"edge1\"><title>192.168.1.1-&gt;103.6.148.46</title>\n",
       "<path d=\"M1079.53,-583.597C1079.53,-571.746 1079.53,-555.817 1079.53,-542.292\" fill=\"none\" stroke=\"#a07070\"/>\n",
       "<polygon fill=\"#a07070\" points=\"1083.03,-542.084 1079.53,-532.084 1076.03,-542.084 1083.03,-542.084\" stroke=\"#a07070\"/>\n",
       "</g>\n",
       "<!-- 173.205.57.82 -->\n",
       "<g class=\"node\" id=\"node8\"><title>173.205.57.82</title>\n",
       "<ellipse cx=\"930.529\" cy=\"-354\" fill=\"#86ba86\" rx=\"60.9135\" ry=\"18\" stroke=\"black\"/>\n",
       "<text font-family=\"Times,serif\" font-size=\"14.00\" text-anchor=\"middle\" x=\"930.529\" y=\"-349.8\">173.205.57.82</text>\n",
       "</g>\n",
       "<!-- 183.182.80.69&#45;&gt;173.205.57.82 -->\n",
       "<g class=\"edge\" id=\"edge5\"><title>183.182.80.69-&gt;173.205.57.82</title>\n",
       "<path d=\"M932.034,-407.697C931.814,-399.983 931.549,-390.712 931.303,-382.112\" fill=\"none\" stroke=\"#a07070\"/>\n",
       "<polygon fill=\"#a07070\" points=\"934.801,-382 931.017,-372.104 927.804,-382.2 934.801,-382\" stroke=\"#a07070\"/>\n",
       "</g>\n",
       "<!-- 141.136.109.21 -->\n",
       "<g class=\"node\" id=\"node9\"><title>141.136.109.21</title>\n",
       "<ellipse cx=\"929.529\" cy=\"-282\" fill=\"#86ba86\" rx=\"65.2572\" ry=\"18\" stroke=\"black\"/>\n",
       "<text font-family=\"Times,serif\" font-size=\"14.00\" text-anchor=\"middle\" x=\"929.529\" y=\"-277.8\">141.136.109.21</text>\n",
       "</g>\n",
       "<!-- 173.205.57.82&#45;&gt;141.136.109.21 -->\n",
       "<g class=\"edge\" id=\"edge6\"><title>173.205.57.82-&gt;141.136.109.21</title>\n",
       "<path d=\"M930.281,-335.697C930.171,-327.983 930.039,-318.712 929.916,-310.112\" fill=\"none\" stroke=\"#a07070\"/>\n",
       "<polygon fill=\"#a07070\" points=\"933.415,-310.053 929.773,-300.104 926.416,-310.153 933.415,-310.053\" stroke=\"#a07070\"/>\n",
       "</g>\n",
       "<!-- 4.69.153.25 -->\n",
       "<g class=\"node\" id=\"node17\"><title>4.69.153.25</title>\n",
       "<ellipse cx=\"929.529\" cy=\"-194\" fill=\"#8660ff\" rx=\"52.2268\" ry=\"18\" stroke=\"black\"/>\n",
       "<text font-family=\"Times,serif\" font-size=\"14.00\" text-anchor=\"middle\" x=\"929.529\" y=\"-189.8\">4.69.153.25</text>\n",
       "</g>\n",
       "<!-- 141.136.109.21&#45;&gt;4.69.153.25 -->\n",
       "<g class=\"edge\" id=\"edge7\"><title>141.136.109.21-&gt;4.69.153.25</title>\n",
       "<path d=\"M929.529,-263.597C929.529,-251.746 929.529,-235.817 929.529,-222.292\" fill=\"none\" stroke=\"#a07070\"/>\n",
       "<polygon fill=\"#a07070\" points=\"933.029,-222.084 929.529,-212.084 926.029,-222.084 933.029,-222.084\" stroke=\"#a07070\"/>\n",
       "</g>\n",
       "<!-- 4.69.132.62 -->\n",
       "<g class=\"node\" id=\"node13\"><title>4.69.132.62</title>\n",
       "<ellipse cx=\"553.529\" cy=\"-194\" fill=\"#8660ff\" rx=\"52.2268\" ry=\"18\" stroke=\"black\"/>\n",
       "<text font-family=\"Times,serif\" font-size=\"14.00\" text-anchor=\"middle\" x=\"553.529\" y=\"-189.8\">4.69.132.62</text>\n",
       "</g>\n",
       "<!-- 68.66.15.90&#45;&gt;4.69.132.62 -->\n",
       "<g class=\"edge\" id=\"edge15\"><title>68.66.15.90-&gt;4.69.132.62</title>\n",
       "<path d=\"M94.8481,-123.541C106.07,-136.102 123.334,-152.458 142.529,-160 167.258,-169.717 355.063,-165.641 381.529,-168 420.615,-171.484 464.376,-177.88 497.976,-183.33\" fill=\"none\" stroke=\"#a07070\"/>\n",
       "<polygon fill=\"#a07070\" points=\"497.626,-186.819 508.061,-184.987 498.761,-179.912 497.626,-186.819\" stroke=\"#a07070\"/>\n",
       "</g>\n",
       "<!-- 65.208.228.223 80/tcp -->\n",
       "<g class=\"node\" id=\"node11\"><title>65.208.228.223 80/tcp</title>\n",
       "<polygon fill=\"red\" points=\"477.696,-98.5442 477.696,-113.456 420.777,-124 340.28,-124 283.361,-113.456 283.361,-98.5442 340.28,-88 420.777,-88 477.696,-98.5442\" stroke=\"black\"/>\n",
       "<text font-family=\"Times,serif\" font-size=\"14.00\" text-anchor=\"middle\" x=\"380.529\" y=\"-101.8\">65.208.228.223 80/tcp</text>\n",
       "</g>\n",
       "<!-- 68.66.15.230 -->\n",
       "<g class=\"node\" id=\"node12\"><title>68.66.15.230</title>\n",
       "<ellipse cx=\"208.529\" cy=\"-106\" fill=\"#86ffba\" rx=\"56.5701\" ry=\"18\" stroke=\"black\"/>\n",
       "<text font-family=\"Times,serif\" font-size=\"14.00\" text-anchor=\"middle\" x=\"208.529\" y=\"-101.8\">68.66.15.230</text>\n",
       "</g>\n",
       "<!-- 4.69.203.254 -->\n",
       "<g class=\"node\" id=\"node16\"><title>4.69.203.254</title>\n",
       "<ellipse cx=\"680.529\" cy=\"-194\" fill=\"#8660ff\" rx=\"56.5701\" ry=\"18\" stroke=\"black\"/>\n",
       "<text font-family=\"Times,serif\" font-size=\"14.00\" text-anchor=\"middle\" x=\"680.529\" y=\"-189.8\">4.69.203.254</text>\n",
       "</g>\n",
       "<!-- 68.66.15.230&#45;&gt;4.69.203.254 -->\n",
       "<g class=\"edge\" id=\"edge17\"><title>68.66.15.230-&gt;4.69.203.254</title>\n",
       "<path d=\"M223.198,-123.614C235.486,-136.216 254.236,-152.591 274.529,-160 310.025,-172.959 577.44,-160.759 614.529,-168 622.999,-169.654 631.805,-172.29 640.12,-175.243\" fill=\"none\" stroke=\"#a07070\"/>\n",
       "<polygon fill=\"#a07070\" points=\"639.015,-178.567 649.607,-178.815 641.482,-172.016 639.015,-178.567\" stroke=\"#a07070\"/>\n",
       "</g>\n",
       "<!-- 4.69.132.62&#45;&gt;68.66.15.230 -->\n",
       "<g class=\"edge\" id=\"edge16\"><title>4.69.132.62-&gt;68.66.15.230</title>\n",
       "<path d=\"M507.648,-185.443C473.063,-179.963 424.42,-172.715 381.529,-168 357.827,-165.395 296.71,-168.747 274.529,-160 258.155,-153.544 242.657,-141.528 230.798,-130.568\" fill=\"none\" stroke=\"#a07070\"/>\n",
       "<polygon fill=\"#a07070\" points=\"233.186,-128.009 223.558,-123.587 228.327,-133.048 233.186,-128.009\" stroke=\"#a07070\"/>\n",
       "</g>\n",
       "<!-- 4.69.132.58 -->\n",
       "<g class=\"node\" id=\"node14\"><title>4.69.132.58</title>\n",
       "<ellipse cx=\"868.529\" cy=\"-106\" fill=\"#8660ff\" rx=\"52.2268\" ry=\"18\" stroke=\"black\"/>\n",
       "<text font-family=\"Times,serif\" font-size=\"14.00\" text-anchor=\"middle\" x=\"868.529\" y=\"-101.8\">4.69.132.58</text>\n",
       "</g>\n",
       "<!-- 4.69.151.182 -->\n",
       "<g class=\"node\" id=\"node15\"><title>4.69.151.182</title>\n",
       "<ellipse cx=\"713.529\" cy=\"-34\" fill=\"#8660ff\" rx=\"56.5701\" ry=\"18\" stroke=\"black\"/>\n",
       "<text font-family=\"Times,serif\" font-size=\"14.00\" text-anchor=\"middle\" x=\"713.529\" y=\"-29.8\">4.69.151.182</text>\n",
       "</g>\n",
       "<!-- 4.69.132.58&#45;&gt;4.69.151.182 -->\n",
       "<g class=\"edge\" id=\"edge9\"><title>4.69.132.58-&gt;4.69.151.182</title>\n",
       "<path d=\"M838.275,-91.3371C814.265,-80.4937 780.471,-65.232 754.111,-53.3277\" fill=\"none\" stroke=\"#a07070\"/>\n",
       "<polygon fill=\"#a07070\" points=\"755.323,-50.0344 744.768,-49.1083 752.441,-56.414 755.323,-50.0344\" stroke=\"#a07070\"/>\n",
       "</g>\n",
       "<!-- 4.69.151.182&#45;&gt;206.222.122.50 -->\n",
       "<g class=\"edge\" id=\"edge10\"><title>4.69.151.182-&gt;206.222.122.50</title>\n",
       "<path d=\"M656.991,-34.3329C498.882,-33.0556 60.8756,-33.7598 17.5285,-80 -6.78847,-105.94 -4.51895,-132.105 17.5285,-160 26.6137,-171.495 56.918,-179.408 86.9211,-184.598\" fill=\"none\" stroke=\"#a07070\"/>\n",
       "<polygon fill=\"#a07070\" points=\"86.6197,-188.095 97.0535,-186.255 87.7493,-181.187 86.6197,-188.095\" stroke=\"#a07070\"/>\n",
       "</g>\n",
       "<!-- 4.69.203.254&#45;&gt;65.208.228.223 80/tcp -->\n",
       "<g class=\"edge\" id=\"edge18\"><title>4.69.203.254-&gt;65.208.228.223 80/tcp</title>\n",
       "<path d=\"M649.218,-178.955C638.434,-174.71 626.145,-170.512 614.529,-168 560.117,-156.232 543.352,-174.217 489.529,-160 464.009,-153.259 437.328,-140.399 416.751,-129.036\" fill=\"none\" stroke=\"#a07070\"/>\n",
       "<polygon fill=\"#a07070\" points=\"418.469,-125.986 408.041,-124.114 415.025,-132.08 418.469,-125.986\" stroke=\"#a07070\"/>\n",
       "</g>\n",
       "<!-- 4.69.153.25&#45;&gt;4.69.132.58 -->\n",
       "<g class=\"edge\" id=\"edge8\"><title>4.69.153.25-&gt;4.69.132.58</title>\n",
       "<path d=\"M917.767,-176.418C908.879,-163.888 896.525,-146.471 886.416,-132.218\" fill=\"none\" stroke=\"#a07070\"/>\n",
       "<polygon fill=\"#a07070\" points=\"889.102,-129.956 880.462,-123.824 883.393,-134.006 889.102,-129.956\" stroke=\"#a07070\"/>\n",
       "</g>\n",
       "<!-- 4.69.152.190 -->\n",
       "<g class=\"node\" id=\"node19\"><title>4.69.152.190</title>\n",
       "<ellipse cx=\"680.529\" cy=\"-106\" fill=\"#8660ff\" rx=\"56.5701\" ry=\"18\" stroke=\"black\"/>\n",
       "<text font-family=\"Times,serif\" font-size=\"14.00\" text-anchor=\"middle\" x=\"680.529\" y=\"-101.8\">4.69.152.190</text>\n",
       "</g>\n",
       "<!-- 4.68.71.102&#45;&gt;4.69.152.190 -->\n",
       "<g class=\"edge\" id=\"edge12\"><title>4.68.71.102-&gt;4.69.152.190</title>\n",
       "<path d=\"M784.823,-177.625C764.542,-163.891 734.632,-143.637 712.037,-128.336\" fill=\"none\" stroke=\"#a07070\"/>\n",
       "<polygon fill=\"#a07070\" points=\"713.708,-125.241 703.465,-122.532 709.783,-131.037 713.708,-125.241\" stroke=\"#a07070\"/>\n",
       "</g>\n",
       "<!-- 4.69.152.190&#45;&gt;207.250.67.110 -->\n",
       "<g class=\"edge\" id=\"edge13\"><title>4.69.152.190-&gt;207.250.67.110</title>\n",
       "<path d=\"M641.297,-119.054C602.877,-130.58 542.547,-147.944 489.529,-160 450.295,-168.922 405.928,-176.906 370.479,-182.786\" fill=\"none\" stroke=\"#a07070\"/>\n",
       "<polygon fill=\"#a07070\" points=\"369.557,-179.39 360.256,-184.464 370.691,-186.298 369.557,-179.39\" stroke=\"#a07070\"/>\n",
       "</g>\n",
       "</g>\n",
       "</svg>"
      ],
      "text/plain": [
       "<IPython.core.display.SVG object>"
      ]
     },
     "execution_count": 29,
     "metadata": {},
     "output_type": "execute_result"
    }
   ],
   "source": [
    "from IPython.display import SVG\n",
    "svg_file = \"../data/Q2-traceroute.svg\"\n",
    "SVG(svg_file)"
   ]
  },
  {
   "cell_type": "code",
   "execution_count": null,
   "metadata": {
    "collapsed": true
   },
   "outputs": [],
   "source": []
  }
 ],
 "metadata": {
  "kernelspec": {
   "display_name": "Python 2",
   "language": "python",
   "name": "python2"
  },
  "language_info": {
   "codemirror_mode": {
    "name": "ipython",
    "version": 2
   },
   "file_extension": ".py",
   "mimetype": "text/x-python",
   "name": "python",
   "nbconvert_exporter": "python",
   "pygments_lexer": "ipython2",
   "version": "2.7.8"
  }
 },
 "nbformat": 4,
 "nbformat_minor": 0
}
