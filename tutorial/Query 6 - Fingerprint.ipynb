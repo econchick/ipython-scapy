{
 "cells": [
  {
   "cell_type": "code",
   "execution_count": 1,
   "metadata": {
    "collapsed": false
   },
   "outputs": [],
   "source": [
    "import nmap"
   ]
  },
  {
   "cell_type": "code",
   "execution_count": 2,
   "metadata": {
    "collapsed": false
   },
   "outputs": [],
   "source": [
    "nm = nmap.PortScanner()"
   ]
  },
  {
   "cell_type": "code",
   "execution_count": 3,
   "metadata": {
    "collapsed": true
   },
   "outputs": [],
   "source": [
    "roguelynn = nm.scan('www.roguelynn.com', '22-443')"
   ]
  },
  {
   "cell_type": "code",
   "execution_count": 6,
   "metadata": {
    "collapsed": false
   },
   "outputs": [
    {
     "data": {
      "text/plain": [
       "u'nmap -oX - -p 22-443 -sV www.roguelynn.com'"
      ]
     },
     "execution_count": 6,
     "metadata": {},
     "output_type": "execute_result"
    }
   ],
   "source": [
    "nm.command_line()"
   ]
  },
  {
   "cell_type": "code",
   "execution_count": 8,
   "metadata": {
    "collapsed": false
   },
   "outputs": [
    {
     "data": {
      "text/plain": [
       "{u'tcp': {'method': u'syn', 'services': u'22-443'}}"
      ]
     },
     "execution_count": 8,
     "metadata": {},
     "output_type": "execute_result"
    }
   ],
   "source": [
    "nm.scaninfo()"
   ]
  },
  {
   "cell_type": "code",
   "execution_count": 9,
   "metadata": {
    "collapsed": false
   },
   "outputs": [
    {
     "data": {
      "text/plain": [
       "[u'81.28.232.189']"
      ]
     },
     "execution_count": 9,
     "metadata": {},
     "output_type": "execute_result"
    }
   ],
   "source": [
    "nm.all_hosts()"
   ]
  },
  {
   "cell_type": "code",
   "execution_count": 11,
   "metadata": {
    "collapsed": false
   },
   "outputs": [
    {
     "data": {
      "text/plain": [
       "u'www.roguelynn.com'"
      ]
     },
     "execution_count": 11,
     "metadata": {},
     "output_type": "execute_result"
    }
   ],
   "source": [
    "nm['81.28.232.189'].hostname()"
   ]
  },
  {
   "cell_type": "code",
   "execution_count": 12,
   "metadata": {
    "collapsed": false
   },
   "outputs": [
    {
     "data": {
      "text/plain": [
       "u'up'"
      ]
     },
     "execution_count": 12,
     "metadata": {},
     "output_type": "execute_result"
    }
   ],
   "source": [
    "nm['81.28.232.189'].state()"
   ]
  },
  {
   "cell_type": "code",
   "execution_count": 14,
   "metadata": {
    "collapsed": false
   },
   "outputs": [
    {
     "data": {
      "text/plain": [
       "[u'tcp']"
      ]
     },
     "execution_count": 14,
     "metadata": {},
     "output_type": "execute_result"
    }
   ],
   "source": [
    "nm['81.28.232.189'].all_protocols()"
   ]
  },
  {
   "cell_type": "code",
   "execution_count": 15,
   "metadata": {
    "collapsed": false
   },
   "outputs": [
    {
     "data": {
      "text/plain": [
       "[80, 443, 22]"
      ]
     },
     "execution_count": 15,
     "metadata": {},
     "output_type": "execute_result"
    }
   ],
   "source": [
    "nm['81.28.232.189']['tcp'].keys()"
   ]
  },
  {
   "cell_type": "code",
   "execution_count": 16,
   "metadata": {
    "collapsed": false
   },
   "outputs": [
    {
     "data": {
      "text/plain": [
       "{'conf': u'10',\n",
       " 'cpe': u'cpe:/o:linux:linux_kernel',\n",
       " 'extrainfo': u'Ubuntu Linux; protocol 2.0',\n",
       " 'name': u'ssh',\n",
       " 'product': u'OpenSSH',\n",
       " 'reason': u'syn-ack',\n",
       " 'state': u'open',\n",
       " 'version': u'6.6.1p1 Ubuntu 2ubuntu2'}"
      ]
     },
     "execution_count": 16,
     "metadata": {},
     "output_type": "execute_result"
    }
   ],
   "source": [
    "nm['81.28.232.189']['tcp'][22]"
   ]
  },
  {
   "cell_type": "code",
   "execution_count": 17,
   "metadata": {
    "collapsed": false
   },
   "outputs": [
    {
     "name": "stdout",
     "output_type": "stream",
     "text": [
      "host;protocol;port;name;state;product;extrainfo;reason;version;conf;cpe\r\n",
      "81.28.232.189;tcp;22;ssh;open;OpenSSH;\"Ubuntu Linux; protocol 2.0\";syn-ack;6.6.1p1 Ubuntu 2ubuntu2;10;cpe:/o:linux:linux_kernel\r\n",
      "81.28.232.189;tcp;80;http;open;Apache httpd;;syn-ack;;10;cpe:/a:apache:http_server\r\n",
      "81.28.232.189;tcp;443;http;open;Apache httpd;;syn-ack;;10;cpe:/a:apache:http_server\r\n",
      "\n"
     ]
    }
   ],
   "source": [
    "print nm.csv()"
   ]
  },
  {
   "cell_type": "code",
   "execution_count": 18,
   "metadata": {
    "collapsed": false
   },
   "outputs": [
    {
     "name": "stdout",
     "output_type": "stream",
     "text": [
      "Help on method scan in module nmap.nmap:\n",
      "\n",
      "scan(self, hosts='127.0.0.1', ports=None, arguments='-sV', sudo=False) method of nmap.nmap.PortScanner instance\n",
      "    Scan given hosts\n",
      "    \n",
      "    May raise PortScannerError exception if nmap output was not xml\n",
      "    \n",
      "    Test existance of the following key to know if something went wrong : ['nmap']['scaninfo']['error']\n",
      "    If not present, everything was ok.\n",
      "    \n",
      "    :param hosts: string for hosts as nmap use it 'scanme.nmap.org' or '198.116.0-255.1-127' or '216.163.128.20/20'\n",
      "    :param ports: string for ports as nmap use it '22,53,110,143-4564'\n",
      "    :param arguments: string of arguments for nmap '-sU -sX -sC'\n",
      "    :param sudo: launch nmap with sudo if true\n",
      "    \n",
      "    :returns: scan_result as dictionnary\n",
      "\n"
     ]
    }
   ],
   "source": [
    "help(nm.scan)"
   ]
  },
  {
   "cell_type": "markdown",
   "metadata": {},
   "source": [
    "Adding the flag `-O --osscan-guess` (and keeping the same default flags as before, `-sV`) will give us a *little* more information about the OS, including OS family (e.g. Linux), OS gen (e.g. `3.x`), OS name (e.g. Linux 3.11 - 3.14), as well as the uptime of the server."
   ]
  },
  {
   "cell_type": "code",
   "execution_count": 23,
   "metadata": {
    "collapsed": false
   },
   "outputs": [
    {
     "data": {
      "text/plain": [
       "{'nmap': {'command_line': u'nmap -oX - -p 22-443 -sV -O --osscan-guess www.roguelynn.com',\n",
       "  'scaninfo': {u'tcp': {'method': u'syn', 'services': u'22-443'}},\n",
       "  'scanstats': {'downhosts': u'0',\n",
       "   'elapsed': u'42.02',\n",
       "   'timestr': u'Tue Jun 16 12:07:57 2015',\n",
       "   'totalhosts': u'1',\n",
       "   'uphosts': u'1'}},\n",
       " 'scan': {u'81.28.232.189': {'addresses': {u'ipv4': u'81.28.232.189'},\n",
       "   'hostname': u'www.roguelynn.com',\n",
       "   'osclass': [{'accuracy': u'100',\n",
       "     'osfamily': u'Linux',\n",
       "     'osgen': u'3.X',\n",
       "     'type': u'general purpose',\n",
       "     'vendor': u'Linux'},\n",
       "    {'accuracy': u'100',\n",
       "     'osfamily': u'Linux',\n",
       "     'osgen': u'3.X',\n",
       "     'type': u'general purpose',\n",
       "     'vendor': u'Linux'}],\n",
       "   'osmatch': [{'accuracy': u'100',\n",
       "     'line': u'54622',\n",
       "     'name': u'Linux 3.11 - 3.14'},\n",
       "    {'accuracy': u'100', 'line': u'55454', 'name': u'Linux 3.2 - 3.19'}],\n",
       "   'status': {'reason': u'syn-ack', 'state': u'up'},\n",
       "   u'tcp': {22: {'conf': u'10',\n",
       "     'cpe': u'cpe:/o:linux:linux_kernel',\n",
       "     'extrainfo': u'Ubuntu Linux; protocol 2.0',\n",
       "     'name': u'ssh',\n",
       "     'product': u'OpenSSH',\n",
       "     'reason': u'syn-ack',\n",
       "     'state': u'open',\n",
       "     'version': u'6.6.1p1 Ubuntu 2ubuntu2'},\n",
       "    80: {'conf': u'10',\n",
       "     'cpe': u'cpe:/a:apache:http_server',\n",
       "     'extrainfo': '',\n",
       "     'name': u'http',\n",
       "     'product': u'Apache httpd',\n",
       "     'reason': u'syn-ack',\n",
       "     'state': u'open',\n",
       "     'version': ''},\n",
       "    443: {'conf': u'10',\n",
       "     'cpe': u'cpe:/a:apache:http_server',\n",
       "     'extrainfo': '',\n",
       "     'name': u'http',\n",
       "     'product': u'Apache httpd',\n",
       "     'reason': u'syn-ack',\n",
       "     'state': u'open',\n",
       "     'version': ''}},\n",
       "   'uptime': {'lastboot': u'Tue May  5 15:04:36 2015', 'seconds': u'3618201'},\n",
       "   'vendor': {}}}}"
      ]
     },
     "execution_count": 23,
     "metadata": {},
     "output_type": "execute_result"
    }
   ],
   "source": [
    "nm.scan(\"www.roguelynn.com\", '22-443', arguments='-sV -O --osscan-guess')"
   ]
  },
  {
   "cell_type": "markdown",
   "metadata": {},
   "source": [
    "Now I'm not going to tell you _how_ to exploit vulnerabilities that you happen upon - if you do. But [here](http://www.rapid7.com/db/) is a well-kept/well-known database of known vulnerabilities (e.g. CVEs) & exploits where you can cross-reference."
   ]
  },
  {
   "cell_type": "code",
   "execution_count": null,
   "metadata": {
    "collapsed": true
   },
   "outputs": [],
   "source": []
  }
 ],
 "metadata": {
  "kernelspec": {
   "display_name": "Python 2",
   "language": "python",
   "name": "python2"
  },
  "language_info": {
   "codemirror_mode": {
    "name": "ipython",
    "version": 2
   },
   "file_extension": ".py",
   "mimetype": "text/x-python",
   "name": "python",
   "nbconvert_exporter": "python",
   "pygments_lexer": "ipython2",
   "version": "2.7.8"
  }
 },
 "nbformat": 4,
 "nbformat_minor": 0
}
