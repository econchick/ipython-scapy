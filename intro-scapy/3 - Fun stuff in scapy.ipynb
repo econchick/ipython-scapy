{
 "cells": [
  {
   "cell_type": "code",
   "execution_count": 1,
   "metadata": {
    "collapsed": true
   },
   "outputs": [],
   "source": [
    "import logging\n",
    "logging.getLogger(\"scapy.runtime\").setLevel(logging.ERROR)"
   ]
  },
  {
   "cell_type": "code",
   "execution_count": 2,
   "metadata": {
    "collapsed": true
   },
   "outputs": [],
   "source": [
    "from scapy.all import *"
   ]
  },
  {
   "cell_type": "markdown",
   "metadata": {},
   "source": [
    "Rather than using `dig` on the command line for DNS queries (if you ever had a need in Python):"
   ]
  },
  {
   "cell_type": "code",
   "execution_count": 4,
   "metadata": {
    "collapsed": false
   },
   "outputs": [
    {
     "name": "stdout",
     "output_type": "stream",
     "text": [
      "\n",
      "Received 2 packets, got 1 answers, remaining 0 packets\n",
      "Begin emission:\n",
      "Finished to send 1 packets.\n"
     ]
    }
   ],
   "source": [
    "dns_query = sr1(IP(dst=\"10.128.128.128\")/UDP()/DNS(rd=1,qd=DNSQR(qname=\"www.python.org\")))"
   ]
  },
  {
   "cell_type": "markdown",
   "metadata": {},
   "source": [
    "What's all this?\n",
    "* `IP(dst=\"10.128.128.128\")` - Again we are using an IP packet and the destination IP is my router (which is also my DNS provider - found via TCP/IP section of my Wireless Network setup)\n",
    "* `UDP()` - since well, DNS is over UDP (typically over port 53)\n",
    "* `/DNS` - this tells Scapy to make a DNS packet\n",
    "* `rd=1` - Is telling Scapy that recursion is desired - not sure why this is needed but it's per the docs\n",
    "* `qd=DNSQR(qname=\"www.python.org\")` - the question record of the DNS query\n",
    "\n",
    "The similar dig command:\n",
    "\n",
    "```bash\n",
    "$ dig @10.128.128.128 -q \"www.python.org\" +recurse\n",
    "```"
   ]
  },
  {
   "cell_type": "code",
   "execution_count": 5,
   "metadata": {
    "collapsed": false
   },
   "outputs": [
    {
     "data": {
      "text/plain": [
       "<IP  version=4L ihl=5L tos=0x0 len=111 id=52063 flags=DF frag=0L ttl=64 proto=udp chksum=0x481b src=10.128.128.128 dst=10.121.145.138 options=[] |<UDP  sport=domain dport=domain len=91 chksum=0x4037 |<DNS  id=0 qr=1L opcode=QUERY aa=0L tc=0L rd=1L ra=1L z=0L ad=0L cd=0L rcode=ok qdcount=1 ancount=2 nscount=0 arcount=0 qd=<DNSQR  qname='www.python.org.' qtype=A qclass=IN |> an=<DNSRR  rrname='www.python.org.' type=CNAME rclass=IN ttl=44595 rdata='python.map.fastly.net.' |<DNSRR  rrname='python.map.fastly.net.' type=A rclass=IN ttl=21 rdata='103.245.222.223' |>> ns=None ar=None |>>>"
      ]
     },
     "execution_count": 5,
     "metadata": {},
     "output_type": "execute_result"
    }
   ],
   "source": [
    "dns_query"
   ]
  },
  {
   "cell_type": "code",
   "execution_count": 6,
   "metadata": {
    "collapsed": false,
    "scrolled": true
   },
   "outputs": [
    {
     "name": "stdout",
     "output_type": "stream",
     "text": [
      "###[ IP ]###\n",
      "  version   = 4L\n",
      "  ihl       = 5L\n",
      "  tos       = 0x0\n",
      "  len       = 111\n",
      "  id        = 52063\n",
      "  flags     = DF\n",
      "  frag      = 0L\n",
      "  ttl       = 64\n",
      "  proto     = udp\n",
      "  chksum    = 0x481b\n",
      "  src       = 10.128.128.128\n",
      "  dst       = 10.121.145.138\n",
      "  \\options   \\\n",
      "###[ UDP ]###\n",
      "     sport     = domain\n",
      "     dport     = domain\n",
      "     len       = 91\n",
      "     chksum    = 0x4037\n",
      "###[ DNS ]###\n",
      "        id        = 0\n",
      "        qr        = 1L\n",
      "        opcode    = QUERY\n",
      "        aa        = 0L\n",
      "        tc        = 0L\n",
      "        rd        = 1L\n",
      "        ra        = 1L\n",
      "        z         = 0L\n",
      "        ad        = 0L\n",
      "        cd        = 0L\n",
      "        rcode     = ok\n",
      "        qdcount   = 1\n",
      "        ancount   = 2\n",
      "        nscount   = 0\n",
      "        arcount   = 0\n",
      "        \\qd        \\\n",
      "         |###[ DNS Question Record ]###\n",
      "         |  qname     = 'www.python.org.'\n",
      "         |  qtype     = A\n",
      "         |  qclass    = IN\n",
      "        \\an        \\\n",
      "         |###[ DNS Resource Record ]###\n",
      "         |  rrname    = 'www.python.org.'\n",
      "         |  type      = CNAME\n",
      "         |  rclass    = IN\n",
      "         |  ttl       = 44595\n",
      "         |  rdlen     = 23\n",
      "         |  rdata     = 'python.map.fastly.net.'\n",
      "         |###[ DNS Resource Record ]###\n",
      "         |  rrname    = 'python.map.fastly.net.'\n",
      "         |  type      = A\n",
      "         |  rclass    = IN\n",
      "         |  ttl       = 21\n",
      "         |  rdlen     = 4\n",
      "         |  rdata     = '103.245.222.223'\n",
      "        ns        = None\n",
      "        ar        = None\n"
     ]
    }
   ],
   "source": [
    "dns_query.show()"
   ]
  },
  {
   "cell_type": "markdown",
   "metadata": {},
   "source": [
    "Let's parse out the response to the DNS query:"
   ]
  },
  {
   "cell_type": "code",
   "execution_count": 7,
   "metadata": {
    "collapsed": false
   },
   "outputs": [],
   "source": [
    "dns_layer = dns_query.getlayer(DNS)"
   ]
  },
  {
   "cell_type": "code",
   "execution_count": 8,
   "metadata": {
    "collapsed": false
   },
   "outputs": [
    {
     "data": {
      "text/plain": [
       "<DNSQR  qname='www.python.org.' qtype=A qclass=IN |>"
      ]
     },
     "execution_count": 8,
     "metadata": {},
     "output_type": "execute_result"
    }
   ],
   "source": [
    "dns_layer.fields.get(\"qd\")  # Question section"
   ]
  },
  {
   "cell_type": "markdown",
   "metadata": {},
   "source": [
    "And we can actually call the `show()` method on these too:"
   ]
  },
  {
   "cell_type": "code",
   "execution_count": 13,
   "metadata": {
    "collapsed": false
   },
   "outputs": [
    {
     "name": "stdout",
     "output_type": "stream",
     "text": [
      "###[ DNS Question Record ]###\n",
      "  qname     = 'www.python.org.'\n",
      "  qtype     = A\n",
      "  qclass    = IN\n"
     ]
    }
   ],
   "source": [
    "dns_layer.fields.get(\"qd\").show()"
   ]
  },
  {
   "cell_type": "code",
   "execution_count": 14,
   "metadata": {
    "collapsed": false,
    "scrolled": true
   },
   "outputs": [
    {
     "name": "stdout",
     "output_type": "stream",
     "text": [
      "###[ DNS Resource Record ]###\n",
      "  rrname    = 'www.python.org.'\n",
      "  type      = CNAME\n",
      "  rclass    = IN\n",
      "  ttl       = 44595\n",
      "  rdlen     = 23\n",
      "  rdata     = 'python.map.fastly.net.'\n",
      "###[ DNS Resource Record ]###\n",
      "  rrname    = 'python.map.fastly.net.'\n",
      "  type      = A\n",
      "  rclass    = IN\n",
      "  ttl       = 21\n",
      "  rdlen     = 4\n",
      "  rdata     = '103.245.222.223'\n"
     ]
    }
   ],
   "source": [
    "dns_layer.fields.get(\"an\").show()  # records for Answer section"
   ]
  },
  {
   "cell_type": "markdown",
   "metadata": {},
   "source": [
    "Compare to the `dig` output:\n",
    "\n",
    "```bash\n",
    "$ dig @172.19.248.1 -q \"www.python.org\" +recurse\n",
    "\n",
    "; <<>> DiG 9.8.3-P1 <<>> @172.19.248.1 -q www.python.org +recurse\n",
    "; (1 server found)\n",
    ";; global options: +cmd\n",
    ";; Got answer:\n",
    ";; ->>HEADER<<- opcode: QUERY, status: NOERROR, id: 48869\n",
    ";; flags: qr rd ra; QUERY: 1, ANSWER: 2, AUTHORITY: 4, ADDITIONAL: 4\n",
    "\n",
    ";; QUESTION SECTION:\n",
    ";www.python.org.\t\t\tIN\tA\n",
    "\n",
    ";; ANSWER SECTION:\n",
    "www.python.org.\t\t50217\tIN\tCNAME\tpython.map.fastly.net.\n",
    "python.map.fastly.net.\t5\tIN\tA\t23.235.39.223\n",
    "\n",
    ";; AUTHORITY SECTION:\n",
    "fastly.net.\t\t22425\tIN\tNS\tns2.p04.dynect.net.\n",
    "fastly.net.\t\t22425\tIN\tNS\tns4.p04.dynect.net.\n",
    "fastly.net.\t\t22425\tIN\tNS\tns3.p04.dynect.net.\n",
    "fastly.net.\t\t22425\tIN\tNS\tns1.p04.dynect.net.\n",
    "\n",
    ";; ADDITIONAL SECTION:\n",
    "ns1.p04.dynect.net.\t42349\tIN\tA\t208.78.70.4\n",
    "ns2.p04.dynect.net.\t22425\tIN\tA\t204.13.250.4\n",
    "ns3.p04.dynect.net.\t22425\tIN\tA\t208.78.71.4\n",
    "ns4.p04.dynect.net.\t22425\tIN\tA\t204.13.251.4\n",
    "\n",
    ";; Query time: 2 msec\n",
    ";; SERVER: 172.19.248.1#53(172.19.248.1)\n",
    ";; WHEN: Mon Jun 15 23:34:38 2015\n",
    ";; MSG SIZE  rcvd: 230\n",
    "```"
   ]
  },
  {
   "cell_type": "markdown",
   "metadata": {},
   "source": [
    "When I ran it today (6/16/2015):\n",
    "\n",
    "```bash\n",
    "$ dig @10.128.128.128 -q \"www.python.org\" +recurse\n",
    "\n",
    "; <<>> DiG 9.8.3-P1 <<>> @10.128.128.128 -q www.python.org +recurse\n",
    "; (1 server found)\n",
    ";; global options: +cmd\n",
    ";; Got answer:\n",
    ";; ->>HEADER<<- opcode: QUERY, status: NOERROR, id: 52563\n",
    ";; flags: qr rd ra; QUERY: 1, ANSWER: 2, AUTHORITY: 0, ADDITIONAL: 0\n",
    "\n",
    ";; QUESTION SECTION:\n",
    ";www.python.org.\t\t\tIN\tA\n",
    "\n",
    ";; ANSWER SECTION:\n",
    "www.python.org.\t\t761\tIN\tCNAME\tpython.map.fastly.net.\n",
    "python.map.fastly.net.\t30\tIN\tA\t103.245.222.223\n",
    "\n",
    ";; Query time: 13 msec\n",
    ";; SERVER: 10.128.128.128#53(10.128.128.128)\n",
    ";; WHEN: Tue Jun 16 09:33:54 2015\n",
    ";; MSG SIZE  rcvd: 83\n",
    "```"
   ]
  },
  {
   "cell_type": "code",
   "execution_count": 19,
   "metadata": {
    "collapsed": false
   },
   "outputs": [
    {
     "data": {
      "text/plain": [
       "'www.python.org.'"
      ]
     },
     "execution_count": 19,
     "metadata": {},
     "output_type": "execute_result"
    }
   ],
   "source": [
    "dns_layer.fields.get(\"an\")[0].rrname  # get resource record name"
   ]
  },
  {
   "cell_type": "code",
   "execution_count": 20,
   "metadata": {
    "collapsed": false
   },
   "outputs": [
    {
     "data": {
      "text/plain": [
       "'python.map.fastly.net.'"
      ]
     },
     "execution_count": 20,
     "metadata": {},
     "output_type": "execute_result"
    }
   ],
   "source": [
    "dns_layer.fields.get(\"an\")[1].rrname"
   ]
  },
  {
   "cell_type": "code",
   "execution_count": 21,
   "metadata": {
    "collapsed": false
   },
   "outputs": [
    {
     "data": {
      "text/plain": [
       "5"
      ]
     },
     "execution_count": 21,
     "metadata": {},
     "output_type": "execute_result"
    }
   ],
   "source": [
    "dns_layer.fields.get(\"an\")[0].type"
   ]
  },
  {
   "cell_type": "code",
   "execution_count": 22,
   "metadata": {
    "collapsed": false
   },
   "outputs": [
    {
     "data": {
      "text/plain": [
       "1"
      ]
     },
     "execution_count": 22,
     "metadata": {},
     "output_type": "execute_result"
    }
   ],
   "source": [
    "dns_layer.fields.get(\"an\")[1].type"
   ]
  },
  {
   "cell_type": "code",
   "execution_count": 23,
   "metadata": {
    "collapsed": false
   },
   "outputs": [
    {
     "data": {
      "text/plain": [
       "'python.map.fastly.net.'"
      ]
     },
     "execution_count": 23,
     "metadata": {},
     "output_type": "execute_result"
    }
   ],
   "source": [
    "dns_layer.fields.get(\"an\")[0].rdata"
   ]
  },
  {
   "cell_type": "code",
   "execution_count": 24,
   "metadata": {
    "collapsed": false
   },
   "outputs": [
    {
     "data": {
      "text/plain": [
       "'103.245.222.223'"
      ]
     },
     "execution_count": 24,
     "metadata": {},
     "output_type": "execute_result"
    }
   ],
   "source": [
    "dns_layer.fields.get(\"an\")[1].rdata"
   ]
  },
  {
   "cell_type": "markdown",
   "metadata": {},
   "source": [
    "# whois"
   ]
  },
  {
   "cell_type": "markdown",
   "metadata": {},
   "source": [
    "Yesterday I just discovered that there's also a `whois` method on a packet!  Unfortunately, it prints directly to stdout, so for the output you'll have to look back at the command line - where you launched IPython notebook (unless you're using my tmpnb setup, then you're kind of screwed :-/)"
   ]
  },
  {
   "cell_type": "code",
   "execution_count": 12,
   "metadata": {
    "collapsed": false
   },
   "outputs": [],
   "source": [
    "a_pkt = IP(dst=\"www.python.org\")"
   ]
  },
  {
   "cell_type": "code",
   "execution_count": 23,
   "metadata": {
    "collapsed": false
   },
   "outputs": [],
   "source": [
    "a_pkt.whois()"
   ]
  },
  {
   "cell_type": "markdown",
   "metadata": {},
   "source": [
    "# Traceroute\n",
    "\n",
    "Scapy has a traceroute function that you'll see is a little different than traceroute on the command line:"
   ]
  },
  {
   "cell_type": "code",
   "execution_count": 25,
   "metadata": {
    "collapsed": false
   },
   "outputs": [
    {
     "name": "stdout",
     "output_type": "stream",
     "text": [
      "\n",
      "Received 19 packets, got 19 answers, remaining 1 packets\n",
      "   103.245.222.223:tcp80 \n",
      "1  192.168.1.1     11    \n",
      "2  103.224.165.1   11    \n",
      "3  103.6.148.46    11    \n",
      "4  103.6.148.45    11    \n",
      "5  213.248.72.21   11    \n",
      "6  62.115.134.41   11    \n",
      "8  103.245.222.223 SA    \n",
      "9  103.245.222.223 SA    \n",
      "10 103.245.222.223 SA    \n",
      "11 103.245.222.223 SA    \n",
      "12 103.245.222.223 SA    \n",
      "13 103.245.222.223 SA    \n",
      "14 103.245.222.223 SA    \n",
      "15 103.245.222.223 SA    \n",
      "16 103.245.222.223 SA    \n",
      "17 103.245.222.223 SA    \n",
      "18 103.245.222.223 SA    \n",
      "19 103.245.222.223 SA    \n",
      "20 103.245.222.223 SA    \n",
      "Begin emission:\n",
      "Finished to send 20 packets.\n"
     ]
    },
    {
     "data": {
      "text/plain": [
       "(<Traceroute: TCP:13 UDP:0 ICMP:6 Other:0>,\n",
       " <Unanswered: TCP:1 UDP:0 ICMP:0 Other:0>)"
      ]
     },
     "execution_count": 25,
     "metadata": {},
     "output_type": "execute_result"
    }
   ],
   "source": [
    "traceroute([\"www.python.org\"], maxttl=20)"
   ]
  },
  {
   "cell_type": "markdown",
   "metadata": {},
   "source": [
    "The `maxttl` is the maximum number of hops for Scapy to take.  \n",
    "\n",
    "This would be similar to `traceroute -m 20 www.python.org` on the command line. \n",
    "\n",
    "**HOWEVER!**  See the second line: `172.19.248.1:tcp80` By default, Scapy does its traceroute over TCP on port 80.  This is different than the defaults of the traceroute CLI utility (which usually does it over `ICMP` (same as `ping`)).  I suspect this is either for speed (TCP versus ICMP), or probable firewalls blocking ports other than `80` and `443`."
   ]
  },
  {
   "cell_type": "markdown",
   "metadata": {},
   "source": [
    "If you noticed, the `traceroute` function accepts a list of strings for the hosts, so we can actually put in multiple hosts.\n",
    "\n",
    "Cool thing about scapy is that it will traceroute each host concurrently, and is therefore pretty fast:"
   ]
  },
  {
   "cell_type": "code",
   "execution_count": 26,
   "metadata": {
    "collapsed": false,
    "scrolled": true
   },
   "outputs": [
    {
     "name": "stdout",
     "output_type": "stream",
     "text": [
      "\n",
      "Received 55 packets, got 55 answers, remaining 5 packets\n",
      "   103.245.222.223:tcp80 192.30.252.128:tcp80 81.28.232.189:tcp80 \n",
      "1  192.168.1.1     11    192.168.1.1     11   192.168.1.1     11  \n",
      "2  103.224.165.1   11    103.224.165.1   11   103.224.165.1   11  \n",
      "3  103.6.148.46    11    103.6.148.46    11   103.6.148.46    11  \n",
      "4  103.6.148.45    11    103.6.148.45    11   103.6.148.45    11  \n",
      "5  213.248.72.21   11    183.182.80.69   11   213.248.72.21   11  \n",
      "6  62.115.134.43   11    141.136.109.21  11   62.115.134.128  11  \n",
      "7  -                     77.67.69.98     11   62.115.139.57   11  \n",
      "8  103.245.222.223 SA    4.69.152.126    11   62.115.142.181  11  \n",
      "9  103.245.222.223 SA    -                    149.6.170.91    11  \n",
      "10 103.245.222.223 SA    -                    149.6.170.90    11  \n",
      "11 103.245.222.223 SA    192.30.252.201  11   93.92.131.110   11  \n",
      "12 103.245.222.223 SA    192.30.252.128  SA   -                   \n",
      "13 103.245.222.223 SA    192.30.252.128  SA   81.28.232.189   SA  \n",
      "14 103.245.222.223 SA    -                    81.28.232.189   SA  \n",
      "15 103.245.222.223 SA    192.30.252.128  SA   81.28.232.189   SA  \n",
      "16 103.245.222.223 SA    192.30.252.201  11   81.28.232.189   SA  \n",
      "17 103.245.222.223 SA    192.30.252.128  SA   81.28.232.189   SA  \n",
      "18 103.245.222.223 SA    192.30.252.128  SA   81.28.232.189   SA  \n",
      "19 103.245.222.223 SA    192.30.252.128  SA   81.28.232.189   SA  \n",
      "20 103.245.222.223 SA    192.30.252.128  SA   81.28.232.189   SA  \n",
      "Begin emission:\n",
      "Finished to send 60 packets.\n"
     ]
    },
    {
     "data": {
      "text/plain": [
       "(<Traceroute: TCP:28 UDP:0 ICMP:27 Other:0>,\n",
       " <Unanswered: TCP:5 UDP:0 ICMP:0 Other:0>)"
      ]
     },
     "execution_count": 26,
     "metadata": {},
     "output_type": "execute_result"
    }
   ],
   "source": [
    "traceroute([\"www.python.org\", \"www.pyladies.com\", \"www.github.com\"], maxttl=20)"
   ]
  },
  {
   "cell_type": "markdown",
   "metadata": {},
   "source": [
    "# Visualize"
   ]
  },
  {
   "cell_type": "markdown",
   "metadata": {},
   "source": [
    "Scapy can also make super cool graph visualizations"
   ]
  },
  {
   "cell_type": "code",
   "execution_count": 3,
   "metadata": {
    "collapsed": false
   },
   "outputs": [
    {
     "name": "stdout",
     "output_type": "stream",
     "text": [
      "\n",
      "Received 53 packets, got 53 answers, remaining 7 packets\n",
      "   103.245.222.223:tcp80 192.30.252.129:tcp80 81.28.232.189:tcp80 \n",
      "1  192.168.1.1     11    192.168.1.1     11   192.168.1.1     11  \n",
      "2  103.224.165.1   11    103.224.165.1   11   103.224.165.1   11  \n",
      "3  103.6.148.46    11    103.6.148.46    11   103.6.148.46    11  \n",
      "4  103.6.148.45    11    103.6.148.45    11   103.6.148.45    11  \n",
      "5  213.248.72.21   11    183.182.80.69   11   213.248.72.21   11  \n",
      "6  -                     141.136.109.21  11   80.91.247.54    11  \n",
      "7  -                     -                    62.115.139.57   11  \n",
      "8  103.245.222.223 SA    -                    62.115.142.181  11  \n",
      "9  103.245.222.223 SA    -                    149.6.170.91    11  \n",
      "10 103.245.222.223 SA    4.53.116.102    11   149.6.170.90    11  \n",
      "11 103.245.222.223 SA    -                    93.92.131.110   11  \n",
      "12 103.245.222.223 SA    192.30.252.129  SA   -                   \n",
      "13 103.245.222.223 SA    4.69.206.41     11   81.28.232.189   SA  \n",
      "14 103.245.222.223 SA    192.30.252.129  SA   81.28.232.189   SA  \n",
      "15 103.245.222.223 SA    4.53.116.102    11   81.28.232.189   SA  \n",
      "16 103.245.222.223 SA    192.30.252.205  11   81.28.232.189   SA  \n",
      "17 103.245.222.223 SA    192.30.252.129  SA   81.28.232.189   SA  \n",
      "18 103.245.222.223 SA    192.30.252.129  SA   81.28.232.189   SA  \n",
      "19 103.245.222.223 SA    192.30.252.129  SA   81.28.232.189   SA  \n",
      "20 103.245.222.223 SA    192.30.252.129  SA   81.28.232.189   SA  \n",
      "Begin emission:\n",
      "Finished to send 60 packets.\n"
     ]
    }
   ],
   "source": [
    "ans, unans = traceroute([\"www.python.org\", \"www.pyladies.com\", \"www.github.com\"], maxttl=20)"
   ]
  },
  {
   "cell_type": "code",
   "execution_count": 4,
   "metadata": {
    "collapsed": false
   },
   "outputs": [
    {
     "data": {
      "text/plain": [
       "<Traceroute: TCP:27 UDP:0 ICMP:26 Other:0>"
      ]
     },
     "execution_count": 4,
     "metadata": {},
     "output_type": "execute_result"
    }
   ],
   "source": [
    "ans"
   ]
  },
  {
   "cell_type": "code",
   "execution_count": 6,
   "metadata": {
    "collapsed": true
   },
   "outputs": [],
   "source": [
    "ans.graph(target=\"> ../data/traceroute_graph.svg\")"
   ]
  },
  {
   "cell_type": "code",
   "execution_count": 7,
   "metadata": {
    "collapsed": true
   },
   "outputs": [],
   "source": [
    "from IPython.display import SVG"
   ]
  },
  {
   "cell_type": "code",
   "execution_count": 8,
   "metadata": {
    "collapsed": false
   },
   "outputs": [],
   "source": [
    "svg_file = \"../data/traceroute_graph.svg\""
   ]
  },
  {
   "cell_type": "code",
   "execution_count": 9,
   "metadata": {
    "collapsed": false,
    "scrolled": true
   },
   "outputs": [
    {
     "data": {
      "image/svg+xml": [
       "<svg height=\"1235pt\" viewBox=\"0.00 0.00 728.00 1235.00\" width=\"728pt\" xmlns=\"http://www.w3.org/2000/svg\" xmlns:xlink=\"http://www.w3.org/1999/xlink\">\n",
       "<g class=\"graph\" id=\"graph0\" transform=\"scale(1 1) rotate(0) translate(4 1231)\">\n",
       "<title>trace</title>\n",
       "<polygon fill=\"white\" points=\"-4,4 -4,-1231 724,-1231 724,4 -4,4\" stroke=\"none\"/>\n",
       "<g class=\"cluster\" id=\"clust1\"><title>cluster_54113</title>\n",
       "<polygon fill=\"none\" points=\"302,-570 302,-651 488,-651 488,-570 302,-570\" stroke=\"#608686\"/>\n",
       "<text font-family=\"Times,serif\" font-size=\"10.00\" text-anchor=\"middle\" x=\"395\" y=\"-639\">54113</text>\n",
       "<text font-family=\"Times,serif\" font-size=\"10.00\" text-anchor=\"middle\" x=\"395\" y=\"-629\">[FASTLY - Fastly,US]</text>\n",
       "</g>\n",
       "<g class=\"cluster\" id=\"clust2\"><title>cluster_132132</title>\n",
       "<polygon fill=\"none\" points=\"115,-891 115,-1043 335,-1043 335,-891 115,-891\" stroke=\"#60baba\"/>\n",
       "<text font-family=\"Times,serif\" font-size=\"10.00\" text-anchor=\"middle\" x=\"225\" y=\"-1031\">132132</text>\n",
       "<text font-family=\"Times,serif\" font-size=\"10.00\" text-anchor=\"middle\" x=\"225\" y=\"-1021\">[REPUBLICTELECOM-SG MyRepublic Ltd.,SG]</text>\n",
       "</g>\n",
       "<g class=\"cluster\" id=\"clust3\"><title>cluster_36459</title>\n",
       "<polygon fill=\"none\" points=\"385,-232 385,-313 712,-313 712,-232 385,-232\" stroke=\"#60ffff\"/>\n",
       "<text font-family=\"Times,serif\" font-size=\"10.00\" text-anchor=\"middle\" x=\"548.5\" y=\"-301\">36459</text>\n",
       "<text font-family=\"Times,serif\" font-size=\"10.00\" text-anchor=\"middle\" x=\"548.5\" y=\"-291\">[GITHUB - GitHub, Inc.,US]</text>\n",
       "</g>\n",
       "<g class=\"cluster\" id=\"clust4\"><title>cluster_56300</title>\n",
       "<polygon fill=\"none\" points=\"129,-1051 129,-1131 321,-1131 321,-1051 129,-1051\" stroke=\"#868660\"/>\n",
       "<text font-family=\"Times,serif\" font-size=\"10.00\" text-anchor=\"middle\" x=\"225\" y=\"-1119\">56300</text>\n",
       "<text font-family=\"Times,serif\" font-size=\"10.00\" text-anchor=\"middle\" x=\"225\" y=\"-1109\">[MYHOSTING-AS-AP MYHOSTING,SG]</text>\n",
       "</g>\n",
       "<g class=\"cluster\" id=\"clust5\"><title>cluster_174</title>\n",
       "<polygon fill=\"none\" points=\"12,-410 12,-562 215,-562 215,-410 12,-410\" stroke=\"#86ba86\"/>\n",
       "<text font-family=\"Times,serif\" font-size=\"10.00\" text-anchor=\"middle\" x=\"113.5\" y=\"-550\">174</text>\n",
       "<text font-family=\"Times,serif\" font-size=\"10.00\" text-anchor=\"middle\" x=\"113.5\" y=\"-540\">[COGENT-174 - Cogent Communications,US]</text>\n",
       "</g>\n",
       "<g class=\"cluster\" id=\"clust6\"><title>cluster_1299</title>\n",
       "<polygon fill=\"none\" points=\"8,-570.5 8,-883 294,-883 294,-570.5 8,-570.5\" stroke=\"#86ffba\"/>\n",
       "<text font-family=\"Times,serif\" font-size=\"10.00\" text-anchor=\"middle\" x=\"151\" y=\"-871\">1299</text>\n",
       "<text font-family=\"Times,serif\" font-size=\"10.00\" text-anchor=\"middle\" x=\"151\" y=\"-861\">[TELIANET TeliaSonera AB,SE]</text>\n",
       "</g>\n",
       "<g class=\"cluster\" id=\"clust7\"><title>cluster_4565</title>\n",
       "<polygon fill=\"none\" points=\"115,-1139 115,-1219 335,-1219 335,-1139 115,-1139\" stroke=\"#8660ff\"/>\n",
       "<text font-family=\"Times,serif\" font-size=\"10.00\" text-anchor=\"middle\" x=\"225\" y=\"-1207\">4565</text>\n",
       "<text font-family=\"Times,serif\" font-size=\"10.00\" text-anchor=\"middle\" x=\"225\" y=\"-1197\">[MEGAPATH2-US - MegaPath Networks Inc.,US]</text>\n",
       "</g>\n",
       "<g class=\"cluster\" id=\"clust8\"><title>cluster_29014</title>\n",
       "<polygon fill=\"none\" points=\"12,-321 12,-402 323,-402 323,-321 12,-321\" stroke=\"#baba60\"/>\n",
       "<text font-family=\"Times,serif\" font-size=\"10.00\" text-anchor=\"middle\" x=\"167.5\" y=\"-390\">29014</text>\n",
       "<text font-family=\"Times,serif\" font-size=\"10.00\" text-anchor=\"middle\" x=\"167.5\" y=\"-380\">[SCALEUP ScaleUp Technologies GmbH &amp; Co. KG,DE]</text>\n",
       "</g>\n",
       "<g class=\"cluster\" id=\"clust9\"><title>cluster_3257</title>\n",
       "<polygon fill=\"none\" points=\"417,-659 417,-883 585,-883 585,-659 417,-659\" stroke=\"#baff86\"/>\n",
       "<text font-family=\"Times,serif\" font-size=\"10.00\" text-anchor=\"middle\" x=\"501\" y=\"-871\">3257</text>\n",
       "<text font-family=\"Times,serif\" font-size=\"10.00\" text-anchor=\"middle\" x=\"501\" y=\"-861\">[TINET-BACKBONE Tinet SpA,DE]</text>\n",
       "</g>\n",
       "<g class=\"cluster\" id=\"clust10\"><title>cluster_3356</title>\n",
       "<polygon fill=\"none\" points=\"483,-8 483,-88 687,-88 687,-8 483,-8\" stroke=\"#ba60ba\"/>\n",
       "<text font-family=\"Times,serif\" font-size=\"10.00\" text-anchor=\"middle\" x=\"585\" y=\"-76\">3356</text>\n",
       "<text font-family=\"Times,serif\" font-size=\"10.00\" text-anchor=\"middle\" x=\"585\" y=\"-66\">[LEVEL3 - Level 3 Communications, Inc.,US]</text>\n",
       "</g>\n",
       "<!-- 103.245.222.223 -->\n",
       "<g class=\"node\" id=\"node1\"><title>103.245.222.223</title>\n",
       "<polygon fill=\"green\" points=\"310.162,-578.5 310.162,-614.5 479.838,-614.5 479.838,-578.5 310.162,-578.5\" stroke=\"black\"/>\n",
       "<text font-family=\"Times,serif\" font-size=\"14.00\" text-anchor=\"middle\" x=\"365.412\" y=\"-592.3\">103.245.222.223</text>\n",
       "<polyline fill=\"none\" points=\"420.662,-578.5 420.662,-614.5 \" stroke=\"black\"/>\n",
       "<text font-family=\"Times,serif\" font-size=\"14.00\" text-anchor=\"middle\" x=\"450.25\" y=\"-592.3\">http SA</text>\n",
       "</g>\n",
       "<!-- 103.6.148.45 -->\n",
       "<g class=\"node\" id=\"node2\"><title>103.6.148.45</title>\n",
       "<ellipse cx=\"225\" cy=\"-917\" fill=\"#60baba\" rx=\"56.5701\" ry=\"18\" stroke=\"black\"/>\n",
       "<text font-family=\"Times,serif\" font-size=\"14.00\" text-anchor=\"middle\" x=\"225\" y=\"-912.8\">103.6.148.45</text>\n",
       "</g>\n",
       "<!-- 213.248.72.21 -->\n",
       "<g class=\"node\" id=\"node12\"><title>213.248.72.21</title>\n",
       "<ellipse cx=\"225\" cy=\"-829\" fill=\"#86ffba\" rx=\"60.9135\" ry=\"18\" stroke=\"black\"/>\n",
       "<text font-family=\"Times,serif\" font-size=\"14.00\" text-anchor=\"middle\" x=\"225\" y=\"-824.8\">213.248.72.21</text>\n",
       "</g>\n",
       "<!-- 103.6.148.45&#45;&gt;213.248.72.21 -->\n",
       "<g class=\"edge\" id=\"edge19\"><title>103.6.148.45-&gt;213.248.72.21</title>\n",
       "<path d=\"M219.496,-899.009C218.184,-887.112 217.908,-870.961 218.668,-857.275\" fill=\"none\" stroke=\"#a04040\"/>\n",
       "<polygon fill=\"#a04040\" points=\"222.185,-857.204 219.5,-846.956 215.208,-856.642 222.185,-857.204\" stroke=\"#a04040\"/>\n",
       "</g>\n",
       "<!-- 103.6.148.45&#45;&gt;213.248.72.21 -->\n",
       "<g class=\"edge\" id=\"edge26\"><title>103.6.148.45-&gt;213.248.72.21</title>\n",
       "<path d=\"M230.504,-899.009C231.816,-887.112 232.092,-870.961 231.332,-857.275\" fill=\"none\" stroke=\"#a02020\"/>\n",
       "<polygon fill=\"#a02020\" points=\"234.792,-856.642 230.5,-846.956 227.815,-857.204 234.792,-856.642\" stroke=\"#a02020\"/>\n",
       "</g>\n",
       "<!-- 183.182.80.69 -->\n",
       "<g class=\"node\" id=\"node17\"><title>183.182.80.69</title>\n",
       "<ellipse cx=\"488\" cy=\"-829\" fill=\"#baff86\" rx=\"60.9135\" ry=\"18\" stroke=\"black\"/>\n",
       "<text font-family=\"Times,serif\" font-size=\"14.00\" text-anchor=\"middle\" x=\"488\" y=\"-824.8\">183.182.80.69</text>\n",
       "</g>\n",
       "<!-- 103.6.148.45&#45;&gt;183.182.80.69 -->\n",
       "<g class=\"edge\" id=\"edge4\"><title>103.6.148.45-&gt;183.182.80.69</title>\n",
       "<path d=\"M262.962,-903.587C309.371,-888.411 388.009,-862.697 438.959,-846.036\" fill=\"none\" stroke=\"#a07070\"/>\n",
       "<polygon fill=\"#a07070\" points=\"440.345,-849.266 448.762,-842.831 438.169,-842.612 440.345,-849.266\" stroke=\"#a07070\"/>\n",
       "</g>\n",
       "<!-- 103.6.148.46 -->\n",
       "<g class=\"node\" id=\"node3\"><title>103.6.148.46</title>\n",
       "<ellipse cx=\"225\" cy=\"-989\" fill=\"#60baba\" rx=\"56.5701\" ry=\"18\" stroke=\"black\"/>\n",
       "<text font-family=\"Times,serif\" font-size=\"14.00\" text-anchor=\"middle\" x=\"225\" y=\"-984.8\">103.6.148.46</text>\n",
       "</g>\n",
       "<!-- 103.6.148.46&#45;&gt;103.6.148.45 -->\n",
       "<g class=\"edge\" id=\"edge3\"><title>103.6.148.46-&gt;103.6.148.45</title>\n",
       "<path d=\"M213.244,-971.055C211.565,-963.145 211.098,-953.54 211.844,-944.688\" fill=\"none\" stroke=\"#a07070\"/>\n",
       "<polygon fill=\"#a07070\" points=\"215.308,-945.187 213.277,-934.789 208.381,-944.185 215.308,-945.187\" stroke=\"#a07070\"/>\n",
       "</g>\n",
       "<!-- 103.6.148.46&#45;&gt;103.6.148.45 -->\n",
       "<g class=\"edge\" id=\"edge18\"><title>103.6.148.46-&gt;103.6.148.45</title>\n",
       "<path d=\"M225,-970.697C225,-962.983 225,-953.712 225,-945.112\" fill=\"none\" stroke=\"#a04040\"/>\n",
       "<polygon fill=\"#a04040\" points=\"228.5,-945.104 225,-935.104 221.5,-945.104 228.5,-945.104\" stroke=\"#a04040\"/>\n",
       "</g>\n",
       "<!-- 103.6.148.46&#45;&gt;103.6.148.45 -->\n",
       "<g class=\"edge\" id=\"edge25\"><title>103.6.148.46-&gt;103.6.148.45</title>\n",
       "<path d=\"M236.756,-971.055C238.435,-963.145 238.902,-953.54 238.156,-944.688\" fill=\"none\" stroke=\"#a02020\"/>\n",
       "<polygon fill=\"#a02020\" points=\"241.619,-944.185 236.723,-934.789 234.692,-945.187 241.619,-944.185\" stroke=\"#a02020\"/>\n",
       "</g>\n",
       "<!-- 192.30.252.205 -->\n",
       "<g class=\"node\" id=\"node4\"><title>192.30.252.205</title>\n",
       "<ellipse cx=\"639\" cy=\"-258.5\" fill=\"#60ffff\" rx=\"65.2572\" ry=\"18\" stroke=\"black\"/>\n",
       "<text font-family=\"Times,serif\" font-size=\"14.00\" text-anchor=\"middle\" x=\"639\" y=\"-254.3\">192.30.252.205</text>\n",
       "</g>\n",
       "<!-- 192.30.252.129 -->\n",
       "<g class=\"node\" id=\"node5\"><title>192.30.252.129</title>\n",
       "<polygon fill=\"green\" points=\"392.662,-240.5 392.662,-276.5 555.338,-276.5 555.338,-240.5 392.662,-240.5\" stroke=\"black\"/>\n",
       "<text font-family=\"Times,serif\" font-size=\"14.00\" text-anchor=\"middle\" x=\"444.412\" y=\"-254.3\">192.30.252.129</text>\n",
       "<polyline fill=\"none\" points=\"496.162,-240.5 496.162,-276.5 \" stroke=\"black\"/>\n",
       "<text font-family=\"Times,serif\" font-size=\"14.00\" text-anchor=\"middle\" x=\"525.75\" y=\"-254.3\">http SA</text>\n",
       "</g>\n",
       "<!-- unk4 -->\n",
       "<g class=\"node\" id=\"node25\"><title>unk4</title>\n",
       "<ellipse cx=\"549\" cy=\"-186\" fill=\"none\" rx=\"27.589\" ry=\"18\" stroke=\"black\"/>\n",
       "<text font-family=\"Times,serif\" font-size=\"14.00\" text-anchor=\"middle\" x=\"549\" y=\"-181.8\">unk4</text>\n",
       "</g>\n",
       "<!-- 192.30.252.129&#45;&gt;unk4 -->\n",
       "<g class=\"edge\" id=\"edge12\"><title>192.30.252.129:T80-&gt;unk4</title>\n",
       "<path d=\"M526,-239.5C526,-229.956 529.228,-220.195 533.266,-211.719\" fill=\"none\" stroke=\"#a07070\"/>\n",
       "<polygon fill=\"#a07070\" points=\"536.418,-213.245 538.039,-202.775 530.243,-209.949 536.418,-213.245\" stroke=\"#a07070\"/>\n",
       "</g>\n",
       "<!-- 103.224.165.1 -->\n",
       "<g class=\"node\" id=\"node6\"><title>103.224.165.1</title>\n",
       "<ellipse cx=\"225\" cy=\"-1077\" fill=\"#868660\" rx=\"60.9135\" ry=\"18\" stroke=\"black\"/>\n",
       "<text font-family=\"Times,serif\" font-size=\"14.00\" text-anchor=\"middle\" x=\"225\" y=\"-1072.8\">103.224.165.1</text>\n",
       "</g>\n",
       "<!-- 103.224.165.1&#45;&gt;103.6.148.46 -->\n",
       "<g class=\"edge\" id=\"edge2\"><title>103.224.165.1-&gt;103.6.148.46</title>\n",
       "<path d=\"M213.993,-1059.01C211.325,-1046.92 210.799,-1030.43 212.413,-1016.6\" fill=\"none\" stroke=\"#a07070\"/>\n",
       "<polygon fill=\"#a07070\" points=\"215.878,-1017.1 214.066,-1006.66 208.973,-1015.95 215.878,-1017.1\" stroke=\"#a07070\"/>\n",
       "</g>\n",
       "<!-- 103.224.165.1&#45;&gt;103.6.148.46 -->\n",
       "<g class=\"edge\" id=\"edge17\"><title>103.224.165.1-&gt;103.6.148.46</title>\n",
       "<path d=\"M225,-1058.6C225,-1046.75 225,-1030.82 225,-1017.29\" fill=\"none\" stroke=\"#a04040\"/>\n",
       "<polygon fill=\"#a04040\" points=\"228.5,-1017.08 225,-1007.08 221.5,-1017.08 228.5,-1017.08\" stroke=\"#a04040\"/>\n",
       "</g>\n",
       "<!-- 103.224.165.1&#45;&gt;103.6.148.46 -->\n",
       "<g class=\"edge\" id=\"edge24\"><title>103.224.165.1-&gt;103.6.148.46</title>\n",
       "<path d=\"M236.007,-1059.01C238.675,-1046.92 239.201,-1030.43 237.587,-1016.6\" fill=\"none\" stroke=\"#a02020\"/>\n",
       "<polygon fill=\"#a02020\" points=\"241.027,-1015.95 235.934,-1006.66 234.122,-1017.1 241.027,-1015.95\" stroke=\"#a02020\"/>\n",
       "</g>\n",
       "<!-- 149.6.170.91 -->\n",
       "<g class=\"node\" id=\"node7\"><title>149.6.170.91</title>\n",
       "<ellipse cx=\"81\" cy=\"-508\" fill=\"#86ba86\" rx=\"56.5701\" ry=\"18\" stroke=\"black\"/>\n",
       "<text font-family=\"Times,serif\" font-size=\"14.00\" text-anchor=\"middle\" x=\"81\" y=\"-503.8\">149.6.170.91</text>\n",
       "</g>\n",
       "<!-- 149.6.170.90 -->\n",
       "<g class=\"node\" id=\"node8\"><title>149.6.170.90</title>\n",
       "<ellipse cx=\"81\" cy=\"-436\" fill=\"#86ba86\" rx=\"56.5701\" ry=\"18\" stroke=\"black\"/>\n",
       "<text font-family=\"Times,serif\" font-size=\"14.00\" text-anchor=\"middle\" x=\"81\" y=\"-431.8\">149.6.170.90</text>\n",
       "</g>\n",
       "<!-- 149.6.170.91&#45;&gt;149.6.170.90 -->\n",
       "<g class=\"edge\" id=\"edge31\"><title>149.6.170.91-&gt;149.6.170.90</title>\n",
       "<path d=\"M81,-489.697C81,-481.983 81,-472.712 81,-464.112\" fill=\"none\" stroke=\"#a02020\"/>\n",
       "<polygon fill=\"#a02020\" points=\"84.5001,-464.104 81,-454.104 77.5001,-464.104 84.5001,-464.104\" stroke=\"#a02020\"/>\n",
       "</g>\n",
       "<!-- 93.92.131.110 -->\n",
       "<g class=\"node\" id=\"node16\"><title>93.92.131.110</title>\n",
       "<ellipse cx=\"81\" cy=\"-347.5\" fill=\"#baba60\" rx=\"60.7661\" ry=\"18\" stroke=\"black\"/>\n",
       "<text font-family=\"Times,serif\" font-size=\"14.00\" text-anchor=\"middle\" x=\"81\" y=\"-343.3\">93.92.131.110</text>\n",
       "</g>\n",
       "<!-- 149.6.170.90&#45;&gt;93.92.131.110 -->\n",
       "<g class=\"edge\" id=\"edge32\"><title>149.6.170.90-&gt;93.92.131.110</title>\n",
       "<path d=\"M81,-417.91C81,-405.945 81,-389.699 81,-375.933\" fill=\"none\" stroke=\"#a02020\"/>\n",
       "<polygon fill=\"#a02020\" points=\"84.5001,-375.554 81,-365.554 77.5001,-375.554 84.5001,-375.554\" stroke=\"#a02020\"/>\n",
       "</g>\n",
       "<!-- 62.115.112.154 -->\n",
       "<g class=\"node\" id=\"node9\"><title>62.115.112.154</title>\n",
       "<ellipse cx=\"81\" cy=\"-596.5\" fill=\"#86ffba\" rx=\"64.9624\" ry=\"18\" stroke=\"black\"/>\n",
       "<text font-family=\"Times,serif\" font-size=\"14.00\" text-anchor=\"middle\" x=\"81\" y=\"-592.3\">62.115.112.154</text>\n",
       "</g>\n",
       "<!-- 62.115.112.154&#45;&gt;149.6.170.91 -->\n",
       "<g class=\"edge\" id=\"edge30\"><title>62.115.112.154-&gt;149.6.170.91</title>\n",
       "<path d=\"M81,-578.41C81,-566.445 81,-550.199 81,-536.433\" fill=\"none\" stroke=\"#a02020\"/>\n",
       "<polygon fill=\"#a02020\" points=\"84.5001,-536.054 81,-526.054 77.5001,-536.054 84.5001,-536.054\" stroke=\"#a02020\"/>\n",
       "</g>\n",
       "<!-- 62.115.134.41 -->\n",
       "<g class=\"node\" id=\"node10\"><title>62.115.134.41</title>\n",
       "<ellipse cx=\"225\" cy=\"-757\" fill=\"#86ffba\" rx=\"60.7661\" ry=\"18\" stroke=\"black\"/>\n",
       "<text font-family=\"Times,serif\" font-size=\"14.00\" text-anchor=\"middle\" x=\"225\" y=\"-752.8\">62.115.134.41</text>\n",
       "</g>\n",
       "<!-- unk6 -->\n",
       "<g class=\"node\" id=\"node27\"><title>unk6</title>\n",
       "<ellipse cx=\"343\" cy=\"-685\" fill=\"none\" rx=\"27.589\" ry=\"18\" stroke=\"black\"/>\n",
       "<text font-family=\"Times,serif\" font-size=\"14.00\" text-anchor=\"middle\" x=\"343\" y=\"-680.8\">unk6</text>\n",
       "</g>\n",
       "<!-- 62.115.134.41&#45;&gt;unk6 -->\n",
       "<g class=\"edge\" id=\"edge21\"><title>62.115.134.41-&gt;unk6</title>\n",
       "<path d=\"M250.896,-740.638C269.637,-729.52 294.968,-714.494 314.321,-703.013\" fill=\"none\" stroke=\"#a04040\"/>\n",
       "<polygon fill=\"#a04040\" points=\"316.201,-705.967 323.016,-697.855 312.63,-699.947 316.201,-705.967\" stroke=\"#a04040\"/>\n",
       "</g>\n",
       "<!-- 62.115.134.128 -->\n",
       "<g class=\"node\" id=\"node11\"><title>62.115.134.128</title>\n",
       "<ellipse cx=\"81\" cy=\"-757\" fill=\"#86ffba\" rx=\"65.1093\" ry=\"18\" stroke=\"black\"/>\n",
       "<text font-family=\"Times,serif\" font-size=\"14.00\" text-anchor=\"middle\" x=\"81\" y=\"-752.8\">62.115.134.128</text>\n",
       "</g>\n",
       "<!-- 62.115.139.57 -->\n",
       "<g class=\"node\" id=\"node13\"><title>62.115.139.57</title>\n",
       "<ellipse cx=\"81\" cy=\"-685\" fill=\"#86ffba\" rx=\"60.7661\" ry=\"18\" stroke=\"black\"/>\n",
       "<text font-family=\"Times,serif\" font-size=\"14.00\" text-anchor=\"middle\" x=\"81\" y=\"-680.8\">62.115.139.57</text>\n",
       "</g>\n",
       "<!-- 62.115.134.128&#45;&gt;62.115.139.57 -->\n",
       "<g class=\"edge\" id=\"edge28\"><title>62.115.134.128-&gt;62.115.139.57</title>\n",
       "<path d=\"M81,-738.697C81,-730.983 81,-721.712 81,-713.112\" fill=\"none\" stroke=\"#a02020\"/>\n",
       "<polygon fill=\"#a02020\" points=\"84.5001,-713.104 81,-703.104 77.5001,-713.104 84.5001,-713.104\" stroke=\"#a02020\"/>\n",
       "</g>\n",
       "<!-- 213.248.72.21&#45;&gt;62.115.134.41 -->\n",
       "<g class=\"edge\" id=\"edge20\"><title>213.248.72.21-&gt;62.115.134.41</title>\n",
       "<path d=\"M225,-810.697C225,-802.983 225,-793.712 225,-785.112\" fill=\"none\" stroke=\"#a04040\"/>\n",
       "<polygon fill=\"#a04040\" points=\"228.5,-785.104 225,-775.104 221.5,-785.104 228.5,-785.104\" stroke=\"#a04040\"/>\n",
       "</g>\n",
       "<!-- 213.248.72.21&#45;&gt;62.115.134.128 -->\n",
       "<g class=\"edge\" id=\"edge27\"><title>213.248.72.21-&gt;62.115.134.128</title>\n",
       "<path d=\"M194.813,-813.326C173.357,-802.896 144.321,-788.781 120.947,-777.419\" fill=\"none\" stroke=\"#a02020\"/>\n",
       "<polygon fill=\"#a02020\" points=\"122.167,-774.12 111.643,-772.896 119.107,-780.416 122.167,-774.12\" stroke=\"#a02020\"/>\n",
       "</g>\n",
       "<!-- 62.115.139.57&#45;&gt;62.115.112.154 -->\n",
       "<g class=\"edge\" id=\"edge29\"><title>62.115.139.57-&gt;62.115.112.154</title>\n",
       "<path d=\"M81,-666.91C81,-654.945 81,-638.699 81,-624.933\" fill=\"none\" stroke=\"#a02020\"/>\n",
       "<polygon fill=\"#a02020\" points=\"84.5001,-624.554 81,-614.554 77.5001,-624.554 84.5001,-624.554\" stroke=\"#a02020\"/>\n",
       "</g>\n",
       "<!-- 192.168.1.1 -->\n",
       "<g class=\"node\" id=\"node14\"><title>192.168.1.1</title>\n",
       "<ellipse cx=\"225\" cy=\"-1165\" fill=\"#8660ff\" rx=\"52.2268\" ry=\"18\" stroke=\"black\"/>\n",
       "<text font-family=\"Times,serif\" font-size=\"14.00\" text-anchor=\"middle\" x=\"225\" y=\"-1160.8\">192.168.1.1</text>\n",
       "</g>\n",
       "<!-- 192.168.1.1&#45;&gt;103.224.165.1 -->\n",
       "<g class=\"edge\" id=\"edge1\"><title>192.168.1.1-&gt;103.224.165.1</title>\n",
       "<path d=\"M213.993,-1147.01C211.342,-1134.99 210.805,-1118.64 212.382,-1104.87\" fill=\"none\" stroke=\"#a07070\"/>\n",
       "<polygon fill=\"#a07070\" points=\"215.844,-1105.39 214,-1094.96 208.935,-1104.26 215.844,-1105.39\" stroke=\"#a07070\"/>\n",
       "</g>\n",
       "<!-- 192.168.1.1&#45;&gt;103.224.165.1 -->\n",
       "<g class=\"edge\" id=\"edge16\"><title>192.168.1.1-&gt;103.224.165.1</title>\n",
       "<path d=\"M225,-1146.6C225,-1134.75 225,-1118.82 225,-1105.29\" fill=\"none\" stroke=\"#a04040\"/>\n",
       "<polygon fill=\"#a04040\" points=\"228.5,-1105.08 225,-1095.08 221.5,-1105.08 228.5,-1105.08\" stroke=\"#a04040\"/>\n",
       "</g>\n",
       "<!-- 192.168.1.1&#45;&gt;103.224.165.1 -->\n",
       "<g class=\"edge\" id=\"edge23\"><title>192.168.1.1-&gt;103.224.165.1</title>\n",
       "<path d=\"M236.007,-1147.01C238.658,-1134.99 239.195,-1118.64 237.618,-1104.87\" fill=\"none\" stroke=\"#a02020\"/>\n",
       "<polygon fill=\"#a02020\" points=\"241.065,-1104.26 236,-1094.96 234.156,-1105.39 241.065,-1104.26\" stroke=\"#a02020\"/>\n",
       "</g>\n",
       "<!-- 81.28.232.189 -->\n",
       "<g class=\"node\" id=\"node15\"><title>81.28.232.189</title>\n",
       "<polygon fill=\"green\" points=\"159.162,-329.5 159.162,-365.5 314.838,-365.5 314.838,-329.5 159.162,-329.5\" stroke=\"black\"/>\n",
       "<text font-family=\"Times,serif\" font-size=\"14.00\" text-anchor=\"middle\" x=\"207.412\" y=\"-343.3\">81.28.232.189</text>\n",
       "<polyline fill=\"none\" points=\"255.662,-329.5 255.662,-365.5 \" stroke=\"black\"/>\n",
       "<text font-family=\"Times,serif\" font-size=\"14.00\" text-anchor=\"middle\" x=\"285.25\" y=\"-343.3\">http SA</text>\n",
       "</g>\n",
       "<!-- unk7 -->\n",
       "<g class=\"node\" id=\"node28\"><title>unk7</title>\n",
       "<ellipse cx=\"183\" cy=\"-258.5\" fill=\"none\" rx=\"27.589\" ry=\"18\" stroke=\"black\"/>\n",
       "<text font-family=\"Times,serif\" font-size=\"14.00\" text-anchor=\"middle\" x=\"183\" y=\"-254.3\">unk7</text>\n",
       "</g>\n",
       "<!-- 93.92.131.110&#45;&gt;unk7 -->\n",
       "<g class=\"edge\" id=\"edge33\"><title>93.92.131.110-&gt;unk7</title>\n",
       "<path d=\"M100.185,-330.136C116.9,-315.879 141.206,-295.148 159.166,-279.829\" fill=\"none\" stroke=\"#a02020\"/>\n",
       "<polygon fill=\"#a02020\" points=\"161.583,-282.367 166.92,-273.215 157.041,-277.041 161.583,-282.367\" stroke=\"#a02020\"/>\n",
       "</g>\n",
       "<!-- 141.136.109.21 -->\n",
       "<g class=\"node\" id=\"node19\"><title>141.136.109.21</title>\n",
       "<ellipse cx=\"501\" cy=\"-757\" fill=\"#baff86\" rx=\"65.2572\" ry=\"18\" stroke=\"black\"/>\n",
       "<text font-family=\"Times,serif\" font-size=\"14.00\" text-anchor=\"middle\" x=\"501\" y=\"-752.8\">141.136.109.21</text>\n",
       "</g>\n",
       "<!-- 183.182.80.69&#45;&gt;141.136.109.21 -->\n",
       "<g class=\"edge\" id=\"edge5\"><title>183.182.80.69-&gt;141.136.109.21</title>\n",
       "<path d=\"M491.213,-810.697C492.646,-802.983 494.368,-793.712 495.965,-785.112\" fill=\"none\" stroke=\"#a07070\"/>\n",
       "<polygon fill=\"#a07070\" points=\"499.439,-785.575 497.823,-775.104 492.556,-784.297 499.439,-785.575\" stroke=\"#a07070\"/>\n",
       "</g>\n",
       "<!-- 77.67.69.98 -->\n",
       "<g class=\"node\" id=\"node18\"><title>77.67.69.98</title>\n",
       "<ellipse cx=\"513\" cy=\"-685\" fill=\"#baff86\" rx=\"52.2268\" ry=\"18\" stroke=\"black\"/>\n",
       "<text font-family=\"Times,serif\" font-size=\"14.00\" text-anchor=\"middle\" x=\"513\" y=\"-680.8\">77.67.69.98</text>\n",
       "</g>\n",
       "<!-- unk0 -->\n",
       "<g class=\"node\" id=\"node21\"><title>unk0</title>\n",
       "<ellipse cx=\"526\" cy=\"-596.5\" fill=\"none\" rx=\"27.589\" ry=\"18\" stroke=\"black\"/>\n",
       "<text font-family=\"Times,serif\" font-size=\"14.00\" text-anchor=\"middle\" x=\"526\" y=\"-592.3\">unk0</text>\n",
       "</g>\n",
       "<!-- 77.67.69.98&#45;&gt;unk0 -->\n",
       "<g class=\"edge\" id=\"edge7\"><title>77.67.69.98-&gt;unk0</title>\n",
       "<path d=\"M515.568,-666.91C517.385,-654.826 519.857,-638.377 521.938,-624.525\" fill=\"none\" stroke=\"#a07070\"/>\n",
       "<polygon fill=\"#a07070\" points=\"525.412,-624.963 523.437,-614.554 518.49,-623.923 525.412,-624.963\" stroke=\"#a07070\"/>\n",
       "</g>\n",
       "<!-- 141.136.109.21&#45;&gt;77.67.69.98 -->\n",
       "<g class=\"edge\" id=\"edge6\"><title>141.136.109.21-&gt;77.67.69.98</title>\n",
       "<path d=\"M503.966,-738.697C505.289,-730.983 506.878,-721.712 508.352,-713.112\" fill=\"none\" stroke=\"#a07070\"/>\n",
       "<polygon fill=\"#a07070\" points=\"511.828,-713.552 510.068,-703.104 504.928,-712.369 511.828,-713.552\" stroke=\"#a07070\"/>\n",
       "</g>\n",
       "<!-- 4.53.116.102 -->\n",
       "<g class=\"node\" id=\"node20\"><title>4.53.116.102</title>\n",
       "<ellipse cx=\"585\" cy=\"-34\" fill=\"#ba60ba\" rx=\"56.4231\" ry=\"18\" stroke=\"black\"/>\n",
       "<text font-family=\"Times,serif\" font-size=\"14.00\" text-anchor=\"middle\" x=\"585\" y=\"-29.8\">4.53.116.102</text>\n",
       "</g>\n",
       "<!-- 4.53.116.102&#45;&gt;192.30.252.205 -->\n",
       "<g class=\"edge\" id=\"edge15\"><title>4.53.116.102-&gt;192.30.252.205</title>\n",
       "<path d=\"M589.162,-52.148C598.5,-90.6269 621.186,-184.098 632.442,-230.478\" fill=\"none\" stroke=\"#a07070\"/>\n",
       "<polygon fill=\"#a07070\" points=\"629.093,-231.518 634.852,-240.41 635.895,-229.867 629.093,-231.518\" stroke=\"#a07070\"/>\n",
       "</g>\n",
       "<!-- unk1 -->\n",
       "<g class=\"node\" id=\"node22\"><title>unk1</title>\n",
       "<ellipse cx=\"526\" cy=\"-508\" fill=\"none\" rx=\"27.589\" ry=\"18\" stroke=\"black\"/>\n",
       "<text font-family=\"Times,serif\" font-size=\"14.00\" text-anchor=\"middle\" x=\"526\" y=\"-503.8\">unk1</text>\n",
       "</g>\n",
       "<!-- unk0&#45;&gt;unk1 -->\n",
       "<g class=\"edge\" id=\"edge8\"><title>unk0-&gt;unk1</title>\n",
       "<path d=\"M526,-578.41C526,-566.445 526,-550.199 526,-536.433\" fill=\"none\" stroke=\"#a07070\"/>\n",
       "<polygon fill=\"#a07070\" points=\"529.5,-536.054 526,-526.054 522.5,-536.054 529.5,-536.054\" stroke=\"#a07070\"/>\n",
       "</g>\n",
       "<!-- unk2 -->\n",
       "<g class=\"node\" id=\"node23\"><title>unk2</title>\n",
       "<ellipse cx=\"526\" cy=\"-436\" fill=\"none\" rx=\"27.589\" ry=\"18\" stroke=\"black\"/>\n",
       "<text font-family=\"Times,serif\" font-size=\"14.00\" text-anchor=\"middle\" x=\"526\" y=\"-431.8\">unk2</text>\n",
       "</g>\n",
       "<!-- unk1&#45;&gt;unk2 -->\n",
       "<g class=\"edge\" id=\"edge9\"><title>unk1-&gt;unk2</title>\n",
       "<path d=\"M526,-489.697C526,-481.983 526,-472.712 526,-464.112\" fill=\"none\" stroke=\"#a07070\"/>\n",
       "<polygon fill=\"#a07070\" points=\"529.5,-464.104 526,-454.104 522.5,-464.104 529.5,-464.104\" stroke=\"#a07070\"/>\n",
       "</g>\n",
       "<!-- unk3 -->\n",
       "<g class=\"node\" id=\"node24\"><title>unk3</title>\n",
       "<ellipse cx=\"526\" cy=\"-347.5\" fill=\"none\" rx=\"27.589\" ry=\"18\" stroke=\"black\"/>\n",
       "<text font-family=\"Times,serif\" font-size=\"14.00\" text-anchor=\"middle\" x=\"526\" y=\"-343.3\">unk3</text>\n",
       "</g>\n",
       "<!-- unk2&#45;&gt;unk3 -->\n",
       "<g class=\"edge\" id=\"edge10\"><title>unk2-&gt;unk3</title>\n",
       "<path d=\"M526,-417.91C526,-405.945 526,-389.699 526,-375.933\" fill=\"none\" stroke=\"#a07070\"/>\n",
       "<polygon fill=\"#a07070\" points=\"529.5,-375.554 526,-365.554 522.5,-375.554 529.5,-375.554\" stroke=\"#a07070\"/>\n",
       "</g>\n",
       "<!-- unk3&#45;&gt;192.30.252.129 -->\n",
       "<g class=\"edge\" id=\"edge11\"><title>unk3-&gt;192.30.252.129:T80</title>\n",
       "<path d=\"M526,-329.486C526,-318.139 526,-302.616 526,-287.684\" fill=\"none\" stroke=\"#a07070\"/>\n",
       "<polygon fill=\"#a07070\" points=\"529.5,-287.5 526,-277.5 522.5,-287.5 529.5,-287.5\" stroke=\"#a07070\"/>\n",
       "</g>\n",
       "<!-- unk5 -->\n",
       "<g class=\"node\" id=\"node26\"><title>unk5</title>\n",
       "<ellipse cx=\"557\" cy=\"-114\" fill=\"none\" rx=\"27.589\" ry=\"18\" stroke=\"black\"/>\n",
       "<text font-family=\"Times,serif\" font-size=\"14.00\" text-anchor=\"middle\" x=\"557\" y=\"-109.8\">unk5</text>\n",
       "</g>\n",
       "<!-- unk4&#45;&gt;unk5 -->\n",
       "<g class=\"edge\" id=\"edge13\"><title>unk4-&gt;unk5</title>\n",
       "<path d=\"M550.978,-167.697C551.859,-159.983 552.919,-150.712 553.901,-142.112\" fill=\"none\" stroke=\"#a07070\"/>\n",
       "<polygon fill=\"#a07070\" points=\"557.387,-142.437 555.045,-132.104 550.432,-141.642 557.387,-142.437\" stroke=\"#a07070\"/>\n",
       "</g>\n",
       "<!-- unk5&#45;&gt;4.53.116.102 -->\n",
       "<g class=\"edge\" id=\"edge14\"><title>unk5-&gt;4.53.116.102</title>\n",
       "<path d=\"M563.076,-96.0752C566.683,-86.0254 571.338,-73.0597 575.429,-61.6615\" fill=\"none\" stroke=\"#a07070\"/>\n",
       "<polygon fill=\"#a07070\" points=\"578.755,-62.7557 578.84,-52.1612 572.167,-60.3906 578.755,-62.7557\" stroke=\"#a07070\"/>\n",
       "</g>\n",
       "<!-- unk6&#45;&gt;103.245.222.223 -->\n",
       "<g class=\"edge\" id=\"edge22\"><title>unk6-&gt;103.245.222.223:T80</title>\n",
       "<path d=\"M365.954,-674.608C392.482,-663.134 434.077,-643.036 446.428,-625.144\" fill=\"none\" stroke=\"#a04040\"/>\n",
       "<polygon fill=\"#a04040\" points=\"449.809,-626.093 450,-615.5 443.245,-623.662 449.809,-626.093\" stroke=\"#a04040\"/>\n",
       "</g>\n",
       "<!-- unk7&#45;&gt;81.28.232.189 -->\n",
       "<g class=\"edge\" id=\"edge34\"><title>unk7-&gt;81.28.232.189:T80</title>\n",
       "<path d=\"M209.003,-265.106C236.272,-272.525 276.208,-288.318 283.747,-318.27\" fill=\"none\" stroke=\"#a02020\"/>\n",
       "<polygon fill=\"#a02020\" points=\"280.31,-319 285,-328.5 287.259,-318.149 280.31,-319\" stroke=\"#a02020\"/>\n",
       "</g>\n",
       "</g>\n",
       "</svg>"
      ],
      "text/plain": [
       "<IPython.core.display.SVG object>"
      ]
     },
     "execution_count": 9,
     "metadata": {},
     "output_type": "execute_result"
    }
   ],
   "source": [
    "SVG(svg_file)"
   ]
  },
  {
   "cell_type": "markdown",
   "metadata": {},
   "source": [
    "Graph doesn't show or gives an `ExpatError`?  Making a graph fails silently in IPython notebook when you don't have the necessary libraries installed (graphviz, imagemagick, and PyX)."
   ]
  },
  {
   "cell_type": "markdown",
   "metadata": {},
   "source": [
    "We didn't install VPython, but if we did, we could view the above in 3D via `ans.trace3d()`  We also didn't install or PyX with LaTeX, which could give us nice PDFs or PNGs visuals of an individual packet."
   ]
  },
  {
   "cell_type": "markdown",
   "metadata": {},
   "source": [
    "Like a GUI better? or maybe just a lot going on?  Scapy can launch Wireshark for you!  It's just too simple -"
   ]
  },
  {
   "cell_type": "code",
   "execution_count": null,
   "metadata": {
    "collapsed": false
   },
   "outputs": [],
   "source": [
    "# will not work on tmpnb!\n",
    "\n",
    "wireshark(dns_query)  # pass in any sort of packets "
   ]
  }
 ],
 "metadata": {
  "kernelspec": {
   "display_name": "Python 2",
   "language": "python",
   "name": "python2"
  },
  "language_info": {
   "codemirror_mode": {
    "name": "ipython",
    "version": 2
   },
   "file_extension": ".py",
   "mimetype": "text/x-python",
   "name": "python",
   "nbconvert_exporter": "python",
   "pygments_lexer": "ipython2",
   "version": "2.7.8"
  }
 },
 "nbformat": 4,
 "nbformat_minor": 0
}
