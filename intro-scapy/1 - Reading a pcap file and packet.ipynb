{
 "cells": [
  {
   "cell_type": "markdown",
   "metadata": {},
   "source": [
    "# Reading & Creating a pcap file"
   ]
  },
  {
   "cell_type": "code",
   "execution_count": 1,
   "metadata": {
    "collapsed": true
   },
   "outputs": [],
   "source": [
    "import datetime\n",
    "import logging"
   ]
  },
  {
   "cell_type": "code",
   "execution_count": 2,
   "metadata": {
    "collapsed": true
   },
   "outputs": [],
   "source": [
    "logging.getLogger(\"scapy.runtime\").setLevel(logging.ERROR)"
   ]
  },
  {
   "cell_type": "code",
   "execution_count": 3,
   "metadata": {
    "collapsed": false
   },
   "outputs": [],
   "source": [
    "now = datetime.datetime.today()\n",
    "now = now.strftime('%Y-%m-%d-%H:%m:%S')"
   ]
  },
  {
   "cell_type": "code",
   "execution_count": 4,
   "metadata": {
    "collapsed": false
   },
   "outputs": [],
   "source": [
    "from scapy.all import *"
   ]
  },
  {
   "cell_type": "code",
   "execution_count": 21,
   "metadata": {
    "collapsed": false
   },
   "outputs": [],
   "source": [
    "# will be eth0 or something for linux\n",
    "# if on notebook, can't sniff :-/\n",
    "pkts = sniff(iface=\"en0\", filter=\"tcp and port 80\", count=20)"
   ]
  },
  {
   "cell_type": "code",
   "execution_count": 54,
   "metadata": {
    "collapsed": true
   },
   "outputs": [],
   "source": [
    "outfile = \"../data/testing-sniff-{0}.pcap\".format(now)\n",
    "wrpcap(outfile, pkts)"
   ]
  },
  {
   "cell_type": "code",
   "execution_count": 29,
   "metadata": {
    "collapsed": false
   },
   "outputs": [
    {
     "data": {
      "text/plain": [
       "<Sniffed: TCP:10 UDP:0 ICMP:0 Other:0>"
      ]
     },
     "execution_count": 29,
     "metadata": {},
     "output_type": "execute_result"
    }
   ],
   "source": [
    "pkts"
   ]
  },
  {
   "cell_type": "code",
   "execution_count": 30,
   "metadata": {
    "collapsed": false
   },
   "outputs": [
    {
     "name": "stdout",
     "output_type": "stream",
     "text": [
      "0000 Ether / IP / TCP 54.76.228.137:http > 172.19.248.99:59397 PA / Raw\n",
      "0001 Ether / IP / TCP 172.19.248.99:59397 > 54.76.228.137:http A\n",
      "0002 Ether / IP / TCP 172.19.248.99:60255 > 172.231.208.39:http S\n",
      "0003 Ether / IP / TCP 172.19.248.99:60256 > 172.231.208.39:http S\n",
      "0004 Ether / IP / TCP 172.231.208.39:http > 172.19.248.99:60255 SA / Padding\n",
      "0005 Ether / IP / TCP 172.19.248.99:60255 > 172.231.208.39:http A\n",
      "0006 Ether / IP / TCP 172.19.248.99:60255 > 172.231.208.39:http A / Raw\n",
      "0007 Ether / IP / TCP 172.19.248.99:60255 > 172.231.208.39:http A / Raw\n",
      "0008 Ether / IP / TCP 172.19.248.99:60255 > 172.231.208.39:http A / Raw\n",
      "0009 Ether / IP / TCP 172.19.248.99:60255 > 172.231.208.39:http A / Raw\n"
     ]
    }
   ],
   "source": [
    "pkts.show()"
   ]
  },
  {
   "cell_type": "code",
   "execution_count": 38,
   "metadata": {
    "collapsed": false,
    "scrolled": true
   },
   "outputs": [
    {
     "data": {
      "text/plain": [
       "<Ether  dst=00:0d:2e:00:40:01 src=2c:f0:ee:24:3d:e8 type=0x800 |<IP  version=4L ihl=5L tos=0x0 len=552 id=34646 flags=DF frag=0L ttl=64 proto=tcp chksum=0x8ff3 src=172.19.248.99 dst=172.231.208.39 options=[] |<TCP  sport=60255 dport=http seq=2510630803 ack=123457 dataofs=5L reserved=0L flags=A window=65535 chksum=0x2665 urgptr=0 options=[] |<Raw  load='GET /web/en-us/img/tgt/bbm/20150508_alm15390_Hertz.jpg HTTP/1.1\\r\\nHost: www.united.com\\r\\nConnection: keep-alive\\r\\nAccept: image/webp,*/*;q=0.8\\r\\nUser-Agent: Mozilla/5.0 (Macintosh; Intel Mac OS X 10_10_3) AppleWebKit/537.36 (KHTML, like Gecko) Chrome/43.0.2357.124 Safari/537.36\\r\\nAccept-Encoding: gzip, deflate, sdch\\r\\nAccept-Language: en-US,en;q=0.8\\r\\nCookie: v1st=CE92FE906065FFFB; m_lf=disabled; mmcore.mm_pc=%7B%22LoggedIn%22%3A%22yes%22%2C%22MPStatus%22%3A%22Platinum%22%2C%22DaysToFlight%22%3A%220%22%7D; ensight' |>>>>"
      ]
     },
     "execution_count": 38,
     "metadata": {},
     "output_type": "execute_result"
    }
   ],
   "source": [
    "pkts[6]"
   ]
  },
  {
   "cell_type": "code",
   "execution_count": 56,
   "metadata": {
    "collapsed": false
   },
   "outputs": [
    {
     "name": "stdout",
     "output_type": "stream",
     "text": [
      "###[ Ethernet ]###\n",
      "  dst       = 00:0d:2e:00:40:01\n",
      "  src       = 2c:f0:ee:24:3d:e8\n",
      "  type      = 0x800\n",
      "###[ IP ]###\n",
      "     version   = 4L\n",
      "     ihl       = 5L\n",
      "     tos       = 0x0\n",
      "     len       = 552\n",
      "     id        = 34646\n",
      "     flags     = DF\n",
      "     frag      = 0L\n",
      "     ttl       = 64\n",
      "     proto     = tcp\n",
      "     chksum    = 0x8ff3\n",
      "     src       = 172.19.248.99\n",
      "     dst       = 172.231.208.39\n",
      "     \\options   \\\n",
      "###[ TCP ]###\n",
      "        sport     = 60255\n",
      "        dport     = http\n",
      "        seq       = 2510630803\n",
      "        ack       = 123457\n",
      "        dataofs   = 5L\n",
      "        reserved  = 0L\n",
      "        flags     = A\n",
      "        window    = 65535\n",
      "        chksum    = 0x2665\n",
      "        urgptr    = 0\n",
      "        options   = []\n",
      "###[ Raw ]###\n",
      "           load      = 'GET /web/en-us/img/tgt/bbm/20150508_alm15390_Hertz.jpg HTTP/1.1\\r\\nHost: www.united.com\\r\\nConnection: keep-alive\\r\\nAccept: image/webp,*/*;q=0.8\\r\\nUser-Agent: Mozilla/5.0 (Macintosh; Intel Mac OS X 10_10_3) AppleWebKit/537.36 (KHTML, like Gecko) Chrome/43.0.2357.124 Safari/537.36\\r\\nAccept-Encoding: gzip, deflate, sdch\\r\\nAccept-Language: en-US,en;q=0.8\\r\\nCookie: v1st=CE92FE906065FFFB; m_lf=disabled; mmcore.mm_pc=%7B%22LoggedIn%22%3A%22yes%22%2C%22MPStatus%22%3A%22Platinum%22%2C%22DaysToFlight%22%3A%220%22%7D; ensight'\n"
     ]
    }
   ],
   "source": [
    "pkts[6].show()"
   ]
  },
  {
   "cell_type": "code",
   "execution_count": 61,
   "metadata": {
    "collapsed": true
   },
   "outputs": [],
   "source": [
    "sample_http = \"../data/http.cap\"\n",
    "read_pkts = rdpcap(sample_http)"
   ]
  },
  {
   "cell_type": "code",
   "execution_count": 62,
   "metadata": {
    "collapsed": false
   },
   "outputs": [
    {
     "data": {
      "text/plain": [
       "<http.cap: TCP:41 UDP:2 ICMP:0 Other:0>"
      ]
     },
     "execution_count": 62,
     "metadata": {},
     "output_type": "execute_result"
    }
   ],
   "source": [
    "read_pkts"
   ]
  },
  {
   "cell_type": "code",
   "execution_count": 63,
   "metadata": {
    "collapsed": true
   },
   "outputs": [],
   "source": [
    "sniff_pkts = sniff(offline=sample_http)"
   ]
  },
  {
   "cell_type": "code",
   "execution_count": 64,
   "metadata": {
    "collapsed": false
   },
   "outputs": [
    {
     "data": {
      "text/plain": [
       "<Sniffed: TCP:41 UDP:2 ICMP:0 Other:0>"
      ]
     },
     "execution_count": 64,
     "metadata": {},
     "output_type": "execute_result"
    }
   ],
   "source": [
    "sniff_pkts"
   ]
  },
  {
   "cell_type": "code",
   "execution_count": 65,
   "metadata": {
    "collapsed": false
   },
   "outputs": [
    {
     "data": {
      "text/plain": [
       "True"
      ]
     },
     "execution_count": 65,
     "metadata": {},
     "output_type": "execute_result"
    }
   ],
   "source": [
    "read_pkts[0] == sniff_pkts[0]"
   ]
  },
  {
   "cell_type": "code",
   "execution_count": 68,
   "metadata": {
    "collapsed": false,
    "scrolled": true
   },
   "outputs": [
    {
     "name": "stdout",
     "output_type": "stream",
     "text": [
      "0000 Ether / IP / TCP 145.254.160.237:tip2 > 65.208.228.223:http S\n",
      "0001 Ether / IP / TCP 65.208.228.223:http > 145.254.160.237:tip2 SA\n",
      "0002 Ether / IP / TCP 145.254.160.237:tip2 > 65.208.228.223:http A\n",
      "0003 Ether / IP / TCP 145.254.160.237:tip2 > 65.208.228.223:http PA / Raw\n",
      "0004 Ether / IP / TCP 65.208.228.223:http > 145.254.160.237:tip2 A\n",
      "0005 Ether / IP / TCP 65.208.228.223:http > 145.254.160.237:tip2 A / Raw\n",
      "0006 Ether / IP / TCP 145.254.160.237:tip2 > 65.208.228.223:http A\n",
      "0007 Ether / IP / TCP 65.208.228.223:http > 145.254.160.237:tip2 A / Raw\n",
      "0008 Ether / IP / TCP 145.254.160.237:tip2 > 65.208.228.223:http A\n",
      "0009 Ether / IP / TCP 65.208.228.223:http > 145.254.160.237:tip2 A / Raw\n",
      "0010 Ether / IP / TCP 65.208.228.223:http > 145.254.160.237:tip2 PA / Raw\n",
      "0011 Ether / IP / TCP 145.254.160.237:tip2 > 65.208.228.223:http A\n",
      "0012 Ether / IP / UDP / DNS Qry \"pagead2.googlesyndication.com.\" \n",
      "0013 Ether / IP / TCP 65.208.228.223:http > 145.254.160.237:tip2 A / Raw\n",
      "0014 Ether / IP / TCP 145.254.160.237:tip2 > 65.208.228.223:http A\n",
      "0015 Ether / IP / TCP 65.208.228.223:http > 145.254.160.237:tip2 A / Raw\n",
      "0016 Ether / IP / UDP / DNS Ans \"pagead2.google.com.\" \n",
      "0017 Ether / IP / TCP 145.254.160.237:3371 > 216.239.59.99:http PA / Raw\n",
      "0018 Ether / IP / TCP 145.254.160.237:tip2 > 65.208.228.223:http A\n",
      "0019 Ether / IP / TCP 65.208.228.223:http > 145.254.160.237:tip2 A / Raw\n",
      "0020 Ether / IP / TCP 65.208.228.223:http > 145.254.160.237:tip2 PA / Raw\n",
      "0021 Ether / IP / TCP 145.254.160.237:tip2 > 65.208.228.223:http A\n",
      "0022 Ether / IP / TCP 65.208.228.223:http > 145.254.160.237:tip2 A / Raw\n",
      "0023 Ether / IP / TCP 216.239.59.99:http > 145.254.160.237:3371 A\n",
      "0024 Ether / IP / TCP 145.254.160.237:tip2 > 65.208.228.223:http A\n",
      "0025 Ether / IP / TCP 216.239.59.99:http > 145.254.160.237:3371 PA / Raw\n",
      "0026 Ether / IP / TCP 216.239.59.99:http > 145.254.160.237:3371 PA / Raw\n",
      "0027 Ether / IP / TCP 145.254.160.237:3371 > 216.239.59.99:http A\n",
      "0028 Ether / IP / TCP 65.208.228.223:http > 145.254.160.237:tip2 PA / Raw\n",
      "0029 Ether / IP / TCP 145.254.160.237:tip2 > 65.208.228.223:http A\n",
      "0030 Ether / IP / TCP 65.208.228.223:http > 145.254.160.237:tip2 A / Raw\n",
      "0031 Ether / IP / TCP 65.208.228.223:http > 145.254.160.237:tip2 A / Raw\n",
      "0032 Ether / IP / TCP 145.254.160.237:tip2 > 65.208.228.223:http A\n",
      "0033 Ether / IP / TCP 65.208.228.223:http > 145.254.160.237:tip2 A / Raw\n",
      "0034 Ether / IP / TCP 145.254.160.237:tip2 > 65.208.228.223:http A\n",
      "0035 Ether / IP / TCP 216.239.59.99:http > 145.254.160.237:3371 PA / Raw\n",
      "0036 Ether / IP / TCP 145.254.160.237:3371 > 216.239.59.99:http A\n",
      "0037 Ether / IP / TCP 65.208.228.223:http > 145.254.160.237:tip2 PA / Raw\n",
      "0038 Ether / IP / TCP 145.254.160.237:tip2 > 65.208.228.223:http A\n",
      "0039 Ether / IP / TCP 65.208.228.223:http > 145.254.160.237:tip2 FA\n",
      "0040 Ether / IP / TCP 145.254.160.237:tip2 > 65.208.228.223:http A\n",
      "0041 Ether / IP / TCP 145.254.160.237:tip2 > 65.208.228.223:http FA\n",
      "0042 Ether / IP / TCP 65.208.228.223:http > 145.254.160.237:tip2 A\n"
     ]
    }
   ],
   "source": [
    "sniff_pkts.show()"
   ]
  },
  {
   "cell_type": "code",
   "execution_count": 72,
   "metadata": {
    "collapsed": false
   },
   "outputs": [
    {
     "data": {
      "text/plain": [
       "<Ether  dst=fe:ff:20:00:01:00 src=00:00:01:00:00:00 type=0x800 |<IP  version=4L ihl=5L tos=0x0 len=519 id=3909 flags=DF frag=0L ttl=128 proto=tcp chksum=0x9010 src=145.254.160.237 dst=65.208.228.223 options=[] |<TCP  sport=tip2 dport=http seq=951057940 ack=290218380 dataofs=5L reserved=0L flags=PA window=9660 chksum=0xa958 urgptr=0 options=[] |<Raw  load='GET /download.html HTTP/1.1\\r\\nHost: www.ethereal.com\\r\\nUser-Agent: Mozilla/5.0 (Windows; U; Windows NT 5.1; en-US; rv:1.6) Gecko/20040113\\r\\nAccept: text/xml,application/xml,application/xhtml+xml,text/html;q=0.9,text/plain;q=0.8,image/png,image/jpeg,image/gif;q=0.2,*/*;q=0.1\\r\\nAccept-Language: en-us,en;q=0.5\\r\\nAccept-Encoding: gzip,deflate\\r\\nAccept-Charset: ISO-8859-1,utf-8;q=0.7,*;q=0.7\\r\\nKeep-Alive: 300\\r\\nConnection: keep-alive\\r\\nReferer: http://www.ethereal.com/development.html\\r\\n\\r\\n' |>>>>"
      ]
     },
     "execution_count": 72,
     "metadata": {},
     "output_type": "execute_result"
    }
   ],
   "source": [
    "sniff_pkts[3]"
   ]
  },
  {
   "cell_type": "code",
   "execution_count": 73,
   "metadata": {
    "collapsed": false
   },
   "outputs": [
    {
     "name": "stdout",
     "output_type": "stream",
     "text": [
      "###[ Ethernet ]###\n",
      "  dst       = fe:ff:20:00:01:00\n",
      "  src       = 00:00:01:00:00:00\n",
      "  type      = 0x800\n",
      "###[ IP ]###\n",
      "     version   = 4L\n",
      "     ihl       = 5L\n",
      "     tos       = 0x0\n",
      "     len       = 519\n",
      "     id        = 3909\n",
      "     flags     = DF\n",
      "     frag      = 0L\n",
      "     ttl       = 128\n",
      "     proto     = tcp\n",
      "     chksum    = 0x9010\n",
      "     src       = 145.254.160.237\n",
      "     dst       = 65.208.228.223\n",
      "     \\options   \\\n",
      "###[ TCP ]###\n",
      "        sport     = tip2\n",
      "        dport     = http\n",
      "        seq       = 951057940\n",
      "        ack       = 290218380\n",
      "        dataofs   = 5L\n",
      "        reserved  = 0L\n",
      "        flags     = PA\n",
      "        window    = 9660\n",
      "        chksum    = 0xa958\n",
      "        urgptr    = 0\n",
      "        options   = []\n",
      "###[ Raw ]###\n",
      "           load      = 'GET /download.html HTTP/1.1\\r\\nHost: www.ethereal.com\\r\\nUser-Agent: Mozilla/5.0 (Windows; U; Windows NT 5.1; en-US; rv:1.6) Gecko/20040113\\r\\nAccept: text/xml,application/xml,application/xhtml+xml,text/html;q=0.9,text/plain;q=0.8,image/png,image/jpeg,image/gif;q=0.2,*/*;q=0.1\\r\\nAccept-Language: en-us,en;q=0.5\\r\\nAccept-Encoding: gzip,deflate\\r\\nAccept-Charset: ISO-8859-1,utf-8;q=0.7,*;q=0.7\\r\\nKeep-Alive: 300\\r\\nConnection: keep-alive\\r\\nReferer: http://www.ethereal.com/development.html\\r\\n\\r\\n'\n"
     ]
    }
   ],
   "source": [
    "sniff_pkts[3].show()"
   ]
  },
  {
   "cell_type": "code",
   "execution_count": 74,
   "metadata": {
    "collapsed": true
   },
   "outputs": [],
   "source": [
    "raw_load = sniff_pkts[3].getlayer(Raw).fields.get(\"load\")"
   ]
  },
  {
   "cell_type": "code",
   "execution_count": 76,
   "metadata": {
    "collapsed": false
   },
   "outputs": [
    {
     "name": "stdout",
     "output_type": "stream",
     "text": [
      "GET /download.html HTTP/1.1\r\n",
      "Host: www.ethereal.com\r\n",
      "User-Agent: Mozilla/5.0 (Windows; U; Windows NT 5.1; en-US; rv:1.6) Gecko/20040113\r\n",
      "Accept: text/xml,application/xml,application/xhtml+xml,text/html;q=0.9,text/plain;q=0.8,image/png,image/jpeg,image/gif;q=0.2,*/*;q=0.1\r\n",
      "Accept-Language: en-us,en;q=0.5\r\n",
      "Accept-Encoding: gzip,deflate\r\n",
      "Accept-Charset: ISO-8859-1,utf-8;q=0.7,*;q=0.7\r\n",
      "Keep-Alive: 300\r\n",
      "Connection: keep-alive\r\n",
      "Referer: http://www.ethereal.com/development.html\r\n",
      "\r\n",
      "\n"
     ]
    }
   ],
   "source": [
    "print raw_load"
   ]
  },
  {
   "cell_type": "markdown",
   "metadata": {},
   "source": [
    "# Creating a Packet"
   ]
  },
  {
   "cell_type": "markdown",
   "metadata": {},
   "source": [
    "Is anyone familiar with the OSI (Open Systems Interconnection) model? it has 7 layers, including the data link layer, network layer, transport layer, etc: "
   ]
  },
  {
   "cell_type": "code",
   "execution_count": 5,
   "metadata": {
    "collapsed": false
   },
   "outputs": [
    {
     "data": {
      "text/html": [
       "<img src=\"http://upload.wikimedia.org/wikipedia/commons/2/2b/Osi-model.png\" alt=\"OSI Model - Wikimedia\" title=\"OSI Model - Wikimedia\" width=600/>"
      ],
      "text/plain": [
       "<IPython.core.display.HTML object>"
      ]
     },
     "metadata": {},
     "output_type": "display_data"
    }
   ],
   "source": [
    "%%HTML\n",
    "<img src=\"http://upload.wikimedia.org/wikipedia/commons/2/2b/Osi-model.png\" alt=\"OSI Model - Wikimedia\" title=\"OSI Model - Wikimedia\" width=600/>"
   ]
  },
  {
   "cell_type": "markdown",
   "metadata": {},
   "source": [
    "Luckily, we don't have to create our own bits - the actual bits that flows through the fiber cables and such.  Scapy allows us to create & read packets for every other layer, and we'll mainly be seeing layers #2 (ether layer), #3 (IP), #4 (TCP, UDP, ICMP, etc) & #7 (HTTP).\n",
    "\n",
    "Starting simple - and it's not going to get difficult:"
   ]
  },
  {
   "cell_type": "markdown",
   "metadata": {},
   "source": [
    "Super simple packet:"
   ]
  },
  {
   "cell_type": "code",
   "execution_count": 6,
   "metadata": {
    "collapsed": false
   },
   "outputs": [],
   "source": [
    "pkt = IP()"
   ]
  },
  {
   "cell_type": "markdown",
   "metadata": {},
   "source": [
    "and not much too it at all:"
   ]
  },
  {
   "cell_type": "code",
   "execution_count": 7,
   "metadata": {
    "collapsed": false
   },
   "outputs": [
    {
     "data": {
      "text/plain": [
       "<IP  |>"
      ]
     },
     "execution_count": 7,
     "metadata": {},
     "output_type": "execute_result"
    }
   ],
   "source": [
    "pkt"
   ]
  },
  {
   "cell_type": "markdown",
   "metadata": {},
   "source": [
    "The source of the packet - if not defined - takes localhost:"
   ]
  },
  {
   "cell_type": "code",
   "execution_count": 8,
   "metadata": {
    "collapsed": false
   },
   "outputs": [
    {
     "data": {
      "text/plain": [
       "'127.0.0.1'"
      ]
     },
     "execution_count": 8,
     "metadata": {},
     "output_type": "execute_result"
    }
   ],
   "source": [
    "pkt.src"
   ]
  },
  {
   "cell_type": "markdown",
   "metadata": {},
   "source": [
    "And we can go ahead and set the destination IP address for the packet:"
   ]
  },
  {
   "cell_type": "code",
   "execution_count": 9,
   "metadata": {
    "collapsed": true
   },
   "outputs": [],
   "source": [
    "pkt.dst=\"192.168.1.1\""
   ]
  },
  {
   "cell_type": "code",
   "execution_count": 11,
   "metadata": {
    "collapsed": false
   },
   "outputs": [
    {
     "name": "stdout",
     "output_type": "stream",
     "text": [
      "no Python documentation found for '192.168.1.1'\n",
      "\n"
     ]
    }
   ],
   "source": []
  },
  {
   "cell_type": "code",
   "execution_count": 142,
   "metadata": {
    "collapsed": false
   },
   "outputs": [
    {
     "data": {
      "text/plain": [
       "<IP  dst=192.168.1.1 |>"
      ]
     },
     "execution_count": 142,
     "metadata": {},
     "output_type": "execute_result"
    }
   ],
   "source": [
    "pkt"
   ]
  },
  {
   "cell_type": "markdown",
   "metadata": {},
   "source": [
    "There are other defaults to a packet, too, if not set:"
   ]
  },
  {
   "cell_type": "code",
   "execution_count": 143,
   "metadata": {
    "collapsed": false
   },
   "outputs": [
    {
     "data": {
      "text/plain": [
       "64"
      ]
     },
     "execution_count": 143,
     "metadata": {},
     "output_type": "execute_result"
    }
   ],
   "source": [
    "pkt.ttl"
   ]
  },
  {
   "cell_type": "code",
   "execution_count": 154,
   "metadata": {
    "collapsed": false
   },
   "outputs": [
    {
     "data": {
      "text/plain": [
       "0"
      ]
     },
     "execution_count": 154,
     "metadata": {},
     "output_type": "execute_result"
    }
   ],
   "source": [
    "pkt.proto  # no protocol set yet "
   ]
  },
  {
   "cell_type": "code",
   "execution_count": 158,
   "metadata": {
    "collapsed": false
   },
   "outputs": [
    {
     "data": {
      "text/plain": [
       "1"
      ]
     },
     "execution_count": 158,
     "metadata": {},
     "output_type": "execute_result"
    }
   ],
   "source": [
    "pkt.id"
   ]
  },
  {
   "cell_type": "markdown",
   "metadata": {},
   "source": [
    "Let's make a more meaningful packet:"
   ]
  },
  {
   "cell_type": "code",
   "execution_count": 25,
   "metadata": {
    "collapsed": false
   },
   "outputs": [],
   "source": [
    "pkt = IP(dst=\"www.python.org/30\")"
   ]
  },
  {
   "cell_type": "code",
   "execution_count": 26,
   "metadata": {
    "collapsed": false
   },
   "outputs": [
    {
     "data": {
      "text/plain": [
       "<IP  dst=Net('www.python.org/30') |>"
      ]
     },
     "execution_count": 26,
     "metadata": {},
     "output_type": "execute_result"
    }
   ],
   "source": [
    "pkt"
   ]
  },
  {
   "cell_type": "markdown",
   "metadata": {},
   "source": [
    "We have 4 IP addresses:"
   ]
  },
  {
   "cell_type": "code",
   "execution_count": 27,
   "metadata": {
    "collapsed": false
   },
   "outputs": [
    {
     "data": {
      "text/plain": [
       "[<IP  dst=172.19.248.0 |>,\n",
       " <IP  dst=172.19.248.1 |>,\n",
       " <IP  dst=172.19.248.2 |>,\n",
       " <IP  dst=172.19.248.3 |>]"
      ]
     },
     "execution_count": 27,
     "metadata": {},
     "output_type": "execute_result"
    }
   ],
   "source": [
    "[p for p in pkt]"
   ]
  },
  {
   "cell_type": "markdown",
   "metadata": {},
   "source": [
    "Let's make this IP packet over TCP:"
   ]
  },
  {
   "cell_type": "code",
   "execution_count": 28,
   "metadata": {
    "collapsed": false
   },
   "outputs": [],
   "source": [
    "pkt = IP(dst=\"www.python.org/30\")/TCP()"
   ]
  },
  {
   "cell_type": "code",
   "execution_count": 29,
   "metadata": {
    "collapsed": false
   },
   "outputs": [
    {
     "data": {
      "text/plain": [
       "<IP  frag=0 proto=tcp dst=Net('www.python.org/30') |<TCP  |>>"
      ]
     },
     "execution_count": 29,
     "metadata": {},
     "output_type": "execute_result"
    }
   ],
   "source": [
    "pkt"
   ]
  },
  {
   "cell_type": "markdown",
   "metadata": {},
   "source": [
    "Now the IP protocol was set for us:"
   ]
  },
  {
   "cell_type": "code",
   "execution_count": 36,
   "metadata": {
    "collapsed": false
   },
   "outputs": [
    {
     "data": {
      "text/plain": [
       "6"
      ]
     },
     "execution_count": 36,
     "metadata": {},
     "output_type": "execute_result"
    }
   ],
   "source": [
    "pkt.proto"
   ]
  },
  {
   "cell_type": "markdown",
   "metadata": {},
   "source": [
    "Let's add an HTTP request now!"
   ]
  },
  {
   "cell_type": "code",
   "execution_count": 37,
   "metadata": {
    "collapsed": true
   },
   "outputs": [],
   "source": [
    "pkt = IP(dst=\"www.python.org/30\")/TCP()/\"GET / HTTP/1.1\\r\\n\\r\\n\""
   ]
  },
  {
   "cell_type": "code",
   "execution_count": 38,
   "metadata": {
    "collapsed": false
   },
   "outputs": [
    {
     "data": {
      "text/plain": [
       "<IP  frag=0 proto=tcp dst=Net('www.python.org/30') |<TCP  |<Raw  load='GET / HTTP/1.1\\r\\n\\r\\n' |>>>"
      ]
     },
     "execution_count": 38,
     "metadata": {},
     "output_type": "execute_result"
    }
   ],
   "source": [
    "pkt"
   ]
  },
  {
   "cell_type": "markdown",
   "metadata": {},
   "source": [
    "And some more defaults set:"
   ]
  },
  {
   "cell_type": "code",
   "execution_count": 44,
   "metadata": {
    "collapsed": false
   },
   "outputs": [
    {
     "data": {
      "text/plain": [
       "20"
      ]
     },
     "execution_count": 44,
     "metadata": {},
     "output_type": "execute_result"
    }
   ],
   "source": [
    "pkt.sport  # `20` happens to be the default source port for Scapy, easily changed"
   ]
  },
  {
   "cell_type": "code",
   "execution_count": 43,
   "metadata": {
    "collapsed": false,
    "scrolled": true
   },
   "outputs": [
    {
     "data": {
      "text/plain": [
       "80"
      ]
     },
     "execution_count": 43,
     "metadata": {},
     "output_type": "execute_result"
    }
   ],
   "source": [
    "pkt.dport"
   ]
  },
  {
   "cell_type": "markdown",
   "metadata": {},
   "source": [
    "Let's add one final later, the Ether layer:"
   ]
  },
  {
   "cell_type": "code",
   "execution_count": null,
   "metadata": {
    "collapsed": false,
    "scrolled": true
   },
   "outputs": [],
   "source": [
    "pkt = Ether()/IP(dst=\"www.python.org/30\")/TCP()/\"GET / HTTP/1.1\\r\\n\\r\\n\""
   ]
  },
  {
   "cell_type": "code",
   "execution_count": 46,
   "metadata": {
    "collapsed": false
   },
   "outputs": [
    {
     "data": {
      "text/plain": [
       "<IP  frag=0 proto=tcp dst=Net('www.python.org/30') |<TCP  |<Raw  load='GET / HTTP/1.1\\r\\n\\r\\n' |>>>"
      ]
     },
     "execution_count": 46,
     "metadata": {},
     "output_type": "execute_result"
    }
   ],
   "source": [
    "pkt"
   ]
  },
  {
   "cell_type": "markdown",
   "metadata": {},
   "source": [
    "Scapy has a hexdump function - which is pretty similar to what we see in Wireshark:"
   ]
  },
  {
   "cell_type": "code",
   "execution_count": 128,
   "metadata": {
    "collapsed": false,
    "scrolled": true
   },
   "outputs": [
    {
     "name": "stdout",
     "output_type": "stream",
     "text": [
      "0000   FF FF FF FF FF FF 2C F0  EE 24 3D E8 08 00 45 00   ......,..$=...E.\n",
      "0010   00 3A 00 01 00 00 40 06  32 32 AC 13 F8 63 AC 13   .:....@.22...c..\n",
      "0020   F8 00 00 14 00 50 00 00  00 00 00 00 00 00 50 02   .....P........P.\n",
      "0030   20 00 68 40 00 00 47 45  54 20 2F 20 48 54 54 50    .h@..GET / HTTP\n",
      "0040   2F 31 2E 31 0D 0A 0D 0A                            /1.1....\n"
     ]
    }
   ],
   "source": [
    "hexdump(pkt)"
   ]
  },
  {
   "cell_type": "markdown",
   "metadata": {},
   "source": [
    "If we first convert the pkt to a string (which actually, for Scapy, calling `str` on a packet actually \"assembles\" it (...whatever that technically means). Then we'll pass it through the Ether layer:"
   ]
  },
  {
   "cell_type": "code",
   "execution_count": 129,
   "metadata": {
    "collapsed": true
   },
   "outputs": [],
   "source": [
    "a=str(pkt)"
   ]
  },
  {
   "cell_type": "code",
   "execution_count": 130,
   "metadata": {
    "collapsed": false
   },
   "outputs": [
    {
     "data": {
      "text/plain": [
       "'\\xff\\xff\\xff\\xff\\xff\\xff,\\xf0\\xee$=\\xe8\\x08\\x00E\\x00\\x00:\\x00\\x01\\x00\\x00@\\x0622\\xac\\x13\\xf8c\\xac\\x13\\xf8\\x00\\x00\\x14\\x00P\\x00\\x00\\x00\\x00\\x00\\x00\\x00\\x00P\\x02 \\x00h@\\x00\\x00GET / HTTP/1.1\\r\\n\\r\\n'"
      ]
     },
     "execution_count": 130,
     "metadata": {},
     "output_type": "execute_result"
    }
   ],
   "source": [
    "a"
   ]
  },
  {
   "cell_type": "code",
   "execution_count": 131,
   "metadata": {
    "collapsed": true
   },
   "outputs": [],
   "source": [
    "b = Ether(a)"
   ]
  },
  {
   "cell_type": "markdown",
   "metadata": {},
   "source": [
    "then we see all the fields will be filled for us:"
   ]
  },
  {
   "cell_type": "code",
   "execution_count": 132,
   "metadata": {
    "collapsed": false
   },
   "outputs": [
    {
     "data": {
      "text/plain": [
       "<Ether  dst=ff:ff:ff:ff:ff:ff src=2c:f0:ee:24:3d:e8 type=0x800 |<IP  version=4L ihl=5L tos=0x0 len=58 id=1 flags= frag=0L ttl=64 proto=tcp chksum=0x3232 src=172.19.248.99 dst=172.19.248.0 options=[] |<TCP  sport=ftp_data dport=http seq=0 ack=0 dataofs=5L reserved=0L flags=S window=8192 chksum=0x6840 urgptr=0 options=[] |<Raw  load='GET / HTTP/1.1\\r\\n\\r\\n' |>>>>"
      ]
     },
     "execution_count": 132,
     "metadata": {},
     "output_type": "execute_result"
    }
   ],
   "source": [
    "b"
   ]
  },
  {
   "cell_type": "markdown",
   "metadata": {},
   "source": [
    "we can hide the defaults as well:"
   ]
  },
  {
   "cell_type": "code",
   "execution_count": 133,
   "metadata": {
    "collapsed": true
   },
   "outputs": [],
   "source": [
    "b.hide_defaults()"
   ]
  },
  {
   "cell_type": "code",
   "execution_count": 134,
   "metadata": {
    "collapsed": false
   },
   "outputs": [
    {
     "data": {
      "text/plain": [
       "<Ether  dst=ff:ff:ff:ff:ff:ff src=2c:f0:ee:24:3d:e8 type=0x800 |<IP  ihl=5L len=58 frag=0 proto=tcp chksum=0x3232 src=172.19.248.99 dst=172.19.248.0 |<TCP  dataofs=5L chksum=0x6840 options=[] |<Raw  load='GET / HTTP/1.1\\r\\n\\r\\n' |>>>>"
      ]
     },
     "execution_count": 134,
     "metadata": {},
     "output_type": "execute_result"
    }
   ],
   "source": [
    "b"
   ]
  },
  {
   "cell_type": "code",
   "execution_count": null,
   "metadata": {
    "collapsed": true
   },
   "outputs": [],
   "source": []
  }
 ],
 "metadata": {
  "kernelspec": {
   "display_name": "Python 2",
   "language": "python",
   "name": "python2"
  },
  "language_info": {
   "codemirror_mode": {
    "name": "ipython",
    "version": 2
   },
   "file_extension": ".py",
   "mimetype": "text/x-python",
   "name": "python",
   "nbconvert_exporter": "python",
   "pygments_lexer": "ipython2",
   "version": "2.7.8"
  }
 },
 "nbformat": 4,
 "nbformat_minor": 0
}
