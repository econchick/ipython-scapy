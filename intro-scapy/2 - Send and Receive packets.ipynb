{
 "cells": [
  {
   "cell_type": "code",
   "execution_count": 1,
   "metadata": {
    "collapsed": true
   },
   "outputs": [],
   "source": [
    "import logging\n",
    "logging.getLogger(\"scapy.runtime\").setLevel(logging.ERROR)"
   ]
  },
  {
   "cell_type": "code",
   "execution_count": 2,
   "metadata": {
    "collapsed": true
   },
   "outputs": [],
   "source": [
    "from scapy.all import *"
   ]
  },
  {
   "cell_type": "markdown",
   "metadata": {},
   "source": [
    "# Send packets"
   ]
  },
  {
   "cell_type": "markdown",
   "metadata": {},
   "source": [
    "Let's create some packets first:"
   ]
  },
  {
   "cell_type": "code",
   "execution_count": 3,
   "metadata": {
    "collapsed": false
   },
   "outputs": [],
   "source": [
    "pkt1 = IP(dst=\"www.python.org/30\")"
   ]
  },
  {
   "cell_type": "code",
   "execution_count": 4,
   "metadata": {
    "collapsed": false
   },
   "outputs": [
    {
     "data": {
      "text/plain": [
       "<IP  dst=Net('www.python.org/30') |>"
      ]
     },
     "execution_count": 4,
     "metadata": {},
     "output_type": "execute_result"
    }
   ],
   "source": [
    "pkt1"
   ]
  },
  {
   "cell_type": "code",
   "execution_count": 5,
   "metadata": {
    "collapsed": false
   },
   "outputs": [
    {
     "data": {
      "text/plain": [
       "[<IP  dst=103.245.222.220 |>,\n",
       " <IP  dst=103.245.222.221 |>,\n",
       " <IP  dst=103.245.222.222 |>,\n",
       " <IP  dst=103.245.222.223 |>]"
      ]
     },
     "execution_count": 5,
     "metadata": {},
     "output_type": "execute_result"
    }
   ],
   "source": [
    "[p for p in pkt1]"
   ]
  },
  {
   "cell_type": "code",
   "execution_count": 6,
   "metadata": {
    "collapsed": true
   },
   "outputs": [],
   "source": [
    "pkt2 = IP(ttl=[1,2,(5,9)])"
   ]
  },
  {
   "cell_type": "code",
   "execution_count": 7,
   "metadata": {
    "collapsed": false
   },
   "outputs": [
    {
     "data": {
      "text/plain": [
       "<IP  ttl=[1, 2, (5, 9)] |>"
      ]
     },
     "execution_count": 7,
     "metadata": {},
     "output_type": "execute_result"
    }
   ],
   "source": [
    "pkt2"
   ]
  },
  {
   "cell_type": "code",
   "execution_count": 8,
   "metadata": {
    "collapsed": false
   },
   "outputs": [
    {
     "data": {
      "text/plain": [
       "[<IP  ttl=1 |>,\n",
       " <IP  ttl=2 |>,\n",
       " <IP  ttl=5 |>,\n",
       " <IP  ttl=6 |>,\n",
       " <IP  ttl=7 |>,\n",
       " <IP  ttl=8 |>,\n",
       " <IP  ttl=9 |>]"
      ]
     },
     "execution_count": 8,
     "metadata": {},
     "output_type": "execute_result"
    }
   ],
   "source": [
    "[p for p in pkt2]"
   ]
  },
  {
   "cell_type": "code",
   "execution_count": 9,
   "metadata": {
    "collapsed": true
   },
   "outputs": [],
   "source": [
    "pkt3 = TCP(dport=[80,443])"
   ]
  },
  {
   "cell_type": "code",
   "execution_count": 11,
   "metadata": {
    "collapsed": false
   },
   "outputs": [],
   "source": [
    "pkts = [p for p in pkt1/pkt3]"
   ]
  },
  {
   "cell_type": "code",
   "execution_count": 12,
   "metadata": {
    "collapsed": false
   },
   "outputs": [
    {
     "data": {
      "text/plain": [
       "[<IP  frag=0 proto=tcp dst=103.245.222.220 |<TCP  dport=http |>>,\n",
       " <IP  frag=0 proto=tcp dst=103.245.222.220 |<TCP  dport=https |>>,\n",
       " <IP  frag=0 proto=tcp dst=103.245.222.221 |<TCP  dport=http |>>,\n",
       " <IP  frag=0 proto=tcp dst=103.245.222.221 |<TCP  dport=https |>>,\n",
       " <IP  frag=0 proto=tcp dst=103.245.222.222 |<TCP  dport=http |>>,\n",
       " <IP  frag=0 proto=tcp dst=103.245.222.222 |<TCP  dport=https |>>,\n",
       " <IP  frag=0 proto=tcp dst=103.245.222.223 |<TCP  dport=http |>>,\n",
       " <IP  frag=0 proto=tcp dst=103.245.222.223 |<TCP  dport=https |>>]"
      ]
     },
     "execution_count": 12,
     "metadata": {},
     "output_type": "execute_result"
    }
   ],
   "source": [
    "pkts"
   ]
  },
  {
   "cell_type": "markdown",
   "metadata": {},
   "source": [
    "And let's send 'em!  `send()` sends packets on the 3rd link layer (e.g. IP, ARP, etc):"
   ]
  },
  {
   "cell_type": "code",
   "execution_count": 13,
   "metadata": {
    "collapsed": false
   },
   "outputs": [
    {
     "name": "stdout",
     "output_type": "stream",
     "text": [
      "\n",
      "Sent 1 packets.\n"
     ]
    }
   ],
   "source": [
    "send(pkts[0])"
   ]
  },
  {
   "cell_type": "markdown",
   "metadata": {},
   "source": [
    "And `sendp` sends on the 2nd link layer (Ethernet, 802.3, etc):"
   ]
  },
  {
   "cell_type": "code",
   "execution_count": 14,
   "metadata": {
    "collapsed": false
   },
   "outputs": [
    {
     "name": "stdout",
     "output_type": "stream",
     "text": [
      "\n",
      "Sent 1 packets.\n"
     ]
    }
   ],
   "source": [
    "sendp(pkts[1])"
   ]
  },
  {
   "cell_type": "code",
   "execution_count": 15,
   "metadata": {
    "collapsed": false
   },
   "outputs": [
    {
     "name": "stdout",
     "output_type": "stream",
     "text": [
      "\n",
      "Sent 4 packets.\n"
     ]
    }
   ],
   "source": [
    "sendp(Ether()/IP(dst=\"1.2.3.4\", ttl=(1,4)), iface=\"en0\")  # iface is en# for Mac, eth# in Linux"
   ]
  },
  {
   "cell_type": "markdown",
   "metadata": {},
   "source": [
    "### Now let's send & receive some packets!"
   ]
  },
  {
   "cell_type": "markdown",
   "metadata": {},
   "source": [
    "There's a few different functions we can use, all very similar.  First we'll look at `sr1` - which just returns the first answered packet:"
   ]
  },
  {
   "cell_type": "code",
   "execution_count": 47,
   "metadata": {
    "collapsed": false
   },
   "outputs": [
    {
     "name": "stdout",
     "output_type": "stream",
     "text": [
      "\n",
      "Received 2 packets, got 1 answers, remaining 0 packets\n",
      "Begin emission:\n",
      "Finished to send 1 packets.\n"
     ]
    }
   ],
   "source": [
    "answered = sr1(IP(dst=\"103.245.222.223\")/ICMP()/\"FooBar\")"
   ]
  },
  {
   "cell_type": "code",
   "execution_count": 48,
   "metadata": {
    "collapsed": false
   },
   "outputs": [
    {
     "data": {
      "text/plain": [
       "<IP  version=4L ihl=5L tos=0x0 len=34 id=50614 flags= frag=0L ttl=54 proto=icmp chksum=0xdc4c src=103.245.222.223 dst=10.121.145.138 options=[] |<ICMP  type=echo-reply code=0 chksum=0xe8db id=0x0 seq=0x0 |<Raw  load='FooBar' |<Padding  load='\\x00\\x00\\x00\\x00\\x00\\x00\\x00\\x00\\x00\\x00\\x00\\x00' |>>>>"
      ]
     },
     "execution_count": 48,
     "metadata": {},
     "output_type": "execute_result"
    }
   ],
   "source": [
    "answered"
   ]
  },
  {
   "cell_type": "code",
   "execution_count": 49,
   "metadata": {
    "collapsed": false,
    "scrolled": true
   },
   "outputs": [
    {
     "name": "stdout",
     "output_type": "stream",
     "text": [
      "###[ IP ]###\n",
      "  version   = 4L\n",
      "  ihl       = 5L\n",
      "  tos       = 0x0\n",
      "  len       = 34\n",
      "  id        = 50614\n",
      "  flags     = \n",
      "  frag      = 0L\n",
      "  ttl       = 54\n",
      "  proto     = icmp\n",
      "  chksum    = 0xdc4c\n",
      "  src       = 103.245.222.223\n",
      "  dst       = 10.121.145.138\n",
      "  \\options   \\\n",
      "###[ ICMP ]###\n",
      "     type      = echo-reply\n",
      "     code      = 0\n",
      "     chksum    = 0xe8db\n",
      "     id        = 0x0\n",
      "     seq       = 0x0\n",
      "###[ Raw ]###\n",
      "        load      = 'FooBar'\n",
      "###[ Padding ]###\n",
      "           load      = '\\x00\\x00\\x00\\x00\\x00\\x00\\x00\\x00\\x00\\x00\\x00\\x00'\n"
     ]
    }
   ],
   "source": [
    "answered.show()"
   ]
  },
  {
   "cell_type": "markdown",
   "metadata": {},
   "source": [
    "Now `sr` which will collect all answered and unanswered packets we send:"
   ]
  },
  {
   "cell_type": "code",
   "execution_count": 54,
   "metadata": {
    "collapsed": false
   },
   "outputs": [
    {
     "name": "stdout",
     "output_type": "stream",
     "text": [
      "\n",
      "Received 7 packets, got 2 answers, remaining 0 packets\n",
      "Begin emission:\n",
      "Finished to send 2 packets.\n"
     ]
    }
   ],
   "source": [
    "ans, unans = sr(IP(dst=\"103.245.222.223\")/TCP(dport=[80,443]))"
   ]
  },
  {
   "cell_type": "code",
   "execution_count": 55,
   "metadata": {
    "collapsed": false
   },
   "outputs": [
    {
     "data": {
      "text/plain": [
       "<Results: TCP:2 UDP:0 ICMP:0 Other:0>"
      ]
     },
     "execution_count": 55,
     "metadata": {},
     "output_type": "execute_result"
    }
   ],
   "source": [
    "ans"
   ]
  },
  {
   "cell_type": "code",
   "execution_count": 56,
   "metadata": {
    "collapsed": false,
    "scrolled": true
   },
   "outputs": [
    {
     "name": "stdout",
     "output_type": "stream",
     "text": [
      "IP / TCP 10.121.145.138:ftp_data > 103.245.222.223:http S ==> IP / TCP 103.245.222.223:http > 10.121.145.138:ftp_data SA / Padding\n",
      "IP / TCP 10.121.145.138:ftp_data > 103.245.222.223:https S ==> IP / TCP 103.245.222.223:https > 10.121.145.138:ftp_data SA / Padding\n"
     ]
    }
   ],
   "source": [
    "ans.summary()"
   ]
  },
  {
   "cell_type": "code",
   "execution_count": null,
   "metadata": {
    "collapsed": true
   },
   "outputs": [],
   "source": []
  }
 ],
 "metadata": {
  "kernelspec": {
   "display_name": "Python 2",
   "language": "python",
   "name": "python2"
  },
  "language_info": {
   "codemirror_mode": {
    "name": "ipython",
    "version": 2
   },
   "file_extension": ".py",
   "mimetype": "text/x-python",
   "name": "python",
   "nbconvert_exporter": "python",
   "pygments_lexer": "ipython2",
   "version": "2.7.8"
  }
 },
 "nbformat": 4,
 "nbformat_minor": 0
}
